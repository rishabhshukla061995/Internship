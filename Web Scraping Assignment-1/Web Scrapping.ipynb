{
 "cells": [
  {
   "cell_type": "code",
   "execution_count": 1,
   "id": "a3b77ec8",
   "metadata": {},
   "outputs": [],
   "source": [
    "# Import Required Libraries\n",
    "\n",
    "from bs4 import BeautifulSoup\n",
    "import requests"
   ]
  },
  {
   "cell_type": "code",
   "execution_count": 2,
   "id": "284ce215",
   "metadata": {},
   "outputs": [],
   "source": [
    "# 1) Write a python program to display all the header tags from wikipedia.org."
   ]
  },
  {
   "cell_type": "code",
   "execution_count": 3,
   "id": "d4695faa",
   "metadata": {},
   "outputs": [],
   "source": [
    "page=requests.get('https://en.wikipedia.org/wiki/Main_Page')"
   ]
  },
  {
   "cell_type": "code",
   "execution_count": 4,
   "id": "a9bca072",
   "metadata": {},
   "outputs": [
    {
     "data": {
      "text/plain": [
       "<Response [200]>"
      ]
     },
     "execution_count": 4,
     "metadata": {},
     "output_type": "execute_result"
    }
   ],
   "source": [
    "page"
   ]
  },
  {
   "cell_type": "code",
   "execution_count": 5,
   "id": "3f2f165e",
   "metadata": {},
   "outputs": [],
   "source": [
    "# Page content\n",
    "\n",
    "soup=BeautifulSoup(page.content)"
   ]
  },
  {
   "cell_type": "code",
   "execution_count": 6,
   "id": "aa8eb3a7",
   "metadata": {},
   "outputs": [
    {
     "data": {
      "text/plain": [
       "['Welcome to Wikipedia',\n",
       " \"From today's featured article\",\n",
       " 'Did you know\\xa0...',\n",
       " 'In the news',\n",
       " 'On this day',\n",
       " \"Today's featured picture\",\n",
       " 'Other areas of Wikipedia',\n",
       " \"Wikipedia's sister projects\",\n",
       " 'Wikipedia languages']"
      ]
     },
     "execution_count": 6,
     "metadata": {},
     "output_type": "execute_result"
    }
   ],
   "source": [
    "header_tag=[]\n",
    "\n",
    "for i in soup.find_all('span',class_=\"mw-headline\"):\n",
    "    header_tag.append(i.text)\n",
    "header_tag"
   ]
  },
  {
   "cell_type": "code",
   "execution_count": 7,
   "id": "cf806470",
   "metadata": {},
   "outputs": [],
   "source": [
    "#2) Write a python program to display IMDB’s Top rated 100 movies’ data (i.e. name, rating, year of release) and make data frame."
   ]
  },
  {
   "cell_type": "code",
   "execution_count": 8,
   "id": "e803d30d",
   "metadata": {},
   "outputs": [
    {
     "data": {
      "text/plain": [
       "<Response [200]>"
      ]
     },
     "execution_count": 8,
     "metadata": {},
     "output_type": "execute_result"
    }
   ],
   "source": [
    "page=requests.get('https://www.imdb.com/search/title/?count=100&groups=top_1000&sort=user_rating')\n",
    "page"
   ]
  },
  {
   "cell_type": "code",
   "execution_count": 9,
   "id": "3472cf6e",
   "metadata": {},
   "outputs": [],
   "source": [
    "# Page content\n",
    "\n",
    "soup=BeautifulSoup(page.content)"
   ]
  },
  {
   "cell_type": "code",
   "execution_count": 10,
   "id": "279a825d",
   "metadata": {},
   "outputs": [
    {
     "data": {
      "text/plain": [
       "['1.The Shawshank Redemption(1994)',\n",
       " '2.The Godfather(1972)',\n",
       " '3.The Dark Knight(2008)',\n",
       " '4.The Lord of the Rings: The Return of the King(2003)',\n",
       " '5.The Godfather Part II(1974)',\n",
       " \"6.Schindler's List(1993)\",\n",
       " '7.12 Angry Men(1957)',\n",
       " '8.Pulp Fiction(1994)',\n",
       " '9.777 Charlie(2022)',\n",
       " '10.The Lord of the Rings: The Fellowship of the Ring(2001)',\n",
       " '11.Fight Club(1999)',\n",
       " '12.Inception(2010)',\n",
       " '13.Forrest Gump(1994)',\n",
       " '14.The Lord of the Rings: The Two Towers(2002)',\n",
       " '15.Il buono, il brutto, il cattivo(1966)',\n",
       " '16.Jai Bhim(2021)',\n",
       " '17.Rocketry: The Nambi Effect(2022)',\n",
       " '18.GoodFellas(1990)',\n",
       " '19.The Matrix(1999)',\n",
       " \"20.One Flew Over the Cuckoo's Nest(1975)\",\n",
       " '21.The Empire Strikes Back(1980)',\n",
       " '22.Soorarai Pottru(2020)',\n",
       " '23.Interstellar(2014)',\n",
       " \"24.It's a Wonderful Life(1946)\",\n",
       " '25.Se7en(1995)',\n",
       " '26.Star Wars(1977)',\n",
       " '27.The Silence of the Lambs(1991)',\n",
       " '28.The Green Mile(1999)',\n",
       " '29.Terminator 2: Judgment Day(1991)',\n",
       " '30.Saving Private Ryan(1998)',\n",
       " '31.Cidade de Deus(2002)',\n",
       " '32.Sen to Chihiro no kamikakushi(2001)',\n",
       " '33.La vita è bella(1997)',\n",
       " '34.Sita Ramam(2022)',\n",
       " '35.Shichinin no samurai(1954)',\n",
       " '36.Seppuku(1962)',\n",
       " '37.Whiplash(2014)',\n",
       " '38.Léon(1994)',\n",
       " '39.Gisaengchung(2019)',\n",
       " '40.Gladiator(2000)',\n",
       " '41.Back to the Future(1985)',\n",
       " '42.The Prestige(2006)',\n",
       " '43.Apocalypse Now(1979)',\n",
       " '44.The Departed(2006)',\n",
       " '45.Alien(1979)',\n",
       " '46.The Usual Suspects(1995)',\n",
       " '47.American History X(1998)',\n",
       " '48.The Lion King(1994)',\n",
       " '49.The Intouchables(2011)',\n",
       " '50.The Pianist(2002)',\n",
       " '51.Once Upon a Time in the West(1968)',\n",
       " '52.Psycho(1960)',\n",
       " '53.Casablanca(1942)',\n",
       " '54.Hotaru no haka(1988)',\n",
       " '55.Rear Window(1954)',\n",
       " '56.Nuovo Cinema Paradiso(1988)',\n",
       " '57.Modern Times(1936)',\n",
       " '58.City Lights(1931)',\n",
       " '59.Kaithi(2019)',\n",
       " '60.96(II) (2018)',\n",
       " '61.Avengers: Endgame(2019)',\n",
       " '62.Raiders of the Lost Ark(1981)',\n",
       " '63.Joker(I) (2019)',\n",
       " '64.Django Unchained(2012)',\n",
       " '65.American Beauty(1999)',\n",
       " '66.Braveheart(1995)',\n",
       " '67.The Dark Knight Rises(2012)',\n",
       " '68.Spider-Man: Into the Spider-Verse(2018)',\n",
       " '69.Aliens(1986)',\n",
       " '70.Avengers: Infinity War(2018)',\n",
       " '71.The Shining(1980)',\n",
       " '72.Oldeuboi(2003)',\n",
       " '73.Memento(2000)',\n",
       " '74.Kantara(2022)',\n",
       " '75.Coco(I) (2017)',\n",
       " '76.Hamilton(2020)',\n",
       " '77.Amadeus(1984)',\n",
       " '78.Idi i smotri(1985)',\n",
       " '79.Kimi no Na wa.(2016)',\n",
       " '80.3 Idiots(2009)',\n",
       " '81.WALL·E(2008)',\n",
       " '82.The Lives of Others(2006)',\n",
       " '83.Capharnaüm(2018)',\n",
       " '84.Mononoke-hime(1997)',\n",
       " '85.Dr. Strangelove or: How I Learned to Stop Worrying and Love the Bomb(1964)',\n",
       " '86.Sunset Blvd.(1950)',\n",
       " '87.Das Boot(1981)',\n",
       " '88.Witness for the Prosecution(1957)',\n",
       " '89.Paths of Glory(1957)',\n",
       " '90.Vikram(2022)',\n",
       " '91.The Great Dictator(1940)',\n",
       " '92.Tengoku to jigoku(1963)',\n",
       " '93.Drishyam 2(2021)',\n",
       " '94.Sardar Udham(2021)',\n",
       " '95.Shershaah(2021)',\n",
       " '96.Asuran(2019)',\n",
       " '97.Top Gun: Maverick(2022)',\n",
       " '98.Good Will Hunting(1997)',\n",
       " '99.Heat(1995)',\n",
       " '100.Inglourious Basterds(2009)']"
      ]
     },
     "execution_count": 10,
     "metadata": {},
     "output_type": "execute_result"
    }
   ],
   "source": [
    "movie_name=[]\n",
    "\n",
    "for i in soup.find_all('h3',class_='lister-item-header'):\n",
    "    movie_name.append(i.text.replace(\"\\n\",\"\"))\n",
    "movie_name[:101]"
   ]
  },
  {
   "cell_type": "code",
   "execution_count": 11,
   "id": "514b1be7",
   "metadata": {},
   "outputs": [
    {
     "data": {
      "text/plain": [
       "['9.3',\n",
       " '9.2',\n",
       " '9.0',\n",
       " '9.0',\n",
       " '9.0',\n",
       " '9.0',\n",
       " '9.0',\n",
       " '8.9',\n",
       " '8.9',\n",
       " '8.8',\n",
       " '8.8',\n",
       " '8.8',\n",
       " '8.8',\n",
       " '8.8',\n",
       " '8.8',\n",
       " '8.8',\n",
       " '8.8',\n",
       " '8.7',\n",
       " '8.7',\n",
       " '8.7',\n",
       " '8.7',\n",
       " '8.7',\n",
       " '8.6',\n",
       " '8.6',\n",
       " '8.6',\n",
       " '8.6',\n",
       " '8.6',\n",
       " '8.6',\n",
       " '8.6',\n",
       " '8.6',\n",
       " '8.6',\n",
       " '8.6',\n",
       " '8.6',\n",
       " '8.6',\n",
       " '8.6',\n",
       " '8.6',\n",
       " '8.5',\n",
       " '8.5',\n",
       " '8.5',\n",
       " '8.5',\n",
       " '8.5',\n",
       " '8.5',\n",
       " '8.5',\n",
       " '8.5',\n",
       " '8.5',\n",
       " '8.5',\n",
       " '8.5',\n",
       " '8.5',\n",
       " '8.5',\n",
       " '8.5',\n",
       " '8.5',\n",
       " '8.5',\n",
       " '8.5',\n",
       " '8.5',\n",
       " '8.5',\n",
       " '8.5',\n",
       " '8.5',\n",
       " '8.5',\n",
       " '8.5',\n",
       " '8.5',\n",
       " '8.4',\n",
       " '8.4',\n",
       " '8.4',\n",
       " '8.4',\n",
       " '8.4',\n",
       " '8.4',\n",
       " '8.4',\n",
       " '8.4',\n",
       " '8.4',\n",
       " '8.4',\n",
       " '8.4',\n",
       " '8.4',\n",
       " '8.4',\n",
       " '8.4',\n",
       " '8.4',\n",
       " '8.4',\n",
       " '8.4',\n",
       " '8.4',\n",
       " '8.4',\n",
       " '8.4',\n",
       " '8.4',\n",
       " '8.4',\n",
       " '8.4',\n",
       " '8.4',\n",
       " '8.4',\n",
       " '8.4',\n",
       " '8.4',\n",
       " '8.4',\n",
       " '8.4',\n",
       " '8.4',\n",
       " '8.4',\n",
       " '8.4',\n",
       " '8.4',\n",
       " '8.4',\n",
       " '8.4',\n",
       " '8.4',\n",
       " '8.3',\n",
       " '8.3',\n",
       " '8.3',\n",
       " '8.3']"
      ]
     },
     "execution_count": 11,
     "metadata": {},
     "output_type": "execute_result"
    }
   ],
   "source": [
    "movie_ratings=[]\n",
    "\n",
    "for i in soup.find_all('div',class_=\"inline-block ratings-imdb-rating\"):\n",
    "    movie_ratings.append(i.text.replace(\"\\n\",\"\"))\n",
    "\n",
    "movie_ratings[:101]"
   ]
  },
  {
   "cell_type": "code",
   "execution_count": 12,
   "id": "72361254",
   "metadata": {},
   "outputs": [
    {
     "data": {
      "text/plain": [
       "['(1994)',\n",
       " '(1972)',\n",
       " '(2008)',\n",
       " '(2003)',\n",
       " '(1974)',\n",
       " '(1993)',\n",
       " '(1957)',\n",
       " '(1994)',\n",
       " '(2022)',\n",
       " '(2001)',\n",
       " '(1999)',\n",
       " '(2010)',\n",
       " '(1994)',\n",
       " '(2002)',\n",
       " '(1966)',\n",
       " '(2021)',\n",
       " '(2022)',\n",
       " '(1990)',\n",
       " '(1999)',\n",
       " '(1975)',\n",
       " '(1980)',\n",
       " '(2020)',\n",
       " '(2014)',\n",
       " '(1946)',\n",
       " '(1995)',\n",
       " '(1977)',\n",
       " '(1991)',\n",
       " '(1999)',\n",
       " '(1991)',\n",
       " '(1998)',\n",
       " '(2002)',\n",
       " '(2001)',\n",
       " '(1997)',\n",
       " '(2022)',\n",
       " '(1954)',\n",
       " '(1962)',\n",
       " '(2014)',\n",
       " '(1994)',\n",
       " '(2019)',\n",
       " '(2000)',\n",
       " '(1985)',\n",
       " '(2006)',\n",
       " '(1979)',\n",
       " '(2006)',\n",
       " '(1979)',\n",
       " '(1995)',\n",
       " '(1998)',\n",
       " '(1994)',\n",
       " '(2011)',\n",
       " '(2002)',\n",
       " '(1968)',\n",
       " '(1960)',\n",
       " '(1942)',\n",
       " '(1988)',\n",
       " '(1954)',\n",
       " '(1988)',\n",
       " '(1936)',\n",
       " '(1931)',\n",
       " '(2019)',\n",
       " '(II) (2018)',\n",
       " '(2019)',\n",
       " '(1981)',\n",
       " '(I) (2019)',\n",
       " '(2012)',\n",
       " '(1999)',\n",
       " '(1995)',\n",
       " '(2012)',\n",
       " '(2018)',\n",
       " '(1986)',\n",
       " '(2018)',\n",
       " '(1980)',\n",
       " '(2003)',\n",
       " '(2000)',\n",
       " '(2022)',\n",
       " '(I) (2017)',\n",
       " '(2020)',\n",
       " '(1984)',\n",
       " '(1985)',\n",
       " '(2016)',\n",
       " '(2009)',\n",
       " '(2008)',\n",
       " '(2006)',\n",
       " '(2018)',\n",
       " '(1997)',\n",
       " '(1964)',\n",
       " '(1950)',\n",
       " '(1981)',\n",
       " '(1957)',\n",
       " '(1957)',\n",
       " '(2022)',\n",
       " '(1940)',\n",
       " '(1963)',\n",
       " '(2021)',\n",
       " '(2021)',\n",
       " '(2021)',\n",
       " '(2019)',\n",
       " '(2022)',\n",
       " '(1997)',\n",
       " '(1995)',\n",
       " '(2009)']"
      ]
     },
     "execution_count": 12,
     "metadata": {},
     "output_type": "execute_result"
    }
   ],
   "source": [
    "Movie_year=[]\n",
    "for i in soup.find_all('span',class_=\"lister-item-year text-muted unbold\"):\n",
    "    Movie_year.append(i.text.replace(\"\\n\",\"\"))\n",
    "\n",
    "Movie_year[:101]"
   ]
  },
  {
   "cell_type": "code",
   "execution_count": 13,
   "id": "b18a2f1b",
   "metadata": {},
   "outputs": [
    {
     "name": "stderr",
     "output_type": "stream",
     "text": [
      "Matplotlib is building the font cache; this may take a moment.\n"
     ]
    },
    {
     "data": {
      "text/html": [
       "<style type=\"text/css\">\n",
       "</style>\n",
       "<table id=\"T_0011c\">\n",
       "  <thead>\n",
       "    <tr>\n",
       "      <th id=\"T_0011c_level0_col0\" class=\"col_heading level0 col0\" >movie_name</th>\n",
       "      <th id=\"T_0011c_level0_col1\" class=\"col_heading level0 col1\" >movie_ratings</th>\n",
       "      <th id=\"T_0011c_level0_col2\" class=\"col_heading level0 col2\" >Movie_year</th>\n",
       "    </tr>\n",
       "  </thead>\n",
       "  <tbody>\n",
       "    <tr>\n",
       "      <td id=\"T_0011c_row0_col0\" class=\"data row0 col0\" >1.The Shawshank Redemption(1994)</td>\n",
       "      <td id=\"T_0011c_row0_col1\" class=\"data row0 col1\" >9.3</td>\n",
       "      <td id=\"T_0011c_row0_col2\" class=\"data row0 col2\" >(1994)</td>\n",
       "    </tr>\n",
       "    <tr>\n",
       "      <td id=\"T_0011c_row1_col0\" class=\"data row1 col0\" >2.The Godfather(1972)</td>\n",
       "      <td id=\"T_0011c_row1_col1\" class=\"data row1 col1\" >9.2</td>\n",
       "      <td id=\"T_0011c_row1_col2\" class=\"data row1 col2\" >(1972)</td>\n",
       "    </tr>\n",
       "    <tr>\n",
       "      <td id=\"T_0011c_row2_col0\" class=\"data row2 col0\" >3.The Dark Knight(2008)</td>\n",
       "      <td id=\"T_0011c_row2_col1\" class=\"data row2 col1\" >9.0</td>\n",
       "      <td id=\"T_0011c_row2_col2\" class=\"data row2 col2\" >(2008)</td>\n",
       "    </tr>\n",
       "    <tr>\n",
       "      <td id=\"T_0011c_row3_col0\" class=\"data row3 col0\" >4.The Lord of the Rings: The Return of the King(2003)</td>\n",
       "      <td id=\"T_0011c_row3_col1\" class=\"data row3 col1\" >9.0</td>\n",
       "      <td id=\"T_0011c_row3_col2\" class=\"data row3 col2\" >(2003)</td>\n",
       "    </tr>\n",
       "    <tr>\n",
       "      <td id=\"T_0011c_row4_col0\" class=\"data row4 col0\" >5.The Godfather Part II(1974)</td>\n",
       "      <td id=\"T_0011c_row4_col1\" class=\"data row4 col1\" >9.0</td>\n",
       "      <td id=\"T_0011c_row4_col2\" class=\"data row4 col2\" >(1974)</td>\n",
       "    </tr>\n",
       "    <tr>\n",
       "      <td id=\"T_0011c_row5_col0\" class=\"data row5 col0\" >6.Schindler's List(1993)</td>\n",
       "      <td id=\"T_0011c_row5_col1\" class=\"data row5 col1\" >9.0</td>\n",
       "      <td id=\"T_0011c_row5_col2\" class=\"data row5 col2\" >(1993)</td>\n",
       "    </tr>\n",
       "    <tr>\n",
       "      <td id=\"T_0011c_row6_col0\" class=\"data row6 col0\" >7.12 Angry Men(1957)</td>\n",
       "      <td id=\"T_0011c_row6_col1\" class=\"data row6 col1\" >9.0</td>\n",
       "      <td id=\"T_0011c_row6_col2\" class=\"data row6 col2\" >(1957)</td>\n",
       "    </tr>\n",
       "    <tr>\n",
       "      <td id=\"T_0011c_row7_col0\" class=\"data row7 col0\" >8.Pulp Fiction(1994)</td>\n",
       "      <td id=\"T_0011c_row7_col1\" class=\"data row7 col1\" >8.9</td>\n",
       "      <td id=\"T_0011c_row7_col2\" class=\"data row7 col2\" >(1994)</td>\n",
       "    </tr>\n",
       "    <tr>\n",
       "      <td id=\"T_0011c_row8_col0\" class=\"data row8 col0\" >9.777 Charlie(2022)</td>\n",
       "      <td id=\"T_0011c_row8_col1\" class=\"data row8 col1\" >8.9</td>\n",
       "      <td id=\"T_0011c_row8_col2\" class=\"data row8 col2\" >(2022)</td>\n",
       "    </tr>\n",
       "    <tr>\n",
       "      <td id=\"T_0011c_row9_col0\" class=\"data row9 col0\" >10.The Lord of the Rings: The Fellowship of the Ring(2001)</td>\n",
       "      <td id=\"T_0011c_row9_col1\" class=\"data row9 col1\" >8.8</td>\n",
       "      <td id=\"T_0011c_row9_col2\" class=\"data row9 col2\" >(2001)</td>\n",
       "    </tr>\n",
       "    <tr>\n",
       "      <td id=\"T_0011c_row10_col0\" class=\"data row10 col0\" >11.Fight Club(1999)</td>\n",
       "      <td id=\"T_0011c_row10_col1\" class=\"data row10 col1\" >8.8</td>\n",
       "      <td id=\"T_0011c_row10_col2\" class=\"data row10 col2\" >(1999)</td>\n",
       "    </tr>\n",
       "    <tr>\n",
       "      <td id=\"T_0011c_row11_col0\" class=\"data row11 col0\" >12.Inception(2010)</td>\n",
       "      <td id=\"T_0011c_row11_col1\" class=\"data row11 col1\" >8.8</td>\n",
       "      <td id=\"T_0011c_row11_col2\" class=\"data row11 col2\" >(2010)</td>\n",
       "    </tr>\n",
       "    <tr>\n",
       "      <td id=\"T_0011c_row12_col0\" class=\"data row12 col0\" >13.Forrest Gump(1994)</td>\n",
       "      <td id=\"T_0011c_row12_col1\" class=\"data row12 col1\" >8.8</td>\n",
       "      <td id=\"T_0011c_row12_col2\" class=\"data row12 col2\" >(1994)</td>\n",
       "    </tr>\n",
       "    <tr>\n",
       "      <td id=\"T_0011c_row13_col0\" class=\"data row13 col0\" >14.The Lord of the Rings: The Two Towers(2002)</td>\n",
       "      <td id=\"T_0011c_row13_col1\" class=\"data row13 col1\" >8.8</td>\n",
       "      <td id=\"T_0011c_row13_col2\" class=\"data row13 col2\" >(2002)</td>\n",
       "    </tr>\n",
       "    <tr>\n",
       "      <td id=\"T_0011c_row14_col0\" class=\"data row14 col0\" >15.Il buono, il brutto, il cattivo(1966)</td>\n",
       "      <td id=\"T_0011c_row14_col1\" class=\"data row14 col1\" >8.8</td>\n",
       "      <td id=\"T_0011c_row14_col2\" class=\"data row14 col2\" >(1966)</td>\n",
       "    </tr>\n",
       "    <tr>\n",
       "      <td id=\"T_0011c_row15_col0\" class=\"data row15 col0\" >16.Jai Bhim(2021)</td>\n",
       "      <td id=\"T_0011c_row15_col1\" class=\"data row15 col1\" >8.8</td>\n",
       "      <td id=\"T_0011c_row15_col2\" class=\"data row15 col2\" >(2021)</td>\n",
       "    </tr>\n",
       "    <tr>\n",
       "      <td id=\"T_0011c_row16_col0\" class=\"data row16 col0\" >17.Rocketry: The Nambi Effect(2022)</td>\n",
       "      <td id=\"T_0011c_row16_col1\" class=\"data row16 col1\" >8.8</td>\n",
       "      <td id=\"T_0011c_row16_col2\" class=\"data row16 col2\" >(2022)</td>\n",
       "    </tr>\n",
       "    <tr>\n",
       "      <td id=\"T_0011c_row17_col0\" class=\"data row17 col0\" >18.GoodFellas(1990)</td>\n",
       "      <td id=\"T_0011c_row17_col1\" class=\"data row17 col1\" >8.7</td>\n",
       "      <td id=\"T_0011c_row17_col2\" class=\"data row17 col2\" >(1990)</td>\n",
       "    </tr>\n",
       "    <tr>\n",
       "      <td id=\"T_0011c_row18_col0\" class=\"data row18 col0\" >19.The Matrix(1999)</td>\n",
       "      <td id=\"T_0011c_row18_col1\" class=\"data row18 col1\" >8.7</td>\n",
       "      <td id=\"T_0011c_row18_col2\" class=\"data row18 col2\" >(1999)</td>\n",
       "    </tr>\n",
       "    <tr>\n",
       "      <td id=\"T_0011c_row19_col0\" class=\"data row19 col0\" >20.One Flew Over the Cuckoo's Nest(1975)</td>\n",
       "      <td id=\"T_0011c_row19_col1\" class=\"data row19 col1\" >8.7</td>\n",
       "      <td id=\"T_0011c_row19_col2\" class=\"data row19 col2\" >(1975)</td>\n",
       "    </tr>\n",
       "    <tr>\n",
       "      <td id=\"T_0011c_row20_col0\" class=\"data row20 col0\" >21.The Empire Strikes Back(1980)</td>\n",
       "      <td id=\"T_0011c_row20_col1\" class=\"data row20 col1\" >8.7</td>\n",
       "      <td id=\"T_0011c_row20_col2\" class=\"data row20 col2\" >(1980)</td>\n",
       "    </tr>\n",
       "    <tr>\n",
       "      <td id=\"T_0011c_row21_col0\" class=\"data row21 col0\" >22.Soorarai Pottru(2020)</td>\n",
       "      <td id=\"T_0011c_row21_col1\" class=\"data row21 col1\" >8.7</td>\n",
       "      <td id=\"T_0011c_row21_col2\" class=\"data row21 col2\" >(2020)</td>\n",
       "    </tr>\n",
       "    <tr>\n",
       "      <td id=\"T_0011c_row22_col0\" class=\"data row22 col0\" >23.Interstellar(2014)</td>\n",
       "      <td id=\"T_0011c_row22_col1\" class=\"data row22 col1\" >8.6</td>\n",
       "      <td id=\"T_0011c_row22_col2\" class=\"data row22 col2\" >(2014)</td>\n",
       "    </tr>\n",
       "    <tr>\n",
       "      <td id=\"T_0011c_row23_col0\" class=\"data row23 col0\" >24.It's a Wonderful Life(1946)</td>\n",
       "      <td id=\"T_0011c_row23_col1\" class=\"data row23 col1\" >8.6</td>\n",
       "      <td id=\"T_0011c_row23_col2\" class=\"data row23 col2\" >(1946)</td>\n",
       "    </tr>\n",
       "    <tr>\n",
       "      <td id=\"T_0011c_row24_col0\" class=\"data row24 col0\" >25.Se7en(1995)</td>\n",
       "      <td id=\"T_0011c_row24_col1\" class=\"data row24 col1\" >8.6</td>\n",
       "      <td id=\"T_0011c_row24_col2\" class=\"data row24 col2\" >(1995)</td>\n",
       "    </tr>\n",
       "    <tr>\n",
       "      <td id=\"T_0011c_row25_col0\" class=\"data row25 col0\" >26.Star Wars(1977)</td>\n",
       "      <td id=\"T_0011c_row25_col1\" class=\"data row25 col1\" >8.6</td>\n",
       "      <td id=\"T_0011c_row25_col2\" class=\"data row25 col2\" >(1977)</td>\n",
       "    </tr>\n",
       "    <tr>\n",
       "      <td id=\"T_0011c_row26_col0\" class=\"data row26 col0\" >27.The Silence of the Lambs(1991)</td>\n",
       "      <td id=\"T_0011c_row26_col1\" class=\"data row26 col1\" >8.6</td>\n",
       "      <td id=\"T_0011c_row26_col2\" class=\"data row26 col2\" >(1991)</td>\n",
       "    </tr>\n",
       "    <tr>\n",
       "      <td id=\"T_0011c_row27_col0\" class=\"data row27 col0\" >28.The Green Mile(1999)</td>\n",
       "      <td id=\"T_0011c_row27_col1\" class=\"data row27 col1\" >8.6</td>\n",
       "      <td id=\"T_0011c_row27_col2\" class=\"data row27 col2\" >(1999)</td>\n",
       "    </tr>\n",
       "    <tr>\n",
       "      <td id=\"T_0011c_row28_col0\" class=\"data row28 col0\" >29.Terminator 2: Judgment Day(1991)</td>\n",
       "      <td id=\"T_0011c_row28_col1\" class=\"data row28 col1\" >8.6</td>\n",
       "      <td id=\"T_0011c_row28_col2\" class=\"data row28 col2\" >(1991)</td>\n",
       "    </tr>\n",
       "    <tr>\n",
       "      <td id=\"T_0011c_row29_col0\" class=\"data row29 col0\" >30.Saving Private Ryan(1998)</td>\n",
       "      <td id=\"T_0011c_row29_col1\" class=\"data row29 col1\" >8.6</td>\n",
       "      <td id=\"T_0011c_row29_col2\" class=\"data row29 col2\" >(1998)</td>\n",
       "    </tr>\n",
       "    <tr>\n",
       "      <td id=\"T_0011c_row30_col0\" class=\"data row30 col0\" >31.Cidade de Deus(2002)</td>\n",
       "      <td id=\"T_0011c_row30_col1\" class=\"data row30 col1\" >8.6</td>\n",
       "      <td id=\"T_0011c_row30_col2\" class=\"data row30 col2\" >(2002)</td>\n",
       "    </tr>\n",
       "    <tr>\n",
       "      <td id=\"T_0011c_row31_col0\" class=\"data row31 col0\" >32.Sen to Chihiro no kamikakushi(2001)</td>\n",
       "      <td id=\"T_0011c_row31_col1\" class=\"data row31 col1\" >8.6</td>\n",
       "      <td id=\"T_0011c_row31_col2\" class=\"data row31 col2\" >(2001)</td>\n",
       "    </tr>\n",
       "    <tr>\n",
       "      <td id=\"T_0011c_row32_col0\" class=\"data row32 col0\" >33.La vita è bella(1997)</td>\n",
       "      <td id=\"T_0011c_row32_col1\" class=\"data row32 col1\" >8.6</td>\n",
       "      <td id=\"T_0011c_row32_col2\" class=\"data row32 col2\" >(1997)</td>\n",
       "    </tr>\n",
       "    <tr>\n",
       "      <td id=\"T_0011c_row33_col0\" class=\"data row33 col0\" >34.Sita Ramam(2022)</td>\n",
       "      <td id=\"T_0011c_row33_col1\" class=\"data row33 col1\" >8.6</td>\n",
       "      <td id=\"T_0011c_row33_col2\" class=\"data row33 col2\" >(2022)</td>\n",
       "    </tr>\n",
       "    <tr>\n",
       "      <td id=\"T_0011c_row34_col0\" class=\"data row34 col0\" >35.Shichinin no samurai(1954)</td>\n",
       "      <td id=\"T_0011c_row34_col1\" class=\"data row34 col1\" >8.6</td>\n",
       "      <td id=\"T_0011c_row34_col2\" class=\"data row34 col2\" >(1954)</td>\n",
       "    </tr>\n",
       "    <tr>\n",
       "      <td id=\"T_0011c_row35_col0\" class=\"data row35 col0\" >36.Seppuku(1962)</td>\n",
       "      <td id=\"T_0011c_row35_col1\" class=\"data row35 col1\" >8.6</td>\n",
       "      <td id=\"T_0011c_row35_col2\" class=\"data row35 col2\" >(1962)</td>\n",
       "    </tr>\n",
       "    <tr>\n",
       "      <td id=\"T_0011c_row36_col0\" class=\"data row36 col0\" >37.Whiplash(2014)</td>\n",
       "      <td id=\"T_0011c_row36_col1\" class=\"data row36 col1\" >8.5</td>\n",
       "      <td id=\"T_0011c_row36_col2\" class=\"data row36 col2\" >(2014)</td>\n",
       "    </tr>\n",
       "    <tr>\n",
       "      <td id=\"T_0011c_row37_col0\" class=\"data row37 col0\" >38.Léon(1994)</td>\n",
       "      <td id=\"T_0011c_row37_col1\" class=\"data row37 col1\" >8.5</td>\n",
       "      <td id=\"T_0011c_row37_col2\" class=\"data row37 col2\" >(1994)</td>\n",
       "    </tr>\n",
       "    <tr>\n",
       "      <td id=\"T_0011c_row38_col0\" class=\"data row38 col0\" >39.Gisaengchung(2019)</td>\n",
       "      <td id=\"T_0011c_row38_col1\" class=\"data row38 col1\" >8.5</td>\n",
       "      <td id=\"T_0011c_row38_col2\" class=\"data row38 col2\" >(2019)</td>\n",
       "    </tr>\n",
       "    <tr>\n",
       "      <td id=\"T_0011c_row39_col0\" class=\"data row39 col0\" >40.Gladiator(2000)</td>\n",
       "      <td id=\"T_0011c_row39_col1\" class=\"data row39 col1\" >8.5</td>\n",
       "      <td id=\"T_0011c_row39_col2\" class=\"data row39 col2\" >(2000)</td>\n",
       "    </tr>\n",
       "    <tr>\n",
       "      <td id=\"T_0011c_row40_col0\" class=\"data row40 col0\" >41.Back to the Future(1985)</td>\n",
       "      <td id=\"T_0011c_row40_col1\" class=\"data row40 col1\" >8.5</td>\n",
       "      <td id=\"T_0011c_row40_col2\" class=\"data row40 col2\" >(1985)</td>\n",
       "    </tr>\n",
       "    <tr>\n",
       "      <td id=\"T_0011c_row41_col0\" class=\"data row41 col0\" >42.The Prestige(2006)</td>\n",
       "      <td id=\"T_0011c_row41_col1\" class=\"data row41 col1\" >8.5</td>\n",
       "      <td id=\"T_0011c_row41_col2\" class=\"data row41 col2\" >(2006)</td>\n",
       "    </tr>\n",
       "    <tr>\n",
       "      <td id=\"T_0011c_row42_col0\" class=\"data row42 col0\" >43.Apocalypse Now(1979)</td>\n",
       "      <td id=\"T_0011c_row42_col1\" class=\"data row42 col1\" >8.5</td>\n",
       "      <td id=\"T_0011c_row42_col2\" class=\"data row42 col2\" >(1979)</td>\n",
       "    </tr>\n",
       "    <tr>\n",
       "      <td id=\"T_0011c_row43_col0\" class=\"data row43 col0\" >44.The Departed(2006)</td>\n",
       "      <td id=\"T_0011c_row43_col1\" class=\"data row43 col1\" >8.5</td>\n",
       "      <td id=\"T_0011c_row43_col2\" class=\"data row43 col2\" >(2006)</td>\n",
       "    </tr>\n",
       "    <tr>\n",
       "      <td id=\"T_0011c_row44_col0\" class=\"data row44 col0\" >45.Alien(1979)</td>\n",
       "      <td id=\"T_0011c_row44_col1\" class=\"data row44 col1\" >8.5</td>\n",
       "      <td id=\"T_0011c_row44_col2\" class=\"data row44 col2\" >(1979)</td>\n",
       "    </tr>\n",
       "    <tr>\n",
       "      <td id=\"T_0011c_row45_col0\" class=\"data row45 col0\" >46.The Usual Suspects(1995)</td>\n",
       "      <td id=\"T_0011c_row45_col1\" class=\"data row45 col1\" >8.5</td>\n",
       "      <td id=\"T_0011c_row45_col2\" class=\"data row45 col2\" >(1995)</td>\n",
       "    </tr>\n",
       "    <tr>\n",
       "      <td id=\"T_0011c_row46_col0\" class=\"data row46 col0\" >47.American History X(1998)</td>\n",
       "      <td id=\"T_0011c_row46_col1\" class=\"data row46 col1\" >8.5</td>\n",
       "      <td id=\"T_0011c_row46_col2\" class=\"data row46 col2\" >(1998)</td>\n",
       "    </tr>\n",
       "    <tr>\n",
       "      <td id=\"T_0011c_row47_col0\" class=\"data row47 col0\" >48.The Lion King(1994)</td>\n",
       "      <td id=\"T_0011c_row47_col1\" class=\"data row47 col1\" >8.5</td>\n",
       "      <td id=\"T_0011c_row47_col2\" class=\"data row47 col2\" >(1994)</td>\n",
       "    </tr>\n",
       "    <tr>\n",
       "      <td id=\"T_0011c_row48_col0\" class=\"data row48 col0\" >49.The Intouchables(2011)</td>\n",
       "      <td id=\"T_0011c_row48_col1\" class=\"data row48 col1\" >8.5</td>\n",
       "      <td id=\"T_0011c_row48_col2\" class=\"data row48 col2\" >(2011)</td>\n",
       "    </tr>\n",
       "    <tr>\n",
       "      <td id=\"T_0011c_row49_col0\" class=\"data row49 col0\" >50.The Pianist(2002)</td>\n",
       "      <td id=\"T_0011c_row49_col1\" class=\"data row49 col1\" >8.5</td>\n",
       "      <td id=\"T_0011c_row49_col2\" class=\"data row49 col2\" >(2002)</td>\n",
       "    </tr>\n",
       "    <tr>\n",
       "      <td id=\"T_0011c_row50_col0\" class=\"data row50 col0\" >51.Once Upon a Time in the West(1968)</td>\n",
       "      <td id=\"T_0011c_row50_col1\" class=\"data row50 col1\" >8.5</td>\n",
       "      <td id=\"T_0011c_row50_col2\" class=\"data row50 col2\" >(1968)</td>\n",
       "    </tr>\n",
       "    <tr>\n",
       "      <td id=\"T_0011c_row51_col0\" class=\"data row51 col0\" >52.Psycho(1960)</td>\n",
       "      <td id=\"T_0011c_row51_col1\" class=\"data row51 col1\" >8.5</td>\n",
       "      <td id=\"T_0011c_row51_col2\" class=\"data row51 col2\" >(1960)</td>\n",
       "    </tr>\n",
       "    <tr>\n",
       "      <td id=\"T_0011c_row52_col0\" class=\"data row52 col0\" >53.Casablanca(1942)</td>\n",
       "      <td id=\"T_0011c_row52_col1\" class=\"data row52 col1\" >8.5</td>\n",
       "      <td id=\"T_0011c_row52_col2\" class=\"data row52 col2\" >(1942)</td>\n",
       "    </tr>\n",
       "    <tr>\n",
       "      <td id=\"T_0011c_row53_col0\" class=\"data row53 col0\" >54.Hotaru no haka(1988)</td>\n",
       "      <td id=\"T_0011c_row53_col1\" class=\"data row53 col1\" >8.5</td>\n",
       "      <td id=\"T_0011c_row53_col2\" class=\"data row53 col2\" >(1988)</td>\n",
       "    </tr>\n",
       "    <tr>\n",
       "      <td id=\"T_0011c_row54_col0\" class=\"data row54 col0\" >55.Rear Window(1954)</td>\n",
       "      <td id=\"T_0011c_row54_col1\" class=\"data row54 col1\" >8.5</td>\n",
       "      <td id=\"T_0011c_row54_col2\" class=\"data row54 col2\" >(1954)</td>\n",
       "    </tr>\n",
       "    <tr>\n",
       "      <td id=\"T_0011c_row55_col0\" class=\"data row55 col0\" >56.Nuovo Cinema Paradiso(1988)</td>\n",
       "      <td id=\"T_0011c_row55_col1\" class=\"data row55 col1\" >8.5</td>\n",
       "      <td id=\"T_0011c_row55_col2\" class=\"data row55 col2\" >(1988)</td>\n",
       "    </tr>\n",
       "    <tr>\n",
       "      <td id=\"T_0011c_row56_col0\" class=\"data row56 col0\" >57.Modern Times(1936)</td>\n",
       "      <td id=\"T_0011c_row56_col1\" class=\"data row56 col1\" >8.5</td>\n",
       "      <td id=\"T_0011c_row56_col2\" class=\"data row56 col2\" >(1936)</td>\n",
       "    </tr>\n",
       "    <tr>\n",
       "      <td id=\"T_0011c_row57_col0\" class=\"data row57 col0\" >58.City Lights(1931)</td>\n",
       "      <td id=\"T_0011c_row57_col1\" class=\"data row57 col1\" >8.5</td>\n",
       "      <td id=\"T_0011c_row57_col2\" class=\"data row57 col2\" >(1931)</td>\n",
       "    </tr>\n",
       "    <tr>\n",
       "      <td id=\"T_0011c_row58_col0\" class=\"data row58 col0\" >59.Kaithi(2019)</td>\n",
       "      <td id=\"T_0011c_row58_col1\" class=\"data row58 col1\" >8.5</td>\n",
       "      <td id=\"T_0011c_row58_col2\" class=\"data row58 col2\" >(2019)</td>\n",
       "    </tr>\n",
       "    <tr>\n",
       "      <td id=\"T_0011c_row59_col0\" class=\"data row59 col0\" >60.96(II) (2018)</td>\n",
       "      <td id=\"T_0011c_row59_col1\" class=\"data row59 col1\" >8.5</td>\n",
       "      <td id=\"T_0011c_row59_col2\" class=\"data row59 col2\" >(II) (2018)</td>\n",
       "    </tr>\n",
       "    <tr>\n",
       "      <td id=\"T_0011c_row60_col0\" class=\"data row60 col0\" >61.Avengers: Endgame(2019)</td>\n",
       "      <td id=\"T_0011c_row60_col1\" class=\"data row60 col1\" >8.4</td>\n",
       "      <td id=\"T_0011c_row60_col2\" class=\"data row60 col2\" >(2019)</td>\n",
       "    </tr>\n",
       "    <tr>\n",
       "      <td id=\"T_0011c_row61_col0\" class=\"data row61 col0\" >62.Raiders of the Lost Ark(1981)</td>\n",
       "      <td id=\"T_0011c_row61_col1\" class=\"data row61 col1\" >8.4</td>\n",
       "      <td id=\"T_0011c_row61_col2\" class=\"data row61 col2\" >(1981)</td>\n",
       "    </tr>\n",
       "    <tr>\n",
       "      <td id=\"T_0011c_row62_col0\" class=\"data row62 col0\" >63.Joker(I) (2019)</td>\n",
       "      <td id=\"T_0011c_row62_col1\" class=\"data row62 col1\" >8.4</td>\n",
       "      <td id=\"T_0011c_row62_col2\" class=\"data row62 col2\" >(I) (2019)</td>\n",
       "    </tr>\n",
       "    <tr>\n",
       "      <td id=\"T_0011c_row63_col0\" class=\"data row63 col0\" >64.Django Unchained(2012)</td>\n",
       "      <td id=\"T_0011c_row63_col1\" class=\"data row63 col1\" >8.4</td>\n",
       "      <td id=\"T_0011c_row63_col2\" class=\"data row63 col2\" >(2012)</td>\n",
       "    </tr>\n",
       "    <tr>\n",
       "      <td id=\"T_0011c_row64_col0\" class=\"data row64 col0\" >65.American Beauty(1999)</td>\n",
       "      <td id=\"T_0011c_row64_col1\" class=\"data row64 col1\" >8.4</td>\n",
       "      <td id=\"T_0011c_row64_col2\" class=\"data row64 col2\" >(1999)</td>\n",
       "    </tr>\n",
       "    <tr>\n",
       "      <td id=\"T_0011c_row65_col0\" class=\"data row65 col0\" >66.Braveheart(1995)</td>\n",
       "      <td id=\"T_0011c_row65_col1\" class=\"data row65 col1\" >8.4</td>\n",
       "      <td id=\"T_0011c_row65_col2\" class=\"data row65 col2\" >(1995)</td>\n",
       "    </tr>\n",
       "    <tr>\n",
       "      <td id=\"T_0011c_row66_col0\" class=\"data row66 col0\" >67.The Dark Knight Rises(2012)</td>\n",
       "      <td id=\"T_0011c_row66_col1\" class=\"data row66 col1\" >8.4</td>\n",
       "      <td id=\"T_0011c_row66_col2\" class=\"data row66 col2\" >(2012)</td>\n",
       "    </tr>\n",
       "    <tr>\n",
       "      <td id=\"T_0011c_row67_col0\" class=\"data row67 col0\" >68.Spider-Man: Into the Spider-Verse(2018)</td>\n",
       "      <td id=\"T_0011c_row67_col1\" class=\"data row67 col1\" >8.4</td>\n",
       "      <td id=\"T_0011c_row67_col2\" class=\"data row67 col2\" >(2018)</td>\n",
       "    </tr>\n",
       "    <tr>\n",
       "      <td id=\"T_0011c_row68_col0\" class=\"data row68 col0\" >69.Aliens(1986)</td>\n",
       "      <td id=\"T_0011c_row68_col1\" class=\"data row68 col1\" >8.4</td>\n",
       "      <td id=\"T_0011c_row68_col2\" class=\"data row68 col2\" >(1986)</td>\n",
       "    </tr>\n",
       "    <tr>\n",
       "      <td id=\"T_0011c_row69_col0\" class=\"data row69 col0\" >70.Avengers: Infinity War(2018)</td>\n",
       "      <td id=\"T_0011c_row69_col1\" class=\"data row69 col1\" >8.4</td>\n",
       "      <td id=\"T_0011c_row69_col2\" class=\"data row69 col2\" >(2018)</td>\n",
       "    </tr>\n",
       "    <tr>\n",
       "      <td id=\"T_0011c_row70_col0\" class=\"data row70 col0\" >71.The Shining(1980)</td>\n",
       "      <td id=\"T_0011c_row70_col1\" class=\"data row70 col1\" >8.4</td>\n",
       "      <td id=\"T_0011c_row70_col2\" class=\"data row70 col2\" >(1980)</td>\n",
       "    </tr>\n",
       "    <tr>\n",
       "      <td id=\"T_0011c_row71_col0\" class=\"data row71 col0\" >72.Oldeuboi(2003)</td>\n",
       "      <td id=\"T_0011c_row71_col1\" class=\"data row71 col1\" >8.4</td>\n",
       "      <td id=\"T_0011c_row71_col2\" class=\"data row71 col2\" >(2003)</td>\n",
       "    </tr>\n",
       "    <tr>\n",
       "      <td id=\"T_0011c_row72_col0\" class=\"data row72 col0\" >73.Memento(2000)</td>\n",
       "      <td id=\"T_0011c_row72_col1\" class=\"data row72 col1\" >8.4</td>\n",
       "      <td id=\"T_0011c_row72_col2\" class=\"data row72 col2\" >(2000)</td>\n",
       "    </tr>\n",
       "    <tr>\n",
       "      <td id=\"T_0011c_row73_col0\" class=\"data row73 col0\" >74.Kantara(2022)</td>\n",
       "      <td id=\"T_0011c_row73_col1\" class=\"data row73 col1\" >8.4</td>\n",
       "      <td id=\"T_0011c_row73_col2\" class=\"data row73 col2\" >(2022)</td>\n",
       "    </tr>\n",
       "    <tr>\n",
       "      <td id=\"T_0011c_row74_col0\" class=\"data row74 col0\" >75.Coco(I) (2017)</td>\n",
       "      <td id=\"T_0011c_row74_col1\" class=\"data row74 col1\" >8.4</td>\n",
       "      <td id=\"T_0011c_row74_col2\" class=\"data row74 col2\" >(I) (2017)</td>\n",
       "    </tr>\n",
       "    <tr>\n",
       "      <td id=\"T_0011c_row75_col0\" class=\"data row75 col0\" >76.Hamilton(2020)</td>\n",
       "      <td id=\"T_0011c_row75_col1\" class=\"data row75 col1\" >8.4</td>\n",
       "      <td id=\"T_0011c_row75_col2\" class=\"data row75 col2\" >(2020)</td>\n",
       "    </tr>\n",
       "    <tr>\n",
       "      <td id=\"T_0011c_row76_col0\" class=\"data row76 col0\" >77.Amadeus(1984)</td>\n",
       "      <td id=\"T_0011c_row76_col1\" class=\"data row76 col1\" >8.4</td>\n",
       "      <td id=\"T_0011c_row76_col2\" class=\"data row76 col2\" >(1984)</td>\n",
       "    </tr>\n",
       "    <tr>\n",
       "      <td id=\"T_0011c_row77_col0\" class=\"data row77 col0\" >78.Idi i smotri(1985)</td>\n",
       "      <td id=\"T_0011c_row77_col1\" class=\"data row77 col1\" >8.4</td>\n",
       "      <td id=\"T_0011c_row77_col2\" class=\"data row77 col2\" >(1985)</td>\n",
       "    </tr>\n",
       "    <tr>\n",
       "      <td id=\"T_0011c_row78_col0\" class=\"data row78 col0\" >79.Kimi no Na wa.(2016)</td>\n",
       "      <td id=\"T_0011c_row78_col1\" class=\"data row78 col1\" >8.4</td>\n",
       "      <td id=\"T_0011c_row78_col2\" class=\"data row78 col2\" >(2016)</td>\n",
       "    </tr>\n",
       "    <tr>\n",
       "      <td id=\"T_0011c_row79_col0\" class=\"data row79 col0\" >80.3 Idiots(2009)</td>\n",
       "      <td id=\"T_0011c_row79_col1\" class=\"data row79 col1\" >8.4</td>\n",
       "      <td id=\"T_0011c_row79_col2\" class=\"data row79 col2\" >(2009)</td>\n",
       "    </tr>\n",
       "    <tr>\n",
       "      <td id=\"T_0011c_row80_col0\" class=\"data row80 col0\" >81.WALL·E(2008)</td>\n",
       "      <td id=\"T_0011c_row80_col1\" class=\"data row80 col1\" >8.4</td>\n",
       "      <td id=\"T_0011c_row80_col2\" class=\"data row80 col2\" >(2008)</td>\n",
       "    </tr>\n",
       "    <tr>\n",
       "      <td id=\"T_0011c_row81_col0\" class=\"data row81 col0\" >82.The Lives of Others(2006)</td>\n",
       "      <td id=\"T_0011c_row81_col1\" class=\"data row81 col1\" >8.4</td>\n",
       "      <td id=\"T_0011c_row81_col2\" class=\"data row81 col2\" >(2006)</td>\n",
       "    </tr>\n",
       "    <tr>\n",
       "      <td id=\"T_0011c_row82_col0\" class=\"data row82 col0\" >83.Capharnaüm(2018)</td>\n",
       "      <td id=\"T_0011c_row82_col1\" class=\"data row82 col1\" >8.4</td>\n",
       "      <td id=\"T_0011c_row82_col2\" class=\"data row82 col2\" >(2018)</td>\n",
       "    </tr>\n",
       "    <tr>\n",
       "      <td id=\"T_0011c_row83_col0\" class=\"data row83 col0\" >84.Mononoke-hime(1997)</td>\n",
       "      <td id=\"T_0011c_row83_col1\" class=\"data row83 col1\" >8.4</td>\n",
       "      <td id=\"T_0011c_row83_col2\" class=\"data row83 col2\" >(1997)</td>\n",
       "    </tr>\n",
       "    <tr>\n",
       "      <td id=\"T_0011c_row84_col0\" class=\"data row84 col0\" >85.Dr. Strangelove or: How I Learned to Stop Worrying and Love the Bomb(1964)</td>\n",
       "      <td id=\"T_0011c_row84_col1\" class=\"data row84 col1\" >8.4</td>\n",
       "      <td id=\"T_0011c_row84_col2\" class=\"data row84 col2\" >(1964)</td>\n",
       "    </tr>\n",
       "    <tr>\n",
       "      <td id=\"T_0011c_row85_col0\" class=\"data row85 col0\" >86.Sunset Blvd.(1950)</td>\n",
       "      <td id=\"T_0011c_row85_col1\" class=\"data row85 col1\" >8.4</td>\n",
       "      <td id=\"T_0011c_row85_col2\" class=\"data row85 col2\" >(1950)</td>\n",
       "    </tr>\n",
       "    <tr>\n",
       "      <td id=\"T_0011c_row86_col0\" class=\"data row86 col0\" >87.Das Boot(1981)</td>\n",
       "      <td id=\"T_0011c_row86_col1\" class=\"data row86 col1\" >8.4</td>\n",
       "      <td id=\"T_0011c_row86_col2\" class=\"data row86 col2\" >(1981)</td>\n",
       "    </tr>\n",
       "    <tr>\n",
       "      <td id=\"T_0011c_row87_col0\" class=\"data row87 col0\" >88.Witness for the Prosecution(1957)</td>\n",
       "      <td id=\"T_0011c_row87_col1\" class=\"data row87 col1\" >8.4</td>\n",
       "      <td id=\"T_0011c_row87_col2\" class=\"data row87 col2\" >(1957)</td>\n",
       "    </tr>\n",
       "    <tr>\n",
       "      <td id=\"T_0011c_row88_col0\" class=\"data row88 col0\" >89.Paths of Glory(1957)</td>\n",
       "      <td id=\"T_0011c_row88_col1\" class=\"data row88 col1\" >8.4</td>\n",
       "      <td id=\"T_0011c_row88_col2\" class=\"data row88 col2\" >(1957)</td>\n",
       "    </tr>\n",
       "    <tr>\n",
       "      <td id=\"T_0011c_row89_col0\" class=\"data row89 col0\" >90.Vikram(2022)</td>\n",
       "      <td id=\"T_0011c_row89_col1\" class=\"data row89 col1\" >8.4</td>\n",
       "      <td id=\"T_0011c_row89_col2\" class=\"data row89 col2\" >(2022)</td>\n",
       "    </tr>\n",
       "    <tr>\n",
       "      <td id=\"T_0011c_row90_col0\" class=\"data row90 col0\" >91.The Great Dictator(1940)</td>\n",
       "      <td id=\"T_0011c_row90_col1\" class=\"data row90 col1\" >8.4</td>\n",
       "      <td id=\"T_0011c_row90_col2\" class=\"data row90 col2\" >(1940)</td>\n",
       "    </tr>\n",
       "    <tr>\n",
       "      <td id=\"T_0011c_row91_col0\" class=\"data row91 col0\" >92.Tengoku to jigoku(1963)</td>\n",
       "      <td id=\"T_0011c_row91_col1\" class=\"data row91 col1\" >8.4</td>\n",
       "      <td id=\"T_0011c_row91_col2\" class=\"data row91 col2\" >(1963)</td>\n",
       "    </tr>\n",
       "    <tr>\n",
       "      <td id=\"T_0011c_row92_col0\" class=\"data row92 col0\" >93.Drishyam 2(2021)</td>\n",
       "      <td id=\"T_0011c_row92_col1\" class=\"data row92 col1\" >8.4</td>\n",
       "      <td id=\"T_0011c_row92_col2\" class=\"data row92 col2\" >(2021)</td>\n",
       "    </tr>\n",
       "    <tr>\n",
       "      <td id=\"T_0011c_row93_col0\" class=\"data row93 col0\" >94.Sardar Udham(2021)</td>\n",
       "      <td id=\"T_0011c_row93_col1\" class=\"data row93 col1\" >8.4</td>\n",
       "      <td id=\"T_0011c_row93_col2\" class=\"data row93 col2\" >(2021)</td>\n",
       "    </tr>\n",
       "    <tr>\n",
       "      <td id=\"T_0011c_row94_col0\" class=\"data row94 col0\" >95.Shershaah(2021)</td>\n",
       "      <td id=\"T_0011c_row94_col1\" class=\"data row94 col1\" >8.4</td>\n",
       "      <td id=\"T_0011c_row94_col2\" class=\"data row94 col2\" >(2021)</td>\n",
       "    </tr>\n",
       "    <tr>\n",
       "      <td id=\"T_0011c_row95_col0\" class=\"data row95 col0\" >96.Asuran(2019)</td>\n",
       "      <td id=\"T_0011c_row95_col1\" class=\"data row95 col1\" >8.4</td>\n",
       "      <td id=\"T_0011c_row95_col2\" class=\"data row95 col2\" >(2019)</td>\n",
       "    </tr>\n",
       "    <tr>\n",
       "      <td id=\"T_0011c_row96_col0\" class=\"data row96 col0\" >97.Top Gun: Maverick(2022)</td>\n",
       "      <td id=\"T_0011c_row96_col1\" class=\"data row96 col1\" >8.3</td>\n",
       "      <td id=\"T_0011c_row96_col2\" class=\"data row96 col2\" >(2022)</td>\n",
       "    </tr>\n",
       "    <tr>\n",
       "      <td id=\"T_0011c_row97_col0\" class=\"data row97 col0\" >98.Good Will Hunting(1997)</td>\n",
       "      <td id=\"T_0011c_row97_col1\" class=\"data row97 col1\" >8.3</td>\n",
       "      <td id=\"T_0011c_row97_col2\" class=\"data row97 col2\" >(1997)</td>\n",
       "    </tr>\n",
       "    <tr>\n",
       "      <td id=\"T_0011c_row98_col0\" class=\"data row98 col0\" >99.Heat(1995)</td>\n",
       "      <td id=\"T_0011c_row98_col1\" class=\"data row98 col1\" >8.3</td>\n",
       "      <td id=\"T_0011c_row98_col2\" class=\"data row98 col2\" >(1995)</td>\n",
       "    </tr>\n",
       "    <tr>\n",
       "      <td id=\"T_0011c_row99_col0\" class=\"data row99 col0\" >100.Inglourious Basterds(2009)</td>\n",
       "      <td id=\"T_0011c_row99_col1\" class=\"data row99 col1\" >8.3</td>\n",
       "      <td id=\"T_0011c_row99_col2\" class=\"data row99 col2\" >(2009)</td>\n",
       "    </tr>\n",
       "  </tbody>\n",
       "</table>\n"
      ],
      "text/plain": [
       "<pandas.io.formats.style.Styler at 0x7778f88>"
      ]
     },
     "execution_count": 13,
     "metadata": {},
     "output_type": "execute_result"
    }
   ],
   "source": [
    "# Making DataFrame\n",
    "\n",
    "import pandas as pd \n",
    "IMDB_top_rated_100_movies=pd.DataFrame({'movie_name':movie_name,'movie_ratings':movie_ratings,'Movie_year':Movie_year})\n",
    "IMDB_top_rated_100_movies=IMDB_top_rated_100_movies.style.hide(axis='index')\n",
    "IMDB_top_rated_100_movies"
   ]
  },
  {
   "cell_type": "code",
   "execution_count": 14,
   "id": "e769073d",
   "metadata": {},
   "outputs": [],
   "source": [
    "# 3) Write a python program to display IMDB’s Top rated 100 Indian movies’ data (i.e. name, rating, year of release) and make data frame."
   ]
  },
  {
   "cell_type": "code",
   "execution_count": 15,
   "id": "7fb290b6",
   "metadata": {},
   "outputs": [
    {
     "data": {
      "text/plain": [
       "<Response [200]>"
      ]
     },
     "execution_count": 15,
     "metadata": {},
     "output_type": "execute_result"
    }
   ],
   "source": [
    "page=requests.get('https://www.imdb.com/india/top-rated-indian-movies/')\n",
    "page"
   ]
  },
  {
   "cell_type": "code",
   "execution_count": 16,
   "id": "02c6eeea",
   "metadata": {},
   "outputs": [],
   "source": [
    "# Page content\n",
    "\n",
    "soup2=BeautifulSoup(page.content)"
   ]
  },
  {
   "cell_type": "code",
   "execution_count": 17,
   "id": "087e61f9",
   "metadata": {},
   "outputs": [
    {
     "data": {
      "text/plain": [
       "['      1.      Ramayana: The Legend of Prince Rama(1993)',\n",
       " '      2.      Rocketry: The Nambi Effect(2022)',\n",
       " '      3.      Golmaal(1979)',\n",
       " '      4.      Nayakan(1987)',\n",
       " '      5.      Anbe Sivam(2003)',\n",
       " '      6.      777 Charlie(2022)',\n",
       " '      7.      Jai Bhim(2021)',\n",
       " '      8.      Pariyerum Perumal(2018)',\n",
       " '      9.      3 Idiots(2009)',\n",
       " '      10.      Manichitrathazhu(1993)',\n",
       " '      11.      Apur Sansar(1959)',\n",
       " '      12.      #Home(2021)',\n",
       " '      13.      Black Friday(2004)',\n",
       " '      14.      Soorarai Pottru(2020)',\n",
       " '      15.      Kumbalangi Nights(2019)',\n",
       " '      16.      Taare Zameen Par(2007)',\n",
       " '      17.      C/o Kancharapalem(2018)',\n",
       " '      18.      Kireedam(1989)',\n",
       " '      19.      Dangal(2016)',\n",
       " '      20.      Kaithi(2019)',\n",
       " '      21.      Jersey(2019)',\n",
       " '      22.      Maya Bazaar(1957)',\n",
       " '      23.      96(2018)',\n",
       " '      24.      Natsamrat(2016)',\n",
       " '      25.      Asuran(2019)',\n",
       " '      26.      Thevar Magan(1992)',\n",
       " '      27.      Drishyam 2(2021)',\n",
       " '      28.      Visaaranai(2015)',\n",
       " '      29.      Sita Ramam(2022)',\n",
       " '      30.      Thalapathi(1991)',\n",
       " '      31.      Sarpatta Parambarai(2021)',\n",
       " '      32.      Pather Panchali(1955)',\n",
       " '      33.      Nadodikkattu(1987)',\n",
       " '      34.      Jaane Bhi Do Yaaro(1983)',\n",
       " '      35.      Thani Oruvan(2015)',\n",
       " '      36.      Drishyam(2013)',\n",
       " '      37.      Sardar Udham(2021)',\n",
       " '      38.      Aparajito(1956)',\n",
       " '      39.      Vada Chennai(2018)',\n",
       " '      40.      Khosla Ka Ghosla!(2006)',\n",
       " '      41.      Ratsasan(2018)',\n",
       " '      42.      Anniyan(2005)',\n",
       " '      43.      Chupke Chupke(1975)',\n",
       " '      44.      Peranbu(2018)',\n",
       " '      45.      Mahanati(2018)',\n",
       " '      46.      Gangs of Wasseypur(2012)',\n",
       " '      47.      Drishyam(2015)',\n",
       " '      48.      Bangalore Days(2014)',\n",
       " '      49.      Satya(1998)',\n",
       " '      50.      Premam(2015)',\n",
       " '      51.      Agent Sai Srinivasa Athreya(2019)',\n",
       " '      52.      Devasuram(1993)',\n",
       " '      53.      Super Deluxe(2019)',\n",
       " '      54.      Bhaag Milkha Bhaag(2013)',\n",
       " '      55.      Tumbbad(2018)',\n",
       " '      56.      Andhadhun(2018)',\n",
       " '      57.      Vikram Vedha(2017)',\n",
       " '      58.      Guide(1965)',\n",
       " '      59.      Chithram(1988)',\n",
       " '      60.      Kannathil Muthamittal(2002)',\n",
       " '      61.      Zindagi Na Milegi Dobara(2011)',\n",
       " '      62.      Sairat(2016)',\n",
       " '      63.      Shahid(2012)',\n",
       " '      64.      Vikram(2022)',\n",
       " '      65.      Drishyam 2(2022)',\n",
       " '      66.      Chhichhore(2019)',\n",
       " '      67.      Aruvi(2016)',\n",
       " '      68.      Paan Singh Tomar(2012)',\n",
       " '      69.      Iruvar(1997)',\n",
       " '      70.      Swades: We, the People(2004)',\n",
       " '      71.      Pyaasa(1957)',\n",
       " '      72.      Munna Bhai M.B.B.S.(2003)',\n",
       " '      73.      Chak De! India(2007)',\n",
       " '      74.      Spadikam(1995)',\n",
       " '      75.      Uri: The Surgical Strike(2019)',\n",
       " '      76.      Mudhalvan(1999)',\n",
       " '      77.      Black(2005)',\n",
       " '      78.      Jo Jeeta Wohi Sikandar(1992)',\n",
       " '      79.      Hera Pheri(2000)',\n",
       " '      80.      Dhuruvangal Pathinaaru(2016)',\n",
       " '      81.      Lagaan: Once Upon a Time in India(2001)',\n",
       " '      82.      Papanasam(2015)',\n",
       " '      83.      Pudhu Pettai(2006)',\n",
       " '      84.      PK(2014)',\n",
       " '      85.      Queen(2013)',\n",
       " '      86.      Article 15(2019)',\n",
       " '      87.      Talvar(2015)',\n",
       " '      88.      Mandela(2021)',\n",
       " '      89.      Soodhu Kavvum(2013)',\n",
       " '      90.      OMG: Oh My God!(2012)',\n",
       " '      91.      Sarfarosh(1999)',\n",
       " '      92.      Sholay(1975)',\n",
       " '      93.      Udaan(2010)',\n",
       " '      94.      Barfi!(2012)',\n",
       " '      95.      The Legend of Bhagat Singh(2002)',\n",
       " '      96.      Jigarthanda(2014)',\n",
       " '      97.      Kaakkaa Muttai(2014)',\n",
       " '      98.      Kantara(2022)',\n",
       " '      99.      Ustad Hotel(2012)',\n",
       " '      100.      Theeran Adhigaaram Ondru(2017)']"
      ]
     },
     "execution_count": 17,
     "metadata": {},
     "output_type": "execute_result"
    }
   ],
   "source": [
    "movie_names=[]\n",
    "\n",
    "for i in soup2.find_all(\"td\",class_=\"titleColumn\"):\n",
    "    movie_names.append(i.text.replace(\"\\n\",\"\"))\n",
    "movie_names[:100]"
   ]
  },
  {
   "cell_type": "code",
   "execution_count": 18,
   "id": "15e1fdfd",
   "metadata": {},
   "outputs": [
    {
     "data": {
      "text/plain": [
       "['8.5',\n",
       " '8.4',\n",
       " '8.4',\n",
       " '8.4',\n",
       " '8.4',\n",
       " '8.4',\n",
       " '8.4',\n",
       " '8.4',\n",
       " '8.4',\n",
       " '8.4',\n",
       " '8.4',\n",
       " '8.3',\n",
       " '8.3',\n",
       " '8.3',\n",
       " '8.3',\n",
       " '8.3',\n",
       " '8.3',\n",
       " '8.3',\n",
       " '8.3',\n",
       " '8.3',\n",
       " '8.3',\n",
       " '8.3',\n",
       " '8.2',\n",
       " '8.2',\n",
       " '8.2',\n",
       " '8.2',\n",
       " '8.2',\n",
       " '8.2',\n",
       " '8.2',\n",
       " '8.2',\n",
       " '8.2',\n",
       " '8.2',\n",
       " '8.2',\n",
       " '8.2',\n",
       " '8.2',\n",
       " '8.2',\n",
       " '8.2',\n",
       " '8.2',\n",
       " '8.2',\n",
       " '8.2',\n",
       " '8.1',\n",
       " '8.1',\n",
       " '8.1',\n",
       " '8.1',\n",
       " '8.1',\n",
       " '8.1',\n",
       " '8.1',\n",
       " '8.1',\n",
       " '8.1',\n",
       " '8.1',\n",
       " '8.1',\n",
       " '8.1',\n",
       " '8.1',\n",
       " '8.1',\n",
       " '8.1',\n",
       " '8.1',\n",
       " '8.1',\n",
       " '8.1',\n",
       " '8.1',\n",
       " '8.1',\n",
       " '8.1',\n",
       " '8.1',\n",
       " '8.1',\n",
       " '8.1',\n",
       " '8.1',\n",
       " '8.1',\n",
       " '8.1',\n",
       " '8.1',\n",
       " '8.1',\n",
       " '8.1',\n",
       " '8.1',\n",
       " '8.1',\n",
       " '8.1',\n",
       " '8.1',\n",
       " '8.1',\n",
       " '8.1',\n",
       " '8.1',\n",
       " '8.1',\n",
       " '8.1',\n",
       " '8.1',\n",
       " '8.1',\n",
       " '8.1',\n",
       " '8.1',\n",
       " '8.0',\n",
       " '8.0',\n",
       " '8.0',\n",
       " '8.0',\n",
       " '8.0',\n",
       " '8.0',\n",
       " '8.0',\n",
       " '8.0',\n",
       " '8.0',\n",
       " '8.0',\n",
       " '8.0',\n",
       " '8.0',\n",
       " '8.0',\n",
       " '8.0',\n",
       " '8.0',\n",
       " '8.0',\n",
       " '8.0']"
      ]
     },
     "execution_count": 18,
     "metadata": {},
     "output_type": "execute_result"
    }
   ],
   "source": [
    "movie_ratings=[]\n",
    "\n",
    "for i in soup2.find_all(\"td\",class_=\"ratingColumn imdbRating\"):\n",
    "    movie_ratings.append(i.text.replace(\"\\n\",\"\"))\n",
    "movie_ratings[:100]"
   ]
  },
  {
   "cell_type": "code",
   "execution_count": 19,
   "id": "f9b95c33",
   "metadata": {},
   "outputs": [
    {
     "data": {
      "text/plain": [
       "['(1993)',\n",
       " '(2022)',\n",
       " '(1979)',\n",
       " '(1987)',\n",
       " '(2003)',\n",
       " '(2022)',\n",
       " '(2021)',\n",
       " '(2018)',\n",
       " '(2009)',\n",
       " '(1993)',\n",
       " '(1959)',\n",
       " '(2021)',\n",
       " '(2004)',\n",
       " '(2020)',\n",
       " '(2019)',\n",
       " '(2007)',\n",
       " '(2018)',\n",
       " '(1989)',\n",
       " '(2016)',\n",
       " '(2019)',\n",
       " '(2019)',\n",
       " '(1957)',\n",
       " '(2018)',\n",
       " '(2016)',\n",
       " '(2019)',\n",
       " '(1992)',\n",
       " '(2021)',\n",
       " '(2015)',\n",
       " '(2022)',\n",
       " '(1991)',\n",
       " '(2021)',\n",
       " '(1955)',\n",
       " '(1987)',\n",
       " '(1983)',\n",
       " '(2015)',\n",
       " '(2013)',\n",
       " '(2021)',\n",
       " '(1956)',\n",
       " '(2018)',\n",
       " '(2006)',\n",
       " '(2018)',\n",
       " '(2005)',\n",
       " '(1975)',\n",
       " '(2018)',\n",
       " '(2018)',\n",
       " '(2012)',\n",
       " '(2015)',\n",
       " '(2014)',\n",
       " '(1998)',\n",
       " '(2015)',\n",
       " '(2019)',\n",
       " '(1993)',\n",
       " '(2019)',\n",
       " '(2013)',\n",
       " '(2018)',\n",
       " '(2018)',\n",
       " '(2017)',\n",
       " '(1965)',\n",
       " '(1988)',\n",
       " '(2002)',\n",
       " '(2011)',\n",
       " '(2016)',\n",
       " '(2012)',\n",
       " '(2022)',\n",
       " '(2022)',\n",
       " '(2019)',\n",
       " '(2016)',\n",
       " '(2012)',\n",
       " '(1997)',\n",
       " '(2004)',\n",
       " '(1957)',\n",
       " '(2003)',\n",
       " '(2007)',\n",
       " '(1995)',\n",
       " '(2019)',\n",
       " '(1999)',\n",
       " '(2005)',\n",
       " '(1992)',\n",
       " '(2000)',\n",
       " '(2016)',\n",
       " '(2001)',\n",
       " '(2015)',\n",
       " '(2006)',\n",
       " '(2014)',\n",
       " '(2013)',\n",
       " '(2019)',\n",
       " '(2015)',\n",
       " '(2021)',\n",
       " '(2013)',\n",
       " '(2012)',\n",
       " '(1999)',\n",
       " '(1975)',\n",
       " '(2010)',\n",
       " '(2012)',\n",
       " '(2002)',\n",
       " '(2014)',\n",
       " '(2014)',\n",
       " '(2022)',\n",
       " '(2012)',\n",
       " '(2017)']"
      ]
     },
     "execution_count": 19,
     "metadata": {},
     "output_type": "execute_result"
    }
   ],
   "source": [
    "movie_year=[]\n",
    "\n",
    "for i in soup2.find_all(\"span\",class_=\"secondaryInfo\"):\n",
    "    movie_year.append(i.text.replace(\"\\n\",\"\"))\n",
    "movie_year[:100]"
   ]
  },
  {
   "cell_type": "code",
   "execution_count": 20,
   "id": "66841056",
   "metadata": {},
   "outputs": [
    {
     "data": {
      "text/html": [
       "<style type=\"text/css\">\n",
       "</style>\n",
       "<table id=\"T_0c0d5\">\n",
       "  <thead>\n",
       "    <tr>\n",
       "      <th id=\"T_0c0d5_level0_col0\" class=\"col_heading level0 col0\" >movie_names</th>\n",
       "      <th id=\"T_0c0d5_level0_col1\" class=\"col_heading level0 col1\" >movie_ratings</th>\n",
       "      <th id=\"T_0c0d5_level0_col2\" class=\"col_heading level0 col2\" >Movie_year</th>\n",
       "    </tr>\n",
       "  </thead>\n",
       "  <tbody>\n",
       "    <tr>\n",
       "      <td id=\"T_0c0d5_row0_col0\" class=\"data row0 col0\" >      1.      Ramayana: The Legend of Prince Rama(1993)</td>\n",
       "      <td id=\"T_0c0d5_row0_col1\" class=\"data row0 col1\" >8.5</td>\n",
       "      <td id=\"T_0c0d5_row0_col2\" class=\"data row0 col2\" >(1994)</td>\n",
       "    </tr>\n",
       "    <tr>\n",
       "      <td id=\"T_0c0d5_row1_col0\" class=\"data row1 col0\" >      2.      Rocketry: The Nambi Effect(2022)</td>\n",
       "      <td id=\"T_0c0d5_row1_col1\" class=\"data row1 col1\" >8.4</td>\n",
       "      <td id=\"T_0c0d5_row1_col2\" class=\"data row1 col2\" >(1972)</td>\n",
       "    </tr>\n",
       "    <tr>\n",
       "      <td id=\"T_0c0d5_row2_col0\" class=\"data row2 col0\" >      3.      Golmaal(1979)</td>\n",
       "      <td id=\"T_0c0d5_row2_col1\" class=\"data row2 col1\" >8.4</td>\n",
       "      <td id=\"T_0c0d5_row2_col2\" class=\"data row2 col2\" >(2008)</td>\n",
       "    </tr>\n",
       "    <tr>\n",
       "      <td id=\"T_0c0d5_row3_col0\" class=\"data row3 col0\" >      4.      Nayakan(1987)</td>\n",
       "      <td id=\"T_0c0d5_row3_col1\" class=\"data row3 col1\" >8.4</td>\n",
       "      <td id=\"T_0c0d5_row3_col2\" class=\"data row3 col2\" >(2003)</td>\n",
       "    </tr>\n",
       "    <tr>\n",
       "      <td id=\"T_0c0d5_row4_col0\" class=\"data row4 col0\" >      5.      Anbe Sivam(2003)</td>\n",
       "      <td id=\"T_0c0d5_row4_col1\" class=\"data row4 col1\" >8.4</td>\n",
       "      <td id=\"T_0c0d5_row4_col2\" class=\"data row4 col2\" >(1974)</td>\n",
       "    </tr>\n",
       "    <tr>\n",
       "      <td id=\"T_0c0d5_row5_col0\" class=\"data row5 col0\" >      6.      777 Charlie(2022)</td>\n",
       "      <td id=\"T_0c0d5_row5_col1\" class=\"data row5 col1\" >8.4</td>\n",
       "      <td id=\"T_0c0d5_row5_col2\" class=\"data row5 col2\" >(1993)</td>\n",
       "    </tr>\n",
       "    <tr>\n",
       "      <td id=\"T_0c0d5_row6_col0\" class=\"data row6 col0\" >      7.      Jai Bhim(2021)</td>\n",
       "      <td id=\"T_0c0d5_row6_col1\" class=\"data row6 col1\" >8.4</td>\n",
       "      <td id=\"T_0c0d5_row6_col2\" class=\"data row6 col2\" >(1957)</td>\n",
       "    </tr>\n",
       "    <tr>\n",
       "      <td id=\"T_0c0d5_row7_col0\" class=\"data row7 col0\" >      8.      Pariyerum Perumal(2018)</td>\n",
       "      <td id=\"T_0c0d5_row7_col1\" class=\"data row7 col1\" >8.4</td>\n",
       "      <td id=\"T_0c0d5_row7_col2\" class=\"data row7 col2\" >(1994)</td>\n",
       "    </tr>\n",
       "    <tr>\n",
       "      <td id=\"T_0c0d5_row8_col0\" class=\"data row8 col0\" >      9.      3 Idiots(2009)</td>\n",
       "      <td id=\"T_0c0d5_row8_col1\" class=\"data row8 col1\" >8.4</td>\n",
       "      <td id=\"T_0c0d5_row8_col2\" class=\"data row8 col2\" >(2022)</td>\n",
       "    </tr>\n",
       "    <tr>\n",
       "      <td id=\"T_0c0d5_row9_col0\" class=\"data row9 col0\" >      10.      Manichitrathazhu(1993)</td>\n",
       "      <td id=\"T_0c0d5_row9_col1\" class=\"data row9 col1\" >8.4</td>\n",
       "      <td id=\"T_0c0d5_row9_col2\" class=\"data row9 col2\" >(2001)</td>\n",
       "    </tr>\n",
       "    <tr>\n",
       "      <td id=\"T_0c0d5_row10_col0\" class=\"data row10 col0\" >      11.      Apur Sansar(1959)</td>\n",
       "      <td id=\"T_0c0d5_row10_col1\" class=\"data row10 col1\" >8.4</td>\n",
       "      <td id=\"T_0c0d5_row10_col2\" class=\"data row10 col2\" >(1999)</td>\n",
       "    </tr>\n",
       "    <tr>\n",
       "      <td id=\"T_0c0d5_row11_col0\" class=\"data row11 col0\" >      12.      #Home(2021)</td>\n",
       "      <td id=\"T_0c0d5_row11_col1\" class=\"data row11 col1\" >8.3</td>\n",
       "      <td id=\"T_0c0d5_row11_col2\" class=\"data row11 col2\" >(2010)</td>\n",
       "    </tr>\n",
       "    <tr>\n",
       "      <td id=\"T_0c0d5_row12_col0\" class=\"data row12 col0\" >      13.      Black Friday(2004)</td>\n",
       "      <td id=\"T_0c0d5_row12_col1\" class=\"data row12 col1\" >8.3</td>\n",
       "      <td id=\"T_0c0d5_row12_col2\" class=\"data row12 col2\" >(1994)</td>\n",
       "    </tr>\n",
       "    <tr>\n",
       "      <td id=\"T_0c0d5_row13_col0\" class=\"data row13 col0\" >      14.      Soorarai Pottru(2020)</td>\n",
       "      <td id=\"T_0c0d5_row13_col1\" class=\"data row13 col1\" >8.3</td>\n",
       "      <td id=\"T_0c0d5_row13_col2\" class=\"data row13 col2\" >(2002)</td>\n",
       "    </tr>\n",
       "    <tr>\n",
       "      <td id=\"T_0c0d5_row14_col0\" class=\"data row14 col0\" >      15.      Kumbalangi Nights(2019)</td>\n",
       "      <td id=\"T_0c0d5_row14_col1\" class=\"data row14 col1\" >8.3</td>\n",
       "      <td id=\"T_0c0d5_row14_col2\" class=\"data row14 col2\" >(1966)</td>\n",
       "    </tr>\n",
       "    <tr>\n",
       "      <td id=\"T_0c0d5_row15_col0\" class=\"data row15 col0\" >      16.      Taare Zameen Par(2007)</td>\n",
       "      <td id=\"T_0c0d5_row15_col1\" class=\"data row15 col1\" >8.3</td>\n",
       "      <td id=\"T_0c0d5_row15_col2\" class=\"data row15 col2\" >(2021)</td>\n",
       "    </tr>\n",
       "    <tr>\n",
       "      <td id=\"T_0c0d5_row16_col0\" class=\"data row16 col0\" >      17.      C/o Kancharapalem(2018)</td>\n",
       "      <td id=\"T_0c0d5_row16_col1\" class=\"data row16 col1\" >8.3</td>\n",
       "      <td id=\"T_0c0d5_row16_col2\" class=\"data row16 col2\" >(2022)</td>\n",
       "    </tr>\n",
       "    <tr>\n",
       "      <td id=\"T_0c0d5_row17_col0\" class=\"data row17 col0\" >      18.      Kireedam(1989)</td>\n",
       "      <td id=\"T_0c0d5_row17_col1\" class=\"data row17 col1\" >8.3</td>\n",
       "      <td id=\"T_0c0d5_row17_col2\" class=\"data row17 col2\" >(1990)</td>\n",
       "    </tr>\n",
       "    <tr>\n",
       "      <td id=\"T_0c0d5_row18_col0\" class=\"data row18 col0\" >      19.      Dangal(2016)</td>\n",
       "      <td id=\"T_0c0d5_row18_col1\" class=\"data row18 col1\" >8.3</td>\n",
       "      <td id=\"T_0c0d5_row18_col2\" class=\"data row18 col2\" >(1999)</td>\n",
       "    </tr>\n",
       "    <tr>\n",
       "      <td id=\"T_0c0d5_row19_col0\" class=\"data row19 col0\" >      20.      Kaithi(2019)</td>\n",
       "      <td id=\"T_0c0d5_row19_col1\" class=\"data row19 col1\" >8.3</td>\n",
       "      <td id=\"T_0c0d5_row19_col2\" class=\"data row19 col2\" >(1975)</td>\n",
       "    </tr>\n",
       "    <tr>\n",
       "      <td id=\"T_0c0d5_row20_col0\" class=\"data row20 col0\" >      21.      Jersey(2019)</td>\n",
       "      <td id=\"T_0c0d5_row20_col1\" class=\"data row20 col1\" >8.3</td>\n",
       "      <td id=\"T_0c0d5_row20_col2\" class=\"data row20 col2\" >(1980)</td>\n",
       "    </tr>\n",
       "    <tr>\n",
       "      <td id=\"T_0c0d5_row21_col0\" class=\"data row21 col0\" >      22.      Maya Bazaar(1957)</td>\n",
       "      <td id=\"T_0c0d5_row21_col1\" class=\"data row21 col1\" >8.3</td>\n",
       "      <td id=\"T_0c0d5_row21_col2\" class=\"data row21 col2\" >(2020)</td>\n",
       "    </tr>\n",
       "    <tr>\n",
       "      <td id=\"T_0c0d5_row22_col0\" class=\"data row22 col0\" >      23.      96(2018)</td>\n",
       "      <td id=\"T_0c0d5_row22_col1\" class=\"data row22 col1\" >8.2</td>\n",
       "      <td id=\"T_0c0d5_row22_col2\" class=\"data row22 col2\" >(2014)</td>\n",
       "    </tr>\n",
       "    <tr>\n",
       "      <td id=\"T_0c0d5_row23_col0\" class=\"data row23 col0\" >      24.      Natsamrat(2016)</td>\n",
       "      <td id=\"T_0c0d5_row23_col1\" class=\"data row23 col1\" >8.2</td>\n",
       "      <td id=\"T_0c0d5_row23_col2\" class=\"data row23 col2\" >(1946)</td>\n",
       "    </tr>\n",
       "    <tr>\n",
       "      <td id=\"T_0c0d5_row24_col0\" class=\"data row24 col0\" >      25.      Asuran(2019)</td>\n",
       "      <td id=\"T_0c0d5_row24_col1\" class=\"data row24 col1\" >8.2</td>\n",
       "      <td id=\"T_0c0d5_row24_col2\" class=\"data row24 col2\" >(1995)</td>\n",
       "    </tr>\n",
       "    <tr>\n",
       "      <td id=\"T_0c0d5_row25_col0\" class=\"data row25 col0\" >      26.      Thevar Magan(1992)</td>\n",
       "      <td id=\"T_0c0d5_row25_col1\" class=\"data row25 col1\" >8.2</td>\n",
       "      <td id=\"T_0c0d5_row25_col2\" class=\"data row25 col2\" >(1977)</td>\n",
       "    </tr>\n",
       "    <tr>\n",
       "      <td id=\"T_0c0d5_row26_col0\" class=\"data row26 col0\" >      27.      Drishyam 2(2021)</td>\n",
       "      <td id=\"T_0c0d5_row26_col1\" class=\"data row26 col1\" >8.2</td>\n",
       "      <td id=\"T_0c0d5_row26_col2\" class=\"data row26 col2\" >(1991)</td>\n",
       "    </tr>\n",
       "    <tr>\n",
       "      <td id=\"T_0c0d5_row27_col0\" class=\"data row27 col0\" >      28.      Visaaranai(2015)</td>\n",
       "      <td id=\"T_0c0d5_row27_col1\" class=\"data row27 col1\" >8.2</td>\n",
       "      <td id=\"T_0c0d5_row27_col2\" class=\"data row27 col2\" >(1999)</td>\n",
       "    </tr>\n",
       "    <tr>\n",
       "      <td id=\"T_0c0d5_row28_col0\" class=\"data row28 col0\" >      29.      Sita Ramam(2022)</td>\n",
       "      <td id=\"T_0c0d5_row28_col1\" class=\"data row28 col1\" >8.2</td>\n",
       "      <td id=\"T_0c0d5_row28_col2\" class=\"data row28 col2\" >(1991)</td>\n",
       "    </tr>\n",
       "    <tr>\n",
       "      <td id=\"T_0c0d5_row29_col0\" class=\"data row29 col0\" >      30.      Thalapathi(1991)</td>\n",
       "      <td id=\"T_0c0d5_row29_col1\" class=\"data row29 col1\" >8.2</td>\n",
       "      <td id=\"T_0c0d5_row29_col2\" class=\"data row29 col2\" >(1998)</td>\n",
       "    </tr>\n",
       "    <tr>\n",
       "      <td id=\"T_0c0d5_row30_col0\" class=\"data row30 col0\" >      31.      Sarpatta Parambarai(2021)</td>\n",
       "      <td id=\"T_0c0d5_row30_col1\" class=\"data row30 col1\" >8.2</td>\n",
       "      <td id=\"T_0c0d5_row30_col2\" class=\"data row30 col2\" >(2002)</td>\n",
       "    </tr>\n",
       "    <tr>\n",
       "      <td id=\"T_0c0d5_row31_col0\" class=\"data row31 col0\" >      32.      Pather Panchali(1955)</td>\n",
       "      <td id=\"T_0c0d5_row31_col1\" class=\"data row31 col1\" >8.2</td>\n",
       "      <td id=\"T_0c0d5_row31_col2\" class=\"data row31 col2\" >(2001)</td>\n",
       "    </tr>\n",
       "    <tr>\n",
       "      <td id=\"T_0c0d5_row32_col0\" class=\"data row32 col0\" >      33.      Nadodikkattu(1987)</td>\n",
       "      <td id=\"T_0c0d5_row32_col1\" class=\"data row32 col1\" >8.2</td>\n",
       "      <td id=\"T_0c0d5_row32_col2\" class=\"data row32 col2\" >(1997)</td>\n",
       "    </tr>\n",
       "    <tr>\n",
       "      <td id=\"T_0c0d5_row33_col0\" class=\"data row33 col0\" >      34.      Jaane Bhi Do Yaaro(1983)</td>\n",
       "      <td id=\"T_0c0d5_row33_col1\" class=\"data row33 col1\" >8.2</td>\n",
       "      <td id=\"T_0c0d5_row33_col2\" class=\"data row33 col2\" >(2022)</td>\n",
       "    </tr>\n",
       "    <tr>\n",
       "      <td id=\"T_0c0d5_row34_col0\" class=\"data row34 col0\" >      35.      Thani Oruvan(2015)</td>\n",
       "      <td id=\"T_0c0d5_row34_col1\" class=\"data row34 col1\" >8.2</td>\n",
       "      <td id=\"T_0c0d5_row34_col2\" class=\"data row34 col2\" >(1954)</td>\n",
       "    </tr>\n",
       "    <tr>\n",
       "      <td id=\"T_0c0d5_row35_col0\" class=\"data row35 col0\" >      36.      Drishyam(2013)</td>\n",
       "      <td id=\"T_0c0d5_row35_col1\" class=\"data row35 col1\" >8.2</td>\n",
       "      <td id=\"T_0c0d5_row35_col2\" class=\"data row35 col2\" >(1962)</td>\n",
       "    </tr>\n",
       "    <tr>\n",
       "      <td id=\"T_0c0d5_row36_col0\" class=\"data row36 col0\" >      37.      Sardar Udham(2021)</td>\n",
       "      <td id=\"T_0c0d5_row36_col1\" class=\"data row36 col1\" >8.2</td>\n",
       "      <td id=\"T_0c0d5_row36_col2\" class=\"data row36 col2\" >(2014)</td>\n",
       "    </tr>\n",
       "    <tr>\n",
       "      <td id=\"T_0c0d5_row37_col0\" class=\"data row37 col0\" >      38.      Aparajito(1956)</td>\n",
       "      <td id=\"T_0c0d5_row37_col1\" class=\"data row37 col1\" >8.2</td>\n",
       "      <td id=\"T_0c0d5_row37_col2\" class=\"data row37 col2\" >(1994)</td>\n",
       "    </tr>\n",
       "    <tr>\n",
       "      <td id=\"T_0c0d5_row38_col0\" class=\"data row38 col0\" >      39.      Vada Chennai(2018)</td>\n",
       "      <td id=\"T_0c0d5_row38_col1\" class=\"data row38 col1\" >8.2</td>\n",
       "      <td id=\"T_0c0d5_row38_col2\" class=\"data row38 col2\" >(2019)</td>\n",
       "    </tr>\n",
       "    <tr>\n",
       "      <td id=\"T_0c0d5_row39_col0\" class=\"data row39 col0\" >      40.      Khosla Ka Ghosla!(2006)</td>\n",
       "      <td id=\"T_0c0d5_row39_col1\" class=\"data row39 col1\" >8.2</td>\n",
       "      <td id=\"T_0c0d5_row39_col2\" class=\"data row39 col2\" >(2000)</td>\n",
       "    </tr>\n",
       "    <tr>\n",
       "      <td id=\"T_0c0d5_row40_col0\" class=\"data row40 col0\" >      41.      Ratsasan(2018)</td>\n",
       "      <td id=\"T_0c0d5_row40_col1\" class=\"data row40 col1\" >8.1</td>\n",
       "      <td id=\"T_0c0d5_row40_col2\" class=\"data row40 col2\" >(1985)</td>\n",
       "    </tr>\n",
       "    <tr>\n",
       "      <td id=\"T_0c0d5_row41_col0\" class=\"data row41 col0\" >      42.      Anniyan(2005)</td>\n",
       "      <td id=\"T_0c0d5_row41_col1\" class=\"data row41 col1\" >8.1</td>\n",
       "      <td id=\"T_0c0d5_row41_col2\" class=\"data row41 col2\" >(2006)</td>\n",
       "    </tr>\n",
       "    <tr>\n",
       "      <td id=\"T_0c0d5_row42_col0\" class=\"data row42 col0\" >      43.      Chupke Chupke(1975)</td>\n",
       "      <td id=\"T_0c0d5_row42_col1\" class=\"data row42 col1\" >8.1</td>\n",
       "      <td id=\"T_0c0d5_row42_col2\" class=\"data row42 col2\" >(1979)</td>\n",
       "    </tr>\n",
       "    <tr>\n",
       "      <td id=\"T_0c0d5_row43_col0\" class=\"data row43 col0\" >      44.      Peranbu(2018)</td>\n",
       "      <td id=\"T_0c0d5_row43_col1\" class=\"data row43 col1\" >8.1</td>\n",
       "      <td id=\"T_0c0d5_row43_col2\" class=\"data row43 col2\" >(2006)</td>\n",
       "    </tr>\n",
       "    <tr>\n",
       "      <td id=\"T_0c0d5_row44_col0\" class=\"data row44 col0\" >      45.      Mahanati(2018)</td>\n",
       "      <td id=\"T_0c0d5_row44_col1\" class=\"data row44 col1\" >8.1</td>\n",
       "      <td id=\"T_0c0d5_row44_col2\" class=\"data row44 col2\" >(1979)</td>\n",
       "    </tr>\n",
       "    <tr>\n",
       "      <td id=\"T_0c0d5_row45_col0\" class=\"data row45 col0\" >      46.      Gangs of Wasseypur(2012)</td>\n",
       "      <td id=\"T_0c0d5_row45_col1\" class=\"data row45 col1\" >8.1</td>\n",
       "      <td id=\"T_0c0d5_row45_col2\" class=\"data row45 col2\" >(1995)</td>\n",
       "    </tr>\n",
       "    <tr>\n",
       "      <td id=\"T_0c0d5_row46_col0\" class=\"data row46 col0\" >      47.      Drishyam(2015)</td>\n",
       "      <td id=\"T_0c0d5_row46_col1\" class=\"data row46 col1\" >8.1</td>\n",
       "      <td id=\"T_0c0d5_row46_col2\" class=\"data row46 col2\" >(1998)</td>\n",
       "    </tr>\n",
       "    <tr>\n",
       "      <td id=\"T_0c0d5_row47_col0\" class=\"data row47 col0\" >      48.      Bangalore Days(2014)</td>\n",
       "      <td id=\"T_0c0d5_row47_col1\" class=\"data row47 col1\" >8.1</td>\n",
       "      <td id=\"T_0c0d5_row47_col2\" class=\"data row47 col2\" >(1994)</td>\n",
       "    </tr>\n",
       "    <tr>\n",
       "      <td id=\"T_0c0d5_row48_col0\" class=\"data row48 col0\" >      49.      Satya(1998)</td>\n",
       "      <td id=\"T_0c0d5_row48_col1\" class=\"data row48 col1\" >8.1</td>\n",
       "      <td id=\"T_0c0d5_row48_col2\" class=\"data row48 col2\" >(2011)</td>\n",
       "    </tr>\n",
       "    <tr>\n",
       "      <td id=\"T_0c0d5_row49_col0\" class=\"data row49 col0\" >      50.      Premam(2015)</td>\n",
       "      <td id=\"T_0c0d5_row49_col1\" class=\"data row49 col1\" >8.1</td>\n",
       "      <td id=\"T_0c0d5_row49_col2\" class=\"data row49 col2\" >(2002)</td>\n",
       "    </tr>\n",
       "    <tr>\n",
       "      <td id=\"T_0c0d5_row50_col0\" class=\"data row50 col0\" >      51.      Agent Sai Srinivasa Athreya(2019)</td>\n",
       "      <td id=\"T_0c0d5_row50_col1\" class=\"data row50 col1\" >8.1</td>\n",
       "      <td id=\"T_0c0d5_row50_col2\" class=\"data row50 col2\" >(1968)</td>\n",
       "    </tr>\n",
       "    <tr>\n",
       "      <td id=\"T_0c0d5_row51_col0\" class=\"data row51 col0\" >      52.      Devasuram(1993)</td>\n",
       "      <td id=\"T_0c0d5_row51_col1\" class=\"data row51 col1\" >8.1</td>\n",
       "      <td id=\"T_0c0d5_row51_col2\" class=\"data row51 col2\" >(1960)</td>\n",
       "    </tr>\n",
       "    <tr>\n",
       "      <td id=\"T_0c0d5_row52_col0\" class=\"data row52 col0\" >      53.      Super Deluxe(2019)</td>\n",
       "      <td id=\"T_0c0d5_row52_col1\" class=\"data row52 col1\" >8.1</td>\n",
       "      <td id=\"T_0c0d5_row52_col2\" class=\"data row52 col2\" >(1942)</td>\n",
       "    </tr>\n",
       "    <tr>\n",
       "      <td id=\"T_0c0d5_row53_col0\" class=\"data row53 col0\" >      54.      Bhaag Milkha Bhaag(2013)</td>\n",
       "      <td id=\"T_0c0d5_row53_col1\" class=\"data row53 col1\" >8.1</td>\n",
       "      <td id=\"T_0c0d5_row53_col2\" class=\"data row53 col2\" >(1988)</td>\n",
       "    </tr>\n",
       "    <tr>\n",
       "      <td id=\"T_0c0d5_row54_col0\" class=\"data row54 col0\" >      55.      Tumbbad(2018)</td>\n",
       "      <td id=\"T_0c0d5_row54_col1\" class=\"data row54 col1\" >8.1</td>\n",
       "      <td id=\"T_0c0d5_row54_col2\" class=\"data row54 col2\" >(1954)</td>\n",
       "    </tr>\n",
       "    <tr>\n",
       "      <td id=\"T_0c0d5_row55_col0\" class=\"data row55 col0\" >      56.      Andhadhun(2018)</td>\n",
       "      <td id=\"T_0c0d5_row55_col1\" class=\"data row55 col1\" >8.1</td>\n",
       "      <td id=\"T_0c0d5_row55_col2\" class=\"data row55 col2\" >(1988)</td>\n",
       "    </tr>\n",
       "    <tr>\n",
       "      <td id=\"T_0c0d5_row56_col0\" class=\"data row56 col0\" >      57.      Vikram Vedha(2017)</td>\n",
       "      <td id=\"T_0c0d5_row56_col1\" class=\"data row56 col1\" >8.1</td>\n",
       "      <td id=\"T_0c0d5_row56_col2\" class=\"data row56 col2\" >(1936)</td>\n",
       "    </tr>\n",
       "    <tr>\n",
       "      <td id=\"T_0c0d5_row57_col0\" class=\"data row57 col0\" >      58.      Guide(1965)</td>\n",
       "      <td id=\"T_0c0d5_row57_col1\" class=\"data row57 col1\" >8.1</td>\n",
       "      <td id=\"T_0c0d5_row57_col2\" class=\"data row57 col2\" >(1931)</td>\n",
       "    </tr>\n",
       "    <tr>\n",
       "      <td id=\"T_0c0d5_row58_col0\" class=\"data row58 col0\" >      59.      Chithram(1988)</td>\n",
       "      <td id=\"T_0c0d5_row58_col1\" class=\"data row58 col1\" >8.1</td>\n",
       "      <td id=\"T_0c0d5_row58_col2\" class=\"data row58 col2\" >(2019)</td>\n",
       "    </tr>\n",
       "    <tr>\n",
       "      <td id=\"T_0c0d5_row59_col0\" class=\"data row59 col0\" >      60.      Kannathil Muthamittal(2002)</td>\n",
       "      <td id=\"T_0c0d5_row59_col1\" class=\"data row59 col1\" >8.1</td>\n",
       "      <td id=\"T_0c0d5_row59_col2\" class=\"data row59 col2\" >(II) (2018)</td>\n",
       "    </tr>\n",
       "    <tr>\n",
       "      <td id=\"T_0c0d5_row60_col0\" class=\"data row60 col0\" >      61.      Zindagi Na Milegi Dobara(2011)</td>\n",
       "      <td id=\"T_0c0d5_row60_col1\" class=\"data row60 col1\" >8.1</td>\n",
       "      <td id=\"T_0c0d5_row60_col2\" class=\"data row60 col2\" >(2019)</td>\n",
       "    </tr>\n",
       "    <tr>\n",
       "      <td id=\"T_0c0d5_row61_col0\" class=\"data row61 col0\" >      62.      Sairat(2016)</td>\n",
       "      <td id=\"T_0c0d5_row61_col1\" class=\"data row61 col1\" >8.1</td>\n",
       "      <td id=\"T_0c0d5_row61_col2\" class=\"data row61 col2\" >(1981)</td>\n",
       "    </tr>\n",
       "    <tr>\n",
       "      <td id=\"T_0c0d5_row62_col0\" class=\"data row62 col0\" >      63.      Shahid(2012)</td>\n",
       "      <td id=\"T_0c0d5_row62_col1\" class=\"data row62 col1\" >8.1</td>\n",
       "      <td id=\"T_0c0d5_row62_col2\" class=\"data row62 col2\" >(I) (2019)</td>\n",
       "    </tr>\n",
       "    <tr>\n",
       "      <td id=\"T_0c0d5_row63_col0\" class=\"data row63 col0\" >      64.      Vikram(2022)</td>\n",
       "      <td id=\"T_0c0d5_row63_col1\" class=\"data row63 col1\" >8.1</td>\n",
       "      <td id=\"T_0c0d5_row63_col2\" class=\"data row63 col2\" >(2012)</td>\n",
       "    </tr>\n",
       "    <tr>\n",
       "      <td id=\"T_0c0d5_row64_col0\" class=\"data row64 col0\" >      65.      Drishyam 2(2022)</td>\n",
       "      <td id=\"T_0c0d5_row64_col1\" class=\"data row64 col1\" >8.1</td>\n",
       "      <td id=\"T_0c0d5_row64_col2\" class=\"data row64 col2\" >(1999)</td>\n",
       "    </tr>\n",
       "    <tr>\n",
       "      <td id=\"T_0c0d5_row65_col0\" class=\"data row65 col0\" >      66.      Chhichhore(2019)</td>\n",
       "      <td id=\"T_0c0d5_row65_col1\" class=\"data row65 col1\" >8.1</td>\n",
       "      <td id=\"T_0c0d5_row65_col2\" class=\"data row65 col2\" >(1995)</td>\n",
       "    </tr>\n",
       "    <tr>\n",
       "      <td id=\"T_0c0d5_row66_col0\" class=\"data row66 col0\" >      67.      Aruvi(2016)</td>\n",
       "      <td id=\"T_0c0d5_row66_col1\" class=\"data row66 col1\" >8.1</td>\n",
       "      <td id=\"T_0c0d5_row66_col2\" class=\"data row66 col2\" >(2012)</td>\n",
       "    </tr>\n",
       "    <tr>\n",
       "      <td id=\"T_0c0d5_row67_col0\" class=\"data row67 col0\" >      68.      Paan Singh Tomar(2012)</td>\n",
       "      <td id=\"T_0c0d5_row67_col1\" class=\"data row67 col1\" >8.1</td>\n",
       "      <td id=\"T_0c0d5_row67_col2\" class=\"data row67 col2\" >(2018)</td>\n",
       "    </tr>\n",
       "    <tr>\n",
       "      <td id=\"T_0c0d5_row68_col0\" class=\"data row68 col0\" >      69.      Iruvar(1997)</td>\n",
       "      <td id=\"T_0c0d5_row68_col1\" class=\"data row68 col1\" >8.1</td>\n",
       "      <td id=\"T_0c0d5_row68_col2\" class=\"data row68 col2\" >(1986)</td>\n",
       "    </tr>\n",
       "    <tr>\n",
       "      <td id=\"T_0c0d5_row69_col0\" class=\"data row69 col0\" >      70.      Swades: We, the People(2004)</td>\n",
       "      <td id=\"T_0c0d5_row69_col1\" class=\"data row69 col1\" >8.1</td>\n",
       "      <td id=\"T_0c0d5_row69_col2\" class=\"data row69 col2\" >(2018)</td>\n",
       "    </tr>\n",
       "    <tr>\n",
       "      <td id=\"T_0c0d5_row70_col0\" class=\"data row70 col0\" >      71.      Pyaasa(1957)</td>\n",
       "      <td id=\"T_0c0d5_row70_col1\" class=\"data row70 col1\" >8.1</td>\n",
       "      <td id=\"T_0c0d5_row70_col2\" class=\"data row70 col2\" >(1980)</td>\n",
       "    </tr>\n",
       "    <tr>\n",
       "      <td id=\"T_0c0d5_row71_col0\" class=\"data row71 col0\" >      72.      Munna Bhai M.B.B.S.(2003)</td>\n",
       "      <td id=\"T_0c0d5_row71_col1\" class=\"data row71 col1\" >8.1</td>\n",
       "      <td id=\"T_0c0d5_row71_col2\" class=\"data row71 col2\" >(2003)</td>\n",
       "    </tr>\n",
       "    <tr>\n",
       "      <td id=\"T_0c0d5_row72_col0\" class=\"data row72 col0\" >      73.      Chak De! India(2007)</td>\n",
       "      <td id=\"T_0c0d5_row72_col1\" class=\"data row72 col1\" >8.1</td>\n",
       "      <td id=\"T_0c0d5_row72_col2\" class=\"data row72 col2\" >(2000)</td>\n",
       "    </tr>\n",
       "    <tr>\n",
       "      <td id=\"T_0c0d5_row73_col0\" class=\"data row73 col0\" >      74.      Spadikam(1995)</td>\n",
       "      <td id=\"T_0c0d5_row73_col1\" class=\"data row73 col1\" >8.1</td>\n",
       "      <td id=\"T_0c0d5_row73_col2\" class=\"data row73 col2\" >(2022)</td>\n",
       "    </tr>\n",
       "    <tr>\n",
       "      <td id=\"T_0c0d5_row74_col0\" class=\"data row74 col0\" >      75.      Uri: The Surgical Strike(2019)</td>\n",
       "      <td id=\"T_0c0d5_row74_col1\" class=\"data row74 col1\" >8.1</td>\n",
       "      <td id=\"T_0c0d5_row74_col2\" class=\"data row74 col2\" >(I) (2017)</td>\n",
       "    </tr>\n",
       "    <tr>\n",
       "      <td id=\"T_0c0d5_row75_col0\" class=\"data row75 col0\" >      76.      Mudhalvan(1999)</td>\n",
       "      <td id=\"T_0c0d5_row75_col1\" class=\"data row75 col1\" >8.1</td>\n",
       "      <td id=\"T_0c0d5_row75_col2\" class=\"data row75 col2\" >(2020)</td>\n",
       "    </tr>\n",
       "    <tr>\n",
       "      <td id=\"T_0c0d5_row76_col0\" class=\"data row76 col0\" >      77.      Black(2005)</td>\n",
       "      <td id=\"T_0c0d5_row76_col1\" class=\"data row76 col1\" >8.1</td>\n",
       "      <td id=\"T_0c0d5_row76_col2\" class=\"data row76 col2\" >(1984)</td>\n",
       "    </tr>\n",
       "    <tr>\n",
       "      <td id=\"T_0c0d5_row77_col0\" class=\"data row77 col0\" >      78.      Jo Jeeta Wohi Sikandar(1992)</td>\n",
       "      <td id=\"T_0c0d5_row77_col1\" class=\"data row77 col1\" >8.1</td>\n",
       "      <td id=\"T_0c0d5_row77_col2\" class=\"data row77 col2\" >(1985)</td>\n",
       "    </tr>\n",
       "    <tr>\n",
       "      <td id=\"T_0c0d5_row78_col0\" class=\"data row78 col0\" >      79.      Hera Pheri(2000)</td>\n",
       "      <td id=\"T_0c0d5_row78_col1\" class=\"data row78 col1\" >8.1</td>\n",
       "      <td id=\"T_0c0d5_row78_col2\" class=\"data row78 col2\" >(2016)</td>\n",
       "    </tr>\n",
       "    <tr>\n",
       "      <td id=\"T_0c0d5_row79_col0\" class=\"data row79 col0\" >      80.      Dhuruvangal Pathinaaru(2016)</td>\n",
       "      <td id=\"T_0c0d5_row79_col1\" class=\"data row79 col1\" >8.1</td>\n",
       "      <td id=\"T_0c0d5_row79_col2\" class=\"data row79 col2\" >(2009)</td>\n",
       "    </tr>\n",
       "    <tr>\n",
       "      <td id=\"T_0c0d5_row80_col0\" class=\"data row80 col0\" >      81.      Lagaan: Once Upon a Time in India(2001)</td>\n",
       "      <td id=\"T_0c0d5_row80_col1\" class=\"data row80 col1\" >8.1</td>\n",
       "      <td id=\"T_0c0d5_row80_col2\" class=\"data row80 col2\" >(2008)</td>\n",
       "    </tr>\n",
       "    <tr>\n",
       "      <td id=\"T_0c0d5_row81_col0\" class=\"data row81 col0\" >      82.      Papanasam(2015)</td>\n",
       "      <td id=\"T_0c0d5_row81_col1\" class=\"data row81 col1\" >8.1</td>\n",
       "      <td id=\"T_0c0d5_row81_col2\" class=\"data row81 col2\" >(2006)</td>\n",
       "    </tr>\n",
       "    <tr>\n",
       "      <td id=\"T_0c0d5_row82_col0\" class=\"data row82 col0\" >      83.      Pudhu Pettai(2006)</td>\n",
       "      <td id=\"T_0c0d5_row82_col1\" class=\"data row82 col1\" >8.1</td>\n",
       "      <td id=\"T_0c0d5_row82_col2\" class=\"data row82 col2\" >(2018)</td>\n",
       "    </tr>\n",
       "    <tr>\n",
       "      <td id=\"T_0c0d5_row83_col0\" class=\"data row83 col0\" >      84.      PK(2014)</td>\n",
       "      <td id=\"T_0c0d5_row83_col1\" class=\"data row83 col1\" >8.0</td>\n",
       "      <td id=\"T_0c0d5_row83_col2\" class=\"data row83 col2\" >(1997)</td>\n",
       "    </tr>\n",
       "    <tr>\n",
       "      <td id=\"T_0c0d5_row84_col0\" class=\"data row84 col0\" >      85.      Queen(2013)</td>\n",
       "      <td id=\"T_0c0d5_row84_col1\" class=\"data row84 col1\" >8.0</td>\n",
       "      <td id=\"T_0c0d5_row84_col2\" class=\"data row84 col2\" >(1964)</td>\n",
       "    </tr>\n",
       "    <tr>\n",
       "      <td id=\"T_0c0d5_row85_col0\" class=\"data row85 col0\" >      86.      Article 15(2019)</td>\n",
       "      <td id=\"T_0c0d5_row85_col1\" class=\"data row85 col1\" >8.0</td>\n",
       "      <td id=\"T_0c0d5_row85_col2\" class=\"data row85 col2\" >(1950)</td>\n",
       "    </tr>\n",
       "    <tr>\n",
       "      <td id=\"T_0c0d5_row86_col0\" class=\"data row86 col0\" >      87.      Talvar(2015)</td>\n",
       "      <td id=\"T_0c0d5_row86_col1\" class=\"data row86 col1\" >8.0</td>\n",
       "      <td id=\"T_0c0d5_row86_col2\" class=\"data row86 col2\" >(1981)</td>\n",
       "    </tr>\n",
       "    <tr>\n",
       "      <td id=\"T_0c0d5_row87_col0\" class=\"data row87 col0\" >      88.      Mandela(2021)</td>\n",
       "      <td id=\"T_0c0d5_row87_col1\" class=\"data row87 col1\" >8.0</td>\n",
       "      <td id=\"T_0c0d5_row87_col2\" class=\"data row87 col2\" >(1957)</td>\n",
       "    </tr>\n",
       "    <tr>\n",
       "      <td id=\"T_0c0d5_row88_col0\" class=\"data row88 col0\" >      89.      Soodhu Kavvum(2013)</td>\n",
       "      <td id=\"T_0c0d5_row88_col1\" class=\"data row88 col1\" >8.0</td>\n",
       "      <td id=\"T_0c0d5_row88_col2\" class=\"data row88 col2\" >(1957)</td>\n",
       "    </tr>\n",
       "    <tr>\n",
       "      <td id=\"T_0c0d5_row89_col0\" class=\"data row89 col0\" >      90.      OMG: Oh My God!(2012)</td>\n",
       "      <td id=\"T_0c0d5_row89_col1\" class=\"data row89 col1\" >8.0</td>\n",
       "      <td id=\"T_0c0d5_row89_col2\" class=\"data row89 col2\" >(2022)</td>\n",
       "    </tr>\n",
       "    <tr>\n",
       "      <td id=\"T_0c0d5_row90_col0\" class=\"data row90 col0\" >      91.      Sarfarosh(1999)</td>\n",
       "      <td id=\"T_0c0d5_row90_col1\" class=\"data row90 col1\" >8.0</td>\n",
       "      <td id=\"T_0c0d5_row90_col2\" class=\"data row90 col2\" >(1940)</td>\n",
       "    </tr>\n",
       "    <tr>\n",
       "      <td id=\"T_0c0d5_row91_col0\" class=\"data row91 col0\" >      92.      Sholay(1975)</td>\n",
       "      <td id=\"T_0c0d5_row91_col1\" class=\"data row91 col1\" >8.0</td>\n",
       "      <td id=\"T_0c0d5_row91_col2\" class=\"data row91 col2\" >(1963)</td>\n",
       "    </tr>\n",
       "    <tr>\n",
       "      <td id=\"T_0c0d5_row92_col0\" class=\"data row92 col0\" >      93.      Udaan(2010)</td>\n",
       "      <td id=\"T_0c0d5_row92_col1\" class=\"data row92 col1\" >8.0</td>\n",
       "      <td id=\"T_0c0d5_row92_col2\" class=\"data row92 col2\" >(2021)</td>\n",
       "    </tr>\n",
       "    <tr>\n",
       "      <td id=\"T_0c0d5_row93_col0\" class=\"data row93 col0\" >      94.      Barfi!(2012)</td>\n",
       "      <td id=\"T_0c0d5_row93_col1\" class=\"data row93 col1\" >8.0</td>\n",
       "      <td id=\"T_0c0d5_row93_col2\" class=\"data row93 col2\" >(2021)</td>\n",
       "    </tr>\n",
       "    <tr>\n",
       "      <td id=\"T_0c0d5_row94_col0\" class=\"data row94 col0\" >      95.      The Legend of Bhagat Singh(2002)</td>\n",
       "      <td id=\"T_0c0d5_row94_col1\" class=\"data row94 col1\" >8.0</td>\n",
       "      <td id=\"T_0c0d5_row94_col2\" class=\"data row94 col2\" >(2021)</td>\n",
       "    </tr>\n",
       "    <tr>\n",
       "      <td id=\"T_0c0d5_row95_col0\" class=\"data row95 col0\" >      96.      Jigarthanda(2014)</td>\n",
       "      <td id=\"T_0c0d5_row95_col1\" class=\"data row95 col1\" >8.0</td>\n",
       "      <td id=\"T_0c0d5_row95_col2\" class=\"data row95 col2\" >(2019)</td>\n",
       "    </tr>\n",
       "    <tr>\n",
       "      <td id=\"T_0c0d5_row96_col0\" class=\"data row96 col0\" >      97.      Kaakkaa Muttai(2014)</td>\n",
       "      <td id=\"T_0c0d5_row96_col1\" class=\"data row96 col1\" >8.0</td>\n",
       "      <td id=\"T_0c0d5_row96_col2\" class=\"data row96 col2\" >(2022)</td>\n",
       "    </tr>\n",
       "    <tr>\n",
       "      <td id=\"T_0c0d5_row97_col0\" class=\"data row97 col0\" >      98.      Kantara(2022)</td>\n",
       "      <td id=\"T_0c0d5_row97_col1\" class=\"data row97 col1\" >8.0</td>\n",
       "      <td id=\"T_0c0d5_row97_col2\" class=\"data row97 col2\" >(1997)</td>\n",
       "    </tr>\n",
       "    <tr>\n",
       "      <td id=\"T_0c0d5_row98_col0\" class=\"data row98 col0\" >      99.      Ustad Hotel(2012)</td>\n",
       "      <td id=\"T_0c0d5_row98_col1\" class=\"data row98 col1\" >8.0</td>\n",
       "      <td id=\"T_0c0d5_row98_col2\" class=\"data row98 col2\" >(1995)</td>\n",
       "    </tr>\n",
       "    <tr>\n",
       "      <td id=\"T_0c0d5_row99_col0\" class=\"data row99 col0\" >      100.      Theeran Adhigaaram Ondru(2017)</td>\n",
       "      <td id=\"T_0c0d5_row99_col1\" class=\"data row99 col1\" >8.0</td>\n",
       "      <td id=\"T_0c0d5_row99_col2\" class=\"data row99 col2\" >(2009)</td>\n",
       "    </tr>\n",
       "  </tbody>\n",
       "</table>\n"
      ],
      "text/plain": [
       "<pandas.io.formats.style.Styler at 0xaa91460>"
      ]
     },
     "execution_count": 20,
     "metadata": {},
     "output_type": "execute_result"
    }
   ],
   "source": [
    "# Making DataFrame for top 100 Indian Movies\n",
    "\n",
    "import pandas as pd \n",
    "IMDB_top_rated_100_Indian_movies=pd.DataFrame({'movie_names':movie_names[:100],'movie_ratings':movie_ratings[:100],'Movie_year':Movie_year[:100]})\n",
    "IMDB_top_rated_100_Indian_movies=IMDB_top_rated_100_Indian_movies.style.hide(axis='index')\n",
    "IMDB_top_rated_100_Indian_movies"
   ]
  },
  {
   "cell_type": "code",
   "execution_count": 21,
   "id": "0f910cf3",
   "metadata": {},
   "outputs": [],
   "source": [
    "# 4) Write s python program to display list of respected former presidents of India(i.e. Name , Term of office)"
   ]
  },
  {
   "cell_type": "code",
   "execution_count": 22,
   "id": "ddfa5bfc",
   "metadata": {},
   "outputs": [
    {
     "data": {
      "text/plain": [
       "<Response [200]>"
      ]
     },
     "execution_count": 22,
     "metadata": {},
     "output_type": "execute_result"
    }
   ],
   "source": [
    "page=requests.get('https://presidentofindia.nic.in/former-presidents.htm')\n",
    "page"
   ]
  },
  {
   "cell_type": "code",
   "execution_count": 23,
   "id": "d2435144",
   "metadata": {},
   "outputs": [],
   "source": [
    "# Page content\n",
    "\n",
    "soup3=BeautifulSoup(page.content)"
   ]
  },
  {
   "cell_type": "code",
   "execution_count": 24,
   "id": "b36143f1",
   "metadata": {},
   "outputs": [
    {
     "data": {
      "text/plain": [
       "['Shri Ram Nath Kovind (birth - 1945)Term of Office: 25 July, 2017 to 25 July, 2022 https://ramnathkovind.nic.in',\n",
       " 'Shri Pranab Mukherjee (1935-2020)Term of Office: 25 July, 2012 to 25 July, 2017 http://pranabmukherjee.nic.in',\n",
       " 'Smt Pratibha Devisingh Patil (birth - 1934)Term of Office: 25 July, 2007 to 25 July, 2012 http://pratibhapatil.nic.in',\n",
       " 'DR. A.P.J. Abdul Kalam (1931-2015)Term of Office: 25 July, 2002 to 25 July, 2007 http://abdulkalam.nic.in',\n",
       " 'Shri K. R. Narayanan (1920 - 2005)Term of Office: 25 July, 1997 to 25 July, 2002 ',\n",
       " 'Dr Shankar Dayal Sharma (1918-1999)Term of Office: 25 July, 1992 to 25 July, 1997 ',\n",
       " 'Shri R Venkataraman (1910-2009)Term of Office: 25 July, 1987 to 25 July, 1992 ',\n",
       " 'Giani Zail Singh (1916-1994)Term of Office: 25 July, 1982 to 25 July, 1987 ',\n",
       " 'Shri Neelam Sanjiva Reddy (1913-1996)Term of Office: 25 July, 1977 to 25 July, 1982 ',\n",
       " 'Dr. Fakhruddin Ali Ahmed (1905-1977)Term of Office: 24 August, 1974 to 11 February, 1977',\n",
       " 'Shri Varahagiri Venkata Giri (1894-1980)Term of Office: 3 May, 1969 to 20 July, 1969 and 24 August, 1969 to 24 August, 1974',\n",
       " 'Dr. Zakir Husain (1897-1969)Term of Office: 13 May, 1967 to 3 May, 1969',\n",
       " 'Dr. Sarvepalli Radhakrishnan (1888-1975)Term of Office: 13 May, 1962 to 13 May, 1967',\n",
       " 'Dr. Rajendra Prasad (1884-1963) Term of Office: 26 January, 1950 to 13 May, 1962']"
      ]
     },
     "execution_count": 24,
     "metadata": {},
     "output_type": "execute_result"
    }
   ],
   "source": [
    "# Names and Term of Office\n",
    "\n",
    "President_Names_Terms=[]  # empty list for storing\n",
    "\n",
    "for i in soup3.find_all('div',class_=\"presidentListing\"):\n",
    "    President_Names_Terms.append(i.text.replace(\"\\n\",\"\"))\n",
    "President_Names_Terms"
   ]
  },
  {
   "cell_type": "code",
   "execution_count": 25,
   "id": "309baf21",
   "metadata": {},
   "outputs": [],
   "source": [
    "# 5) Write a python program to scrape cricket rankings from icc-cricket.com. You have to scrape:"
   ]
  },
  {
   "cell_type": "code",
   "execution_count": 26,
   "id": "5a7bd754",
   "metadata": {},
   "outputs": [
    {
     "data": {
      "text/plain": [
       "<Response [200]>"
      ]
     },
     "execution_count": 26,
     "metadata": {},
     "output_type": "execute_result"
    }
   ],
   "source": [
    "page=requests.get('https://www.icc-cricket.com/rankings/mens/team-rankings/odi')\n",
    "page"
   ]
  },
  {
   "cell_type": "code",
   "execution_count": 27,
   "id": "2103b023",
   "metadata": {},
   "outputs": [],
   "source": [
    "# Page content\n",
    "\n",
    "soup4=BeautifulSoup(page.content)"
   ]
  },
  {
   "cell_type": "code",
   "execution_count": 28,
   "id": "7a0aecb6",
   "metadata": {},
   "outputs": [],
   "source": [
    "# a) Top 10 ODI teams in men’s cricket along with the records for matches, points and rating."
   ]
  },
  {
   "cell_type": "code",
   "execution_count": 29,
   "id": "a83cd46f",
   "metadata": {},
   "outputs": [
    {
     "data": {
      "text/plain": [
       "['New Zealand',\n",
       " 'England',\n",
       " 'Australia',\n",
       " 'India',\n",
       " 'Pakistan',\n",
       " 'South Africa',\n",
       " 'Bangladesh',\n",
       " 'Sri Lanka',\n",
       " 'Afghanistan',\n",
       " 'West Indies']"
      ]
     },
     "execution_count": 29,
     "metadata": {},
     "output_type": "execute_result"
    }
   ],
   "source": [
    "# Top 10 Team\n",
    "team=[]  # empty list for storing\n",
    "\n",
    "for i in soup4.find_all(\"span\",class_=\"u-hide-phablet\"):\n",
    "    team.append(i.text)\n",
    "team[:10]"
   ]
  },
  {
   "cell_type": "code",
   "execution_count": 30,
   "id": "6fc59286",
   "metadata": {},
   "outputs": [
    {
     "data": {
      "text/plain": [
       "'26'"
      ]
     },
     "execution_count": 30,
     "metadata": {},
     "output_type": "execute_result"
    }
   ],
   "source": [
    "# No of matches for 1st Team i.e New Zealand\n",
    "matches=[]\n",
    "matches=soup4.find(\"td\",class_=\"rankings-block__banner--matches\")\n",
    "matches.text"
   ]
  },
  {
   "cell_type": "code",
   "execution_count": 31,
   "id": "5faf29bc",
   "metadata": {},
   "outputs": [
    {
     "data": {
      "text/plain": [
       "'3,045'"
      ]
     },
     "execution_count": 31,
     "metadata": {},
     "output_type": "execute_result"
    }
   ],
   "source": [
    "# No of points for 1st Team i.e New Zealand\n",
    "\n",
    "Points=[]  # empty list for storing\n",
    "\n",
    "points=soup4.find(\"td\",class_=\"rankings-block__banner--points\")\n",
    "points.text"
   ]
  },
  {
   "cell_type": "code",
   "execution_count": 32,
   "id": "2aa95560",
   "metadata": {},
   "outputs": [
    {
     "name": "stdout",
     "output_type": "stream",
     "text": [
      "117\n"
     ]
    }
   ],
   "source": [
    "# No of rating for 1st Team i.e New Zealand\n",
    "\n",
    "rating=soup4.find(\"td\",class_=\"rankings-block__banner--rating u-text-right\")\n",
    "rating.text.replace(\"\\n\",\"\")\n",
    "print(rating.text.strip())"
   ]
  },
  {
   "cell_type": "code",
   "execution_count": 33,
   "id": "a7413825",
   "metadata": {},
   "outputs": [
    {
     "data": {
      "text/plain": [
       "['2EnglandENG303,400113',\n",
       " '3AustraliaAUS323,572112',\n",
       " '4IndiaIND414,515110',\n",
       " '5PakistanPAK252,649106',\n",
       " '6South AfricaSA242,392100',\n",
       " '7BangladeshBAN333,12995',\n",
       " '8Sri LankaSL342,97688',\n",
       " '9AfghanistanAFG201,41971',\n",
       " '10West IndiesWI412,90271']"
      ]
     },
     "execution_count": 33,
     "metadata": {},
     "output_type": "execute_result"
    }
   ],
   "source": [
    "# No of Matches, Rating and points for the other 9 team along with team names.\n",
    "\n",
    "men_cricket_team_details=[]\n",
    "for i in soup4.find_all('tr',class_=\"table-body\"):\n",
    "    men_cricket_team_details.append(i.text.replace(\"\\n\",\"\"))\n",
    "\n",
    "men_cricket_team_details[:9]"
   ]
  },
  {
   "cell_type": "code",
   "execution_count": 34,
   "id": "8f6950e5",
   "metadata": {},
   "outputs": [],
   "source": [
    "# b) Top 10 ODI Batsmen along with the records of their team and rating."
   ]
  },
  {
   "cell_type": "code",
   "execution_count": 35,
   "id": "116293ee",
   "metadata": {},
   "outputs": [
    {
     "data": {
      "text/plain": [
       "<Response [200]>"
      ]
     },
     "execution_count": 35,
     "metadata": {},
     "output_type": "execute_result"
    }
   ],
   "source": [
    "page=requests.get('https://www.icc-cricket.com/rankings/mens/player-rankings/odi')\n",
    "page"
   ]
  },
  {
   "cell_type": "code",
   "execution_count": 36,
   "id": "43e7000a",
   "metadata": {},
   "outputs": [],
   "source": [
    "# Page content\n",
    "\n",
    "soup4=BeautifulSoup(page.content)"
   ]
  },
  {
   "cell_type": "code",
   "execution_count": 37,
   "id": "20132e27",
   "metadata": {},
   "outputs": [
    {
     "data": {
      "text/plain": [
       "['', 'Babar Azam', '', 'PAK                            891', '']"
      ]
     },
     "execution_count": 37,
     "metadata": {},
     "output_type": "execute_result"
    }
   ],
   "source": [
    "# Top 10 Batsmen\n",
    "\n",
    "# Got the 1st Batsmens Details\n",
    "Batsmen=[]  # empty list for storing\n",
    "\n",
    "for i in soup4.find(\"div\",class_=\"rankings-block__banner--player-info\"):\n",
    "                        \n",
    "    Batsmen.append(i.text.replace(\"\\n\",\"\"))\n",
    "Batsmen\n",
    "            "
   ]
  },
  {
   "cell_type": "code",
   "execution_count": 38,
   "id": "918f8700",
   "metadata": {},
   "outputs": [
    {
     "data": {
      "text/plain": [
       "['Rassie van der Dussen',\n",
       " 'Imam-ul-Haq',\n",
       " 'Quinton de Kock',\n",
       " 'David Warner',\n",
       " 'Virat Kohli',\n",
       " 'Steve Smith',\n",
       " 'Rohit Sharma',\n",
       " 'Jonny Bairstow',\n",
       " 'Fakhar Zaman']"
      ]
     },
     "execution_count": 38,
     "metadata": {},
     "output_type": "execute_result"
    }
   ],
   "source": [
    "# The other 9 ODI top Batsmen Name\n",
    "\n",
    "odi_top_men_batting_player_name=[]  # empty list for storing\n",
    "\n",
    "for i in soup4.find_all(\"td\",class_=\"table-body__cell name\"):\n",
    "                        \n",
    "    odi_top_men_batting_player_name.append(i.text.replace(\"\\n\",\"\"))\n",
    "odi_top_men_batting_player_name[:9]"
   ]
  },
  {
   "cell_type": "code",
   "execution_count": 39,
   "id": "02b5618e",
   "metadata": {},
   "outputs": [
    {
     "data": {
      "text/plain": [
       "['SA', 'PAK', 'SA', 'AUS', 'IND', 'AUS', 'IND', 'ENG', 'PAK']"
      ]
     },
     "execution_count": 39,
     "metadata": {},
     "output_type": "execute_result"
    }
   ],
   "source": [
    "# Odi_top_men_batting_palyer_team_list\n",
    "\n",
    "odi_top_men_batting_palyer_team_list=[]  # empty list for storing\n",
    "\n",
    "for i in soup4.find_all(\"span\",class_=\"table-body__logo-text\"):\n",
    "                        \n",
    "    odi_top_men_batting_palyer_team_list.append(i.text.replace(\"\\n\",\"\"))\n",
    "odi_top_men_batting_palyer_team_list[:9]"
   ]
  },
  {
   "cell_type": "code",
   "execution_count": 40,
   "id": "9d51969e",
   "metadata": {},
   "outputs": [
    {
     "data": {
      "text/plain": [
       "['766', '764', '759', '747', '726', '719', '715', '710', '695']"
      ]
     },
     "execution_count": 40,
     "metadata": {},
     "output_type": "execute_result"
    }
   ],
   "source": [
    "# Odi_top_men_batting_palyer_team_rating\n",
    "\n",
    "odi_top_team_batting_rating=[]  # empty list for storing\n",
    "\n",
    "for i in soup4.find_all(\"td\",class_=\"table-body__cell u-text-right rating\"):\n",
    "    odi_top_team_batting_rating.append(i.text.replace(\"\\n\",\"\"))\n",
    "                        \n",
    "odi_top_team_batting_rating[:9]"
   ]
  },
  {
   "cell_type": "code",
   "execution_count": 42,
   "id": "278d6f7d",
   "metadata": {},
   "outputs": [
    {
     "data": {
      "text/html": [
       "<style type=\"text/css\">\n",
       "</style>\n",
       "<table id=\"T_48300\">\n",
       "  <thead>\n",
       "    <tr>\n",
       "      <th id=\"T_48300_level0_col0\" class=\"col_heading level0 col0\" >odi_top_men_batting_player_name</th>\n",
       "      <th id=\"T_48300_level0_col1\" class=\"col_heading level0 col1\" >odi_top_men_batting_palyer_team_list</th>\n",
       "      <th id=\"T_48300_level0_col2\" class=\"col_heading level0 col2\" >odi_top_men_batting_palyer_team_rating</th>\n",
       "    </tr>\n",
       "  </thead>\n",
       "  <tbody>\n",
       "    <tr>\n",
       "      <td id=\"T_48300_row0_col0\" class=\"data row0 col0\" >Rassie van der Dussen</td>\n",
       "      <td id=\"T_48300_row0_col1\" class=\"data row0 col1\" >SA</td>\n",
       "      <td id=\"T_48300_row0_col2\" class=\"data row0 col2\" >766</td>\n",
       "    </tr>\n",
       "    <tr>\n",
       "      <td id=\"T_48300_row1_col0\" class=\"data row1 col0\" >Imam-ul-Haq</td>\n",
       "      <td id=\"T_48300_row1_col1\" class=\"data row1 col1\" >PAK</td>\n",
       "      <td id=\"T_48300_row1_col2\" class=\"data row1 col2\" >764</td>\n",
       "    </tr>\n",
       "    <tr>\n",
       "      <td id=\"T_48300_row2_col0\" class=\"data row2 col0\" >Quinton de Kock</td>\n",
       "      <td id=\"T_48300_row2_col1\" class=\"data row2 col1\" >SA</td>\n",
       "      <td id=\"T_48300_row2_col2\" class=\"data row2 col2\" >759</td>\n",
       "    </tr>\n",
       "    <tr>\n",
       "      <td id=\"T_48300_row3_col0\" class=\"data row3 col0\" >David Warner</td>\n",
       "      <td id=\"T_48300_row3_col1\" class=\"data row3 col1\" >AUS</td>\n",
       "      <td id=\"T_48300_row3_col2\" class=\"data row3 col2\" >747</td>\n",
       "    </tr>\n",
       "    <tr>\n",
       "      <td id=\"T_48300_row4_col0\" class=\"data row4 col0\" >Virat Kohli</td>\n",
       "      <td id=\"T_48300_row4_col1\" class=\"data row4 col1\" >IND</td>\n",
       "      <td id=\"T_48300_row4_col2\" class=\"data row4 col2\" >726</td>\n",
       "    </tr>\n",
       "    <tr>\n",
       "      <td id=\"T_48300_row5_col0\" class=\"data row5 col0\" >Steve Smith</td>\n",
       "      <td id=\"T_48300_row5_col1\" class=\"data row5 col1\" >AUS</td>\n",
       "      <td id=\"T_48300_row5_col2\" class=\"data row5 col2\" >719</td>\n",
       "    </tr>\n",
       "    <tr>\n",
       "      <td id=\"T_48300_row6_col0\" class=\"data row6 col0\" >Rohit Sharma</td>\n",
       "      <td id=\"T_48300_row6_col1\" class=\"data row6 col1\" >IND</td>\n",
       "      <td id=\"T_48300_row6_col2\" class=\"data row6 col2\" >715</td>\n",
       "    </tr>\n",
       "    <tr>\n",
       "      <td id=\"T_48300_row7_col0\" class=\"data row7 col0\" >Jonny Bairstow</td>\n",
       "      <td id=\"T_48300_row7_col1\" class=\"data row7 col1\" >ENG</td>\n",
       "      <td id=\"T_48300_row7_col2\" class=\"data row7 col2\" >710</td>\n",
       "    </tr>\n",
       "    <tr>\n",
       "      <td id=\"T_48300_row8_col0\" class=\"data row8 col0\" >Fakhar Zaman</td>\n",
       "      <td id=\"T_48300_row8_col1\" class=\"data row8 col1\" >PAK</td>\n",
       "      <td id=\"T_48300_row8_col2\" class=\"data row8 col2\" >695</td>\n",
       "    </tr>\n",
       "  </tbody>\n",
       "</table>\n"
      ],
      "text/plain": [
       "<pandas.io.formats.style.Styler at 0x703be20>"
      ]
     },
     "execution_count": 42,
     "metadata": {},
     "output_type": "execute_result"
    }
   ],
   "source": [
    "# Making DataFrame of the 9 top Batsmen\n",
    "\n",
    "import pandas as pd \n",
    "ODI_TOP_Batsmen=pd.DataFrame({'odi_top_men_batting_player_name':odi_top_men_batting_player_name[:9],'odi_top_men_batting_palyer_team_list':odi_top_men_batting_palyer_team_list[:9],'odi_top_men_batting_palyer_team_rating':odi_top_team_batting_rating[:9]})\n",
    "ODI_TOP_Batsmen=ODI_TOP_Batsmen.style.hide(axis='index')\n",
    "ODI_TOP_Batsmen"
   ]
  },
  {
   "cell_type": "code",
   "execution_count": 43,
   "id": "a0a2f222",
   "metadata": {},
   "outputs": [],
   "source": [
    "# c) Top 10 ODI bowlers along with the records of their team and rating."
   ]
  },
  {
   "cell_type": "code",
   "execution_count": 44,
   "id": "86a47821",
   "metadata": {},
   "outputs": [
    {
     "data": {
      "text/plain": [
       "<Response [200]>"
      ]
     },
     "execution_count": 44,
     "metadata": {},
     "output_type": "execute_result"
    }
   ],
   "source": [
    "page=requests.get('https://www.icc-cricket.com/rankings/mens/player-rankings/odi/bowling')\n",
    "page"
   ]
  },
  {
   "cell_type": "code",
   "execution_count": 45,
   "id": "8f7f194c",
   "metadata": {},
   "outputs": [],
   "source": [
    "# Page content\n",
    "\n",
    "soup4=BeautifulSoup(page.content)"
   ]
  },
  {
   "cell_type": "code",
   "execution_count": 46,
   "id": "91a7d590",
   "metadata": {},
   "outputs": [
    {
     "data": {
      "text/plain": [
       "['Trent Boult']"
      ]
     },
     "execution_count": 46,
     "metadata": {},
     "output_type": "execute_result"
    }
   ],
   "source": [
    "# Top 10 Bowler\n",
    "\n",
    "# Got the 1st Batsmen details\n",
    "\n",
    "Bowler=[]  # empty list for storing\n",
    "\n",
    "for i in soup4.find(\"div\",class_=\"rankings-block__banner--name-large\"):\n",
    "                        \n",
    "    Bowler.append(i.text.replace(\"\\n\",\"\"))\n",
    "Bowler"
   ]
  },
  {
   "cell_type": "code",
   "execution_count": 47,
   "id": "da7f6b04",
   "metadata": {},
   "outputs": [
    {
     "data": {
      "text/plain": [
       "['NZ                    ']"
      ]
     },
     "execution_count": 47,
     "metadata": {},
     "output_type": "execute_result"
    }
   ],
   "source": [
    "# bowler 1 Team\n",
    "\n",
    "bowler_1_team=[]\n",
    "for i in soup4.find_all(\"div\",class_=\"rankings-block__banner--nationality\"):\n",
    "                        \n",
    "    bowler_1_team.append(i.text.replace(\"\\n\",\"\"))\n",
    "bowler_1_team"
   ]
  },
  {
   "cell_type": "code",
   "execution_count": 48,
   "id": "3939d227",
   "metadata": {},
   "outputs": [
    {
     "data": {
      "text/plain": [
       "['744']"
      ]
     },
     "execution_count": 48,
     "metadata": {},
     "output_type": "execute_result"
    }
   ],
   "source": [
    "# bowler 1 Rating\n",
    "\n",
    "bowler_1_rating=[]\n",
    "for i in soup4.find_all(\"div\",class_=\"rankings-block__banner--rating\"):\n",
    "                        \n",
    "    bowler_1_rating.append(i.text.replace(\"\\n\",\"\"))\n",
    "bowler_1_rating"
   ]
  },
  {
   "cell_type": "code",
   "execution_count": 49,
   "id": "cd8c8d4f",
   "metadata": {},
   "outputs": [
    {
     "data": {
      "text/html": [
       "<style type=\"text/css\">\n",
       "</style>\n",
       "<table id=\"T_59f6f\">\n",
       "  <thead>\n",
       "    <tr>\n",
       "      <th id=\"T_59f6f_level0_col0\" class=\"col_heading level0 col0\" >Bowler</th>\n",
       "      <th id=\"T_59f6f_level0_col1\" class=\"col_heading level0 col1\" >bowler_1_team</th>\n",
       "      <th id=\"T_59f6f_level0_col2\" class=\"col_heading level0 col2\" >bowler_1_rating</th>\n",
       "    </tr>\n",
       "  </thead>\n",
       "  <tbody>\n",
       "    <tr>\n",
       "      <td id=\"T_59f6f_row0_col0\" class=\"data row0 col0\" >Trent Boult</td>\n",
       "      <td id=\"T_59f6f_row0_col1\" class=\"data row0 col1\" >NZ                    </td>\n",
       "      <td id=\"T_59f6f_row0_col2\" class=\"data row0 col2\" >744</td>\n",
       "    </tr>\n",
       "  </tbody>\n",
       "</table>\n"
      ],
      "text/plain": [
       "<pandas.io.formats.style.Styler at 0x704a0e8>"
      ]
     },
     "execution_count": 49,
     "metadata": {},
     "output_type": "execute_result"
    }
   ],
   "source": [
    "import pandas as pd \n",
    "Top_1_bowler_ODI=pd.DataFrame({'Bowler':Bowler[:1],'bowler_1_team':bowler_1_team[:1],'bowler_1_rating':bowler_1_rating[:1]})\n",
    "Top_1_bowler_ODI=Top_1_bowler_ODI.style.hide(axis='index')\n",
    "Top_1_bowler_ODI"
   ]
  },
  {
   "cell_type": "code",
   "execution_count": 50,
   "id": "7c0b59d5",
   "metadata": {},
   "outputs": [
    {
     "data": {
      "text/plain": [
       "['Josh Hazlewood',\n",
       " 'Mitchell Starc',\n",
       " 'Rashid Khan',\n",
       " 'Matt Henry',\n",
       " 'Adam Zampa',\n",
       " 'Shaheen Afridi',\n",
       " 'Shakib Al Hasan',\n",
       " 'Mustafizur Rahman',\n",
       " 'Mujeeb Ur Rahman']"
      ]
     },
     "execution_count": 50,
     "metadata": {},
     "output_type": "execute_result"
    }
   ],
   "source": [
    "# Remaining 9 Bowler's Name\n",
    "\n",
    "Bowler_details=[]  # empty list for storing\n",
    "\n",
    "for i in soup4.find_all(\"td\",class_=\"table-body__cell rankings-table__name name\"):\n",
    "                            \n",
    "    Bowler_details.append(i.text.replace(\"\\n\",\"\"))\n",
    "Bowler_details[:9]"
   ]
  },
  {
   "cell_type": "code",
   "execution_count": 54,
   "id": "bc94c1eb",
   "metadata": {},
   "outputs": [
    {
     "data": {
      "text/plain": [
       "['AUS', 'AUS', 'AFG', 'NZ', 'AUS', 'PAK', 'BAN', 'BAN', 'AFG']"
      ]
     },
     "execution_count": 54,
     "metadata": {},
     "output_type": "execute_result"
    }
   ],
   "source": [
    "# Remaining 9 Bowler's Team\n",
    "Bowler_9_Team=[]  # empty list for storing\n",
    "\n",
    "for i in soup4.find_all(\"span\",class_=\"table-body__logo-text\"):\n",
    "                            \n",
    "    Bowler_9_Team.append(i.text.replace(\"\\n\",\"\"))\n",
    "Bowler_9_Team[:9]"
   ]
  },
  {
   "cell_type": "code",
   "execution_count": 55,
   "id": "1696b4fe",
   "metadata": {},
   "outputs": [
    {
     "data": {
      "text/plain": [
       "['727', '665', '659', '656', '655', '654', '652', '638', '637']"
      ]
     },
     "execution_count": 55,
     "metadata": {},
     "output_type": "execute_result"
    }
   ],
   "source": [
    "# Remaining 9 Bowler's Ranking\n",
    "Bowler_9_Ranking=[]  # empty list for storing\n",
    "\n",
    "for i in soup4.find_all(\"td\",class_=\"table-body__cell rating\"):\n",
    "                            \n",
    "    Bowler_9_Ranking.append(i.text.replace(\"\\n\",\"\"))\n",
    "Bowler_9_Ranking[:9]"
   ]
  },
  {
   "cell_type": "code",
   "execution_count": 56,
   "id": "cc8dd1d5",
   "metadata": {},
   "outputs": [
    {
     "data": {
      "text/html": [
       "<style type=\"text/css\">\n",
       "</style>\n",
       "<table id=\"T_7ed0f\">\n",
       "  <thead>\n",
       "    <tr>\n",
       "      <th id=\"T_7ed0f_level0_col0\" class=\"col_heading level0 col0\" >Bowler_details</th>\n",
       "      <th id=\"T_7ed0f_level0_col1\" class=\"col_heading level0 col1\" >Bowler_9_Team</th>\n",
       "      <th id=\"T_7ed0f_level0_col2\" class=\"col_heading level0 col2\" >Bowler_9_Ranking</th>\n",
       "    </tr>\n",
       "  </thead>\n",
       "  <tbody>\n",
       "    <tr>\n",
       "      <td id=\"T_7ed0f_row0_col0\" class=\"data row0 col0\" >Josh Hazlewood</td>\n",
       "      <td id=\"T_7ed0f_row0_col1\" class=\"data row0 col1\" >AUS</td>\n",
       "      <td id=\"T_7ed0f_row0_col2\" class=\"data row0 col2\" >727</td>\n",
       "    </tr>\n",
       "    <tr>\n",
       "      <td id=\"T_7ed0f_row1_col0\" class=\"data row1 col0\" >Mitchell Starc</td>\n",
       "      <td id=\"T_7ed0f_row1_col1\" class=\"data row1 col1\" >AUS</td>\n",
       "      <td id=\"T_7ed0f_row1_col2\" class=\"data row1 col2\" >665</td>\n",
       "    </tr>\n",
       "    <tr>\n",
       "      <td id=\"T_7ed0f_row2_col0\" class=\"data row2 col0\" >Rashid Khan</td>\n",
       "      <td id=\"T_7ed0f_row2_col1\" class=\"data row2 col1\" >AFG</td>\n",
       "      <td id=\"T_7ed0f_row2_col2\" class=\"data row2 col2\" >659</td>\n",
       "    </tr>\n",
       "    <tr>\n",
       "      <td id=\"T_7ed0f_row3_col0\" class=\"data row3 col0\" >Matt Henry</td>\n",
       "      <td id=\"T_7ed0f_row3_col1\" class=\"data row3 col1\" >NZ</td>\n",
       "      <td id=\"T_7ed0f_row3_col2\" class=\"data row3 col2\" >656</td>\n",
       "    </tr>\n",
       "    <tr>\n",
       "      <td id=\"T_7ed0f_row4_col0\" class=\"data row4 col0\" >Adam Zampa</td>\n",
       "      <td id=\"T_7ed0f_row4_col1\" class=\"data row4 col1\" >AUS</td>\n",
       "      <td id=\"T_7ed0f_row4_col2\" class=\"data row4 col2\" >655</td>\n",
       "    </tr>\n",
       "    <tr>\n",
       "      <td id=\"T_7ed0f_row5_col0\" class=\"data row5 col0\" >Shaheen Afridi</td>\n",
       "      <td id=\"T_7ed0f_row5_col1\" class=\"data row5 col1\" >PAK</td>\n",
       "      <td id=\"T_7ed0f_row5_col2\" class=\"data row5 col2\" >654</td>\n",
       "    </tr>\n",
       "    <tr>\n",
       "      <td id=\"T_7ed0f_row6_col0\" class=\"data row6 col0\" >Shakib Al Hasan</td>\n",
       "      <td id=\"T_7ed0f_row6_col1\" class=\"data row6 col1\" >BAN</td>\n",
       "      <td id=\"T_7ed0f_row6_col2\" class=\"data row6 col2\" >652</td>\n",
       "    </tr>\n",
       "    <tr>\n",
       "      <td id=\"T_7ed0f_row7_col0\" class=\"data row7 col0\" >Mustafizur Rahman</td>\n",
       "      <td id=\"T_7ed0f_row7_col1\" class=\"data row7 col1\" >BAN</td>\n",
       "      <td id=\"T_7ed0f_row7_col2\" class=\"data row7 col2\" >638</td>\n",
       "    </tr>\n",
       "    <tr>\n",
       "      <td id=\"T_7ed0f_row8_col0\" class=\"data row8 col0\" >Mujeeb Ur Rahman</td>\n",
       "      <td id=\"T_7ed0f_row8_col1\" class=\"data row8 col1\" >AFG</td>\n",
       "      <td id=\"T_7ed0f_row8_col2\" class=\"data row8 col2\" >637</td>\n",
       "    </tr>\n",
       "  </tbody>\n",
       "</table>\n"
      ],
      "text/plain": [
       "<pandas.io.formats.style.Styler at 0xacc9f10>"
      ]
     },
     "execution_count": 56,
     "metadata": {},
     "output_type": "execute_result"
    }
   ],
   "source": [
    "# Making DataFrame of the 9 top Bowler\n",
    "\n",
    "import pandas as pd \n",
    "ODI_TOP_Bowler=pd.DataFrame({'Bowler_details':Bowler_details[:9],'Bowler_9_Team':Bowler_9_Team[:9],'Bowler_9_Ranking':Bowler_9_Ranking[:9]})\n",
    "ODI_TOP_Bowler=ODI_TOP_Bowler.style.hide(axis='index')\n",
    "ODI_TOP_Bowler"
   ]
  },
  {
   "cell_type": "code",
   "execution_count": 57,
   "id": "83e34e9c",
   "metadata": {},
   "outputs": [],
   "source": [
    "# 6) Write a python program to scrape cricket rankings from icc-cricket.com women team. You have to scrape:"
   ]
  },
  {
   "cell_type": "code",
   "execution_count": 61,
   "id": "6ab2ae5d",
   "metadata": {},
   "outputs": [
    {
     "data": {
      "text/plain": [
       "<Response [200]>"
      ]
     },
     "execution_count": 61,
     "metadata": {},
     "output_type": "execute_result"
    }
   ],
   "source": [
    "page=requests.get('https://www.icc-cricket.com/rankings/womens/team-rankings/odi')\n",
    "page"
   ]
  },
  {
   "cell_type": "code",
   "execution_count": 63,
   "id": "c5581ca1",
   "metadata": {},
   "outputs": [],
   "source": [
    "# Page content\n",
    "\n",
    "soup6=BeautifulSoup(page.content)"
   ]
  },
  {
   "cell_type": "code",
   "execution_count": 64,
   "id": "b43d0326",
   "metadata": {},
   "outputs": [
    {
     "data": {
      "text/plain": [
       "'Australia'"
      ]
     },
     "execution_count": 64,
     "metadata": {},
     "output_type": "execute_result"
    }
   ],
   "source": [
    "# Top 10 Women Team\n",
    "# 1st Top Team\n",
    "Women_1st_top_team=[]  # empty list for storing\n",
    "\n",
    "Women_1st_top_team=soup6.find(\"span\",class_=\"u-hide-phablet\")\n",
    "Women_1st_top_team.text"
   ]
  },
  {
   "cell_type": "code",
   "execution_count": 65,
   "id": "3410c28b",
   "metadata": {},
   "outputs": [
    {
     "data": {
      "text/plain": [
       "['Australia',\n",
       " 'England',\n",
       " 'South Africa',\n",
       " 'India',\n",
       " 'New Zealand',\n",
       " 'West Indies',\n",
       " 'Bangladesh',\n",
       " 'Thailand',\n",
       " 'Pakistan',\n",
       " 'Sri Lanka']"
      ]
     },
     "execution_count": 65,
     "metadata": {},
     "output_type": "execute_result"
    }
   ],
   "source": [
    "# ODI TOP 10 woemn's Team\n",
    "    \n",
    "Women_1st_top_team=[]\n",
    "\n",
    "for i in soup6.find_all(\"span\",class_=\"u-hide-phablet\"):\n",
    "    Women_1st_top_team.append(i.text)\n",
    "\n",
    "Women_1st_top_team[:10]"
   ]
  },
  {
   "cell_type": "code",
   "execution_count": 66,
   "id": "99a3f4b6",
   "metadata": {},
   "outputs": [
    {
     "data": {
      "text/plain": [
       "['18']"
      ]
     },
     "execution_count": 66,
     "metadata": {},
     "output_type": "execute_result"
    }
   ],
   "source": [
    "# No of matches for 1st Team i.e Austraila\n",
    "No_of_women_team_matches=[]\n",
    "for i in soup6.find_all(\"td\",class_=\"rankings-block__banner--matches\"):\n",
    "    No_of_women_team_matches.append(i.text)\n",
    "\n",
    "No_of_women_team_matches[:10]"
   ]
  },
  {
   "cell_type": "code",
   "execution_count": 67,
   "id": "41d21f4f",
   "metadata": {},
   "outputs": [
    {
     "data": {
      "text/plain": [
       "'3,061'"
      ]
     },
     "execution_count": 67,
     "metadata": {},
     "output_type": "execute_result"
    }
   ],
   "source": [
    "# No of points for 1st Team i.e Austraila\n",
    "\n",
    "Number_0f_Points_top_women_team=[]  \n",
    "\n",
    "points=soup6.find(\"td\",class_=\"rankings-block__banner--points\")\n",
    "points.text"
   ]
  },
  {
   "cell_type": "code",
   "execution_count": 68,
   "id": "f7c253ac",
   "metadata": {},
   "outputs": [
    {
     "data": {
      "text/plain": [
       "['2EnglandENG283,342119',\n",
       " '3South AfricaSA263,098119',\n",
       " '4IndiaIND272,820104',\n",
       " '5New ZealandNZ252,553102',\n",
       " '6West IndiesWI272,53594',\n",
       " '7BangladeshBAN1398376',\n",
       " '8ThailandTHA857272',\n",
       " '9PakistanPAK241,51963',\n",
       " '10Sri LankaSL835344']"
      ]
     },
     "execution_count": 68,
     "metadata": {},
     "output_type": "execute_result"
    }
   ],
   "source": [
    "# No of Matches, Rating and points for the other 9 team along with team names.\n",
    "\n",
    "women_cricket_team_details=[]\n",
    "for i in soup6.find_all('tr',class_=\"table-body\"):\n",
    "    women_cricket_team_details.append(i.text.replace(\"\\n\",\"\"))\n",
    "\n",
    "women_cricket_team_details[:9]"
   ]
  },
  {
   "cell_type": "code",
   "execution_count": 69,
   "id": "9571499a",
   "metadata": {},
   "outputs": [],
   "source": [
    "# c) Top 10 ODI bowlers-Women along with the records of their team and rating."
   ]
  },
  {
   "cell_type": "code",
   "execution_count": 70,
   "id": "81b2e072",
   "metadata": {},
   "outputs": [
    {
     "data": {
      "text/plain": [
       "<Response [200]>"
      ]
     },
     "execution_count": 70,
     "metadata": {},
     "output_type": "execute_result"
    }
   ],
   "source": [
    "page=requests.get('https://www.icc-cricket.com/rankings/womens/player-rankings/odi')\n",
    "page"
   ]
  },
  {
   "cell_type": "code",
   "execution_count": 71,
   "id": "39f2f59b",
   "metadata": {},
   "outputs": [],
   "source": [
    "# Page content\n",
    "\n",
    "soup6=BeautifulSoup(page.content)"
   ]
  },
  {
   "cell_type": "code",
   "execution_count": 72,
   "id": "92f1ebaf",
   "metadata": {},
   "outputs": [
    {
     "data": {
      "text/plain": [
       "['', 'Alyssa Healy', '', 'AUS                            785', '']"
      ]
     },
     "execution_count": 72,
     "metadata": {},
     "output_type": "execute_result"
    }
   ],
   "source": [
    "# Top 10 Woemn Batsmen\n",
    "\n",
    "# Got the 1st Batsmens Details\n",
    "Women_Batsmen=[]\n",
    "# empty list for storing\n",
    "\n",
    "for i in soup6.find(\"div\",class_=\"rankings-block__banner--player-info\"):\n",
    "                        \n",
    "    Women_Batsmen.append(i.text.replace(\"\\n\",\"\"))\n",
    "Women_Batsmen"
   ]
  },
  {
   "cell_type": "code",
   "execution_count": 73,
   "id": "99347aeb",
   "metadata": {},
   "outputs": [
    {
     "data": {
      "text/plain": [
       "['Beth Mooney',\n",
       " 'Laura Wolvaardt',\n",
       " 'Natalie Sciver',\n",
       " 'Harmanpreet Kaur',\n",
       " 'Smriti Mandhana',\n",
       " 'Meg Lanning',\n",
       " 'Rachael Haynes',\n",
       " 'Chamari Athapaththu',\n",
       " 'Ellyse Perry']"
      ]
     },
     "execution_count": 73,
     "metadata": {},
     "output_type": "execute_result"
    }
   ],
   "source": [
    "# The other 9 ODI top women_Batsmen Name\n",
    "\n",
    "odi_top_women_batting_player_name=[]  # empty list for storing\n",
    "\n",
    "for i in soup6.find_all(\"td\",class_=\"table-body__cell name\"):\n",
    "                        \n",
    "    odi_top_women_batting_player_name.append(i.text.replace(\"\\n\",\"\"))\n",
    "odi_top_women_batting_player_name[:9]"
   ]
  },
  {
   "cell_type": "code",
   "execution_count": 74,
   "id": "74a427a4",
   "metadata": {},
   "outputs": [
    {
     "data": {
      "text/plain": [
       "['AUS', 'SA', 'ENG', 'IND', 'IND', 'AUS', 'AUS', 'SL', 'AUS']"
      ]
     },
     "execution_count": 74,
     "metadata": {},
     "output_type": "execute_result"
    }
   ],
   "source": [
    "# Odi_top_women_batting_palyer_team_list\n",
    "\n",
    "Odi_top_women_batting_palyer_team_list=[]  # empty list for storing\n",
    "\n",
    "for i in soup6.find_all(\"span\",class_=\"table-body__logo-text\"):\n",
    "                        \n",
    "    Odi_top_women_batting_palyer_team_list.append(i.text.replace(\"\\n\",\"\"))\n",
    "Odi_top_women_batting_palyer_team_list[:9]"
   ]
  },
  {
   "cell_type": "code",
   "execution_count": 75,
   "id": "de96d3ad",
   "metadata": {},
   "outputs": [
    {
     "data": {
      "text/plain": [
       "['749', '732', '731', '716', '714', '710', '701', '655', '642']"
      ]
     },
     "execution_count": 75,
     "metadata": {},
     "output_type": "execute_result"
    }
   ],
   "source": [
    "# Odi_top_women_batting_palyer_team_rating\n",
    "\n",
    "Odi_top_women_batting_palyer_team_rating=[]  # empty list for storing\n",
    "\n",
    "for i in soup6.find_all(\"td\",class_=\"table-body__cell u-text-right rating\"):\n",
    "    Odi_top_women_batting_palyer_team_rating.append(i.text.replace(\"\\n\",\"\"))\n",
    "                        \n",
    "Odi_top_women_batting_palyer_team_rating[:9]"
   ]
  },
  {
   "cell_type": "code",
   "execution_count": 76,
   "id": "eb3bfe61",
   "metadata": {},
   "outputs": [
    {
     "data": {
      "text/html": [
       "<style type=\"text/css\">\n",
       "</style>\n",
       "<table id=\"T_8522b\">\n",
       "  <thead>\n",
       "    <tr>\n",
       "      <th id=\"T_8522b_level0_col0\" class=\"col_heading level0 col0\" >odi_top_women_batting_player_name</th>\n",
       "      <th id=\"T_8522b_level0_col1\" class=\"col_heading level0 col1\" >Odi_top_women_batting_palyer_team_list</th>\n",
       "      <th id=\"T_8522b_level0_col2\" class=\"col_heading level0 col2\" >odi_top_women_batting_palyer_team_rating</th>\n",
       "    </tr>\n",
       "  </thead>\n",
       "  <tbody>\n",
       "    <tr>\n",
       "      <td id=\"T_8522b_row0_col0\" class=\"data row0 col0\" >Beth Mooney</td>\n",
       "      <td id=\"T_8522b_row0_col1\" class=\"data row0 col1\" >AUS</td>\n",
       "      <td id=\"T_8522b_row0_col2\" class=\"data row0 col2\" >749</td>\n",
       "    </tr>\n",
       "    <tr>\n",
       "      <td id=\"T_8522b_row1_col0\" class=\"data row1 col0\" >Laura Wolvaardt</td>\n",
       "      <td id=\"T_8522b_row1_col1\" class=\"data row1 col1\" >SA</td>\n",
       "      <td id=\"T_8522b_row1_col2\" class=\"data row1 col2\" >732</td>\n",
       "    </tr>\n",
       "    <tr>\n",
       "      <td id=\"T_8522b_row2_col0\" class=\"data row2 col0\" >Natalie Sciver</td>\n",
       "      <td id=\"T_8522b_row2_col1\" class=\"data row2 col1\" >ENG</td>\n",
       "      <td id=\"T_8522b_row2_col2\" class=\"data row2 col2\" >731</td>\n",
       "    </tr>\n",
       "    <tr>\n",
       "      <td id=\"T_8522b_row3_col0\" class=\"data row3 col0\" >Harmanpreet Kaur</td>\n",
       "      <td id=\"T_8522b_row3_col1\" class=\"data row3 col1\" >IND</td>\n",
       "      <td id=\"T_8522b_row3_col2\" class=\"data row3 col2\" >716</td>\n",
       "    </tr>\n",
       "    <tr>\n",
       "      <td id=\"T_8522b_row4_col0\" class=\"data row4 col0\" >Smriti Mandhana</td>\n",
       "      <td id=\"T_8522b_row4_col1\" class=\"data row4 col1\" >IND</td>\n",
       "      <td id=\"T_8522b_row4_col2\" class=\"data row4 col2\" >714</td>\n",
       "    </tr>\n",
       "    <tr>\n",
       "      <td id=\"T_8522b_row5_col0\" class=\"data row5 col0\" >Meg Lanning</td>\n",
       "      <td id=\"T_8522b_row5_col1\" class=\"data row5 col1\" >AUS</td>\n",
       "      <td id=\"T_8522b_row5_col2\" class=\"data row5 col2\" >710</td>\n",
       "    </tr>\n",
       "    <tr>\n",
       "      <td id=\"T_8522b_row6_col0\" class=\"data row6 col0\" >Rachael Haynes</td>\n",
       "      <td id=\"T_8522b_row6_col1\" class=\"data row6 col1\" >AUS</td>\n",
       "      <td id=\"T_8522b_row6_col2\" class=\"data row6 col2\" >701</td>\n",
       "    </tr>\n",
       "    <tr>\n",
       "      <td id=\"T_8522b_row7_col0\" class=\"data row7 col0\" >Chamari Athapaththu</td>\n",
       "      <td id=\"T_8522b_row7_col1\" class=\"data row7 col1\" >SL</td>\n",
       "      <td id=\"T_8522b_row7_col2\" class=\"data row7 col2\" >655</td>\n",
       "    </tr>\n",
       "    <tr>\n",
       "      <td id=\"T_8522b_row8_col0\" class=\"data row8 col0\" >Ellyse Perry</td>\n",
       "      <td id=\"T_8522b_row8_col1\" class=\"data row8 col1\" >AUS</td>\n",
       "      <td id=\"T_8522b_row8_col2\" class=\"data row8 col2\" >642</td>\n",
       "    </tr>\n",
       "  </tbody>\n",
       "</table>\n"
      ],
      "text/plain": [
       "<pandas.io.formats.style.Styler at 0xae38b50>"
      ]
     },
     "execution_count": 76,
     "metadata": {},
     "output_type": "execute_result"
    }
   ],
   "source": [
    "# Making DataFrame of the 9 top women Batsmen\n",
    "\n",
    "import pandas as pd \n",
    "ODI_TOP_women_Batsmen=pd.DataFrame({'odi_top_women_batting_player_name':odi_top_women_batting_player_name[:9],'Odi_top_women_batting_palyer_team_list':Odi_top_women_batting_palyer_team_list[:9],'odi_top_women_batting_palyer_team_rating':Odi_top_women_batting_palyer_team_rating[:9]})\n",
    "ODI_TOP_women_Batsmen=ODI_TOP_women_Batsmen.style.hide(axis='index')\n",
    "ODI_TOP_women_Batsmen"
   ]
  },
  {
   "cell_type": "code",
   "execution_count": 77,
   "id": "b5a12b0a",
   "metadata": {},
   "outputs": [],
   "source": [
    "#Top 10 women’s ODI all-rounder along with the records of their team and rating."
   ]
  },
  {
   "cell_type": "code",
   "execution_count": 78,
   "id": "c1c4737a",
   "metadata": {},
   "outputs": [
    {
     "data": {
      "text/plain": [
       "<Response [200]>"
      ]
     },
     "execution_count": 78,
     "metadata": {},
     "output_type": "execute_result"
    }
   ],
   "source": [
    "page=requests.get('https://www.icc-cricket.com/rankings/womens/player-rankings/odi/all-rounder')\n",
    "page"
   ]
  },
  {
   "cell_type": "code",
   "execution_count": 79,
   "id": "1865f1d0",
   "metadata": {},
   "outputs": [],
   "source": [
    "# Page content\n",
    "\n",
    "soup6=BeautifulSoup(page.content)\n"
   ]
  },
  {
   "cell_type": "code",
   "execution_count": 80,
   "id": "2beb578d",
   "metadata": {},
   "outputs": [
    {
     "data": {
      "text/plain": [
       "['Ellyse Perry']"
      ]
     },
     "execution_count": 80,
     "metadata": {},
     "output_type": "execute_result"
    }
   ],
   "source": [
    "# Got the 1st Allrounder Name\n",
    "Women_Allrounder=[]\n",
    "# empty list for storing\n",
    "\n",
    "for i in soup6.find(\"div\",class_=\"rankings-block__banner--name-large\"):\n",
    "                        \n",
    "    Women_Allrounder.append(i.text.replace(\"\\n\",\"\"))\n",
    "Women_Allrounder"
   ]
  },
  {
   "cell_type": "code",
   "execution_count": 81,
   "id": "ee33c8a1",
   "metadata": {},
   "outputs": [
    {
     "data": {
      "text/plain": [
       "['AUS                    ']"
      ]
     },
     "execution_count": 81,
     "metadata": {},
     "output_type": "execute_result"
    }
   ],
   "source": [
    "# 1st Allrounder women team\n",
    "\n",
    "First_allrounder_women_team=[]\n",
    "for i in soup6.find_all(\"div\",class_=\"rankings-block__banner--nationality\"):\n",
    "                        \n",
    "    First_allrounder_women_team.append(i.text.replace(\"\\n\",\"\"))\n",
    "First_allrounder_women_team"
   ]
  },
  {
   "cell_type": "code",
   "execution_count": 82,
   "id": "86d2617e",
   "metadata": {},
   "outputs": [
    {
     "data": {
      "text/plain": [
       "['374']"
      ]
     },
     "execution_count": 82,
     "metadata": {},
     "output_type": "execute_result"
    }
   ],
   "source": [
    "# 1st Allrounder women Rating\n",
    "\n",
    "First_allrounder_women_rating=[]\n",
    "\n",
    "for i in soup6.find_all(\"div\",class_=\"rankings-block__banner--rating\"):\n",
    "                        \n",
    "    First_allrounder_women_rating.append(i.text.replace(\"\\n\",\"\"))\n",
    "First_allrounder_women_rating"
   ]
  },
  {
   "cell_type": "code",
   "execution_count": 83,
   "id": "5751e495",
   "metadata": {},
   "outputs": [
    {
     "data": {
      "text/html": [
       "<div>\n",
       "<style scoped>\n",
       "    .dataframe tbody tr th:only-of-type {\n",
       "        vertical-align: middle;\n",
       "    }\n",
       "\n",
       "    .dataframe tbody tr th {\n",
       "        vertical-align: top;\n",
       "    }\n",
       "\n",
       "    .dataframe thead th {\n",
       "        text-align: right;\n",
       "    }\n",
       "</style>\n",
       "<table border=\"1\" class=\"dataframe\">\n",
       "  <thead>\n",
       "    <tr style=\"text-align: right;\">\n",
       "      <th></th>\n",
       "      <th>Women_Allrounder</th>\n",
       "      <th>First_allrounder_women_team</th>\n",
       "      <th>First_allrounder_women_rating</th>\n",
       "    </tr>\n",
       "  </thead>\n",
       "  <tbody>\n",
       "    <tr>\n",
       "      <th>0</th>\n",
       "      <td>Ellyse Perry</td>\n",
       "      <td>AUS</td>\n",
       "      <td>374</td>\n",
       "    </tr>\n",
       "  </tbody>\n",
       "</table>\n",
       "</div>"
      ],
      "text/plain": [
       "  Women_Allrounder First_allrounder_women_team First_allrounder_women_rating\n",
       "0     Ellyse Perry     AUS                                               374"
      ]
     },
     "execution_count": 83,
     "metadata": {},
     "output_type": "execute_result"
    }
   ],
   "source": [
    "import pandas as pd \n",
    "Top_1_allrounder_women_ODI=pd.DataFrame({'Women_Allrounder':Women_Allrounder[:1],'First_allrounder_women_team':First_allrounder_women_team[:1],'First_allrounder_women_rating':First_allrounder_women_rating[:1]})\n",
    "Top_1_allrounder_women_ODI.style.hide(axis='index')\n",
    "Top_1_allrounder_women_ODI"
   ]
  },
  {
   "cell_type": "code",
   "execution_count": 84,
   "id": "2413e5d4",
   "metadata": {},
   "outputs": [
    {
     "data": {
      "text/plain": [
       "['Hayley Matthews',\n",
       " 'Natalie Sciver',\n",
       " 'Marizanne Kapp',\n",
       " 'Amelia Kerr',\n",
       " 'Deepti Sharma',\n",
       " 'Ashleigh Gardner',\n",
       " 'Jess Jonassen',\n",
       " 'Jhulan Goswami',\n",
       " 'Sophie Ecclestone']"
      ]
     },
     "execution_count": 84,
     "metadata": {},
     "output_type": "execute_result"
    }
   ],
   "source": [
    "# Remaining 9 Allrounder's Name\n",
    "\n",
    "Allrounder_women_name_details=[]  # empty list for storing\n",
    "\n",
    "for i in soup6.find_all(\"td\",class_=\"table-body__cell rankings-table__name name\"):\n",
    "                            \n",
    "    Allrounder_women_name_details.append(i.text.replace(\"\\n\",\"\"))\n",
    "Allrounder_women_name_details[:9]"
   ]
  },
  {
   "cell_type": "code",
   "execution_count": 85,
   "id": "c16cbd5f",
   "metadata": {},
   "outputs": [
    {
     "data": {
      "text/plain": [
       "['WI', 'ENG', 'SA', 'NZ', 'IND', 'AUS', 'AUS', 'IND', 'ENG']"
      ]
     },
     "execution_count": 85,
     "metadata": {},
     "output_type": "execute_result"
    }
   ],
   "source": [
    "# Remaining 9 Allrounder's Women Team\n",
    "\n",
    "Allrounder_women_Team=[]  \n",
    "\n",
    "for i in soup6.find_all(\"span\",class_=\"table-body__logo-text\"):\n",
    "                            \n",
    "    Allrounder_women_Team.append(i.text.replace(\"\\n\",\"\"))\n",
    "Allrounder_women_Team[:9]"
   ]
  },
  {
   "cell_type": "code",
   "execution_count": 86,
   "id": "9595b17a",
   "metadata": {},
   "outputs": [
    {
     "data": {
      "text/plain": [
       "['373', '371', '349', '336', '322', '270', '246', '214', '205']"
      ]
     },
     "execution_count": 86,
     "metadata": {},
     "output_type": "execute_result"
    }
   ],
   "source": [
    "# Remaining 9 Women Allrounder Ranking\n",
    "\n",
    "Allrounder_women_Ranking=[]  # empty list for storing\n",
    "\n",
    "for i in soup6.find_all(\"td\",class_=\"table-body__cell rating\"):\n",
    "                            \n",
    "    Allrounder_women_Ranking.append(i.text.replace(\"\\n\",\"\"))\n",
    "Allrounder_women_Ranking[:9]"
   ]
  },
  {
   "cell_type": "code",
   "execution_count": 87,
   "id": "a6b7ec53",
   "metadata": {},
   "outputs": [
    {
     "data": {
      "text/html": [
       "<div>\n",
       "<style scoped>\n",
       "    .dataframe tbody tr th:only-of-type {\n",
       "        vertical-align: middle;\n",
       "    }\n",
       "\n",
       "    .dataframe tbody tr th {\n",
       "        vertical-align: top;\n",
       "    }\n",
       "\n",
       "    .dataframe thead th {\n",
       "        text-align: right;\n",
       "    }\n",
       "</style>\n",
       "<table border=\"1\" class=\"dataframe\">\n",
       "  <thead>\n",
       "    <tr style=\"text-align: right;\">\n",
       "      <th></th>\n",
       "      <th>Allrounder_women_name_details</th>\n",
       "      <th>Allrounder_women_Team</th>\n",
       "      <th>Allrounder_women_Ranking</th>\n",
       "    </tr>\n",
       "  </thead>\n",
       "  <tbody>\n",
       "    <tr>\n",
       "      <th>0</th>\n",
       "      <td>Hayley Matthews</td>\n",
       "      <td>WI</td>\n",
       "      <td>373</td>\n",
       "    </tr>\n",
       "    <tr>\n",
       "      <th>1</th>\n",
       "      <td>Natalie Sciver</td>\n",
       "      <td>ENG</td>\n",
       "      <td>371</td>\n",
       "    </tr>\n",
       "    <tr>\n",
       "      <th>2</th>\n",
       "      <td>Marizanne Kapp</td>\n",
       "      <td>SA</td>\n",
       "      <td>349</td>\n",
       "    </tr>\n",
       "    <tr>\n",
       "      <th>3</th>\n",
       "      <td>Amelia Kerr</td>\n",
       "      <td>NZ</td>\n",
       "      <td>336</td>\n",
       "    </tr>\n",
       "    <tr>\n",
       "      <th>4</th>\n",
       "      <td>Deepti Sharma</td>\n",
       "      <td>IND</td>\n",
       "      <td>322</td>\n",
       "    </tr>\n",
       "    <tr>\n",
       "      <th>5</th>\n",
       "      <td>Ashleigh Gardner</td>\n",
       "      <td>AUS</td>\n",
       "      <td>270</td>\n",
       "    </tr>\n",
       "    <tr>\n",
       "      <th>6</th>\n",
       "      <td>Jess Jonassen</td>\n",
       "      <td>AUS</td>\n",
       "      <td>246</td>\n",
       "    </tr>\n",
       "    <tr>\n",
       "      <th>7</th>\n",
       "      <td>Jhulan Goswami</td>\n",
       "      <td>IND</td>\n",
       "      <td>214</td>\n",
       "    </tr>\n",
       "    <tr>\n",
       "      <th>8</th>\n",
       "      <td>Sophie Ecclestone</td>\n",
       "      <td>ENG</td>\n",
       "      <td>205</td>\n",
       "    </tr>\n",
       "  </tbody>\n",
       "</table>\n",
       "</div>"
      ],
      "text/plain": [
       "  Allrounder_women_name_details Allrounder_women_Team Allrounder_women_Ranking\n",
       "0               Hayley Matthews                    WI                      373\n",
       "1                Natalie Sciver                   ENG                      371\n",
       "2                Marizanne Kapp                    SA                      349\n",
       "3                   Amelia Kerr                    NZ                      336\n",
       "4                 Deepti Sharma                   IND                      322\n",
       "5              Ashleigh Gardner                   AUS                      270\n",
       "6                 Jess Jonassen                   AUS                      246\n",
       "7                Jhulan Goswami                   IND                      214\n",
       "8             Sophie Ecclestone                   ENG                      205"
      ]
     },
     "execution_count": 87,
     "metadata": {},
     "output_type": "execute_result"
    }
   ],
   "source": [
    "# Making DataFrame of the 9 top Women Allrounderuu\n",
    "\n",
    "import pandas as pd \n",
    "ODI_TOP_Women_Allrounder=pd.DataFrame({'Allrounder_women_name_details':Allrounder_women_name_details[:9],'Allrounder_women_Team':Allrounder_women_Team[:9],'Allrounder_women_Ranking':Allrounder_women_Ranking[:9]})\n",
    "ODI_TOP_Women_Allrounder.style.hide(axis='index')\n",
    "ODI_TOP_Women_Allrounder"
   ]
  },
  {
   "cell_type": "code",
   "execution_count": 88,
   "id": "63864a2b",
   "metadata": {},
   "outputs": [],
   "source": [
    "# 7) Write a python program to scrape mentioned news details from https://www.cnbc.com/world/?region=world :\n"
   ]
  },
  {
   "cell_type": "code",
   "execution_count": 89,
   "id": "d064a743",
   "metadata": {},
   "outputs": [
    {
     "data": {
      "text/plain": [
       "<Response [200]>"
      ]
     },
     "execution_count": 89,
     "metadata": {},
     "output_type": "execute_result"
    }
   ],
   "source": [
    "page=requests.get('https://www.cnbc.com/world/?region=world')\n",
    "page"
   ]
  },
  {
   "cell_type": "code",
   "execution_count": 90,
   "id": "aa5336c5",
   "metadata": {},
   "outputs": [],
   "source": [
    "# Page content\n",
    "\n",
    "soup7=BeautifulSoup(page.content)"
   ]
  },
  {
   "cell_type": "code",
   "execution_count": 91,
   "id": "5932418b",
   "metadata": {},
   "outputs": [
    {
     "data": {
      "text/plain": [
       "['Self-made millionaire: 3 habits to start in your 20s if you want to succeed',\n",
       " \"Want to sound more assertive? Ditch these 4 phrases that make you look 'weak or timid': Word experts\",\n",
       " 'The most-popular big tech default email programs are old and vulnerable',\n",
       " 'State-run auto-IRA programs continue growing as more options launch',\n",
       " \"Food fraud secretly infiltrates America. Here's how you can avoid it\",\n",
       " '10 auto industry predictions for investors to keep an eye on this year',\n",
       " 'Mark Cuban on the company that made him rich: ‘People thought I was an idiot’',\n",
       " \"Wall Street's favorite retail stocks include Amazon, a little-known shoe company\",\n",
       " 'A busy movie calendar will lead to a 15% jump in box office sales, JPMorgan says',\n",
       " \"These tactical trades are among Goldman's favorite ways to play earnings season\",\n",
       " 'More classified documents found at Biden’s Delaware home, White House counsel says',\n",
       " 'The biggest risks of using Bluetooth trackers like Apple AirTag, Tile',\n",
       " 'Veganuary: 3 ways to meet your protein goals on a plant-based diet',\n",
       " \"Investing in last year's top 10 stocks is 'a recipe for disaster,' expert says\",\n",
       " '4 side hustles for introverts: Some can bring in tens of thousands of dollars',\n",
       " \"Here are the odds you'll win the $404 million Powerball jackpot\",\n",
       " 'The condo king of Miami is betting big on a new Fisher Island luxury project',\n",
       " 'Carmakers upgrade lineups to meet high-end demand, scale back on less expensive cars',\n",
       " 'What it’s like to deliver for Amazon in new electric Rivian vans',\n",
       " 'The bold bullish case to be made for U.S. stocks',\n",
       " 'Earnings stars: Stocks expected to post the biggest profit growth of 2023 ',\n",
       " 'Morgan Stanley says these are the most undervalued stocks this year',\n",
       " 'Stocks on a roll. But overbought market, earnings key hurdles in the week ahead',\n",
       " 'The zero-fare public transit movement is picking up momentum',\n",
       " 'Building self-discipline by age 27 is crucial, says expert: 3 ways to do it',\n",
       " 'Iran executes British-Iranian national despite UK, U.S. pleas',\n",
       " 'Rising commodities prices could be a tailwind for Caterpillar',\n",
       " \"Cramer's lightning round: Costamare is not a buy\",\n",
       " 'Cramer’s week ahead: Wait before trading on company earnings',\n",
       " 'CDC review finds it’s unlikely Pfizer booster carries stroke risk for seniors']"
      ]
     },
     "execution_count": 91,
     "metadata": {},
     "output_type": "execute_result"
    }
   ],
   "source": [
    "# Scrapping news Headlines\n",
    "\n",
    "Headlines=[]  # empty list for storing\n",
    "\n",
    "for i in soup7.find_all(\"a\",class_=\"LatestNews-headline\"):\n",
    "    Headlines.append(i.text)\n",
    "Headlines"
   ]
  },
  {
   "cell_type": "code",
   "execution_count": 92,
   "id": "1eb3eb60",
   "metadata": {},
   "outputs": [
    {
     "data": {
      "text/plain": [
       "['1 Hour Ago',\n",
       " '1 Hour Ago',\n",
       " '2 Hours Ago',\n",
       " '3 Hours Ago',\n",
       " '3 Hours Ago',\n",
       " '3 Hours Ago',\n",
       " '3 Hours Ago',\n",
       " '4 Hours Ago',\n",
       " '4 Hours Ago',\n",
       " '4 Hours Ago',\n",
       " '23 Hours Ago',\n",
       " '23 Hours Ago',\n",
       " 'January 14, 2023',\n",
       " 'January 14, 2023',\n",
       " 'January 14, 2023',\n",
       " 'January 14, 2023',\n",
       " 'January 14, 2023',\n",
       " 'January 14, 2023',\n",
       " 'January 14, 2023',\n",
       " 'January 14, 2023',\n",
       " 'January 14, 2023',\n",
       " 'January 14, 2023',\n",
       " 'January 14, 2023',\n",
       " 'January 14, 2023',\n",
       " 'January 14, 2023',\n",
       " 'January 14, 2023',\n",
       " 'January 13, 2023',\n",
       " 'January 13, 2023',\n",
       " 'January 13, 2023',\n",
       " 'January 13, 2023']"
      ]
     },
     "execution_count": 92,
     "metadata": {},
     "output_type": "execute_result"
    }
   ],
   "source": [
    "# Scrapping news Time\n",
    "\n",
    "Time=[]  # empty list for storing\n",
    "\n",
    "for i in soup7.find_all('span',class_=\"LatestNews-wrapper\"):\n",
    "    Time.append(i.text)\n",
    "Time"
   ]
  },
  {
   "cell_type": "code",
   "execution_count": 93,
   "id": "0b9137a9",
   "metadata": {},
   "outputs": [
    {
     "name": "stdout",
     "output_type": "stream",
     "text": [
      "#MainContent\n",
      "//www.cnbc.com/\n",
      "/live-tv/\n",
      "/\n",
      "/markets/\n",
      "/pre-markets/\n",
      "/us-markets/\n",
      "/currencies/\n",
      "/cryptocurrency/\n",
      "/futures-and-commodities/\n",
      "/bonds/\n",
      "/funds-and-etfs/\n",
      "/business/\n",
      "/economy/\n",
      "/finance/\n",
      "/health-and-science/\n",
      "/media/\n",
      "/real-estate/\n",
      "/energy/\n",
      "/climate/\n",
      "/transportation/\n",
      "/industrials/\n",
      "/retail/\n",
      "/wealth/\n",
      "/life/\n",
      "/small-business/\n",
      "/investing/\n",
      "/personal-finance/\n",
      "/fintech/\n",
      "/financial-advisors/\n",
      "/options-action/\n",
      "/etf-street/\n",
      "https://buffett.cnbc.com\n",
      "/earnings/\n",
      "/trader-talk/\n",
      "/technology/\n",
      "/cybersecurity/\n",
      "/enterprise/\n",
      "/internet/\n",
      "/media/\n",
      "/mobile/\n",
      "/social-media/\n",
      "/cnbc-disruptors/\n",
      "/tech-guide/\n",
      "/politics/\n",
      "/white-house/\n",
      "/policy/\n",
      "/defense/\n",
      "/congress/\n",
      "/equity-opportunity/\n",
      "/tv/\n",
      "/live-tv\n",
      "/live-audio/\n",
      "/business-day/\n",
      "/primetime-shows/\n",
      "/live-tv/full-episodes/\n",
      "/latest-video/\n",
      "/top-video/\n",
      "/video-ceo-interviews/\n",
      "/documentaries/\n",
      "/podcast/\n",
      "/features/\n",
      "/digital-original/\n",
      "/live-tv/schedule/\n",
      "/watchlist/\n",
      "/investingclub/\n",
      "/investingclub/charitable-trust/\n",
      "/investingclub/analysis/\n",
      "/investingclub/trade-alerts/\n",
      "/investingclub/video/\n",
      "/investingclub/education/\n",
      "/pro/\n",
      "/pro/news/\n",
      "/pro/\n",
      "#\n",
      "#\n",
      "/make-it/\n",
      "/select/\n",
      "/?region=usa\n",
      "/world/\n",
      "/live-tv/\n",
      "/watchlist/\n",
      "#\n",
      "#\n",
      "/\n",
      "/markets/\n",
      "/business/\n",
      "/investing/\n",
      "/technology/\n",
      "/politics/\n",
      "/tv/\n",
      "/watchlist/\n",
      "/investingclub/\n",
      "/pro/\n",
      "#\n",
      "#\n",
      "#\n",
      "#\n",
      "#\n",
      "https://www.cnbc.com/2023/01/13/european-markets-open-to-close-positive-week-on-us-inflation-hopes.html\n",
      "https://www.cnbc.com/2023/01/13/cramers-week-ahead-wait-before-trading-on-company-earnings.html\n",
      "https://www.cnbc.com/quotes/US10Y\n",
      "https://www.cnbc.com/2023/01/13/tesla-cuts-prices-in-us-and-europe-to-stoke-sales.html\n",
      "https://www.cnbc.com/2023/01/13/sweden-mining-company-lkap-finds-big-deposit-of-rare-earth-metals.html\n",
      "https://www.cnbc.com/2023/01/13/south-koreans-are-the-worlds-biggest-spenders-on-luxury-goods.html\n",
      "https://www.cnbc.com/2023/01/13/singapore-covid-travel-rules-why-singapore-isnt-singling-china-out.html\n",
      "https://www.cnbc.com/2023/01/14/covid-news-china-reports-huge-rise-in-deaths-after-who-criticized-data.html\n",
      "https://www.cnbc.com/2023/01/14/covid-news-china-reports-huge-rise-in-deaths-after-who-criticized-data.html\n",
      "https://www.cnbc.com/2023/01/15/china-hong-kong-resume-high-speed-rail-link-after-3-years-of-covid-curbs.html\n",
      "https://www.cnbc.com/2023/01/13/bank-of-america-expects-a-mild-recession-but-is-preparing-for-worse.html\n",
      "https://www.cnbc.com/2023/01/13/bank-of-america-expects-a-mild-recession-but-is-preparing-for-worse.html\n",
      "https://www.cnbc.com/2023/01/15/britain-to-send-battle-tanks-to-ukraine-dnipro-death-toll-rises-to-18.html\n",
      "https://www.cnbc.com/2023/01/15/britain-to-send-battle-tanks-to-ukraine-dnipro-death-toll-rises-to-18.html\n",
      "https://www.cnbc.com/2023/01/15/self-made-millionaire-habits-to-start-in-your-20s-for-a-successful-life.html\n",
      "https://www.cnbc.com/2023/01/15/want-to-sound-more-assertive-avoid-these-phrases-that-make-you-sound-weak-timid-word-experts.html\n",
      "https://www.cnbc.com/2023/01/15/the-most-popular-big-tech-email-programs-are-old-and-vulnerable.html\n",
      "https://www.cnbc.com/2023/01/15/state-run-auto-ira-programs-continue-growing-as-more-options-launch.html\n",
      "https://www.cnbc.com/2023/01/15/food-fraud-secretly-infiltrates-america-heres-how-you-can-avoid-it-.html\n",
      "https://www.cnbc.com/2023/01/15/ten-auto-industry-predictions-2023.html\n",
      "https://www.cnbc.com/2023/01/15/mark-cuban-on-broadcastcom-streaming-people-thought-i-was-an-idiot.html\n",
      "/pro/\n",
      "https://www.cnbc.com/2023/01/15/wall-streets-favorite-retail-stocks-include-amazon-and-this-little-known-shoe-company.html\n",
      "/pro/\n",
      "https://www.cnbc.com/2023/01/15/a-busier-movie-calendar-may-lead-to-a-15percent-jump-in-box-office-sales.html\n",
      "/pro/\n",
      "https://www.cnbc.com/2023/01/15/these-tactical-trades-are-some-of-goldmans-ways-to-play-q4-earnings.html\n",
      "https://www.cnbc.com/2023/01/14/white-house-says-more-classified-documents-found-at-bidens-home.html\n",
      "https://www.cnbc.com/2023/01/14/the-biggest-security-pros-and-cons-of-using-bluetooth-gps-trackers.html\n",
      "https://www.cnbc.com/2023/01/14/veganuary-3-ways-to-meet-your-protein-goals-on-a-plant-based-diet.html\n",
      "https://www.cnbc.com/2023/01/14/best-performing-stocks-of-2022.html\n",
      "https://www.cnbc.com/2023/01/14/side-hustles-for-introverts-some-can-bring-in-tens-of-thousands-.html\n",
      "https://www.cnbc.com/2023/01/14/powerball-odds-of-winning-jackpot.html\n",
      "https://www.cnbc.com/2023/01/14/condo-king-miami-fisher-island-luxury.html\n",
      "https://www.cnbc.com/2023/01/14/carmakers-upgrade-lineups-to-meet-demand-for-high-end-options.html\n",
      "https://www.cnbc.com/2023/01/14/what-its-like-to-deliver-for-amazon-in-new-rivian-electric-vans.html\n",
      "/pro/\n",
      "https://www.cnbc.com/2023/01/14/the-bold-bullish-case-to-be-made-for-us-stocks-one-that-not-many-are-voicing-just-yet.html\n",
      "/pro/\n",
      "https://www.cnbc.com/2023/01/14/earnings-stars-stocks-most-likely-to-see-biggest-2023-profit-growth.html\n",
      "/pro/\n",
      "https://www.cnbc.com/2023/01/14/stocks-like-dicks-sporting-goods-verizon-are-morgan-stanleys-best-buys-for-2023.html\n",
      "/investingclub/\n",
      "https://www.cnbc.com/2023/01/14/investing-club-the-week-in-review-the-week-ahead-jan-14-2023.html\n",
      "https://www.cnbc.com/2023/01/14/zero-fare-public-transit-movement-gains-momentum.html\n",
      "https://www.cnbc.com/2023/01/14/psychiatrist-from-netflix-doc-stutz-how-to-build-self-discipline.html\n",
      "https://www.cnbc.com/2023/01/14/iran-executes-british-iranian-national-despite-uk-us-pleas.html\n",
      "/pro/\n",
      "https://www.cnbc.com/2023/01/13/rising-commodities-prices-could-be-a-tailwind-for-caterpillar-and-these-industrial-names.html\n",
      "https://www.cnbc.com/2023/01/13/cramers-lightning-round-costamare-is-not-a-buy.html\n",
      "https://www.cnbc.com/2023/01/13/cramers-week-ahead-wait-before-trading-on-company-earnings.html\n",
      "https://www.cnbc.com/2023/01/13/pfizer-covid-booster-likely-doesnt-carry-stroke-risk-for-seniors-cdc-says.html\n",
      "/us-market-movers/\n",
      "https://www.cnbc.com/2023/01/15/twitters-laid-off-workers-cannot-pursue-claims-via-class-action-lawsuit-judge.html\n",
      "https://www.cnbc.com/2023/01/15/twitters-laid-off-workers-cannot-pursue-claims-via-class-action-lawsuit-judge.html\n",
      "/pro/\n",
      "https://www.cnbc.com/2023/01/13/whartons-jeremy-siegel-says-the-us-really-solved-the-inflation-problem.html\n",
      "https://www.cnbc.com/alex-harring/\n",
      "https://www.cnbc.com/2023/01/13/whartons-jeremy-siegel-says-the-us-really-solved-the-inflation-problem.html\n",
      "https://www.cnbc.com/alex-harring/\n",
      "https://www.cnbc.com/2023/01/14/bitcoin-climbs-above-20000-first-time-in-over-two-months.html\n",
      "https://www.cnbc.com/2023/01/14/bitcoin-climbs-above-20000-first-time-in-over-two-months.html\n",
      "https://www.cnbc.com/2023/01/14/climate-change-oil-ceo-sultan-al-jaber-is-ideal-person-to-lead-cop-28.html\n",
      "https://www.cnbc.com/fred-kempe/\n",
      "https://www.cnbc.com/2023/01/14/climate-change-oil-ceo-sultan-al-jaber-is-ideal-person-to-lead-cop-28.html\n",
      "https://www.cnbc.com/fred-kempe/\n",
      "https://www.cnbc.com/2023/01/15/at-least-16-killed-in-nepals-worst-air-crash-in-30-years.html\n",
      "https://www.cnbc.com/2023/01/15/at-least-16-killed-in-nepals-worst-air-crash-in-30-years.html\n",
      "/pro/\n",
      "https://www.cnbc.com/2023/01/13/jpmorgan-upgrades-this-under-the-radar-latin-american-airline-says-it-can-rally-50percent.html\n",
      "https://www.cnbc.com/alex-harring/\n",
      "https://www.cnbc.com/2023/01/13/jpmorgan-upgrades-this-under-the-radar-latin-american-airline-says-it-can-rally-50percent.html\n",
      "https://www.cnbc.com/alex-harring/\n",
      "https://www.cnbc.com/2023/01/15/iranian-oil-exports-end-2022-at-a-high-despite-no-nuclear-deal.html\n",
      "https://www.cnbc.com/2023/01/15/iranian-oil-exports-end-2022-at-a-high-despite-no-nuclear-deal.html\n",
      "https://www.cnbc.com/2023/01/13/flash-star-ezra-miller-avoids-jail-trespassing-plea-deal.html\n",
      "https://www.cnbc.com/2023/01/13/flash-star-ezra-miller-avoids-jail-trespassing-plea-deal.html\n",
      "https://www.cnbc.com/2023/01/13/sweden-mining-company-lkap-finds-big-deposit-of-rare-earth-metals.html\n",
      "https://www.cnbc.com/2023/01/13/sweden-mining-company-lkap-finds-big-deposit-of-rare-earth-metals.html\n",
      "https://www.cnbc.com/2023/01/12/stock-market-futures-open-to-close-news.html\n",
      "https://www.cnbc.com/tanaya-macheel/\n",
      "https://www.cnbc.com/samantha-subin/\n",
      "https://www.cnbc.com/2023/01/12/stock-market-futures-open-to-close-news.html\n",
      "https://www.cnbc.com/tanaya-macheel/\n",
      "https://www.cnbc.com/samantha-subin/\n",
      "https://www.cnbc.com/2023/01/13/germanys-scholz-only-g7-leader-set-to-attend-davos.html\n",
      "https://www.cnbc.com/jenni-reid/\n",
      "https://www.cnbc.com/2023/01/13/germanys-scholz-only-g7-leader-set-to-attend-davos.html\n",
      "https://www.cnbc.com/jenni-reid/\n",
      "/pro/\n",
      "https://www.cnbc.com/2023/01/13/wall-streets-favorite-income-plays-for-2023.html\n",
      "https://www.cnbc.com/michelle-fox/\n",
      "https://www.cnbc.com/2023/01/13/wall-streets-favorite-income-plays-for-2023.html\n",
      "https://www.cnbc.com/michelle-fox/\n",
      "https://www.cnbc.com/2023/01/14/russian-missiles-strike-vital-infrastructure-in-kyiv-and-kharkiv.html\n",
      "https://www.cnbc.com/2023/01/14/russian-missiles-strike-vital-infrastructure-in-kyiv-and-kharkiv.html\n",
      "https://www.cnbc.com/2023/01/13/us-will-hit-its-debt-limit-thursday-start-taking-steps-to-avoid-default-yellen-warns-congress.html\n",
      "https://www.cnbc.com/dan-mangan/\n",
      "https://www.cnbc.com/christina-wilkie/\n",
      "https://www.cnbc.com/kayla-tausche/\n",
      "https://www.cnbc.com/2023/01/13/us-will-hit-its-debt-limit-thursday-start-taking-steps-to-avoid-default-yellen-warns-congress.html\n",
      "https://www.cnbc.com/dan-mangan/\n",
      "https://www.cnbc.com/christina-wilkie/\n",
      "https://www.cnbc.com/kayla-tausche/\n",
      "https://www.cnbc.com/2023/01/14/iran-executes-british-iranian-national-despite-uk-us-pleas.html\n",
      "https://www.cnbc.com/2023/01/14/iran-executes-british-iranian-national-despite-uk-us-pleas.html\n",
      "https://www.cnbc.com/2023/01/14/brazil-top-court-to-investigate-bolsonaro-role-in-brasilia-riots.html\n",
      "https://www.cnbc.com/2023/01/14/brazil-top-court-to-investigate-bolsonaro-role-in-brasilia-riots.html\n",
      "https://www.cnbc.com/2023/01/14/qatar-uae-energy-ministers-say-gas-will-be-needed-for-long-time.html\n",
      "https://www.cnbc.com/2023/01/14/qatar-uae-energy-ministers-say-gas-will-be-needed-for-long-time.html\n",
      "https://www.cnbc.com/2023/01/13/biden-and-kishida-to-discuss-japan-stepping-up-security.html\n",
      "https://www.cnbc.com/2023/01/13/biden-and-kishida-to-discuss-japan-stepping-up-security.html\n",
      "https://www.cnbc.com/2023/01/13/pfizer-covid-booster-likely-doesnt-carry-stroke-risk-for-seniors-cdc-says.html\n",
      "https://www.cnbc.com/spencer-kimball/\n",
      "https://www.cnbc.com/2023/01/13/pfizer-covid-booster-likely-doesnt-carry-stroke-risk-for-seniors-cdc-says.html\n",
      "https://www.cnbc.com/spencer-kimball/\n",
      "https://www.cnbc.com/2023/01/14/a-battle-between-disney-and-activist-peltz-brews-heres-how-the-situation-may-unfold.html\n",
      "https://www.cnbc.com/kenneth-squire/\n",
      "https://www.cnbc.com/2023/01/14/a-battle-between-disney-and-activist-peltz-brews-heres-how-the-situation-may-unfold.html\n",
      "https://www.cnbc.com/kenneth-squire/\n",
      "//www.cnbc.com/us-market-movers/\n",
      "/us-market-movers/\n",
      "/stocks/\n",
      "/pro/\n",
      "https://www.cnbc.com/2023/01/14/the-bold-bullish-case-to-be-made-for-us-stocks-one-that-not-many-are-voicing-just-yet.html\n",
      "https://www.cnbc.com/michael-santoli/\n",
      "/pro/\n",
      "https://www.cnbc.com/2023/01/13/corporate-profit-reports-in-the-week-ahead-could-show-earnings-recession.html\n",
      "https://www.cnbc.com/patti-domm/\n",
      "/pro/\n",
      "https://www.cnbc.com/2023/01/13/whartons-jeremy-siegel-says-the-us-really-solved-the-inflation-problem.html\n",
      "https://www.cnbc.com/alex-harring/\n",
      "https://www.cnbc.com/2023/01/12/stock-market-futures-open-to-close-news.html\n",
      "https://www.cnbc.com/tanaya-macheel/\n",
      "https://www.cnbc.com/samantha-subin/\n",
      "//www.cnbc.com/live-tv/\n",
      "//www.cnbc.com/latest-video/\n",
      "https://www.cnbc.com/video/2023/01/07/the-rise-and-fall-of-the-boeing-747.html\n",
      "https://www.cnbc.com/video/2023/01/08/how-medical-debt-became-normal-in-the-us.html\n",
      "https://www.cnbc.com/video/2023/01/09/how-to-retire-with-2-million-on-a-100000-annual-salary.html\n",
      "https://www.cnbc.com/special-reports/\n",
      "https://www.cnbc.com/2023/01/13/bill-gates-we-will-overshoot-1point5-degrees-of-global-warming.html\n",
      "https://www.cnbc.com/2023/01/12/updates-to-student-loan-repayment.html\n",
      "https://www.cnbc.com/2023/01/15/mark-cuban-on-broadcastcom-streaming-people-thought-i-was-an-idiot.html\n",
      "https://www.cnbc.com/2023/01/14/side-hustles-for-introverts-some-can-bring-in-tens-of-thousands-.html\n",
      "https://www.cnbc.com/2023/01/15/state-run-auto-ira-programs-continue-growing-as-more-options-launch.html\n",
      "https://www.cnbc.com/pro/news/\n",
      "https://www.cnbc.com/2023/01/15/a-busier-movie-calendar-may-lead-to-a-15percent-jump-in-box-office-sales.html\n",
      "/pro/\n",
      "https://www.cnbc.com/2023/01/15/a-busier-movie-calendar-may-lead-to-a-15percent-jump-in-box-office-sales.html\n",
      "https://www.cnbc.com/christina-cheddar-berk/\n",
      "https://www.cnbc.com/2023/01/15/these-tactical-trades-are-some-of-goldmans-ways-to-play-q4-earnings.html\n",
      "/pro/\n",
      "https://www.cnbc.com/2023/01/15/these-tactical-trades-are-some-of-goldmans-ways-to-play-q4-earnings.html\n",
      "https://www.cnbc.com/jesse-pound/\n",
      "https://www.cnbc.com/2023/01/15/wall-streets-favorite-retail-stocks-include-amazon-and-this-little-known-shoe-company.html\n",
      "/pro/\n",
      "https://www.cnbc.com/2023/01/15/wall-streets-favorite-retail-stocks-include-amazon-and-this-little-known-shoe-company.html\n",
      "https://www.cnbc.com/samantha-subin/\n",
      "https://www.cnbc.com/2023/01/14/the-bold-bullish-case-to-be-made-for-us-stocks-one-that-not-many-are-voicing-just-yet.html\n",
      "/pro/\n",
      "https://www.cnbc.com/2023/01/14/the-bold-bullish-case-to-be-made-for-us-stocks-one-that-not-many-are-voicing-just-yet.html\n",
      "https://www.cnbc.com/michael-santoli/\n",
      "https://www.cnbc.com/2023/01/14/stocks-like-dicks-sporting-goods-verizon-are-morgan-stanleys-best-buys-for-2023.html\n",
      "/pro/\n",
      "https://www.cnbc.com/2023/01/14/stocks-like-dicks-sporting-goods-verizon-are-morgan-stanleys-best-buys-for-2023.html\n",
      "https://www.cnbc.com/michael-bloom/\n",
      "https://www.cnbc.com/sustainable-future/\n",
      "https://www.cnbc.com/2023/01/12/the-world-is-at-the-dawn-of-a-new-industrial-age-iea-says-.html\n",
      "https://www.cnbc.com/2023/01/12/the-world-is-at-the-dawn-of-a-new-industrial-age-iea-says-.html\n",
      "https://www.cnbc.com/anmar-frangoul-profile--cnbc/\n",
      "https://www.cnbc.com/video/2023/01/13/the-body-shops-chris-davis-talks-recycling-and-the-circular-economy.html\n",
      "https://www.cnbc.com/video/2023/01/13/the-body-shops-chris-davis-talks-recycling-and-the-circular-economy.html\n",
      "https://www.cnbc.com/video/2022/12/29/carbon-disclosure-project-progress-slow-on-deforestation-water-security.html\n",
      "https://www.cnbc.com/video/2022/12/29/carbon-disclosure-project-progress-slow-on-deforestation-water-security.html\n",
      "https://www.cnbc.com/2022/11/20/cop27-new-global-climate-deal-struck-at-conference-in-egypt.html\n",
      "https://www.cnbc.com/2022/11/20/cop27-new-global-climate-deal-struck-at-conference-in-egypt.html\n",
      "https://www.cnbc.com/sam-meredith/\n",
      "https://www.cnbc.com/2022/11/18/indiscriminate-use-of-hydrogen-could-slow-energy-transition-report.html\n",
      "https://www.cnbc.com/2022/11/18/indiscriminate-use-of-hydrogen-could-slow-energy-transition-report.html\n",
      "https://www.cnbc.com/anmar-frangoul-profile--cnbc/\n",
      "https://www.cnbc.com/coronavirus/\n",
      "https://www.cnbc.com/2023/01/13/pfizer-covid-booster-likely-doesnt-carry-stroke-risk-for-seniors-cdc-says.html\n",
      "https://www.cnbc.com/2023/01/13/pfizer-covid-booster-likely-doesnt-carry-stroke-risk-for-seniors-cdc-says.html\n",
      "https://www.cnbc.com/spencer-kimball/\n",
      "https://www.cnbc.com/2023/01/13/us-uninsured-rate-fell-during-covid-pandemic-as-medicaid-and-obamacare-coverage-grew.html\n",
      "https://www.cnbc.com/2023/01/13/us-uninsured-rate-fell-during-covid-pandemic-as-medicaid-and-obamacare-coverage-grew.html\n",
      "https://www.cnbc.com/spencer-kimball/\n",
      "https://www.cnbc.com/2023/01/13/jpmorgan-chase-jpm-earnings-4q-2022.html\n",
      "https://www.cnbc.com/2023/01/13/jpmorgan-chase-jpm-earnings-4q-2022.html\n",
      "https://www.cnbc.com/hugh-son/\n",
      "https://www.cnbc.com/2023/01/13/singapore-covid-travel-rules-why-singapore-isnt-singling-china-out.html\n",
      "https://www.cnbc.com/2023/01/13/singapore-covid-travel-rules-why-singapore-isnt-singling-china-out.html\n",
      "https://www.cnbc.com/monica-pitrelli/\n",
      "https://www.cnbc.com/2023/01/12/measles-250000-kindergarteners-are-vulnerable-due-to-drop-in-vaccination-rate-.html\n",
      "https://www.cnbc.com/2023/01/12/measles-250000-kindergarteners-are-vulnerable-due-to-drop-in-vaccination-rate-.html\n",
      "https://www.cnbc.com/spencer-kimball/\n",
      "https://www.cnbc.com/cnbc-travel/\n",
      "https://www.cnbc.com/2023/01/13/singapore-covid-travel-rules-why-singapore-isnt-singling-china-out.html\n",
      "https://www.cnbc.com/2023/01/13/singapore-covid-travel-rules-why-singapore-isnt-singling-china-out.html\n",
      "https://www.cnbc.com/monica-pitrelli/\n",
      "https://www.cnbc.com/2023/01/11/south-korea-covid-rules-not-discriminatory-to-chinese-travelers.html\n",
      "https://www.cnbc.com/2023/01/11/south-korea-covid-rules-not-discriminatory-to-chinese-travelers.html\n",
      "https://www.cnbc.com/monica-pitrelli/\n",
      "https://www.cnbc.com/2023/01/10/covid-travel-rules-chinese-are-angry-at-south-korea-and-japan.html\n",
      "https://www.cnbc.com/2023/01/10/covid-travel-rules-chinese-are-angry-at-south-korea-and-japan.html\n",
      "https://www.cnbc.com/monica-pitrelli/\n",
      "https://www.cnbc.com/2022/12/23/how-do-christmas-traditions-vary-around-the-world-see-the-photos.html\n",
      "https://www.cnbc.com/2022/12/23/how-do-christmas-traditions-vary-around-the-world-see-the-photos.html\n",
      "https://www.cnbc.com/natalie-tham/\n",
      "https://www.cnbc.com/2022/12/22/what-to-make-for-christmas-dinner-it-depends-on-where-you-live.html\n",
      "https://www.cnbc.com/2022/12/22/what-to-make-for-christmas-dinner-it-depends-on-where-you-live.html\n",
      "https://www.cnbc.com/monica-pitrelli/\n",
      "https://www.cnbc.com/make-it/\n",
      "https://www.cnbc.com/2023/01/15/self-made-millionaire-habits-to-start-in-your-20s-for-a-successful-life.html\n",
      "https://www.cnbc.com/2023/01/15/self-made-millionaire-habits-to-start-in-your-20s-for-a-successful-life.html\n",
      "https://www.cnbc.com/morgan-smith/\n",
      "https://www.cnbc.com/2023/01/15/want-to-sound-more-assertive-avoid-these-phrases-that-make-you-sound-weak-timid-word-experts.html\n",
      "https://www.cnbc.com/2023/01/15/want-to-sound-more-assertive-avoid-these-phrases-that-make-you-sound-weak-timid-word-experts.html\n",
      "https://www.cnbc.com/kathy-and-ross-petras/\n",
      "https://www.cnbc.com/2023/01/15/mark-cuban-on-broadcastcom-streaming-people-thought-i-was-an-idiot.html\n",
      "https://www.cnbc.com/2023/01/15/mark-cuban-on-broadcastcom-streaming-people-thought-i-was-an-idiot.html\n",
      "https://www.cnbc.com/tom-huddleston-jr/\n",
      "https://www.cnbc.com/2023/01/14/veganuary-3-ways-to-meet-your-protein-goals-on-a-plant-based-diet.html\n",
      "https://www.cnbc.com/2023/01/14/veganuary-3-ways-to-meet-your-protein-goals-on-a-plant-based-diet.html\n",
      "https://www.cnbc.com/renee-onque/\n",
      "https://www.cnbc.com/2023/01/14/best-performing-stocks-of-2022.html\n",
      "https://www.cnbc.com/2023/01/14/best-performing-stocks-of-2022.html\n",
      "https://www.cnbc.com/ryan-ermey-bio/\n",
      "https://www.cnbc.com/investing-in-supertrends/\n",
      "https://www.cnbc.com/2022/08/18/web3-is-in-chaos-metaverses-in-walled-gardens-randi-zuckerberg.html\n",
      "https://www.cnbc.com/2022/08/18/web3-is-in-chaos-metaverses-in-walled-gardens-randi-zuckerberg.html\n",
      "https://www.cnbc.com/goh-chiew-tong/\n",
      "https://www.cnbc.com/2022/08/17/japan-support-for-nuclear-restart-is-highest-since-fukushima-disaster.html\n",
      "https://www.cnbc.com/2022/08/17/japan-support-for-nuclear-restart-is-highest-since-fukushima-disaster.html\n",
      "https://www.cnbc.com/lee-ying-shan/\n",
      "https://www.cnbc.com/2022/08/10/india-australia-singapore-firms-jobs-are-in-these-sectors-linkedin.html\n",
      "https://www.cnbc.com/2022/08/10/india-australia-singapore-firms-jobs-are-in-these-sectors-linkedin.html\n",
      "https://www.cnbc.com/charmaine-jacob/\n",
      "https://www.cnbc.com/2022/08/08/baidus-robotaxis-dont-need-any-human-staff-in-these-parts-of-china.html\n",
      "https://www.cnbc.com/2022/08/08/baidus-robotaxis-dont-need-any-human-staff-in-these-parts-of-china.html\n",
      "https://www.cnbc.com/evelyn-cheng/\n",
      "https://www.cnbc.com/2021/07/26/action-on-climate-change-can-boost-global-economy-economist-says.html\n",
      "https://www.cnbc.com/2021/07/26/action-on-climate-change-can-boost-global-economy-economist-says.html\n",
      "//www.cnbc.com\n",
      "//www.cnbc.com/application/pro/?__source=pro|globalfooter\n",
      "//www.cnbc.com/cnbc-reprints/\n",
      "https://www.cnbccouncils.com/\n",
      "//www.cnbc.com/select/\n",
      "https://www.peacocktv.com/?cid=20200101evergreensymdisp009&utm_source=cnbc&utm_medium=symphony_editorial_brandawareness_footerlink&utm_campaign=20200101evergreen&utm_term=na&utm_content=na_na/\n",
      "https://cnbcrsh.qualtrics.com/jfe/form/SV_8v2FqPLC71m5Gaq?Origin=cnbc\n",
      "https://corporate.comcast.com/values/integrity\n",
      "https://www.nbcnews.com/select\n",
      "//www.cnbc.com/closed-captioning/\n",
      "//www.cnbc.com/digital-products/\n",
      "//www.cnbc.com/cnbc-news-releases/\n",
      "//www.cnbc.com/cnbc-internship-program/\n",
      "//www.cnbc.com/corrections/\n",
      "//www.cnbc.com/about/\n",
      "https://www.nbcuniversal.com/privacy/cookies#cookie_management\n",
      "//www.cnbc.com/site-map/\n",
      "//www.cnbc.com/podcast/\n",
      "//www.cnbc.com/cnbc-careers-and-employment/\n",
      "https://help.cnbc.com/\n",
      "https://help.cnbc.com/contact/\n",
      "https://www.facebook.com/cnbc/\n",
      "https://www.twitter.com/cnbc/\n",
      "https://www.linkedin.com/company/cnbc/\n",
      "https://www.instagram.com/cnbc/\n",
      "https://www.youtube.com/user/cnbc/\n",
      "https://apple.news/T3OtoXcxtRkuHRkM7SpFP_Q\n",
      "//www.cnbc.com/rss-feeds/\n",
      "//www.cnbc.com/news-tips/\n",
      "https://together.nbcuni.com/advertise/?utm_source=cnbc&utm_medium=referral&utm_campaign=property_ad_pages\n",
      "//www.cnbc.com/sign-up-for-cnbc-newsletters/\n",
      "https://www.nbcuniversal.com/privacy?intake=CNBC\n",
      "https://www.nbcuniversal.com/privacy/notrtoo?intake=CNBC\n",
      "https://www.nbcuniversal.com/privacy/california-consumer-privacy-act?intake=CNBC\n",
      "/nbcuniversal-terms-of-service/\n",
      "https://www.nbcuniversal.com\n",
      "/market-data-terms-of-service/\n",
      "//www.cnbc.com/market-data-terms-of-service/\n"
     ]
    }
   ],
   "source": [
    "# Scarpping news Link\n",
    "\n",
    "Link = []\n",
    "for link in soup7.find_all('a'):\n",
    "    print(link.get('href'))"
   ]
  },
  {
   "cell_type": "code",
   "execution_count": 94,
   "id": "a5c194bb",
   "metadata": {},
   "outputs": [],
   "source": [
    "# 8) Write a python program to scrape the details of most downloaded articles from AI in last 90 days."
   ]
  },
  {
   "cell_type": "code",
   "execution_count": 95,
   "id": "b842ef44",
   "metadata": {},
   "outputs": [
    {
     "data": {
      "text/plain": [
       "<Response [200]>"
      ]
     },
     "execution_count": 95,
     "metadata": {},
     "output_type": "execute_result"
    }
   ],
   "source": [
    "page=requests.get('https://www.journals.elsevier.com/artificial-intelligence/most-downloaded-articles')\n",
    "page"
   ]
  },
  {
   "cell_type": "code",
   "execution_count": 96,
   "id": "ce5a63f7",
   "metadata": {},
   "outputs": [],
   "source": [
    "# Page content\n",
    "\n",
    "soup8=BeautifulSoup(page.content)"
   ]
  },
  {
   "cell_type": "code",
   "execution_count": 97,
   "id": "70145a30",
   "metadata": {},
   "outputs": [
    {
     "data": {
      "text/plain": [
       "['Reward is enough',\n",
       " 'Making sense of raw input',\n",
       " 'Law and logic: A review from an argumentation perspective',\n",
       " 'Creativity and artificial intelligence',\n",
       " 'Artificial cognition for social human–robot interaction: An implementation',\n",
       " 'Explanation in artificial intelligence: Insights from the social sciences',\n",
       " 'Making sense of sensory input',\n",
       " 'Conflict-based search for optimal multi-agent pathfinding',\n",
       " 'Between MDPs and semi-MDPs: A framework for temporal abstraction in reinforcement learning',\n",
       " 'The Hanabi challenge: A new frontier for AI research',\n",
       " 'Evaluating XAI: A comparison of rule-based and example-based explanations',\n",
       " 'Argumentation in artificial intelligence',\n",
       " 'Algorithms for computing strategies in two-player simultaneous move games',\n",
       " 'Multiple object tracking: A literature review',\n",
       " 'Selection of relevant features and examples in machine learning',\n",
       " 'A survey of inverse reinforcement learning: Challenges, methods and progress',\n",
       " 'Explaining individual predictions when features are dependent: More accurate approximations to Shapley values',\n",
       " 'A review of possible effects of cognitive biases on interpretation of rule-based machine learning models',\n",
       " 'Integrating social power into the decision-making of cognitive agents',\n",
       " \"“That's (not) the output I expected!” On the role of end user expectations in creating explanations of AI systems\",\n",
       " 'Explaining black-box classifiers using post-hoc explanations-by-example: The effect of explanations and error-rates in XAI user studies',\n",
       " 'Algorithm runtime prediction: Methods & evaluation',\n",
       " 'Wrappers for feature subset selection',\n",
       " 'Commonsense visual sensemaking for autonomous driving – On generalised neurosymbolic online abduction integrating vision and semantics',\n",
       " 'Quantum computation, quantum theory and AI']"
      ]
     },
     "execution_count": 97,
     "metadata": {},
     "output_type": "execute_result"
    }
   ],
   "source": [
    "# 1) Scrapping news Paper_Title\n",
    "\n",
    "Paper_Title=[]  # empty list for storing\n",
    "\n",
    "for i in soup8.find_all(\"h2\",class_=\"sc-1qrq3sd-1 gRGSUS sc-1nmom32-0 sc-1nmom32-1 btcbYu goSKRg\"):\n",
    "    Paper_Title.append(i.text)\n",
    "Paper_Title"
   ]
  },
  {
   "cell_type": "code",
   "execution_count": 98,
   "id": "3ace444d",
   "metadata": {},
   "outputs": [
    {
     "data": {
      "text/plain": [
       "['Silver, David, Singh, Satinder, Precup, Doina, Sutton, Richard S. ',\n",
       " 'Evans, Richard, Bošnjak, Matko and 5 more',\n",
       " 'Prakken, Henry, Sartor, Giovanni ',\n",
       " 'Boden, Margaret A. ',\n",
       " 'Lemaignan, Séverin, Warnier, Mathieu and 3 more',\n",
       " 'Miller, Tim ',\n",
       " 'Evans, Richard, Hernández-Orallo, José and 3 more',\n",
       " 'Sharon, Guni, Stern, Roni, Felner, Ariel, Sturtevant, Nathan R. ',\n",
       " 'Sutton, Richard S., Precup, Doina, Singh, Satinder ',\n",
       " 'Bard, Nolan, Foerster, Jakob N. and 13 more',\n",
       " 'van der Waa, Jasper, Nieuwburg, Elisabeth, Cremers, Anita, Neerincx, Mark ',\n",
       " 'Bench-Capon, T.J.M., Dunne, Paul E. ',\n",
       " 'Bošanský, Branislav, Lisý, Viliam and 3 more',\n",
       " 'Luo, Wenhan, Xing, Junliang and 4 more',\n",
       " 'Blum, Avrim L., Langley, Pat ',\n",
       " 'Arora, Saurabh, Doshi, Prashant ',\n",
       " 'Aas, Kjersti, Jullum, Martin, Løland, Anders ',\n",
       " 'Kliegr, Tomáš, Bahník, Štěpán, Fürnkranz, Johannes ',\n",
       " 'Pereira, Gonçalo, Prada, Rui, Santos, Pedro A. ',\n",
       " 'Riveiro, Maria, Thill, Serge ',\n",
       " 'Kenny, Eoin M., Ford, Courtney, Quinn, Molly, Keane, Mark T. ',\n",
       " 'Hutter, Frank, Xu, Lin, Hoos, Holger H., Leyton-Brown, Kevin ',\n",
       " 'Kohavi, Ron, John, George H. ',\n",
       " 'Suchan, Jakob, Bhatt, Mehul, Varadarajan, Srikrishna ',\n",
       " 'Ying, Mingsheng ']"
      ]
     },
     "execution_count": 98,
     "metadata": {},
     "output_type": "execute_result"
    }
   ],
   "source": [
    "# 2) Scrapping news Author\n",
    "\n",
    "Author=[]  # empty list for storing\n",
    "\n",
    "for i in soup8.find_all(\"span\",class_=\"sc-1w3fpd7-0 dnCnAO\"):\n",
    "    Author.append(i.text)\n",
    "Author"
   ]
  },
  {
   "cell_type": "code",
   "execution_count": 99,
   "id": "08b95c73",
   "metadata": {},
   "outputs": [
    {
     "data": {
      "text/plain": [
       "['October 2021',\n",
       " 'October 2021',\n",
       " 'October 2015',\n",
       " 'August 1998',\n",
       " 'June 2017',\n",
       " 'February 2019',\n",
       " 'April 2021',\n",
       " 'February 2015',\n",
       " 'August 1999',\n",
       " 'March 2020',\n",
       " 'February 2021',\n",
       " 'October 2007',\n",
       " 'August 2016',\n",
       " 'April 2021',\n",
       " 'December 1997',\n",
       " 'August 2021',\n",
       " 'September 2021',\n",
       " 'June 2021',\n",
       " 'December 2016',\n",
       " 'September 2021',\n",
       " 'May 2021',\n",
       " 'January 2014',\n",
       " 'December 1997',\n",
       " 'October 2021',\n",
       " 'February 2010']"
      ]
     },
     "execution_count": 99,
     "metadata": {},
     "output_type": "execute_result"
    }
   ],
   "source": [
    "# 2) Scrapping Published_Date\n",
    "\n",
    "Published_Date=[]  # empty list for storing\n",
    "\n",
    "for i in soup8.find_all(\"span\",class_=\"sc-1thf9ly-2 dvggWt\"):\n",
    "    Published_Date.append(i.text)\n",
    "Published_Date"
   ]
  },
  {
   "cell_type": "code",
   "execution_count": 100,
   "id": "5ddb59ea",
   "metadata": {},
   "outputs": [
    {
     "name": "stdout",
     "output_type": "stream",
     "text": [
      "#skip-to-content-anchor\n",
      "http://www.elsevier.com\n",
      "https://account.elsevier.com/auth\n",
      "https://elsevier.com/about\n",
      "https://www.elsevier.com/connect\n",
      "https://www.elsevier.com/about/careers\n",
      "https://elsevier.com/about\n",
      "https://www.elsevier.com/connect\n",
      "https://www.elsevier.com/about/careers\n",
      "https://www.elsevier.com/rd-solutions\n",
      "https://www.elsevier.com/clinical-solutions\n",
      "https://www.elsevier.com/research-platforms\n",
      "https://www.elsevier.com/research-intelligence\n",
      "https://www.elsevier.com/education\n",
      "https://www.elsevier.com/solutions\n",
      "https://www.elsevier.com/rd-solutions\n",
      "https://www.elsevier.com/clinical-solutions\n",
      "https://www.elsevier.com/research-platforms\n",
      "https://www.elsevier.com/research-intelligence\n",
      "https://www.elsevier.com/education\n",
      "https://www.elsevier.com/solutions\n",
      "https://www.elsevier.com/authors\n",
      "https://www.elsevier.com/editors\n",
      "https://www.elsevier.com/reviewers\n",
      "https://www.elsevier.com/librarians\n",
      "https://www.elsevier.com/strategic-partners\n",
      "https://www.elsevier.com/open-access\n",
      "https://www.elsevier.com/societies\n",
      "https://www.elsevier.com/authors\n",
      "https://www.elsevier.com/editors\n",
      "https://www.elsevier.com/reviewers\n",
      "https://www.elsevier.com/librarians\n",
      "https://www.elsevier.com/strategic-partners\n",
      "https://www.elsevier.com/open-access\n",
      "https://www.elsevier.com/societies\n",
      "https://www.elsevier.com/books-and-journals\n",
      "https://webshop.elsevier.com/?utm_source=ecom&utm_medium=top&utm_campaign=webshop\n",
      "https://www.elsevier.com/books-and-journals\n",
      "https://webshop.elsevier.com/?utm_source=ecom&utm_medium=top&utm_campaign=webshop\n",
      "https://global-checkout.elsevier.com\n",
      "https://account.elsevier.com/auth\n",
      "https://www.sciencedirect.com/science/journal/00043702\n",
      "https://www.editorialmanager.com/artint/default.aspx\n",
      "https://www.elsevier.com/\n",
      "https://www.elsevier.com/search-results?labels=journals\n",
      "/artificial-intelligence\n",
      "/artificial-intelligence/most-downloaded-articles\n",
      "https://www.sciencedirect.com/science/journal/00043702\n",
      "https://www.editorialmanager.com/artint/default.aspx\n",
      "https://www.sciencedirect.com/science/journal/00043702\n",
      "https://www.elsevier.com/journals/artificial-intelligence/0004-3702/guide-for-authors\n",
      "https://www.editorialmanager.com/artint/default.aspx\n",
      "https://authors.elsevier.com/tracking/landingpage/selection.do\n",
      "https://www.elsevier.com/journals/artificial-intelligence/0004-3702/subscribe?subscriptiontype=institutional\n",
      "https://www.sciencedirect.com/science/article/pii/S0004370221000862\n",
      "https://www.sciencedirect.com/science/article/pii/S0004370221000722\n",
      "https://www.sciencedirect.com/science/article/pii/S0004370215000910\n",
      "https://www.sciencedirect.com/science/article/pii/S0004370298000551\n",
      "https://www.sciencedirect.com/science/article/pii/S0004370216300790\n",
      "https://www.sciencedirect.com/science/article/pii/S0004370218305988\n",
      "https://www.sciencedirect.com/science/article/pii/S0004370220301855\n",
      "https://www.sciencedirect.com/science/article/pii/S0004370214001386\n",
      "https://www.sciencedirect.com/science/article/pii/S0004370299000521\n",
      "https://www.sciencedirect.com/science/article/pii/S0004370219300116\n",
      "https://www.sciencedirect.com/science/article/pii/S0004370220301533\n",
      "https://www.sciencedirect.com/science/article/pii/S0004370207000793\n",
      "https://www.sciencedirect.com/science/article/pii/S0004370216300285\n",
      "https://www.sciencedirect.com/science/article/pii/S0004370220301958\n",
      "https://www.sciencedirect.com/science/article/pii/S0004370297000635\n",
      "https://www.sciencedirect.com/science/article/pii/S0004370221000515\n",
      "https://www.sciencedirect.com/science/article/pii/S0004370221000539\n",
      "https://www.sciencedirect.com/science/article/pii/S0004370221000096\n",
      "https://www.sciencedirect.com/science/article/pii/S0004370216300868\n",
      "https://www.sciencedirect.com/science/article/pii/S0004370221000588\n",
      "https://www.sciencedirect.com/science/article/pii/S0004370221000102\n",
      "https://www.sciencedirect.com/science/article/pii/S0004370213001082\n",
      "https://www.sciencedirect.com/science/article/pii/S000437029700043X\n",
      "https://www.sciencedirect.com/science/article/pii/S0004370221000734\n",
      "https://www.sciencedirect.com/science/article/pii/S0004370209001398\n",
      "https://www.sciencedirect.com/science/journal/00043702\n",
      "https://www.sciencedirect.com/user/alerts\n",
      "https://www.sciencedirect.com/user/register?utm_campaign=sd_recommender_ELSJLS&utm_channel=elseco&dgcid=sd_recommender_ELSJLS\n",
      "http://www.elsevier.com/authors/home\n",
      "https://www.editorialmanager.com/artint/default.aspx\n",
      "https://www.editorialmanager.com/artint/default.aspx\n",
      "https://researcheracademy.elsevier.com\n",
      "https://www.elsevier.com/about/policies/copyright/permissions\n",
      "https://webshop.elsevier.com\n",
      "https://service.elsevier.com/app/home/supporthub/publishing/#authors\n",
      "https://authors.elsevier.com/tracking/landingpage/selection.do\n",
      "https://www.elsevier.com/librarians\n",
      "https://www.elsevier.com/journals/artificial-intelligence/0004-3702/subscribe?subscriptiontype=institutional\n",
      "http://www.elsevier.com/editors\n",
      "http://www.elsevier.com/editors/perk\n",
      "https://www.elsevier.com/editors/guest-editors\n",
      "https://service.elsevier.com/app/home/supporthub/publishing/#editors\n",
      "http://www.elsevier.com/reviewers\n",
      "https://www.elsevier.com/reviewers/how-to-review\n",
      "https://www.editorialmanager.com/artint/default.aspx\n",
      "https://www.elsevier.com/reviewers/becoming-a-reviewer-how-and-why#recognizing\n",
      "https://service.elsevier.com/app/home/supporthub/publishing/#reviewers\n",
      "https://www.elsevier.com\n",
      "//www.elsevier.com/legal/elsevier-website-terms-and-conditions\n",
      "//www.elsevier.com/legal/privacy-policy\n",
      "//www.elsevier.com/legal/cookienotice\n",
      "//www.elsevier.com/sitemap\n",
      "https://www.relx.com/\n"
     ]
    }
   ],
   "source": [
    "Paper_URL=['https://www.journals.elsevier.com/artificial-intelligence/most-downloaded-articles']  \n",
    "\n",
    "for link in soup8.find_all('a'):\n",
    "    print(link.get('href'))"
   ]
  },
  {
   "cell_type": "code",
   "execution_count": 101,
   "id": "a1d5b3a8",
   "metadata": {},
   "outputs": [],
   "source": [
    "#9) Write a python program to scrape mentioned details from dineout.co.in :"
   ]
  },
  {
   "cell_type": "code",
   "execution_count": 102,
   "id": "22c14092",
   "metadata": {},
   "outputs": [
    {
     "data": {
      "text/plain": [
       "<Response [200]>"
      ]
     },
     "execution_count": 102,
     "metadata": {},
     "output_type": "execute_result"
    }
   ],
   "source": [
    "page=requests.get('https://www.dineout.co.in/delhi-restaurants/buffet-special')\n",
    "page"
   ]
  },
  {
   "cell_type": "code",
   "execution_count": 103,
   "id": "b4866fef",
   "metadata": {},
   "outputs": [],
   "source": [
    "# Page content\n",
    "\n",
    "soup9=BeautifulSoup(page.content)"
   ]
  },
  {
   "cell_type": "code",
   "execution_count": 104,
   "id": "d5d513c0",
   "metadata": {},
   "outputs": [
    {
     "data": {
      "text/plain": [
       "['Castle Barbeque',\n",
       " 'Jungle Jamboree',\n",
       " 'Cafe Knosh',\n",
       " 'Castle Barbeque',\n",
       " 'The Barbeque Company',\n",
       " 'India Grill',\n",
       " 'Delhi Barbeque',\n",
       " 'The Monarch - Bar Be Que Village',\n",
       " 'Indian Grill Room']"
      ]
     },
     "execution_count": 104,
     "metadata": {},
     "output_type": "execute_result"
    }
   ],
   "source": [
    "# i) Restaurant_name\n",
    "\n",
    "Restaurant_name=[] \n",
    "\n",
    "for i in soup9.find_all('a',class_=\"restnt-name ellipsis\"):\n",
    "    Restaurant_name.append(i.text)\n",
    "Restaurant_name"
   ]
  },
  {
   "cell_type": "code",
   "execution_count": 105,
   "id": "1fbc5d89",
   "metadata": {},
   "outputs": [
    {
     "data": {
      "text/plain": [
       "['₹ 2,000 for 2 (approx) | Chinese, North Indian',\n",
       " '₹ 1,680 for 2 (approx) | North Indian, Asian, Italian',\n",
       " '₹ 3,000 for 2 (approx) | Italian, Continental',\n",
       " '₹ 2,000 for 2 (approx) | Chinese, North Indian',\n",
       " '₹ 1,700 for 2 (approx) | North Indian, Chinese',\n",
       " '₹ 2,400 for 2 (approx) | North Indian, Italian',\n",
       " '₹ 1,800 for 2 (approx) | North Indian',\n",
       " '₹ 1,900 for 2 (approx) | North Indian',\n",
       " '₹ 2,200 for 2 (approx) | North Indian, Mughlai']"
      ]
     },
     "execution_count": 105,
     "metadata": {},
     "output_type": "execute_result"
    }
   ],
   "source": [
    "# ii) Cuisine\n",
    "\n",
    "Cuisine=[] \n",
    "\n",
    "for i in soup9.find_all('span',class_='double-line-ellipsis'):\n",
    "    Cuisine.append(i.text)\n",
    "Cuisine"
   ]
  },
  {
   "cell_type": "code",
   "execution_count": 106,
   "id": "91a45c55",
   "metadata": {},
   "outputs": [
    {
     "data": {
      "text/plain": [
       "['Connaught Place, Central Delhi',\n",
       " '3CS Mall,Lajpat Nagar - 3, South Delhi',\n",
       " 'The Leela Ambience Convention Hotel,Shahdara, East Delhi',\n",
       " 'Pacific Mall,Tagore Garden, West Delhi',\n",
       " 'Gardens Galleria,Sector 38A, Noida',\n",
       " 'Hilton Garden Inn,Saket, South Delhi',\n",
       " 'Taurus Sarovar Portico,Mahipalpur, South Delhi',\n",
       " 'Indirapuram Habitat Centre,Indirapuram, Ghaziabad',\n",
       " 'Suncity Business Tower,Golf Course Road, Gurgaon']"
      ]
     },
     "execution_count": 106,
     "metadata": {},
     "output_type": "execute_result"
    }
   ],
   "source": [
    "# iii) Location\n",
    "location=[]  \n",
    "\n",
    "for i in soup9.find_all('div',class_=\"restnt-loc ellipsis\"):\n",
    "    location.append(i.text)\n",
    "location"
   ]
  },
  {
   "cell_type": "code",
   "execution_count": 107,
   "id": "b3c62bc1",
   "metadata": {},
   "outputs": [
    {
     "data": {
      "text/plain": [
       "['4.1', '3.9', '4.3', '3.9', '4', '3.9', '3.6', '3.8', '4.3']"
      ]
     },
     "execution_count": 107,
     "metadata": {},
     "output_type": "execute_result"
    }
   ],
   "source": [
    "# iv) Ratings\n",
    "\n",
    "Ratings=[]  \n",
    "\n",
    "for i in soup9.find_all('div',class_=\"restnt-rating rating-4\"):\n",
    "    Ratings.append(i.text)\n",
    "Ratings"
   ]
  },
  {
   "cell_type": "code",
   "execution_count": 108,
   "id": "aa233ea4",
   "metadata": {},
   "outputs": [
    {
     "data": {
      "text/plain": [
       "['https://im1.dineout.co.in/images/uploads/restaurant/sharpen/8/k/b/p86792-16062953735fbe1f4d3fb7e.jpg?tr=tr:n-medium',\n",
       " 'https://im1.dineout.co.in/images/uploads/restaurant/sharpen/5/p/m/p59633-166088382462ff137009010.jpg?tr=tr:n-medium',\n",
       " 'https://im1.dineout.co.in/images/uploads/restaurant/sharpen/4/p/m/p406-15438184745c04ccea491bc.jpg?tr=tr:n-medium',\n",
       " 'https://im1.dineout.co.in/images/uploads/restaurant/sharpen/3/j/o/p38113-15959192065f1fcb666130c.jpg?tr=tr:n-medium',\n",
       " 'https://im1.dineout.co.in/images/uploads/restaurant/sharpen/7/p/k/p79307-16051787755fad1597f2bf9.jpg?tr=tr:n-medium',\n",
       " 'https://im1.dineout.co.in/images/uploads/restaurant/sharpen/2/v/t/p2687-1482477169585cce712b90f.jpg?tr=tr:n-medium',\n",
       " 'https://im1.dineout.co.in/images/uploads/restaurant/sharpen/5/d/i/p52501-1661855212630de5eceb6d2.jpg?tr=tr:n-medium',\n",
       " 'https://im1.dineout.co.in/images/uploads/restaurant/sharpen/3/n/o/p34822-15599107305cfa594a13c24.jpg?tr=tr:n-medium',\n",
       " 'https://im1.dineout.co.in/images/uploads/restaurant/sharpen/5/y/f/p549-165000147262590640c0afc.jpg?tr=tr:n-medium']"
      ]
     },
     "execution_count": 108,
     "metadata": {},
     "output_type": "execute_result"
    }
   ],
   "source": [
    "# v) Image URL\n",
    "\n",
    "images=[]\n",
    "for i in soup9.find_all(\"img\",class_=\"no-img\"):\n",
    "    images.append(i.get('data-src'))\n",
    "\n",
    "images"
   ]
  },
  {
   "cell_type": "code",
   "execution_count": 109,
   "id": "67547bf8",
   "metadata": {},
   "outputs": [],
   "source": [
    "# 10) Write a python program to scrape the details of top publications from Google Scholar from"
   ]
  },
  {
   "cell_type": "code",
   "execution_count": 110,
   "id": "92d35212",
   "metadata": {},
   "outputs": [
    {
     "data": {
      "text/plain": [
       "<Response [429]>"
      ]
     },
     "execution_count": 110,
     "metadata": {},
     "output_type": "execute_result"
    }
   ],
   "source": [
    "page=requests.get('https://scholar.google.com/citations?view_op=top_venues&hl=en')\n",
    "page"
   ]
  },
  {
   "cell_type": "code",
   "execution_count": null,
   "id": "c86a9012",
   "metadata": {},
   "outputs": [],
   "source": []
  }
 ],
 "metadata": {
  "kernelspec": {
   "display_name": "Python 3 (ipykernel)",
   "language": "python",
   "name": "python3"
  },
  "language_info": {
   "codemirror_mode": {
    "name": "ipython",
    "version": 3
   },
   "file_extension": ".py",
   "mimetype": "text/x-python",
   "name": "python",
   "nbconvert_exporter": "python",
   "pygments_lexer": "ipython3",
   "version": "3.9.12"
  }
 },
 "nbformat": 4,
 "nbformat_minor": 5
}
