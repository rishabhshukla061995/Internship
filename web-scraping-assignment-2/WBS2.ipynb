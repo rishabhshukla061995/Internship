{
 "cells": [
  {
   "cell_type": "code",
   "execution_count": 4,
   "id": "e0cdbe71",
   "metadata": {},
   "outputs": [
    {
     "name": "stdout",
     "output_type": "stream",
     "text": [
      "Requirement already satisfied: selenium in c:\\users\\punit\\anaconda3\\lib\\site-packages (4.7.2)\n",
      "Requirement already satisfied: trio-websocket~=0.9 in c:\\users\\punit\\anaconda3\\lib\\site-packages (from selenium) (0.9.2)\n",
      "Requirement already satisfied: trio~=0.17 in c:\\users\\punit\\anaconda3\\lib\\site-packages (from selenium) (0.22.0)\n",
      "Requirement already satisfied: certifi>=2021.10.8 in c:\\users\\punit\\anaconda3\\lib\\site-packages (from selenium) (2022.9.14)\n",
      "Requirement already satisfied: urllib3[socks]~=1.26 in c:\\users\\punit\\anaconda3\\lib\\site-packages (from selenium) (1.26.11)\n",
      "Requirement already satisfied: sniffio in c:\\users\\punit\\anaconda3\\lib\\site-packages (from trio~=0.17->selenium) (1.2.0)\n",
      "Requirement already satisfied: exceptiongroup>=1.0.0rc9 in c:\\users\\punit\\anaconda3\\lib\\site-packages (from trio~=0.17->selenium) (1.1.0)\n",
      "Requirement already satisfied: outcome in c:\\users\\punit\\anaconda3\\lib\\site-packages (from trio~=0.17->selenium) (1.2.0)\n",
      "Requirement already satisfied: cffi>=1.14 in c:\\users\\punit\\anaconda3\\lib\\site-packages (from trio~=0.17->selenium) (1.15.1)\n",
      "Requirement already satisfied: sortedcontainers in c:\\users\\punit\\anaconda3\\lib\\site-packages (from trio~=0.17->selenium) (2.4.0)\n",
      "Requirement already satisfied: idna in c:\\users\\punit\\anaconda3\\lib\\site-packages (from trio~=0.17->selenium) (3.3)\n",
      "Requirement already satisfied: async-generator>=1.9 in c:\\users\\punit\\anaconda3\\lib\\site-packages (from trio~=0.17->selenium) (1.10)\n",
      "Requirement already satisfied: attrs>=19.2.0 in c:\\users\\punit\\anaconda3\\lib\\site-packages (from trio~=0.17->selenium) (21.4.0)\n",
      "Requirement already satisfied: wsproto>=0.14 in c:\\users\\punit\\anaconda3\\lib\\site-packages (from trio-websocket~=0.9->selenium) (1.2.0)\n",
      "Requirement already satisfied: PySocks!=1.5.7,<2.0,>=1.5.6 in c:\\users\\punit\\anaconda3\\lib\\site-packages (from urllib3[socks]~=1.26->selenium) (1.7.1)\n",
      "Requirement already satisfied: pycparser in c:\\users\\punit\\anaconda3\\lib\\site-packages (from cffi>=1.14->trio~=0.17->selenium) (2.21)\n",
      "Requirement already satisfied: h11<1,>=0.9.0 in c:\\users\\punit\\anaconda3\\lib\\site-packages (from wsproto>=0.14->trio-websocket~=0.9->selenium) (0.14.0)\n"
     ]
    }
   ],
   "source": [
    "!pip install selenium"
   ]
  },
  {
   "cell_type": "code",
   "execution_count": 5,
   "id": "e4f1c336",
   "metadata": {},
   "outputs": [],
   "source": [
    "import selenium\n",
    "from selenium import webdriver\n",
    "import pandas as pd\n",
    "from selenium.webdriver.common.by import By\n",
    "import time\n",
    "\n",
    "import warnings\n",
    "warnings.filterwarnings(\"ignore\")"
   ]
  },
  {
   "cell_type": "code",
   "execution_count": 6,
   "id": "599f4f41",
   "metadata": {},
   "outputs": [],
   "source": [
    "#Q1: Write a python program to scrape data for “Data Analyst” Job position in “Bangalore” location. You have to scrape the job-title, job-location, company_name, experience_required. You have to scrape first 10 jobs data."
   ]
  },
  {
   "cell_type": "code",
   "execution_count": 7,
   "id": "5078aa48",
   "metadata": {},
   "outputs": [],
   "source": [
    "driver=webdriver.Chrome(r\"C:\\Users\\Public\\Desktop/chromedriver\\ 4\\\\chromedriver.exe\")\n"
   ]
  },
  {
   "cell_type": "code",
   "execution_count": 8,
   "id": "906e0220",
   "metadata": {},
   "outputs": [],
   "source": [
    "driver.get(\"http://www.naukri.com/\")"
   ]
  },
  {
   "cell_type": "code",
   "execution_count": 9,
   "id": "2b1426ca",
   "metadata": {},
   "outputs": [],
   "source": [
    "# Entering Designation and location as required in the question\n",
    "\n",
    "designation=driver.find_element(By.CLASS_NAME,\"suggestor-input\")\n",
    "designation.send_keys('Data Analyst')\n",
    "\n",
    "\n",
    "location=driver.find_element(By.XPATH,\"/html/body/div[1]/div[6]/div/div/div[5]/div/div/div/input\")\n",
    "location.send_keys('Banglore')"
   ]
  },
  {
   "cell_type": "code",
   "execution_count": 10,
   "id": "e36735f4",
   "metadata": {},
   "outputs": [],
   "source": [
    "search=driver.find_element(By.CLASS_NAME,\"qsbSubmit\")\n",
    "search.click()"
   ]
  },
  {
   "cell_type": "code",
   "execution_count": 10,
   "id": "e98cb105",
   "metadata": {},
   "outputs": [],
   "source": [
    "# Create empty list first inorder to get the information from the naukri site\n",
    "\n",
    "job_title=[]\n",
    "job_location=[]\n",
    "company_name=[]\n",
    "experience_required=[]\n"
   ]
  },
  {
   "cell_type": "code",
   "execution_count": 11,
   "id": "0975975f",
   "metadata": {},
   "outputs": [],
   "source": [
    "# Scrapping Job titles from the given page\n",
    "\n",
    "title_tags=driver.find_elements(By.XPATH,'//a[@class=\"title ellipsis\"]')\n",
    "for i in title_tags[0:10]:\n",
    "    title=i.text\n",
    "    job_title.append(title)\n",
    "    \n",
    "# Scrapping Job Location\n",
    "\n",
    "location_tags=driver.find_elements(By.XPATH,'//span[@class=\"ellipsis fleft locWdth\"]')\n",
    "for i in location_tags[0:10]:\n",
    "    location=i.text\n",
    "    job_location.append(location)\n",
    "\n",
    "# Scarpping Company Name from the given page\n",
    "\n",
    "Company_tags=driver.find_elements(By.XPATH,'//a[@class=\"subTitle ellipsis fleft\"]')\n",
    "for i in Company_tags[0:10]:\n",
    "    Company=i.text\n",
    "    company_name.append(Company)\n",
    "\n",
    "# Scrapping Job Experience from the page\n",
    "\n",
    "experience_tags=driver.find_elements(By.XPATH,'//span[@class=\"ellipsis fleft expwdth\"]')\n",
    "for i in experience_tags[0:10]:\n",
    "    experience=i.text\n",
    "    experience_required.append(experience)"
   ]
  },
  {
   "cell_type": "code",
   "execution_count": 12,
   "id": "4a857359",
   "metadata": {},
   "outputs": [
    {
     "name": "stdout",
     "output_type": "stream",
     "text": [
      "10 10 10 10\n"
     ]
    }
   ],
   "source": [
    "# Need to check the length before we create the data frame\n",
    "print(len(job_title),len(job_location),len(company_name),len(experience_required))"
   ]
  },
  {
   "cell_type": "code",
   "execution_count": 13,
   "id": "8c157117",
   "metadata": {},
   "outputs": [
    {
     "data": {
      "text/html": [
       "<div>\n",
       "<style scoped>\n",
       "    .dataframe tbody tr th:only-of-type {\n",
       "        vertical-align: middle;\n",
       "    }\n",
       "\n",
       "    .dataframe tbody tr th {\n",
       "        vertical-align: top;\n",
       "    }\n",
       "\n",
       "    .dataframe thead th {\n",
       "        text-align: right;\n",
       "    }\n",
       "</style>\n",
       "<table border=\"1\" class=\"dataframe\">\n",
       "  <thead>\n",
       "    <tr style=\"text-align: right;\">\n",
       "      <th></th>\n",
       "      <th>Title</th>\n",
       "      <th>Location</th>\n",
       "      <th>Company</th>\n",
       "      <th>Experience</th>\n",
       "    </tr>\n",
       "  </thead>\n",
       "  <tbody>\n",
       "    <tr>\n",
       "      <th>0</th>\n",
       "      <td>Data Analyst / Senior Analyst - R / SQL / Python</td>\n",
       "      <td>Kolkata, Mumbai, Hyderabad/Secunderabad, Luckn...</td>\n",
       "      <td>The Nikharv Consultancy</td>\n",
       "      <td>3-6 Yrs</td>\n",
       "    </tr>\n",
       "    <tr>\n",
       "      <th>1</th>\n",
       "      <td>Data Analyst/Senior Analyst - R/SQL/Python</td>\n",
       "      <td>Temp. WFH - Kolkata, Mumbai, Hyderabad/Secunde...</td>\n",
       "      <td>The Nikharv Consultancy</td>\n",
       "      <td>3-6 Yrs</td>\n",
       "    </tr>\n",
       "    <tr>\n",
       "      <th>2</th>\n",
       "      <td>Data Analyst</td>\n",
       "      <td>Bangalore/Bengaluru</td>\n",
       "      <td>Target</td>\n",
       "      <td>2-4 Yrs</td>\n",
       "    </tr>\n",
       "    <tr>\n",
       "      <th>3</th>\n",
       "      <td>data analyst / data analytics - US MNC (analyt...</td>\n",
       "      <td>Temp. WFH - Gurgaon/Gurugram, Bangalore/Bengaluru</td>\n",
       "      <td>Aspyra Hr Services</td>\n",
       "      <td>3-8 Yrs</td>\n",
       "    </tr>\n",
       "    <tr>\n",
       "      <th>4</th>\n",
       "      <td>Business Data Analyst (Sr Exe / Asst Manager)</td>\n",
       "      <td>Bangalore/Bengaluru</td>\n",
       "      <td>Talentleads</td>\n",
       "      <td>3-5 Yrs</td>\n",
       "    </tr>\n",
       "    <tr>\n",
       "      <th>5</th>\n",
       "      <td>Junior Data Analyst/ Scientist- Fresher Position</td>\n",
       "      <td>Hybrid - New Delhi, Bangalore/Bengaluru, Mumba...</td>\n",
       "      <td>Sejal Consulting Hub</td>\n",
       "      <td>0-5 Yrs</td>\n",
       "    </tr>\n",
       "    <tr>\n",
       "      <th>6</th>\n",
       "      <td>Staff Data Analyst</td>\n",
       "      <td>Bangalore/Bengaluru</td>\n",
       "      <td>Walmart</td>\n",
       "      <td>10-14 Yrs</td>\n",
       "    </tr>\n",
       "    <tr>\n",
       "      <th>7</th>\n",
       "      <td>Reference Data Analyst</td>\n",
       "      <td>Bangalore/Bengaluru</td>\n",
       "      <td>Deutsche Bank</td>\n",
       "      <td>6-8 Yrs</td>\n",
       "    </tr>\n",
       "    <tr>\n",
       "      <th>8</th>\n",
       "      <td>Sr Data Analyst</td>\n",
       "      <td>Hybrid - Bangalore/Bengaluru</td>\n",
       "      <td>Amolitalents</td>\n",
       "      <td>6-9 Yrs</td>\n",
       "    </tr>\n",
       "    <tr>\n",
       "      <th>9</th>\n",
       "      <td>Job Opportunity with Leading MNC - Senior Data...</td>\n",
       "      <td>Bangalore/Bengaluru</td>\n",
       "      <td>Enrich And Enlight Business Consulting</td>\n",
       "      <td>5-7 Yrs</td>\n",
       "    </tr>\n",
       "  </tbody>\n",
       "</table>\n",
       "</div>"
      ],
      "text/plain": [
       "                                               Title  \\\n",
       "0   Data Analyst / Senior Analyst - R / SQL / Python   \n",
       "1         Data Analyst/Senior Analyst - R/SQL/Python   \n",
       "2                                       Data Analyst   \n",
       "3  data analyst / data analytics - US MNC (analyt...   \n",
       "4      Business Data Analyst (Sr Exe / Asst Manager)   \n",
       "5   Junior Data Analyst/ Scientist- Fresher Position   \n",
       "6                                 Staff Data Analyst   \n",
       "7                             Reference Data Analyst   \n",
       "8                                    Sr Data Analyst   \n",
       "9  Job Opportunity with Leading MNC - Senior Data...   \n",
       "\n",
       "                                            Location  \\\n",
       "0  Kolkata, Mumbai, Hyderabad/Secunderabad, Luckn...   \n",
       "1  Temp. WFH - Kolkata, Mumbai, Hyderabad/Secunde...   \n",
       "2                                Bangalore/Bengaluru   \n",
       "3  Temp. WFH - Gurgaon/Gurugram, Bangalore/Bengaluru   \n",
       "4                                Bangalore/Bengaluru   \n",
       "5  Hybrid - New Delhi, Bangalore/Bengaluru, Mumba...   \n",
       "6                                Bangalore/Bengaluru   \n",
       "7                                Bangalore/Bengaluru   \n",
       "8                       Hybrid - Bangalore/Bengaluru   \n",
       "9                                Bangalore/Bengaluru   \n",
       "\n",
       "                                  Company Experience  \n",
       "0                 The Nikharv Consultancy    3-6 Yrs  \n",
       "1                 The Nikharv Consultancy    3-6 Yrs  \n",
       "2                                  Target    2-4 Yrs  \n",
       "3                      Aspyra Hr Services    3-8 Yrs  \n",
       "4                             Talentleads    3-5 Yrs  \n",
       "5                    Sejal Consulting Hub    0-5 Yrs  \n",
       "6                                 Walmart  10-14 Yrs  \n",
       "7                           Deutsche Bank    6-8 Yrs  \n",
       "8                            Amolitalents    6-9 Yrs  \n",
       "9  Enrich And Enlight Business Consulting    5-7 Yrs  "
      ]
     },
     "execution_count": 13,
     "metadata": {},
     "output_type": "execute_result"
    }
   ],
   "source": [
    "import pandas as pd\n",
    "df=pd.DataFrame({'Title':job_title,'Location':job_location,'Company':company_name,'Experience':experience_required})\n",
    "df"
   ]
  },
  {
   "cell_type": "code",
   "execution_count": 14,
   "id": "21b1b692",
   "metadata": {},
   "outputs": [],
   "source": [
    "# Q2: Write a python program to scrape data for “Data Scientist” Job position in “Bangalore” location. You have to scrape the job-title, job-location, company_name. You have to scrape first 10 jobs data."
   ]
  },
  {
   "cell_type": "code",
   "execution_count": 18,
   "id": "7906eaf2",
   "metadata": {},
   "outputs": [],
   "source": [
    "driver=webdriver.Chrome(r\"C:\\Users\\Public\\Desktop/chromedriver\\ 4\\\\chromedriver.exe\")"
   ]
  },
  {
   "cell_type": "code",
   "execution_count": 19,
   "id": "7bf3c5da",
   "metadata": {},
   "outputs": [],
   "source": [
    "driver.get(\"http://www.naukri.com/\")"
   ]
  },
  {
   "cell_type": "code",
   "execution_count": 20,
   "id": "b1ecd1f5",
   "metadata": {},
   "outputs": [],
   "source": [
    "# Entering Designation and location as required in the question\n",
    "\n",
    "designation=driver.find_element(By.CLASS_NAME,\"suggestor-input\")\n",
    "designation.send_keys('Data Scientist')\n",
    "\n",
    "\n",
    "location=driver.find_element(By.XPATH,\"/html/body/div[1]/div[6]/div/div/div[5]/div/div/div/input\")\n",
    "location.send_keys('Banglore')"
   ]
  },
  {
   "cell_type": "code",
   "execution_count": 21,
   "id": "91925fe7",
   "metadata": {},
   "outputs": [],
   "source": [
    "search=driver.find_element(By.CLASS_NAME,\"qsbSubmit\")\n",
    "search.click()"
   ]
  },
  {
   "cell_type": "code",
   "execution_count": 22,
   "id": "82e8703d",
   "metadata": {},
   "outputs": [],
   "source": [
    "# Create empty list first inorder to get the information from the naukri site\n",
    "\n",
    "job_title=[]\n",
    "job_location=[]\n",
    "company_name=[]"
   ]
  },
  {
   "cell_type": "code",
   "execution_count": 23,
   "id": "6022870c",
   "metadata": {},
   "outputs": [],
   "source": [
    "# Scrapping Job titles from the given page\n",
    "\n",
    "title_tags=driver.find_elements(By.XPATH,'//a[@class=\"title ellipsis\"]')\n",
    "for i in title_tags[0:10]:\n",
    "    title=i.text\n",
    "    job_title.append(title)\n",
    "    \n",
    "# Scrapping Job Location\n",
    "\n",
    "location_tags=driver.find_elements(By.XPATH,'//span[@class=\"ellipsis fleft locWdth\"]')\n",
    "for i in location_tags[0:10]:\n",
    "    location=i.text\n",
    "    job_location.append(location)\n",
    "\n",
    "# Scarpping Company Name from the given page\n",
    "\n",
    "Company_tags=driver.find_elements(By.XPATH,'//a[@class=\"subTitle ellipsis fleft\"]')\n",
    "for i in Company_tags[0:10]:\n",
    "    Company=i.text\n",
    "    company_name.append(Company)"
   ]
  },
  {
   "cell_type": "code",
   "execution_count": 24,
   "id": "da3fcb2e",
   "metadata": {},
   "outputs": [
    {
     "name": "stdout",
     "output_type": "stream",
     "text": [
      "10 10 10\n"
     ]
    }
   ],
   "source": [
    "# Need to check the length before we create the data frame\n",
    "print(len(job_title),len(job_location),len(company_name))"
   ]
  },
  {
   "cell_type": "code",
   "execution_count": 25,
   "id": "911f71ab",
   "metadata": {},
   "outputs": [
    {
     "data": {
      "text/html": [
       "<div>\n",
       "<style scoped>\n",
       "    .dataframe tbody tr th:only-of-type {\n",
       "        vertical-align: middle;\n",
       "    }\n",
       "\n",
       "    .dataframe tbody tr th {\n",
       "        vertical-align: top;\n",
       "    }\n",
       "\n",
       "    .dataframe thead th {\n",
       "        text-align: right;\n",
       "    }\n",
       "</style>\n",
       "<table border=\"1\" class=\"dataframe\">\n",
       "  <thead>\n",
       "    <tr style=\"text-align: right;\">\n",
       "      <th></th>\n",
       "      <th>Title</th>\n",
       "      <th>Location</th>\n",
       "      <th>Company</th>\n",
       "    </tr>\n",
       "  </thead>\n",
       "  <tbody>\n",
       "    <tr>\n",
       "      <th>0</th>\n",
       "      <td>Data Scientist</td>\n",
       "      <td>Noida, Kolkata, Mumbai, Hyderabad/Secunderabad...</td>\n",
       "      <td>Capgemini</td>\n",
       "    </tr>\n",
       "    <tr>\n",
       "      <th>1</th>\n",
       "      <td>Data Scientist</td>\n",
       "      <td>Temp. WFH - Hyderabad/Secunderabad, Pune, Chen...</td>\n",
       "      <td>Tech Mahindra</td>\n",
       "    </tr>\n",
       "    <tr>\n",
       "      <th>2</th>\n",
       "      <td>Analystics &amp; Modeling Specialist</td>\n",
       "      <td>Kolkata, Mumbai, Hyderabad/Secunderabad, Pune,...</td>\n",
       "      <td>Accenture</td>\n",
       "    </tr>\n",
       "    <tr>\n",
       "      <th>3</th>\n",
       "      <td>Data Science Specialist</td>\n",
       "      <td>Kolkata, Mumbai, Hyderabad/Secunderabad, Pune,...</td>\n",
       "      <td>Accenture</td>\n",
       "    </tr>\n",
       "    <tr>\n",
       "      <th>4</th>\n",
       "      <td>Lead Data Scientist</td>\n",
       "      <td>Noida, Hyderabad/Secunderabad, Pune, Chennai, ...</td>\n",
       "      <td>Birlasoft</td>\n",
       "    </tr>\n",
       "    <tr>\n",
       "      <th>5</th>\n",
       "      <td>Data Scientist</td>\n",
       "      <td>Hybrid - Noida, Hyderabad/Secunderabad, Pune, ...</td>\n",
       "      <td>Birlasoft</td>\n",
       "    </tr>\n",
       "    <tr>\n",
       "      <th>6</th>\n",
       "      <td>Data Scientist</td>\n",
       "      <td>Bangalore/Bengaluru</td>\n",
       "      <td>ANZ</td>\n",
       "    </tr>\n",
       "    <tr>\n",
       "      <th>7</th>\n",
       "      <td>Staff Data Analyst</td>\n",
       "      <td>Bangalore/Bengaluru</td>\n",
       "      <td>Walmart</td>\n",
       "    </tr>\n",
       "    <tr>\n",
       "      <th>8</th>\n",
       "      <td>Data Scientist</td>\n",
       "      <td>Bangalore/Bengaluru</td>\n",
       "      <td>ANZ</td>\n",
       "    </tr>\n",
       "    <tr>\n",
       "      <th>9</th>\n",
       "      <td>Data Scientist Knowledge graph</td>\n",
       "      <td>Hybrid - Pune, Bangalore/Bengaluru</td>\n",
       "      <td>Capco</td>\n",
       "    </tr>\n",
       "  </tbody>\n",
       "</table>\n",
       "</div>"
      ],
      "text/plain": [
       "                              Title  \\\n",
       "0                    Data Scientist   \n",
       "1                    Data Scientist   \n",
       "2  Analystics & Modeling Specialist   \n",
       "3           Data Science Specialist   \n",
       "4               Lead Data Scientist   \n",
       "5                    Data Scientist   \n",
       "6                    Data Scientist   \n",
       "7                Staff Data Analyst   \n",
       "8                    Data Scientist   \n",
       "9    Data Scientist Knowledge graph   \n",
       "\n",
       "                                            Location        Company  \n",
       "0  Noida, Kolkata, Mumbai, Hyderabad/Secunderabad...      Capgemini  \n",
       "1  Temp. WFH - Hyderabad/Secunderabad, Pune, Chen...  Tech Mahindra  \n",
       "2  Kolkata, Mumbai, Hyderabad/Secunderabad, Pune,...      Accenture  \n",
       "3  Kolkata, Mumbai, Hyderabad/Secunderabad, Pune,...      Accenture  \n",
       "4  Noida, Hyderabad/Secunderabad, Pune, Chennai, ...      Birlasoft  \n",
       "5  Hybrid - Noida, Hyderabad/Secunderabad, Pune, ...      Birlasoft  \n",
       "6                                Bangalore/Bengaluru            ANZ  \n",
       "7                                Bangalore/Bengaluru        Walmart  \n",
       "8                                Bangalore/Bengaluru            ANZ  \n",
       "9                 Hybrid - Pune, Bangalore/Bengaluru          Capco  "
      ]
     },
     "execution_count": 25,
     "metadata": {},
     "output_type": "execute_result"
    }
   ],
   "source": [
    "import pandas as pd\n",
    "df=pd.DataFrame({'Title':job_title,'Location':job_location,'Company':company_name})\n",
    "df"
   ]
  },
  {
   "cell_type": "code",
   "execution_count": 26,
   "id": "073729c7",
   "metadata": {},
   "outputs": [],
   "source": [
    "# In this question you have to scrape data using the filters available on the webpage as shown below: You have to use the location and salary filter. You have to scrape data for “Data Scientist” designation for first 10 job results. You have to scrape the job-title, job-location, company name, experience required. The location filter to be used is “Delhi/NCR”. The salary filter to be used is “3-6” lakhs"
   ]
  },
  {
   "cell_type": "code",
   "execution_count": 35,
   "id": "a56380fc",
   "metadata": {},
   "outputs": [],
   "source": [
    "driver=webdriver.Chrome(r\"C:\\Users\\Public\\Desktop/chromedriver\\ 4\\\\chromedriver.exe\")"
   ]
  },
  {
   "cell_type": "code",
   "execution_count": 36,
   "id": "042aede0",
   "metadata": {},
   "outputs": [],
   "source": [
    "driver.get(\"http://www.naukri.com/\")"
   ]
  },
  {
   "cell_type": "code",
   "execution_count": 37,
   "id": "86e080b9",
   "metadata": {},
   "outputs": [],
   "source": [
    "# Entering Designation and location as required in the question\n",
    "\n",
    "designation=driver.find_element(By.CLASS_NAME,\"suggestor-input\")\n",
    "designation.send_keys('Data Scientist')"
   ]
  },
  {
   "cell_type": "code",
   "execution_count": 38,
   "id": "29f60c50",
   "metadata": {},
   "outputs": [],
   "source": [
    "# Submit Button\n",
    "search=driver.find_element(By.CLASS_NAME,\"qsbSubmit\")\n",
    "search.click()"
   ]
  },
  {
   "cell_type": "code",
   "execution_count": 39,
   "id": "44f886ee",
   "metadata": {},
   "outputs": [],
   "source": [
    "# Filter Location \"Delhi/NCR\"\n",
    "Location=driver.find_element(By.XPATH,\"/html/body/div[1]/div[4]/div/div/section[1]/div[2]/div[5]/div[2]/div[2]/label/p/span[1]\")\n",
    "Location.click()"
   ]
  },
  {
   "cell_type": "code",
   "execution_count": 40,
   "id": "8d023d0a",
   "metadata": {},
   "outputs": [],
   "source": [
    "# Filter Salary \"3-6 lakhs\"\n",
    "Salary=driver.find_element(By.XPATH,\"/html/body/div[1]/div[4]/div/div/section[1]/div[2]/div[6]/div[2]/div[2]/label/p/span[1]\")\n",
    "Salary.click()"
   ]
  },
  {
   "cell_type": "code",
   "execution_count": 41,
   "id": "ec82f336",
   "metadata": {},
   "outputs": [],
   "source": [
    "# Create empty list first inorder to get the information from the naukri site\n",
    "\n",
    "job_title=[]\n",
    "job_location=[]\n",
    "company_name=[]\n",
    "experience_required=[]"
   ]
  },
  {
   "cell_type": "code",
   "execution_count": 42,
   "id": "85a00f13",
   "metadata": {},
   "outputs": [],
   "source": [
    "# Scrapping Job titles from the given page\n",
    "\n",
    "title_tags=driver.find_elements(By.XPATH,'//a[@class=\"title ellipsis\"]')\n",
    "for i in title_tags[0:10]:\n",
    "    title=i.text\n",
    "    job_title.append(title)\n",
    "    \n",
    "# Scrapping Job Location\n",
    "\n",
    "location_tags=driver.find_elements(By.XPATH,'//span[@class=\"ellipsis fleft locWdth\"]')\n",
    "for i in location_tags[0:10]:\n",
    "    location=i.text\n",
    "    job_location.append(location)\n",
    "\n",
    "# Scarpping Company Name from the given page\n",
    "\n",
    "Company_tags=driver.find_elements(By.XPATH,'//a[@class=\"subTitle ellipsis fleft\"]')\n",
    "for i in Company_tags[0:10]:\n",
    "    Company=i.text\n",
    "    company_name.append(Company)\n",
    "\n",
    "# Scrapping Job Experience from the page\n",
    "\n",
    "experience_tags=driver.find_elements(By.XPATH,'//span[@class=\"ellipsis fleft expwdth\"]')\n",
    "for i in experience_tags[0:10]:\n",
    "    experience=i.text\n",
    "    experience_required.append(experience)"
   ]
  },
  {
   "cell_type": "code",
   "execution_count": 45,
   "id": "22e43d0e",
   "metadata": {},
   "outputs": [
    {
     "name": "stdout",
     "output_type": "stream",
     "text": [
      "10 10 10 10\n"
     ]
    }
   ],
   "source": [
    "# Need to check the length before we create the data frame\n",
    "print(len(job_title),len(job_location),len(company_name),len(experience_required))\n"
   ]
  },
  {
   "cell_type": "code",
   "execution_count": 47,
   "id": "0f64273f",
   "metadata": {},
   "outputs": [
    {
     "data": {
      "text/html": [
       "<div>\n",
       "<style scoped>\n",
       "    .dataframe tbody tr th:only-of-type {\n",
       "        vertical-align: middle;\n",
       "    }\n",
       "\n",
       "    .dataframe tbody tr th {\n",
       "        vertical-align: top;\n",
       "    }\n",
       "\n",
       "    .dataframe thead th {\n",
       "        text-align: right;\n",
       "    }\n",
       "</style>\n",
       "<table border=\"1\" class=\"dataframe\">\n",
       "  <thead>\n",
       "    <tr style=\"text-align: right;\">\n",
       "      <th></th>\n",
       "      <th>Title</th>\n",
       "      <th>Location</th>\n",
       "      <th>Company</th>\n",
       "      <th>Experience</th>\n",
       "    </tr>\n",
       "  </thead>\n",
       "  <tbody>\n",
       "    <tr>\n",
       "      <th>0</th>\n",
       "      <td>Analyst-Data Science</td>\n",
       "      <td>Gurgaon/Gurugram</td>\n",
       "      <td>AMERICAN EXPRESS</td>\n",
       "      <td>0-3 Yrs</td>\n",
       "    </tr>\n",
       "    <tr>\n",
       "      <th>1</th>\n",
       "      <td>Analyst-Data Science</td>\n",
       "      <td>Gurgaon/Gurugram</td>\n",
       "      <td>AMERICAN EXPRESS</td>\n",
       "      <td>0-3 Yrs</td>\n",
       "    </tr>\n",
       "    <tr>\n",
       "      <th>2</th>\n",
       "      <td>Data Scientist</td>\n",
       "      <td>Delhi / NCR, Noida(Sector-136 Noida), Ghaziaba...</td>\n",
       "      <td>Extramarks Education</td>\n",
       "      <td>3-5 Yrs</td>\n",
       "    </tr>\n",
       "    <tr>\n",
       "      <th>3</th>\n",
       "      <td>Data Scientist</td>\n",
       "      <td>Noida</td>\n",
       "      <td>Gujarat Fluorochemicals</td>\n",
       "      <td>1-2 Yrs</td>\n",
       "    </tr>\n",
       "    <tr>\n",
       "      <th>4</th>\n",
       "      <td>AWS Data Warehouse Developer - IT Industry</td>\n",
       "      <td>Delhi / NCR, Bangalore/Bengaluru, Maharashtra</td>\n",
       "      <td>GenNext India Private Limited</td>\n",
       "      <td>4-9 Yrs</td>\n",
       "    </tr>\n",
       "    <tr>\n",
       "      <th>5</th>\n",
       "      <td>Data Scientist</td>\n",
       "      <td>Permanent Remote</td>\n",
       "      <td>Vizlogic Digital Solutions</td>\n",
       "      <td>2-5 Yrs</td>\n",
       "    </tr>\n",
       "    <tr>\n",
       "      <th>6</th>\n",
       "      <td>Data Scientist</td>\n",
       "      <td>Noida</td>\n",
       "      <td>Metrix Research &amp; Analytics</td>\n",
       "      <td>3-7 Yrs</td>\n",
       "    </tr>\n",
       "    <tr>\n",
       "      <th>7</th>\n",
       "      <td>Data Scientist</td>\n",
       "      <td>Dehradun, Hyderabad/Secunderabad, Gurgaon/Guru...</td>\n",
       "      <td>torcai digital media</td>\n",
       "      <td>2-7 Yrs</td>\n",
       "    </tr>\n",
       "    <tr>\n",
       "      <th>8</th>\n",
       "      <td>Junior Data Scientist</td>\n",
       "      <td>Delhi / NCR</td>\n",
       "      <td>Skyleaf Consultants</td>\n",
       "      <td>2-4 Yrs</td>\n",
       "    </tr>\n",
       "    <tr>\n",
       "      <th>9</th>\n",
       "      <td>Modeler</td>\n",
       "      <td>Noida</td>\n",
       "      <td>Resource Access Management Solutions Pvt. Ltd.</td>\n",
       "      <td>3-7 Yrs</td>\n",
       "    </tr>\n",
       "  </tbody>\n",
       "</table>\n",
       "</div>"
      ],
      "text/plain": [
       "                                        Title  \\\n",
       "0                        Analyst-Data Science   \n",
       "1                        Analyst-Data Science   \n",
       "2                              Data Scientist   \n",
       "3                              Data Scientist   \n",
       "4  AWS Data Warehouse Developer - IT Industry   \n",
       "5                              Data Scientist   \n",
       "6                              Data Scientist   \n",
       "7                              Data Scientist   \n",
       "8                       Junior Data Scientist   \n",
       "9                                     Modeler   \n",
       "\n",
       "                                            Location  \\\n",
       "0                                   Gurgaon/Gurugram   \n",
       "1                                   Gurgaon/Gurugram   \n",
       "2  Delhi / NCR, Noida(Sector-136 Noida), Ghaziaba...   \n",
       "3                                              Noida   \n",
       "4      Delhi / NCR, Bangalore/Bengaluru, Maharashtra   \n",
       "5                                   Permanent Remote   \n",
       "6                                              Noida   \n",
       "7  Dehradun, Hyderabad/Secunderabad, Gurgaon/Guru...   \n",
       "8                                        Delhi / NCR   \n",
       "9                                              Noida   \n",
       "\n",
       "                                          Company Experience  \n",
       "0                                AMERICAN EXPRESS    0-3 Yrs  \n",
       "1                                AMERICAN EXPRESS    0-3 Yrs  \n",
       "2                            Extramarks Education    3-5 Yrs  \n",
       "3                         Gujarat Fluorochemicals    1-2 Yrs  \n",
       "4                   GenNext India Private Limited    4-9 Yrs  \n",
       "5                      Vizlogic Digital Solutions    2-5 Yrs  \n",
       "6                     Metrix Research & Analytics    3-7 Yrs  \n",
       "7                            torcai digital media    2-7 Yrs  \n",
       "8                             Skyleaf Consultants    2-4 Yrs  \n",
       "9  Resource Access Management Solutions Pvt. Ltd.    3-7 Yrs  "
      ]
     },
     "execution_count": 47,
     "metadata": {},
     "output_type": "execute_result"
    }
   ],
   "source": [
    "import pandas as pd\n",
    "df=pd.DataFrame({'Title':job_title,'Location':job_location,'Company':company_name,'Experience':experience_required})\n",
    "df"
   ]
  },
  {
   "cell_type": "code",
   "execution_count": 6,
   "id": "02b08039",
   "metadata": {},
   "outputs": [],
   "source": [
    "# Q4: Scrape data of first 100 sunglasses listings on flipkart.com. You have to scrape four attributes:\n"
   ]
  },
  {
   "cell_type": "code",
   "execution_count": 11,
   "id": "2a8fa96c",
   "metadata": {},
   "outputs": [],
   "source": [
    "driver.get(\"https://www.flipkart.com/\")"
   ]
  },
  {
   "cell_type": "code",
   "execution_count": 12,
   "id": "9bc905ea",
   "metadata": {},
   "outputs": [],
   "source": [
    "# Searching for the product\n",
    "Product=driver.find_element(By.CLASS_NAME,\"_3704LK\")\n",
    "Product.send_keys('sunglasses')"
   ]
  },
  {
   "cell_type": "code",
   "execution_count": 14,
   "id": "4c794d27",
   "metadata": {},
   "outputs": [],
   "source": [
    "search=driver.find_element(By.XPATH,\"/html/body/div[1]/div/div[1]/div[1]/div[2]/div[2]/form/div/button\")\n",
    "search.click()"
   ]
  },
  {
   "cell_type": "code",
   "execution_count": 15,
   "id": "a0acbdce",
   "metadata": {},
   "outputs": [
    {
     "data": {
      "text/plain": [
       "[<selenium.webdriver.remote.webelement.WebElement (session=\"29940522c11426234d1ec82d350f7de8\", element=\"35e34655-cb96-4797-a6d2-4ed949c1ca8c\")>,\n",
       " <selenium.webdriver.remote.webelement.WebElement (session=\"29940522c11426234d1ec82d350f7de8\", element=\"621f9e7e-aa38-4e70-9c30-8464b27d0c86\")>]"
      ]
     },
     "execution_count": 15,
     "metadata": {},
     "output_type": "execute_result"
    }
   ],
   "source": [
    "# Getting the Brand details\n",
    "\n",
    "Brand=driver.find_elements(By.XPATH,\"//div[@class='_2WkVRV']\")\n",
    "Brand[0:2]"
   ]
  },
  {
   "cell_type": "code",
   "execution_count": 16,
   "id": "52f3e205",
   "metadata": {},
   "outputs": [
    {
     "data": {
      "text/plain": [
       "40"
      ]
     },
     "execution_count": 16,
     "metadata": {},
     "output_type": "execute_result"
    }
   ],
   "source": [
    "    len(Brand)"
   ]
  },
  {
   "cell_type": "code",
   "execution_count": 17,
   "id": "8d5104a1",
   "metadata": {},
   "outputs": [
    {
     "data": {
      "text/plain": [
       "[<selenium.webdriver.remote.webelement.WebElement (session=\"29940522c11426234d1ec82d350f7de8\", element=\"bb320e0f-b244-4025-8026-2692351e1fd6\")>,\n",
       " <selenium.webdriver.remote.webelement.WebElement (session=\"29940522c11426234d1ec82d350f7de8\", element=\"10a0f78a-588d-433b-ba55-9f362b74c7d9\")>]"
      ]
     },
     "execution_count": 17,
     "metadata": {},
     "output_type": "execute_result"
    }
   ],
   "source": [
    "Price=driver.find_elements(By.XPATH,\"//div[@class='_30jeq3']\")\n",
    "Price[0:2]"
   ]
  },
  {
   "cell_type": "code",
   "execution_count": 18,
   "id": "d9917bce",
   "metadata": {},
   "outputs": [
    {
     "data": {
      "text/plain": [
       "40"
      ]
     },
     "execution_count": 18,
     "metadata": {},
     "output_type": "execute_result"
    }
   ],
   "source": [
    "len(Price)"
   ]
  },
  {
   "cell_type": "code",
   "execution_count": 19,
   "id": "65dc7dae",
   "metadata": {},
   "outputs": [
    {
     "data": {
      "text/plain": [
       "[<selenium.webdriver.remote.webelement.WebElement (session=\"29940522c11426234d1ec82d350f7de8\", element=\"f63ed9c2-4219-4710-ae75-b1079f694292\")>,\n",
       " <selenium.webdriver.remote.webelement.WebElement (session=\"29940522c11426234d1ec82d350f7de8\", element=\"06308899-48cc-4cc3-84a6-6d9ed6cba149\")>]"
      ]
     },
     "execution_count": 19,
     "metadata": {},
     "output_type": "execute_result"
    }
   ],
   "source": [
    "pdetails=driver.find_elements(By.XPATH,\"//a[@class='IRpwTa']\")\n",
    "pdetails[0:2]"
   ]
  },
  {
   "cell_type": "code",
   "execution_count": 20,
   "id": "9d316b6c",
   "metadata": {},
   "outputs": [
    {
     "data": {
      "text/plain": [
       "38"
      ]
     },
     "execution_count": 20,
     "metadata": {},
     "output_type": "execute_result"
    }
   ],
   "source": [
    "len(pdetails)"
   ]
  },
  {
   "cell_type": "code",
   "execution_count": 21,
   "id": "5e9c067e",
   "metadata": {},
   "outputs": [
    {
     "data": {
      "text/plain": [
       "['IRUS', 'ROZZETTA CRAFT']"
      ]
     },
     "execution_count": 21,
     "metadata": {},
     "output_type": "execute_result"
    }
   ],
   "source": [
    "# Extracting Page 3 Deatils for Product\n",
    "page3_Brand=[]\n",
    "for i in Brand:\n",
    "    Brand=i.text\n",
    "    page3_Brand.append(Brand)\n",
    "page3_Brand[0:2]"
   ]
  },
  {
   "cell_type": "code",
   "execution_count": 22,
   "id": "8851e662",
   "metadata": {},
   "outputs": [
    {
     "data": {
      "text/plain": [
       "['₹637', '₹391']"
      ]
     },
     "execution_count": 22,
     "metadata": {},
     "output_type": "execute_result"
    }
   ],
   "source": [
    "# Extracting Page 3 details for Price\n",
    "page3_Price=[]\n",
    "for i in Price:\n",
    "    Price=i.text\n",
    "    page3_Price.append(Price)\n",
    "page3_Price[0:2]"
   ]
  },
  {
   "cell_type": "code",
   "execution_count": 23,
   "id": "1eede065",
   "metadata": {},
   "outputs": [
    {
     "data": {
      "text/plain": [
       "['UV Protection Retro Square Sunglasses (54)',\n",
       " 'UV Protection, Gradient Round Sunglasses (Free Size)']"
      ]
     },
     "execution_count": 23,
     "metadata": {},
     "output_type": "execute_result"
    }
   ],
   "source": [
    "# Extracting Page 3 details for Product Details\n",
    "page3_pdetails=[]\n",
    "for i in pdetails:\n",
    "    pdetails=i.text\n",
    "    page3_pdetails.append(pdetails)\n",
    "page3_pdetails[0:2]"
   ]
  },
  {
   "cell_type": "code",
   "execution_count": 28,
   "id": "f597a99f",
   "metadata": {},
   "outputs": [
    {
     "data": {
      "text/html": [
       "<div>\n",
       "<style scoped>\n",
       "    .dataframe tbody tr th:only-of-type {\n",
       "        vertical-align: middle;\n",
       "    }\n",
       "\n",
       "    .dataframe tbody tr th {\n",
       "        vertical-align: top;\n",
       "    }\n",
       "\n",
       "    .dataframe thead th {\n",
       "        text-align: right;\n",
       "    }\n",
       "</style>\n",
       "<table border=\"1\" class=\"dataframe\">\n",
       "  <thead>\n",
       "    <tr style=\"text-align: right;\">\n",
       "      <th></th>\n",
       "      <th>page_Brand</th>\n",
       "      <th>page_Price</th>\n",
       "      <th>page_pdetails</th>\n",
       "    </tr>\n",
       "  </thead>\n",
       "  <tbody>\n",
       "    <tr>\n",
       "      <th>0</th>\n",
       "      <td>IRUS</td>\n",
       "      <td>₹637</td>\n",
       "      <td>UV Protection Retro Square Sunglasses (54)</td>\n",
       "    </tr>\n",
       "    <tr>\n",
       "      <th>1</th>\n",
       "      <td>ROZZETTA CRAFT</td>\n",
       "      <td>₹391</td>\n",
       "      <td>UV Protection, Gradient Round Sunglasses (Free...</td>\n",
       "    </tr>\n",
       "    <tr>\n",
       "      <th>2</th>\n",
       "      <td>Fastrack</td>\n",
       "      <td>₹699</td>\n",
       "      <td>UV Protection Wayfarer Sunglasses (Free Size)</td>\n",
       "    </tr>\n",
       "    <tr>\n",
       "      <th>3</th>\n",
       "      <td>Elligator</td>\n",
       "      <td>₹149</td>\n",
       "      <td>UV Protection Cat-eye, Retro Square, Oval, Rou...</td>\n",
       "    </tr>\n",
       "    <tr>\n",
       "      <th>4</th>\n",
       "      <td>Fastrack</td>\n",
       "      <td>₹499</td>\n",
       "      <td>UV Protection Rectangular Sunglasses (Free Size)</td>\n",
       "    </tr>\n",
       "  </tbody>\n",
       "</table>\n",
       "</div>"
      ],
      "text/plain": [
       "       page_Brand page_Price  \\\n",
       "0            IRUS       ₹637   \n",
       "1  ROZZETTA CRAFT       ₹391   \n",
       "2        Fastrack       ₹699   \n",
       "3       Elligator       ₹149   \n",
       "4        Fastrack       ₹499   \n",
       "\n",
       "                                       page_pdetails  \n",
       "0         UV Protection Retro Square Sunglasses (54)  \n",
       "1  UV Protection, Gradient Round Sunglasses (Free...  \n",
       "2      UV Protection Wayfarer Sunglasses (Free Size)  \n",
       "3  UV Protection Cat-eye, Retro Square, Oval, Rou...  \n",
       "4   UV Protection Rectangular Sunglasses (Free Size)  "
      ]
     },
     "execution_count": 28,
     "metadata": {},
     "output_type": "execute_result"
    }
   ],
   "source": [
    "# Making a Data Frame for page 3\n",
    "page3 = pd.DataFrame({})\n",
    "page3[\"page_Brand\"]=page3_Brand[:24]\n",
    "page3[\"page_Price\"]=page3_Price[:24]\n",
    "page3[\"page_pdetails\"]=page3_pdetails[:24]\n",
    "page3.head()"
   ]
  },
  {
   "cell_type": "code",
   "execution_count": 67,
   "id": "1e2e9929",
   "metadata": {},
   "outputs": [
    {
     "data": {
      "text/html": [
       "<div>\n",
       "<style scoped>\n",
       "    .dataframe tbody tr th:only-of-type {\n",
       "        vertical-align: middle;\n",
       "    }\n",
       "\n",
       "    .dataframe tbody tr th {\n",
       "        vertical-align: top;\n",
       "    }\n",
       "\n",
       "    .dataframe thead th {\n",
       "        text-align: right;\n",
       "    }\n",
       "</style>\n",
       "<table border=\"1\" class=\"dataframe\">\n",
       "  <thead>\n",
       "    <tr style=\"text-align: right;\">\n",
       "      <th></th>\n",
       "      <th>Rating</th>\n",
       "      <th>Review_summary</th>\n",
       "      <th>full_review</th>\n",
       "    </tr>\n",
       "  </thead>\n",
       "  <tbody>\n",
       "    <tr>\n",
       "      <th>0</th>\n",
       "      <td>5</td>\n",
       "      <td>Simply awesome</td>\n",
       "      <td>Really satisfied with the Product I received.....</td>\n",
       "    </tr>\n",
       "    <tr>\n",
       "      <th>1</th>\n",
       "      <td>5</td>\n",
       "      <td>Perfect product!</td>\n",
       "      <td>Amazing phone with great cameras and better ba...</td>\n",
       "    </tr>\n",
       "    <tr>\n",
       "      <th>2</th>\n",
       "      <td>5</td>\n",
       "      <td>Best in the market!</td>\n",
       "      <td>Great iPhone very snappy experience as apple k...</td>\n",
       "    </tr>\n",
       "    <tr>\n",
       "      <th>3</th>\n",
       "      <td>4</td>\n",
       "      <td>Value-for-money</td>\n",
       "      <td>I'm Really happy with the product.Delivery was...</td>\n",
       "    </tr>\n",
       "    <tr>\n",
       "      <th>4</th>\n",
       "      <td>5</td>\n",
       "      <td>Highly recommended</td>\n",
       "      <td>It's my first time to use iOS phone and I am l...</td>\n",
       "    </tr>\n",
       "    <tr>\n",
       "      <th>5</th>\n",
       "      <td>5</td>\n",
       "      <td>Worth every penny</td>\n",
       "      <td>Previously I was using one plus 3t it was a gr...</td>\n",
       "    </tr>\n",
       "    <tr>\n",
       "      <th>6</th>\n",
       "      <td>5</td>\n",
       "      <td>Perfect product!</td>\n",
       "      <td>Value for money.5 star rating.Excellent camera...</td>\n",
       "    </tr>\n",
       "    <tr>\n",
       "      <th>7</th>\n",
       "      <td>5</td>\n",
       "      <td>Highly recommended</td>\n",
       "      <td>What a camera .....just awesome ..you can feel...</td>\n",
       "    </tr>\n",
       "    <tr>\n",
       "      <th>8</th>\n",
       "      <td>5</td>\n",
       "      <td>Great product</td>\n",
       "      <td>Amazing Powerful and Durable Gadget...I’m am v...</td>\n",
       "    </tr>\n",
       "    <tr>\n",
       "      <th>9</th>\n",
       "      <td>4</td>\n",
       "      <td>Pretty good</td>\n",
       "      <td>I was using Iphone 6s and also Oneplus 6t. Bot...</td>\n",
       "    </tr>\n",
       "    <tr>\n",
       "      <th>0</th>\n",
       "      <td>5</td>\n",
       "      <td>Simply awesome</td>\n",
       "      <td>Really satisfied with the Product I received.....</td>\n",
       "    </tr>\n",
       "    <tr>\n",
       "      <th>1</th>\n",
       "      <td>5</td>\n",
       "      <td>Perfect product!</td>\n",
       "      <td>Amazing phone with great cameras and better ba...</td>\n",
       "    </tr>\n",
       "    <tr>\n",
       "      <th>2</th>\n",
       "      <td>5</td>\n",
       "      <td>Best in the market!</td>\n",
       "      <td>Great iPhone very snappy experience as apple k...</td>\n",
       "    </tr>\n",
       "    <tr>\n",
       "      <th>3</th>\n",
       "      <td>4</td>\n",
       "      <td>Value-for-money</td>\n",
       "      <td>I'm Really happy with the product.Delivery was...</td>\n",
       "    </tr>\n",
       "    <tr>\n",
       "      <th>4</th>\n",
       "      <td>5</td>\n",
       "      <td>Highly recommended</td>\n",
       "      <td>It's my first time to use iOS phone and I am l...</td>\n",
       "    </tr>\n",
       "    <tr>\n",
       "      <th>5</th>\n",
       "      <td>5</td>\n",
       "      <td>Worth every penny</td>\n",
       "      <td>Previously I was using one plus 3t it was a gr...</td>\n",
       "    </tr>\n",
       "    <tr>\n",
       "      <th>6</th>\n",
       "      <td>5</td>\n",
       "      <td>Perfect product!</td>\n",
       "      <td>Value for money.5 star rating.Excellent camera...</td>\n",
       "    </tr>\n",
       "    <tr>\n",
       "      <th>7</th>\n",
       "      <td>5</td>\n",
       "      <td>Highly recommended</td>\n",
       "      <td>What a camera .....just awesome ..you can feel...</td>\n",
       "    </tr>\n",
       "    <tr>\n",
       "      <th>8</th>\n",
       "      <td>5</td>\n",
       "      <td>Great product</td>\n",
       "      <td>Amazing Powerful and Durable Gadget...I’m am v...</td>\n",
       "    </tr>\n",
       "    <tr>\n",
       "      <th>9</th>\n",
       "      <td>4</td>\n",
       "      <td>Pretty good</td>\n",
       "      <td>I was using Iphone 6s and also Oneplus 6t. Bot...</td>\n",
       "    </tr>\n",
       "    <tr>\n",
       "      <th>0</th>\n",
       "      <td>5</td>\n",
       "      <td>Highly recommended</td>\n",
       "      <td>Thanks Flipkart For this amazing deal! I had a...</td>\n",
       "    </tr>\n",
       "    <tr>\n",
       "      <th>1</th>\n",
       "      <td>5</td>\n",
       "      <td>Worth every penny</td>\n",
       "      <td>Smooth like butter, camera like fantabulous, s...</td>\n",
       "    </tr>\n",
       "    <tr>\n",
       "      <th>2</th>\n",
       "      <td>5</td>\n",
       "      <td>Perfect product!</td>\n",
       "      <td>Iphone is just awesome.. battery backup is ver...</td>\n",
       "    </tr>\n",
       "    <tr>\n",
       "      <th>3</th>\n",
       "      <td>5</td>\n",
       "      <td>Terrific</td>\n",
       "      <td>Really worth of money. i just love it. It is t...</td>\n",
       "    </tr>\n",
       "    <tr>\n",
       "      <th>4</th>\n",
       "      <td>5</td>\n",
       "      <td>Must buy!</td>\n",
       "      <td>Best Apple iPhone that i have bought at a very...</td>\n",
       "    </tr>\n",
       "    <tr>\n",
       "      <th>5</th>\n",
       "      <td>5</td>\n",
       "      <td>Excellent</td>\n",
       "      <td>Its a fabulous mobile look awesome performance...</td>\n",
       "    </tr>\n",
       "    <tr>\n",
       "      <th>6</th>\n",
       "      <td>5</td>\n",
       "      <td>Simply awesome</td>\n",
       "      <td>Excellent camera, good performance, no lag. Th...</td>\n",
       "    </tr>\n",
       "    <tr>\n",
       "      <th>7</th>\n",
       "      <td>5</td>\n",
       "      <td>Worth every penny</td>\n",
       "      <td>Best budget Iphone till date ❤️ go for it guys...</td>\n",
       "    </tr>\n",
       "    <tr>\n",
       "      <th>8</th>\n",
       "      <td>5</td>\n",
       "      <td>Great product</td>\n",
       "      <td>This is my first ever I phone. Before this I w...</td>\n",
       "    </tr>\n",
       "    <tr>\n",
       "      <th>9</th>\n",
       "      <td>5</td>\n",
       "      <td>Classy product</td>\n",
       "      <td>Totally in love with this ❤ the camera quality...</td>\n",
       "    </tr>\n",
       "  </tbody>\n",
       "</table>\n",
       "</div>"
      ],
      "text/plain": [
       "  Rating       Review_summary  \\\n",
       "0      5       Simply awesome   \n",
       "1      5     Perfect product!   \n",
       "2      5  Best in the market!   \n",
       "3      4      Value-for-money   \n",
       "4      5   Highly recommended   \n",
       "5      5    Worth every penny   \n",
       "6      5     Perfect product!   \n",
       "7      5   Highly recommended   \n",
       "8      5        Great product   \n",
       "9      4          Pretty good   \n",
       "0      5       Simply awesome   \n",
       "1      5     Perfect product!   \n",
       "2      5  Best in the market!   \n",
       "3      4      Value-for-money   \n",
       "4      5   Highly recommended   \n",
       "5      5    Worth every penny   \n",
       "6      5     Perfect product!   \n",
       "7      5   Highly recommended   \n",
       "8      5        Great product   \n",
       "9      4          Pretty good   \n",
       "0      5   Highly recommended   \n",
       "1      5    Worth every penny   \n",
       "2      5     Perfect product!   \n",
       "3      5             Terrific   \n",
       "4      5            Must buy!   \n",
       "5      5            Excellent   \n",
       "6      5       Simply awesome   \n",
       "7      5    Worth every penny   \n",
       "8      5        Great product   \n",
       "9      5       Classy product   \n",
       "\n",
       "                                         full_review  \n",
       "0  Really satisfied with the Product I received.....  \n",
       "1  Amazing phone with great cameras and better ba...  \n",
       "2  Great iPhone very snappy experience as apple k...  \n",
       "3  I'm Really happy with the product.Delivery was...  \n",
       "4  It's my first time to use iOS phone and I am l...  \n",
       "5  Previously I was using one plus 3t it was a gr...  \n",
       "6  Value for money.5 star rating.Excellent camera...  \n",
       "7  What a camera .....just awesome ..you can feel...  \n",
       "8  Amazing Powerful and Durable Gadget...I’m am v...  \n",
       "9  I was using Iphone 6s and also Oneplus 6t. Bot...  \n",
       "0  Really satisfied with the Product I received.....  \n",
       "1  Amazing phone with great cameras and better ba...  \n",
       "2  Great iPhone very snappy experience as apple k...  \n",
       "3  I'm Really happy with the product.Delivery was...  \n",
       "4  It's my first time to use iOS phone and I am l...  \n",
       "5  Previously I was using one plus 3t it was a gr...  \n",
       "6  Value for money.5 star rating.Excellent camera...  \n",
       "7  What a camera .....just awesome ..you can feel...  \n",
       "8  Amazing Powerful and Durable Gadget...I’m am v...  \n",
       "9  I was using Iphone 6s and also Oneplus 6t. Bot...  \n",
       "0  Thanks Flipkart For this amazing deal! I had a...  \n",
       "1  Smooth like butter, camera like fantabulous, s...  \n",
       "2  Iphone is just awesome.. battery backup is ver...  \n",
       "3  Really worth of money. i just love it. It is t...  \n",
       "4  Best Apple iPhone that i have bought at a very...  \n",
       "5  Its a fabulous mobile look awesome performance...  \n",
       "6  Excellent camera, good performance, no lag. Th...  \n",
       "7  Best budget Iphone till date ❤️ go for it guys...  \n",
       "8  This is my first ever I phone. Before this I w...  \n",
       "9  Totally in love with this ❤ the camera quality...  "
      ]
     },
     "execution_count": 67,
     "metadata": {},
     "output_type": "execute_result"
    }
   ],
   "source": [
    "# Final 100 Glasses DataFrame\n",
    "\n",
    "flipkart_100_sunglasses = pd.concat([page1,page2,page3])\n",
    "flipkart_100_sunglasses"
   ]
  },
  {
   "cell_type": "code",
   "execution_count": 32,
   "id": "7d716c5b",
   "metadata": {},
   "outputs": [],
   "source": [
    "# Q5: Scrape 100 reviews data from flipkart.com for iphone11 phone."
   ]
  },
  {
   "cell_type": "code",
   "execution_count": 33,
   "id": "2c38767d",
   "metadata": {},
   "outputs": [],
   "source": [
    "driver.get(\"https://www.flipkart.com/apple-iphone-11-black-64-gb-includes-earpods-power-adapter/product-reviews/itm0f37c2240b217?pid=MOBFKCTSVZAXUHGR&lid=LSTMOBFKCTSVZAXUHGREPBFGI&marketplace=FLIPKART\")\n"
   ]
  },
  {
   "cell_type": "code",
   "execution_count": 34,
   "id": "5a265c21",
   "metadata": {},
   "outputs": [],
   "source": [
    "all_button=driver.find_element(By.XPATH,\"/html/body/div/div/div[3]/div/div[1]/div[2]/div[2]/div/div[2]\")\n",
    "all_button.click()"
   ]
  },
  {
   "cell_type": "code",
   "execution_count": 35,
   "id": "6eae96e5",
   "metadata": {},
   "outputs": [
    {
     "data": {
      "text/plain": [
       "[<selenium.webdriver.remote.webelement.WebElement (session=\"29940522c11426234d1ec82d350f7de8\", element=\"89f022ec-37ab-4e19-b0a1-ba3349fe5779\")>,\n",
       " <selenium.webdriver.remote.webelement.WebElement (session=\"29940522c11426234d1ec82d350f7de8\", element=\"06053e47-022c-4f51-b143-b2abfe57e9df\")>]"
      ]
     },
     "execution_count": 35,
     "metadata": {},
     "output_type": "execute_result"
    }
   ],
   "source": [
    "# Code for Rating\n",
    "\n",
    "Rating=driver.find_elements(By.XPATH,\"//div[@class='_3LWZlK _1BLPMq']\")\n",
    "Rating[0:2]"
   ]
  },
  {
   "cell_type": "code",
   "execution_count": 36,
   "id": "42e9385f",
   "metadata": {},
   "outputs": [
    {
     "data": {
      "text/plain": [
       "['5', '5', '5', '4', '5', '5', '5', '5', '5', '4']"
      ]
     },
     "execution_count": 36,
     "metadata": {},
     "output_type": "execute_result"
    }
   ],
   "source": [
    "page1_Rating=[]\n",
    "for i in Rating:\n",
    "    Rating = i.text\n",
    "    page1_Rating.append(Rating)\n",
    "page1_Rating"
   ]
  },
  {
   "cell_type": "code",
   "execution_count": 37,
   "id": "0cd3894e",
   "metadata": {},
   "outputs": [
    {
     "data": {
      "text/plain": [
       "[<selenium.webdriver.remote.webelement.WebElement (session=\"29940522c11426234d1ec82d350f7de8\", element=\"06533d89-b505-4d5f-beb4-dc3e4af00096\")>,\n",
       " <selenium.webdriver.remote.webelement.WebElement (session=\"29940522c11426234d1ec82d350f7de8\", element=\"a800a554-3505-47f8-8527-7bb9b3b64e8d\")>]"
      ]
     },
     "execution_count": 37,
     "metadata": {},
     "output_type": "execute_result"
    }
   ],
   "source": [
    "# Getting the Review Summary\n",
    "\n",
    "Review_summary =driver.find_elements(By.XPATH,\"//p[@class='_2-N8zT']\")\n",
    "Review_summary[0:2]"
   ]
  },
  {
   "cell_type": "code",
   "execution_count": 38,
   "id": "82b49416",
   "metadata": {},
   "outputs": [
    {
     "data": {
      "text/plain": [
       "['Simply awesome',\n",
       " 'Perfect product!',\n",
       " 'Best in the market!',\n",
       " 'Value-for-money',\n",
       " 'Highly recommended',\n",
       " 'Worth every penny',\n",
       " 'Perfect product!',\n",
       " 'Highly recommended',\n",
       " 'Great product',\n",
       " 'Pretty good']"
      ]
     },
     "execution_count": 38,
     "metadata": {},
     "output_type": "execute_result"
    }
   ],
   "source": [
    "page1_Review_summary=[]\n",
    "for i in Review_summary:\n",
    "    Review_summarys = i.text\n",
    "    page1_Review_summary.append(Review_summarys)\n",
    "page1_Review_summary"
   ]
  },
  {
   "cell_type": "code",
   "execution_count": 39,
   "id": "821fb4db",
   "metadata": {},
   "outputs": [
    {
     "data": {
      "text/plain": [
       "[<selenium.webdriver.remote.webelement.WebElement (session=\"29940522c11426234d1ec82d350f7de8\", element=\"3d50a709-6392-4c65-ba09-cbfe90fb1be6\")>,\n",
       " <selenium.webdriver.remote.webelement.WebElement (session=\"29940522c11426234d1ec82d350f7de8\", element=\"14c87960-0ec9-4877-8373-57c13ef91628\")>]"
      ]
     },
     "execution_count": 39,
     "metadata": {},
     "output_type": "execute_result"
    }
   ],
   "source": [
    "# Getting the Full Review\n",
    "\n",
    "full_review=driver.find_elements(By.XPATH,\"//div[@class='t-ZTKy']\")\n",
    "full_review[0:2]"
   ]
  },
  {
   "cell_type": "code",
   "execution_count": 40,
   "id": "f04871b0",
   "metadata": {},
   "outputs": [
    {
     "data": {
      "text/plain": [
       "['Really satisfied with the Product I received... It’s totally genuine and the packaging was also really good so if ur planning to buy just go for it.',\n",
       " 'Amazing phone with great cameras and better battery which gives you the best performance. I just love the camera .',\n",
       " 'Great iPhone very snappy experience as apple kind. Upgraded from iPhone 7..Pros.-Camera top class.- Battery top performed.-Chipset no need to say as apple kind.-Security as you expect from apple.- Display super bright industry leading colour.accuracy and super responsive.-Build quality as expect from apple sturdy.premium durable beautiful stylish..-Os most stable os in smartphone industry..Cons.-No 5G.-Display is not based on OLED technology.-Charger headphones and 1 apple stic....READ MORE',\n",
       " \"I'm Really happy with the product.Delivery was fast as well...it was a gift for my sister and she loved it so much.\",\n",
       " \"It's my first time to use iOS phone and I am loving my upgradation 😍😍 I love the color, I love the assebility of the phone....I need to learn more about its functionality, but as far as I have seen, it's quite easy and it has a lot of functions to work on, specially if you are a content writer or a blogger you get a lot of content creation platforms and they are really amazing...This phone not only for good quality photography but a lot of other task too.😍💯\",\n",
       " 'Previously I was using one plus 3t it was a great phone.And then I decided to upgrade I am stuck between Samsung s10 plus or iPhone 11.I have seen the specs and everything were good except the display it’s somewhere between 720-1080 and it’s not even an amoled it’s an LCD display.But I decided to go with iPhone because I have never used an IOS device I have Been an android user from the past 9 years I ordered IPhone 11 (128gb) product red.My experience after using 3 weeks.1. The delivery ....READ MORE',\n",
       " 'Value for money.5 star rating.Excellent camera.Battery backup full day in single charge...Tougher and water resistant design, glossy back..The screen has excellent brightness and contrast..Apple A13 Bionic is the fastest smartphone chip on the planet..Excellent battery life, fast charging support..Stereo speakers with great quality.',\n",
       " 'What a camera .....just awesome ..you can feel this iPhone just awesome . Good for gaming also ...try pubg in hd it’s just wow',\n",
       " 'Amazing Powerful and Durable Gadget...I’m am very happy with the camera picture quality, Amazing face id unlocked in dark room, Strong battery with perfect screen size as you can carry easily in pocket. This is my third iPhone...I shifted from android Samsung Note series to iPhone because of the strong build quality and peace of mind for next 3-4 years...Don’t think to much just go for it and I suggest you to go for minimum 128gb variant or more 256gb...I’ve attached my puppy pics and no fi....READ MORE',\n",
       " 'I was using Iphone 6s and also Oneplus 6t. Both mobiles were perfectly alright in Photos, gaming, and smooth interface . My 6s mobile getting battery issue. thought upgrade to 11. Really like this mobile of its Internal storage (compare to 6s) , camera and its touch feeling. Its a worth buying mobile for me.']"
      ]
     },
     "execution_count": 40,
     "metadata": {},
     "output_type": "execute_result"
    }
   ],
   "source": [
    "page1_full_review=[]\n",
    "for i in full_review:\n",
    "    full_reviews = i.text.replace(\"\\n\",\".\")\n",
    "    page1_full_review.append(full_reviews)\n",
    "page1_full_review"
   ]
  },
  {
   "cell_type": "code",
   "execution_count": 41,
   "id": "5b63a4d6",
   "metadata": {},
   "outputs": [
    {
     "data": {
      "text/html": [
       "<div>\n",
       "<style scoped>\n",
       "    .dataframe tbody tr th:only-of-type {\n",
       "        vertical-align: middle;\n",
       "    }\n",
       "\n",
       "    .dataframe tbody tr th {\n",
       "        vertical-align: top;\n",
       "    }\n",
       "\n",
       "    .dataframe thead th {\n",
       "        text-align: right;\n",
       "    }\n",
       "</style>\n",
       "<table border=\"1\" class=\"dataframe\">\n",
       "  <thead>\n",
       "    <tr style=\"text-align: right;\">\n",
       "      <th></th>\n",
       "      <th>Rating</th>\n",
       "      <th>Review_summary</th>\n",
       "      <th>full_review</th>\n",
       "    </tr>\n",
       "  </thead>\n",
       "  <tbody>\n",
       "    <tr>\n",
       "      <th>0</th>\n",
       "      <td>5</td>\n",
       "      <td>Simply awesome</td>\n",
       "      <td>Really satisfied with the Product I received.....</td>\n",
       "    </tr>\n",
       "    <tr>\n",
       "      <th>1</th>\n",
       "      <td>5</td>\n",
       "      <td>Perfect product!</td>\n",
       "      <td>Amazing phone with great cameras and better ba...</td>\n",
       "    </tr>\n",
       "    <tr>\n",
       "      <th>2</th>\n",
       "      <td>5</td>\n",
       "      <td>Best in the market!</td>\n",
       "      <td>Great iPhone very snappy experience as apple k...</td>\n",
       "    </tr>\n",
       "    <tr>\n",
       "      <th>3</th>\n",
       "      <td>4</td>\n",
       "      <td>Value-for-money</td>\n",
       "      <td>I'm Really happy with the product.Delivery was...</td>\n",
       "    </tr>\n",
       "    <tr>\n",
       "      <th>4</th>\n",
       "      <td>5</td>\n",
       "      <td>Highly recommended</td>\n",
       "      <td>It's my first time to use iOS phone and I am l...</td>\n",
       "    </tr>\n",
       "    <tr>\n",
       "      <th>5</th>\n",
       "      <td>5</td>\n",
       "      <td>Worth every penny</td>\n",
       "      <td>Previously I was using one plus 3t it was a gr...</td>\n",
       "    </tr>\n",
       "    <tr>\n",
       "      <th>6</th>\n",
       "      <td>5</td>\n",
       "      <td>Perfect product!</td>\n",
       "      <td>Value for money.5 star rating.Excellent camera...</td>\n",
       "    </tr>\n",
       "    <tr>\n",
       "      <th>7</th>\n",
       "      <td>5</td>\n",
       "      <td>Highly recommended</td>\n",
       "      <td>What a camera .....just awesome ..you can feel...</td>\n",
       "    </tr>\n",
       "    <tr>\n",
       "      <th>8</th>\n",
       "      <td>5</td>\n",
       "      <td>Great product</td>\n",
       "      <td>Amazing Powerful and Durable Gadget...I’m am v...</td>\n",
       "    </tr>\n",
       "    <tr>\n",
       "      <th>9</th>\n",
       "      <td>4</td>\n",
       "      <td>Pretty good</td>\n",
       "      <td>I was using Iphone 6s and also Oneplus 6t. Bot...</td>\n",
       "    </tr>\n",
       "  </tbody>\n",
       "</table>\n",
       "</div>"
      ],
      "text/plain": [
       "  Rating       Review_summary  \\\n",
       "0      5       Simply awesome   \n",
       "1      5     Perfect product!   \n",
       "2      5  Best in the market!   \n",
       "3      4      Value-for-money   \n",
       "4      5   Highly recommended   \n",
       "5      5    Worth every penny   \n",
       "6      5     Perfect product!   \n",
       "7      5   Highly recommended   \n",
       "8      5        Great product   \n",
       "9      4          Pretty good   \n",
       "\n",
       "                                         full_review  \n",
       "0  Really satisfied with the Product I received.....  \n",
       "1  Amazing phone with great cameras and better ba...  \n",
       "2  Great iPhone very snappy experience as apple k...  \n",
       "3  I'm Really happy with the product.Delivery was...  \n",
       "4  It's my first time to use iOS phone and I am l...  \n",
       "5  Previously I was using one plus 3t it was a gr...  \n",
       "6  Value for money.5 star rating.Excellent camera...  \n",
       "7  What a camera .....just awesome ..you can feel...  \n",
       "8  Amazing Powerful and Durable Gadget...I’m am v...  \n",
       "9  I was using Iphone 6s and also Oneplus 6t. Bot...  "
      ]
     },
     "execution_count": 41,
     "metadata": {},
     "output_type": "execute_result"
    }
   ],
   "source": [
    "# Creating Data Frame for PAGE 1\n",
    "\n",
    "page1 = pd.DataFrame({})\n",
    "page1[\"Rating\"]=page1_Rating\n",
    "page1[\"Review_summary\"]=page1_Review_summary\n",
    "page1[\"full_review\"]=page1_full_review\n",
    "page1"
   ]
  },
  {
   "cell_type": "code",
   "execution_count": 42,
   "id": "9e649656",
   "metadata": {},
   "outputs": [],
   "source": [
    "# Going to the Page 2\n",
    "\n",
    "next_button=driver.find_element(By.XPATH,\"/html/body/div[1]/div/div[3]/div/div/div[2]/div[13]/div/div/nav/a[11]/span\")\n",
    "next_button.click()"
   ]
  },
  {
   "cell_type": "code",
   "execution_count": 43,
   "id": "72c99960",
   "metadata": {},
   "outputs": [
    {
     "data": {
      "text/plain": [
       "[<selenium.webdriver.remote.webelement.WebElement (session=\"29940522c11426234d1ec82d350f7de8\", element=\"89f022ec-37ab-4e19-b0a1-ba3349fe5779\")>,\n",
       " <selenium.webdriver.remote.webelement.WebElement (session=\"29940522c11426234d1ec82d350f7de8\", element=\"06053e47-022c-4f51-b143-b2abfe57e9df\")>]"
      ]
     },
     "execution_count": 43,
     "metadata": {},
     "output_type": "execute_result"
    }
   ],
   "source": [
    "# Rating frrom Page 2 \n",
    "\n",
    "Rating=driver.find_elements(By.XPATH,\"//div[@class='_3LWZlK _1BLPMq']\")\n",
    "Rating[0:2]"
   ]
  },
  {
   "cell_type": "code",
   "execution_count": 44,
   "id": "3fe0a0c6",
   "metadata": {},
   "outputs": [
    {
     "data": {
      "text/plain": [
       "['5', '5', '5', '4', '5', '5', '5', '5', '5', '4']"
      ]
     },
     "execution_count": 44,
     "metadata": {},
     "output_type": "execute_result"
    }
   ],
   "source": [
    "page2_Rating=[]\n",
    "for i in Rating:\n",
    "    Rating = i.text\n",
    "    page2_Rating.append(Rating)\n",
    "page2_Rating"
   ]
  },
  {
   "cell_type": "code",
   "execution_count": 45,
   "id": "a8a8bb7b",
   "metadata": {},
   "outputs": [
    {
     "data": {
      "text/plain": [
       "[<selenium.webdriver.remote.webelement.WebElement (session=\"29940522c11426234d1ec82d350f7de8\", element=\"06533d89-b505-4d5f-beb4-dc3e4af00096\")>,\n",
       " <selenium.webdriver.remote.webelement.WebElement (session=\"29940522c11426234d1ec82d350f7de8\", element=\"a800a554-3505-47f8-8527-7bb9b3b64e8d\")>]"
      ]
     },
     "execution_count": 45,
     "metadata": {},
     "output_type": "execute_result"
    }
   ],
   "source": [
    "# Getting the Review Summary from page 2\n",
    "\n",
    "Review_summary =driver.find_elements(By.XPATH,\"//p[@class='_2-N8zT']\")\n",
    "Review_summary[0:2]"
   ]
  },
  {
   "cell_type": "code",
   "execution_count": 46,
   "id": "f4ec9190",
   "metadata": {},
   "outputs": [
    {
     "data": {
      "text/plain": [
       "['Simply awesome',\n",
       " 'Perfect product!',\n",
       " 'Best in the market!',\n",
       " 'Value-for-money',\n",
       " 'Highly recommended',\n",
       " 'Worth every penny',\n",
       " 'Perfect product!',\n",
       " 'Highly recommended',\n",
       " 'Great product',\n",
       " 'Pretty good']"
      ]
     },
     "execution_count": 46,
     "metadata": {},
     "output_type": "execute_result"
    }
   ],
   "source": [
    "page2_Review_summary=[]\n",
    "for i in Review_summary:\n",
    "    Review_summarys = i.text\n",
    "    page2_Review_summary.append(Review_summarys)\n",
    "page2_Review_summary"
   ]
  },
  {
   "cell_type": "code",
   "execution_count": 47,
   "id": "d37fe828",
   "metadata": {},
   "outputs": [
    {
     "data": {
      "text/plain": [
       "[<selenium.webdriver.remote.webelement.WebElement (session=\"29940522c11426234d1ec82d350f7de8\", element=\"3d50a709-6392-4c65-ba09-cbfe90fb1be6\")>,\n",
       " <selenium.webdriver.remote.webelement.WebElement (session=\"29940522c11426234d1ec82d350f7de8\", element=\"14c87960-0ec9-4877-8373-57c13ef91628\")>]"
      ]
     },
     "execution_count": 47,
     "metadata": {},
     "output_type": "execute_result"
    }
   ],
   "source": [
    "# Getting the Full Review from Page 2\n",
    "\n",
    "full_review=driver.find_elements(By.XPATH,\"//div[@class='t-ZTKy']\")\n",
    "full_review[0:2]"
   ]
  },
  {
   "cell_type": "code",
   "execution_count": 48,
   "id": "f7e67338",
   "metadata": {},
   "outputs": [
    {
     "data": {
      "text/plain": [
       "['Really satisfied with the Product I received... It’s totally genuine and the packaging was also really good so if ur planning to buy just go for it.',\n",
       " 'Amazing phone with great cameras and better battery which gives you the best performance. I just love the camera .',\n",
       " 'Great iPhone very snappy experience as apple kind. Upgraded from iPhone 7..Pros.-Camera top class.- Battery top performed.-Chipset no need to say as apple kind.-Security as you expect from apple.- Display super bright industry leading colour.accuracy and super responsive.-Build quality as expect from apple sturdy.premium durable beautiful stylish..-Os most stable os in smartphone industry..Cons.-No 5G.-Display is not based on OLED technology.-Charger headphones and 1 apple stic....READ MORE',\n",
       " \"I'm Really happy with the product.Delivery was fast as well...it was a gift for my sister and she loved it so much.\",\n",
       " \"It's my first time to use iOS phone and I am loving my upgradation 😍😍 I love the color, I love the assebility of the phone....I need to learn more about its functionality, but as far as I have seen, it's quite easy and it has a lot of functions to work on, specially if you are a content writer or a blogger you get a lot of content creation platforms and they are really amazing...This phone not only for good quality photography but a lot of other task too.😍💯\",\n",
       " 'Previously I was using one plus 3t it was a great phone.And then I decided to upgrade I am stuck between Samsung s10 plus or iPhone 11.I have seen the specs and everything were good except the display it’s somewhere between 720-1080 and it’s not even an amoled it’s an LCD display.But I decided to go with iPhone because I have never used an IOS device I have Been an android user from the past 9 years I ordered IPhone 11 (128gb) product red.My experience after using 3 weeks.1. The delivery ....READ MORE',\n",
       " 'Value for money.5 star rating.Excellent camera.Battery backup full day in single charge...Tougher and water resistant design, glossy back..The screen has excellent brightness and contrast..Apple A13 Bionic is the fastest smartphone chip on the planet..Excellent battery life, fast charging support..Stereo speakers with great quality.',\n",
       " 'What a camera .....just awesome ..you can feel this iPhone just awesome . Good for gaming also ...try pubg in hd it’s just wow',\n",
       " 'Amazing Powerful and Durable Gadget...I’m am very happy with the camera picture quality, Amazing face id unlocked in dark room, Strong battery with perfect screen size as you can carry easily in pocket. This is my third iPhone...I shifted from android Samsung Note series to iPhone because of the strong build quality and peace of mind for next 3-4 years...Don’t think to much just go for it and I suggest you to go for minimum 128gb variant or more 256gb...I’ve attached my puppy pics and no fi....READ MORE',\n",
       " 'I was using Iphone 6s and also Oneplus 6t. Both mobiles were perfectly alright in Photos, gaming, and smooth interface . My 6s mobile getting battery issue. thought upgrade to 11. Really like this mobile of its Internal storage (compare to 6s) , camera and its touch feeling. Its a worth buying mobile for me.']"
      ]
     },
     "execution_count": 48,
     "metadata": {},
     "output_type": "execute_result"
    }
   ],
   "source": [
    "page2_full_review=[]\n",
    "for i in full_review:\n",
    "    full_reviews = i.text.replace(\"\\n\",\".\")\n",
    "    page2_full_review.append(full_reviews)\n",
    "page2_full_review"
   ]
  },
  {
   "cell_type": "code",
   "execution_count": 49,
   "id": "30d6df5d",
   "metadata": {},
   "outputs": [
    {
     "data": {
      "text/html": [
       "<div>\n",
       "<style scoped>\n",
       "    .dataframe tbody tr th:only-of-type {\n",
       "        vertical-align: middle;\n",
       "    }\n",
       "\n",
       "    .dataframe tbody tr th {\n",
       "        vertical-align: top;\n",
       "    }\n",
       "\n",
       "    .dataframe thead th {\n",
       "        text-align: right;\n",
       "    }\n",
       "</style>\n",
       "<table border=\"1\" class=\"dataframe\">\n",
       "  <thead>\n",
       "    <tr style=\"text-align: right;\">\n",
       "      <th></th>\n",
       "      <th>Rating</th>\n",
       "      <th>Review_summary</th>\n",
       "      <th>full_review</th>\n",
       "    </tr>\n",
       "  </thead>\n",
       "  <tbody>\n",
       "    <tr>\n",
       "      <th>0</th>\n",
       "      <td>5</td>\n",
       "      <td>Simply awesome</td>\n",
       "      <td>Really satisfied with the Product I received.....</td>\n",
       "    </tr>\n",
       "    <tr>\n",
       "      <th>1</th>\n",
       "      <td>5</td>\n",
       "      <td>Perfect product!</td>\n",
       "      <td>Amazing phone with great cameras and better ba...</td>\n",
       "    </tr>\n",
       "    <tr>\n",
       "      <th>2</th>\n",
       "      <td>5</td>\n",
       "      <td>Best in the market!</td>\n",
       "      <td>Great iPhone very snappy experience as apple k...</td>\n",
       "    </tr>\n",
       "    <tr>\n",
       "      <th>3</th>\n",
       "      <td>4</td>\n",
       "      <td>Value-for-money</td>\n",
       "      <td>I'm Really happy with the product.Delivery was...</td>\n",
       "    </tr>\n",
       "    <tr>\n",
       "      <th>4</th>\n",
       "      <td>5</td>\n",
       "      <td>Highly recommended</td>\n",
       "      <td>It's my first time to use iOS phone and I am l...</td>\n",
       "    </tr>\n",
       "    <tr>\n",
       "      <th>5</th>\n",
       "      <td>5</td>\n",
       "      <td>Worth every penny</td>\n",
       "      <td>Previously I was using one plus 3t it was a gr...</td>\n",
       "    </tr>\n",
       "    <tr>\n",
       "      <th>6</th>\n",
       "      <td>5</td>\n",
       "      <td>Perfect product!</td>\n",
       "      <td>Value for money.5 star rating.Excellent camera...</td>\n",
       "    </tr>\n",
       "    <tr>\n",
       "      <th>7</th>\n",
       "      <td>5</td>\n",
       "      <td>Highly recommended</td>\n",
       "      <td>What a camera .....just awesome ..you can feel...</td>\n",
       "    </tr>\n",
       "    <tr>\n",
       "      <th>8</th>\n",
       "      <td>5</td>\n",
       "      <td>Great product</td>\n",
       "      <td>Amazing Powerful and Durable Gadget...I’m am v...</td>\n",
       "    </tr>\n",
       "    <tr>\n",
       "      <th>9</th>\n",
       "      <td>4</td>\n",
       "      <td>Pretty good</td>\n",
       "      <td>I was using Iphone 6s and also Oneplus 6t. Bot...</td>\n",
       "    </tr>\n",
       "  </tbody>\n",
       "</table>\n",
       "</div>"
      ],
      "text/plain": [
       "  Rating       Review_summary  \\\n",
       "0      5       Simply awesome   \n",
       "1      5     Perfect product!   \n",
       "2      5  Best in the market!   \n",
       "3      4      Value-for-money   \n",
       "4      5   Highly recommended   \n",
       "5      5    Worth every penny   \n",
       "6      5     Perfect product!   \n",
       "7      5   Highly recommended   \n",
       "8      5        Great product   \n",
       "9      4          Pretty good   \n",
       "\n",
       "                                         full_review  \n",
       "0  Really satisfied with the Product I received.....  \n",
       "1  Amazing phone with great cameras and better ba...  \n",
       "2  Great iPhone very snappy experience as apple k...  \n",
       "3  I'm Really happy with the product.Delivery was...  \n",
       "4  It's my first time to use iOS phone and I am l...  \n",
       "5  Previously I was using one plus 3t it was a gr...  \n",
       "6  Value for money.5 star rating.Excellent camera...  \n",
       "7  What a camera .....just awesome ..you can feel...  \n",
       "8  Amazing Powerful and Durable Gadget...I’m am v...  \n",
       "9  I was using Iphone 6s and also Oneplus 6t. Bot...  "
      ]
     },
     "execution_count": 49,
     "metadata": {},
     "output_type": "execute_result"
    }
   ],
   "source": [
    "# Creating Data Frame for Page 2\n",
    "\n",
    "page2 = pd.DataFrame({})\n",
    "page2[\"Rating\"]=page2_Rating\n",
    "page2[\"Review_summary\"]=page2_Review_summary\n",
    "page2[\"full_review\"]=page2_full_review\n",
    "page2"
   ]
  },
  {
   "cell_type": "code",
   "execution_count": 51,
   "id": "6ce596e5",
   "metadata": {},
   "outputs": [],
   "source": [
    "# Clicking on Page 3\n",
    "\n",
    "\n",
    "next_button=driver.find_element(By.XPATH,\"/html/body/div[1]/div/div[3]/div/div/div[2]/div[13]/div/div/nav/a[12]/span\")\n",
    "next_button.click()"
   ]
  },
  {
   "cell_type": "code",
   "execution_count": 52,
   "id": "15a4fa9b",
   "metadata": {},
   "outputs": [
    {
     "data": {
      "text/plain": [
       "[<selenium.webdriver.remote.webelement.WebElement (session=\"29940522c11426234d1ec82d350f7de8\", element=\"7e403915-b16f-4491-92af-def748490d3a\")>,\n",
       " <selenium.webdriver.remote.webelement.WebElement (session=\"29940522c11426234d1ec82d350f7de8\", element=\"eaa905dc-bf19-468d-a0ad-4a7c47e22ed0\")>]"
      ]
     },
     "execution_count": 52,
     "metadata": {},
     "output_type": "execute_result"
    }
   ],
   "source": [
    "# Rating frrom Page 3\n",
    "\n",
    "Rating=driver.find_elements(By.XPATH,\"//div[@class='_3LWZlK _1BLPMq']\")\n",
    "Rating[0:2]"
   ]
  },
  {
   "cell_type": "code",
   "execution_count": 53,
   "id": "69e0286e",
   "metadata": {},
   "outputs": [
    {
     "data": {
      "text/plain": [
       "['5', '5', '5', '5', '5', '5', '5', '5', '5', '5']"
      ]
     },
     "execution_count": 53,
     "metadata": {},
     "output_type": "execute_result"
    }
   ],
   "source": [
    "page3_Rating=[]\n",
    "for i in Rating:\n",
    "    Rating=i.text\n",
    "    page3_Rating.append(Rating)\n",
    "page3_Rating"
   ]
  },
  {
   "cell_type": "code",
   "execution_count": 54,
   "id": "7acdabce",
   "metadata": {},
   "outputs": [
    {
     "data": {
      "text/plain": [
       "[<selenium.webdriver.remote.webelement.WebElement (session=\"29940522c11426234d1ec82d350f7de8\", element=\"f2a725e2-0385-4a81-aa77-26cc0a556324\")>,\n",
       " <selenium.webdriver.remote.webelement.WebElement (session=\"29940522c11426234d1ec82d350f7de8\", element=\"ffc92086-3fe1-4327-905b-a253e1177d8a\")>]"
      ]
     },
     "execution_count": 54,
     "metadata": {},
     "output_type": "execute_result"
    }
   ],
   "source": [
    "# Getting the Review Summary from page 3\n",
    "\n",
    "Review_summary =driver.find_elements(By.XPATH,\"//p[@class='_2-N8zT']\")\n",
    "Review_summary[0:2]"
   ]
  },
  {
   "cell_type": "code",
   "execution_count": 55,
   "id": "47097957",
   "metadata": {},
   "outputs": [
    {
     "data": {
      "text/plain": [
       "['Highly recommended',\n",
       " 'Worth every penny',\n",
       " 'Perfect product!',\n",
       " 'Terrific',\n",
       " 'Must buy!',\n",
       " 'Excellent',\n",
       " 'Simply awesome',\n",
       " 'Worth every penny',\n",
       " 'Great product',\n",
       " 'Classy product']"
      ]
     },
     "execution_count": 55,
     "metadata": {},
     "output_type": "execute_result"
    }
   ],
   "source": [
    "page3_Review_summary=[]\n",
    "for i in Review_summary:\n",
    "    Review_summarys = i.text\n",
    "    page3_Review_summary.append(Review_summarys)\n",
    "page3_Review_summary"
   ]
  },
  {
   "cell_type": "code",
   "execution_count": 56,
   "id": "436600c8",
   "metadata": {},
   "outputs": [
    {
     "data": {
      "text/plain": [
       "[<selenium.webdriver.remote.webelement.WebElement (session=\"29940522c11426234d1ec82d350f7de8\", element=\"f9dd9d2c-4f52-4522-9c91-486a5f00bd31\")>,\n",
       " <selenium.webdriver.remote.webelement.WebElement (session=\"29940522c11426234d1ec82d350f7de8\", element=\"f8eff91c-d2bd-4a71-8823-a9874438e003\")>]"
      ]
     },
     "execution_count": 56,
     "metadata": {},
     "output_type": "execute_result"
    }
   ],
   "source": [
    "# Getting the Full Review from Page 3\n",
    "\n",
    "full_review=driver.find_elements(By.XPATH,\"//div[@class='t-ZTKy']\")\n",
    "full_review[0:2]"
   ]
  },
  {
   "cell_type": "code",
   "execution_count": 57,
   "id": "949c58a7",
   "metadata": {},
   "outputs": [
    {
     "data": {
      "text/plain": [
       "['Thanks Flipkart For this amazing deal! I had a dream of owning a iphone since i had known about..Im very happy with my purchase & it is totally worth it..Amazing experience all over !!..Anyone who’s thinking of buying it in 2021, i would simply say go for it without any second thoughts ❤️',\n",
       " 'Smooth like butter, camera like fantabulous, sound is crystal clear & its red color is damn attractive, i am just loving it. Must buy if you love photography...Lucky to get it in sale, thank you Flipkart.',\n",
       " \"Iphone is just awesome.. battery backup is very very nice.. continuously for 10 hours we can use it.camera is just awesome.. display is just fab.i love it alot..i had to wait 15 days for it as i pre ordered it..overalll it's worth the price..these all images are clicked by my iPhone..and i love it.\",\n",
       " 'Really worth of money. i just love it. It is the best phone ever.',\n",
       " 'Best Apple iPhone that i have bought at a very reasonable price, camera quality is next level just awesome n of superior quality android phones not even close(RIP) to that and also battery is really good but packaging by Flipkart of iPhone was very poor of such a expensive product, firstly im bit worried about the quality of product if i purchased it through online how was the product but i think now this was mine best decision to bought it through Flipkart online because i got genuine Apple....READ MORE',\n",
       " 'Its a fabulous mobile look awesome performance unbeaten camera like dslr battery good i think this is a beast of mobile',\n",
       " 'Excellent camera, good performance, no lag. The lcd display is also good.. but difference come when we watch movie in prime and Netflix, the colours are not vibrant.. as we see in amoled display.. and the charger in box is of 5 watts.. takes more than 3 hours to charge from 0 to 100.. so guys be prepare to buy 18 watts charger . Finally I am an android user, it was my first Iapple phone, I promise u guys the iOS is so smooth.. overall the phone is damn good.... close eyes to buy it.. thanks t....READ MORE',\n",
       " 'Best budget Iphone till date ❤️ go for it guys without second thought. Let me explain you guys about Camera, Display, battery, and performance...Camera: at this price range there is no comparison of camera, you’ll love the picture quality as well as video quality. I am a Vlogger I wanted an iPhone with 4k video by front camera and I got this phone and I am more than happy 😃..Battery: I use this phone roughly as I am active social media person and I have a youtube channel. so the battery ba....READ MORE',\n",
       " 'This is my first ever I phone. Before this I was using my google nexus 5. But moving from android to iOS is a great experience. It’s worth at this price. I will highly recommend it if you want to move to iOS. The best part of this phone is it’s camera and it’s battery life. This two things have won my heart. I loved it. Happy to have it in my hand. Still exploring its features. And can’t forget to mention Flipkart service. Very prompt service and fast delivery.',\n",
       " 'Totally in love with this ❤ the camera quality is amazing just love it 😘😘😘 itsss dammnnnnnn amazing... Must buy iPhone 11 this is my best experience ever ☀👌👌🧡🧡🧡🧡🧡 thanku apple ❤']"
      ]
     },
     "execution_count": 57,
     "metadata": {},
     "output_type": "execute_result"
    }
   ],
   "source": [
    "page3_full_review=[]\n",
    "for i in full_review:\n",
    "    full_reviews = i.text.replace(\"\\n\",\".\")\n",
    "    page3_full_review.append(full_reviews)\n",
    "page3_full_review"
   ]
  },
  {
   "cell_type": "code",
   "execution_count": 58,
   "id": "c5c850fb",
   "metadata": {},
   "outputs": [
    {
     "data": {
      "text/html": [
       "<div>\n",
       "<style scoped>\n",
       "    .dataframe tbody tr th:only-of-type {\n",
       "        vertical-align: middle;\n",
       "    }\n",
       "\n",
       "    .dataframe tbody tr th {\n",
       "        vertical-align: top;\n",
       "    }\n",
       "\n",
       "    .dataframe thead th {\n",
       "        text-align: right;\n",
       "    }\n",
       "</style>\n",
       "<table border=\"1\" class=\"dataframe\">\n",
       "  <thead>\n",
       "    <tr style=\"text-align: right;\">\n",
       "      <th></th>\n",
       "      <th>Rating</th>\n",
       "      <th>Review_summary</th>\n",
       "      <th>full_review</th>\n",
       "    </tr>\n",
       "  </thead>\n",
       "  <tbody>\n",
       "    <tr>\n",
       "      <th>0</th>\n",
       "      <td>5</td>\n",
       "      <td>Highly recommended</td>\n",
       "      <td>Thanks Flipkart For this amazing deal! I had a...</td>\n",
       "    </tr>\n",
       "    <tr>\n",
       "      <th>1</th>\n",
       "      <td>5</td>\n",
       "      <td>Worth every penny</td>\n",
       "      <td>Smooth like butter, camera like fantabulous, s...</td>\n",
       "    </tr>\n",
       "    <tr>\n",
       "      <th>2</th>\n",
       "      <td>5</td>\n",
       "      <td>Perfect product!</td>\n",
       "      <td>Iphone is just awesome.. battery backup is ver...</td>\n",
       "    </tr>\n",
       "    <tr>\n",
       "      <th>3</th>\n",
       "      <td>5</td>\n",
       "      <td>Terrific</td>\n",
       "      <td>Really worth of money. i just love it. It is t...</td>\n",
       "    </tr>\n",
       "    <tr>\n",
       "      <th>4</th>\n",
       "      <td>5</td>\n",
       "      <td>Must buy!</td>\n",
       "      <td>Best Apple iPhone that i have bought at a very...</td>\n",
       "    </tr>\n",
       "    <tr>\n",
       "      <th>5</th>\n",
       "      <td>5</td>\n",
       "      <td>Excellent</td>\n",
       "      <td>Its a fabulous mobile look awesome performance...</td>\n",
       "    </tr>\n",
       "    <tr>\n",
       "      <th>6</th>\n",
       "      <td>5</td>\n",
       "      <td>Simply awesome</td>\n",
       "      <td>Excellent camera, good performance, no lag. Th...</td>\n",
       "    </tr>\n",
       "    <tr>\n",
       "      <th>7</th>\n",
       "      <td>5</td>\n",
       "      <td>Worth every penny</td>\n",
       "      <td>Best budget Iphone till date ❤️ go for it guys...</td>\n",
       "    </tr>\n",
       "    <tr>\n",
       "      <th>8</th>\n",
       "      <td>5</td>\n",
       "      <td>Great product</td>\n",
       "      <td>This is my first ever I phone. Before this I w...</td>\n",
       "    </tr>\n",
       "    <tr>\n",
       "      <th>9</th>\n",
       "      <td>5</td>\n",
       "      <td>Classy product</td>\n",
       "      <td>Totally in love with this ❤ the camera quality...</td>\n",
       "    </tr>\n",
       "  </tbody>\n",
       "</table>\n",
       "</div>"
      ],
      "text/plain": [
       "  Rating      Review_summary  \\\n",
       "0      5  Highly recommended   \n",
       "1      5   Worth every penny   \n",
       "2      5    Perfect product!   \n",
       "3      5            Terrific   \n",
       "4      5           Must buy!   \n",
       "5      5           Excellent   \n",
       "6      5      Simply awesome   \n",
       "7      5   Worth every penny   \n",
       "8      5       Great product   \n",
       "9      5      Classy product   \n",
       "\n",
       "                                         full_review  \n",
       "0  Thanks Flipkart For this amazing deal! I had a...  \n",
       "1  Smooth like butter, camera like fantabulous, s...  \n",
       "2  Iphone is just awesome.. battery backup is ver...  \n",
       "3  Really worth of money. i just love it. It is t...  \n",
       "4  Best Apple iPhone that i have bought at a very...  \n",
       "5  Its a fabulous mobile look awesome performance...  \n",
       "6  Excellent camera, good performance, no lag. Th...  \n",
       "7  Best budget Iphone till date ❤️ go for it guys...  \n",
       "8  This is my first ever I phone. Before this I w...  \n",
       "9  Totally in love with this ❤ the camera quality...  "
      ]
     },
     "execution_count": 58,
     "metadata": {},
     "output_type": "execute_result"
    }
   ],
   "source": [
    "# Creating Data Frame for Page 3\n",
    "\n",
    "page3 = pd.DataFrame({})\n",
    "page3[\"Rating\"]=page3_Rating\n",
    "page3[\"Review_summary\"]=page3_Review_summary\n",
    "page3[\"full_review\"]=page3_full_review\n",
    "page3"
   ]
  },
  {
   "cell_type": "code",
   "execution_count": 59,
   "id": "8e41ca3c",
   "metadata": {},
   "outputs": [],
   "source": [
    "# Clicking on Page 4\n",
    "\n",
    "\n",
    "next_button=driver.find_element(By.XPATH,\"/html/body/div[1]/div/div[3]/div/div/div[2]/div[13]/div/div/nav/a[12]/span\")\n",
    "next_button.click()"
   ]
  },
  {
   "cell_type": "code",
   "execution_count": 60,
   "id": "f8790474",
   "metadata": {},
   "outputs": [
    {
     "data": {
      "text/plain": [
       "[<selenium.webdriver.remote.webelement.WebElement (session=\"29940522c11426234d1ec82d350f7de8\", element=\"11e420f0-663e-427e-a562-72699adb0970\")>,\n",
       " <selenium.webdriver.remote.webelement.WebElement (session=\"29940522c11426234d1ec82d350f7de8\", element=\"90ecec37-fbd7-443a-a4e7-e3535fd9a674\")>]"
      ]
     },
     "execution_count": 60,
     "metadata": {},
     "output_type": "execute_result"
    }
   ],
   "source": [
    "# Rating frrom Page 4\n",
    "\n",
    "Rating=driver.find_elements(By.XPATH,\"//div[@class='_3LWZlK _1BLPMq']\")\n",
    "Rating[0:2]"
   ]
  },
  {
   "cell_type": "code",
   "execution_count": 61,
   "id": "5e75124d",
   "metadata": {},
   "outputs": [
    {
     "data": {
      "text/plain": [
       "['5', '5', '5', '4', '5', '5', '5', '5', '5', '4']"
      ]
     },
     "execution_count": 61,
     "metadata": {},
     "output_type": "execute_result"
    }
   ],
   "source": [
    "page4_Rating=[]\n",
    "for i in Rating:\n",
    "    Rating=i.text\n",
    "    page4_Rating.append(Rating)\n",
    "page4_Rating"
   ]
  },
  {
   "cell_type": "code",
   "execution_count": 62,
   "id": "99a3960b",
   "metadata": {},
   "outputs": [
    {
     "data": {
      "text/plain": [
       "[<selenium.webdriver.remote.webelement.WebElement (session=\"29940522c11426234d1ec82d350f7de8\", element=\"56254cf7-a3c4-49a7-a06a-69c207fb3799\")>,\n",
       " <selenium.webdriver.remote.webelement.WebElement (session=\"29940522c11426234d1ec82d350f7de8\", element=\"ef8df314-09c7-4b0b-a3ba-f6d7f6ed1645\")>]"
      ]
     },
     "execution_count": 62,
     "metadata": {},
     "output_type": "execute_result"
    }
   ],
   "source": [
    "# Getting the Review Summary from page 4\n",
    "\n",
    "Review_summary =driver.find_elements(By.XPATH,\"//p[@class='_2-N8zT']\")\n",
    "Review_summary[0:2]"
   ]
  },
  {
   "cell_type": "code",
   "execution_count": 63,
   "id": "0c8b4e36",
   "metadata": {},
   "outputs": [
    {
     "data": {
      "text/plain": [
       "['Worth every penny',\n",
       " 'Super!',\n",
       " 'Just wow!',\n",
       " 'Good choice',\n",
       " 'Classy product',\n",
       " 'Brilliant',\n",
       " 'Perfect product!',\n",
       " 'Awesome',\n",
       " 'Classy product',\n",
       " 'Nice product']"
      ]
     },
     "execution_count": 63,
     "metadata": {},
     "output_type": "execute_result"
    }
   ],
   "source": [
    "page4_Review_summary=[]\n",
    "for i in Review_summary:\n",
    "    Review_summarys = i.text\n",
    "    page4_Review_summary.append(Review_summarys)\n",
    "page4_Review_summary"
   ]
  },
  {
   "cell_type": "code",
   "execution_count": 64,
   "id": "096cbb9a",
   "metadata": {},
   "outputs": [
    {
     "data": {
      "text/plain": [
       "[<selenium.webdriver.remote.webelement.WebElement (session=\"29940522c11426234d1ec82d350f7de8\", element=\"54c2e126-308d-4da2-88ab-39cb2cfaa9a4\")>,\n",
       " <selenium.webdriver.remote.webelement.WebElement (session=\"29940522c11426234d1ec82d350f7de8\", element=\"02c2efd6-8041-4baa-8f37-5938d31fbba4\")>]"
      ]
     },
     "execution_count": 64,
     "metadata": {},
     "output_type": "execute_result"
    }
   ],
   "source": [
    "# Getting the Full Review from Page 4\n",
    "\n",
    "full_review=driver.find_elements(By.XPATH,\"//div[@class='t-ZTKy']\")\n",
    "full_review[0:2]"
   ]
  },
  {
   "cell_type": "code",
   "execution_count": 65,
   "id": "7aa699e1",
   "metadata": {},
   "outputs": [
    {
     "data": {
      "text/plain": [
       "['It’s been almost a month since I have been using this phone. I upgraded from an iPhone 8. The main issue with my 8 was battery and this phone is just awesome when it comes to battery. It lasts a day and a half for me with my regular use , internet connected always with 4g.Can’t move forward without saying this. Battery of this phone is a life saver when I am traveling or at work when I don’t get the option to charge.Camera is superb. Front cam selfies and back cam photos are just awesome......READ MORE',\n",
       " 'It’s been 7 years I was waiting for an income for my first iPhone .it was like a dream to me and finally I achieved it. Why chose iPhone?? It’s a premium standard level phone maybe you could find other brands valu like this but not all those are iPhone. If you are thinking to buy an iPhone don’t think too much grab it bro. Being an an iPhone owner can give you a feeling like owning an Lamborghini in your pocket According to me a middle class family boy....Best on camera and videography.Soun....READ MORE',\n",
       " 'Best in class. Battery backup is good especially when you play games like Pubg COD. But it is sort of heavy when you hold in hands. Portrait mode is best to click pictures. Stage light effect is awesome. Try to click photos outside in nature because photos inside home or room will not give you the quality in any phone even in DSLR.',\n",
       " 'Looking so good 👍 😍 super 👌 stylish 😎 phone.Clean box 📦 good 👍 delivery 👌 fast delivery.Original box Original iphone 📱 👌 😍😍😍',\n",
       " 'We are on apple ecosystem for almost eight years now with couple of iPads and iPhones, including Xr...Bought iPhone 11 as a gift to my daughter who loves it. We chose for a purple coloured one. Believe me it is gorgeous and towards the lighter shade. Dazzling and brilliant!..The phone is great and does excellent RAM management like any other Apple device...The screen, though a LCD and lesser ppi as compared to other flagship phones of competitor brands, is a delight to watch with perfect re....READ MORE',\n",
       " 'I have migrated from OP 7pro... and trust me, iPhone 11 is totally worth it.. following are the reasons:-.1)there is ABSOLUTELY NO ISSUE WITH THE DISPLAY... its crisp, sharp and I found it to be much much better than OP7 pro. Netflix, Prime video all run crisply... you won’t miss a thing. True Tone works flawlessly...the display brightness is perfect. OP have not calibrated their screens properly..2) iPhone 11 series have really good cameras... others have spoken in depth about them..3) bat....READ MORE',\n",
       " 'Battery backup is extraordinary, camera is decent & performance offered by A13 bionic is awsome. The display is good in practical usage like the visibility of display is very good in direct sun light compare to pro models. Iam extremely satisfied for the money I spent.',\n",
       " 'I am using this phone for 5 days and its one of the best camera out there ❤️ the screen is not oled and i am coming from iphone xs so its little bit not up to the mark i would say.But overall value for money💕😍the battery back up is far better than my iphone xs and its worth in my apple ecosystem💫❤️if u are an apple User and have the eco system then go for it❤️though i will be getting the new iphone but its pretty good💫',\n",
       " 'Superb Product !!!.A big and worthy upgrade from mi 3S to iphone 11 ..Totally loved it !',\n",
       " 'Awesome Phone. Slightly high price but worth. Better than iPhone XR..Camera is superb and wide angle camera is very clear..12MP selfie camera is also very good..A13 Chip gives a very good and smooth performance.']"
      ]
     },
     "execution_count": 65,
     "metadata": {},
     "output_type": "execute_result"
    }
   ],
   "source": [
    "page4_full_review=[]\n",
    "for i in full_review:\n",
    "    full_reviews = i.text.replace(\"\\n\",\".\")\n",
    "    page4_full_review.append(full_reviews)\n",
    "page4_full_review"
   ]
  },
  {
   "cell_type": "code",
   "execution_count": 66,
   "id": "849c3cd6",
   "metadata": {},
   "outputs": [
    {
     "data": {
      "text/html": [
       "<div>\n",
       "<style scoped>\n",
       "    .dataframe tbody tr th:only-of-type {\n",
       "        vertical-align: middle;\n",
       "    }\n",
       "\n",
       "    .dataframe tbody tr th {\n",
       "        vertical-align: top;\n",
       "    }\n",
       "\n",
       "    .dataframe thead th {\n",
       "        text-align: right;\n",
       "    }\n",
       "</style>\n",
       "<table border=\"1\" class=\"dataframe\">\n",
       "  <thead>\n",
       "    <tr style=\"text-align: right;\">\n",
       "      <th></th>\n",
       "      <th>Rating</th>\n",
       "      <th>Review_summary</th>\n",
       "      <th>full_review</th>\n",
       "    </tr>\n",
       "  </thead>\n",
       "  <tbody>\n",
       "    <tr>\n",
       "      <th>0</th>\n",
       "      <td>5</td>\n",
       "      <td>Worth every penny</td>\n",
       "      <td>It’s been almost a month since I have been usi...</td>\n",
       "    </tr>\n",
       "    <tr>\n",
       "      <th>1</th>\n",
       "      <td>5</td>\n",
       "      <td>Super!</td>\n",
       "      <td>It’s been 7 years I was waiting for an income ...</td>\n",
       "    </tr>\n",
       "    <tr>\n",
       "      <th>2</th>\n",
       "      <td>5</td>\n",
       "      <td>Just wow!</td>\n",
       "      <td>Best in class. Battery backup is good especial...</td>\n",
       "    </tr>\n",
       "    <tr>\n",
       "      <th>3</th>\n",
       "      <td>4</td>\n",
       "      <td>Good choice</td>\n",
       "      <td>Looking so good 👍 😍 super 👌 stylish 😎 phone.Cl...</td>\n",
       "    </tr>\n",
       "    <tr>\n",
       "      <th>4</th>\n",
       "      <td>5</td>\n",
       "      <td>Classy product</td>\n",
       "      <td>We are on apple ecosystem for almost eight yea...</td>\n",
       "    </tr>\n",
       "    <tr>\n",
       "      <th>5</th>\n",
       "      <td>5</td>\n",
       "      <td>Brilliant</td>\n",
       "      <td>I have migrated from OP 7pro... and trust me, ...</td>\n",
       "    </tr>\n",
       "    <tr>\n",
       "      <th>6</th>\n",
       "      <td>5</td>\n",
       "      <td>Perfect product!</td>\n",
       "      <td>Battery backup is extraordinary, camera is dec...</td>\n",
       "    </tr>\n",
       "    <tr>\n",
       "      <th>7</th>\n",
       "      <td>5</td>\n",
       "      <td>Awesome</td>\n",
       "      <td>I am using this phone for 5 days and its one o...</td>\n",
       "    </tr>\n",
       "    <tr>\n",
       "      <th>8</th>\n",
       "      <td>5</td>\n",
       "      <td>Classy product</td>\n",
       "      <td>Superb Product !!!.A big and worthy upgrade fr...</td>\n",
       "    </tr>\n",
       "    <tr>\n",
       "      <th>9</th>\n",
       "      <td>4</td>\n",
       "      <td>Nice product</td>\n",
       "      <td>Awesome Phone. Slightly high price but worth. ...</td>\n",
       "    </tr>\n",
       "  </tbody>\n",
       "</table>\n",
       "</div>"
      ],
      "text/plain": [
       "  Rating     Review_summary                                        full_review\n",
       "0      5  Worth every penny  It’s been almost a month since I have been usi...\n",
       "1      5             Super!  It’s been 7 years I was waiting for an income ...\n",
       "2      5          Just wow!  Best in class. Battery backup is good especial...\n",
       "3      4        Good choice  Looking so good 👍 😍 super 👌 stylish 😎 phone.Cl...\n",
       "4      5     Classy product  We are on apple ecosystem for almost eight yea...\n",
       "5      5          Brilliant  I have migrated from OP 7pro... and trust me, ...\n",
       "6      5   Perfect product!  Battery backup is extraordinary, camera is dec...\n",
       "7      5            Awesome  I am using this phone for 5 days and its one o...\n",
       "8      5     Classy product  Superb Product !!!.A big and worthy upgrade fr...\n",
       "9      4       Nice product  Awesome Phone. Slightly high price but worth. ..."
      ]
     },
     "execution_count": 66,
     "metadata": {},
     "output_type": "execute_result"
    }
   ],
   "source": [
    "# Creating Data Frame for Page 4\n",
    "\n",
    "page4 = pd.DataFrame({})\n",
    "page4[\"Rating\"]=page4_Rating\n",
    "page4[\"Review_summary\"]=page4_Review_summary\n",
    "page4[\"full_review\"]=page4_full_review\n",
    "page4"
   ]
  },
  {
   "cell_type": "code",
   "execution_count": 68,
   "id": "368570d2",
   "metadata": {},
   "outputs": [],
   "source": [
    "# Clicking on Page 5\n",
    "\n",
    "\n",
    "next_button=driver.find_element(By.XPATH,\"/html/body/div[1]/div/div[3]/div/div/div[2]/div[13]/div/div/nav/a[12]/span\")\n",
    "next_button.click()"
   ]
  },
  {
   "cell_type": "code",
   "execution_count": 69,
   "id": "938c56e4",
   "metadata": {},
   "outputs": [
    {
     "data": {
      "text/plain": [
       "[<selenium.webdriver.remote.webelement.WebElement (session=\"29940522c11426234d1ec82d350f7de8\", element=\"3202e781-5152-4c0d-8e9e-59dd7c26ca19\")>,\n",
       " <selenium.webdriver.remote.webelement.WebElement (session=\"29940522c11426234d1ec82d350f7de8\", element=\"71b50248-73cf-421c-b196-c778684f30dd\")>]"
      ]
     },
     "execution_count": 69,
     "metadata": {},
     "output_type": "execute_result"
    }
   ],
   "source": [
    "# Rating frrom Page 5\n",
    "\n",
    "Rating=driver.find_elements(By.XPATH,\"//div[@class='_3LWZlK _1BLPMq']\")\n",
    "Rating[0:2]"
   ]
  },
  {
   "cell_type": "code",
   "execution_count": 70,
   "id": "80c0f5a4",
   "metadata": {},
   "outputs": [
    {
     "data": {
      "text/plain": [
       "['5', '5', '5', '5', '5', '5', '5', '5', '5', '5']"
      ]
     },
     "execution_count": 70,
     "metadata": {},
     "output_type": "execute_result"
    }
   ],
   "source": [
    "page5_Rating=[]\n",
    "for i in Rating:\n",
    "    Rating=i.text\n",
    "    page5_Rating.append(Rating)\n",
    "page5_Rating"
   ]
  },
  {
   "cell_type": "code",
   "execution_count": 71,
   "id": "4767404b",
   "metadata": {},
   "outputs": [
    {
     "data": {
      "text/plain": [
       "[<selenium.webdriver.remote.webelement.WebElement (session=\"29940522c11426234d1ec82d350f7de8\", element=\"81410435-9cfa-4ae0-aaf5-3bf23e8329dd\")>,\n",
       " <selenium.webdriver.remote.webelement.WebElement (session=\"29940522c11426234d1ec82d350f7de8\", element=\"fe83cd97-9299-4211-9df7-e3d60df47c84\")>]"
      ]
     },
     "execution_count": 71,
     "metadata": {},
     "output_type": "execute_result"
    }
   ],
   "source": [
    "# Getting the Review Summary from page 5\n",
    "\n",
    "Review_summary =driver.find_elements(By.XPATH,\"//p[@class='_2-N8zT']\")\n",
    "Review_summary[0:2]"
   ]
  },
  {
   "cell_type": "code",
   "execution_count": 72,
   "id": "6a4b508a",
   "metadata": {},
   "outputs": [
    {
     "data": {
      "text/plain": [
       "['Great product',\n",
       " 'Must buy!',\n",
       " 'Classy product',\n",
       " 'Fabulous!',\n",
       " 'Perfect product!',\n",
       " 'Fabulous!',\n",
       " 'Wonderful',\n",
       " 'Simply awesome',\n",
       " 'Mind-blowing purchase',\n",
       " 'Terrific purchase']"
      ]
     },
     "execution_count": 72,
     "metadata": {},
     "output_type": "execute_result"
    }
   ],
   "source": [
    "page5_Review_summary=[]\n",
    "for i in Review_summary:\n",
    "    Review_summarys = i.text\n",
    "    page5_Review_summary.append(Review_summarys)\n",
    "page5_Review_summary"
   ]
  },
  {
   "cell_type": "code",
   "execution_count": 73,
   "id": "b281039e",
   "metadata": {},
   "outputs": [
    {
     "data": {
      "text/plain": [
       "[<selenium.webdriver.remote.webelement.WebElement (session=\"29940522c11426234d1ec82d350f7de8\", element=\"dbe8a2de-e5ca-4716-87d3-31b6fd21c347\")>,\n",
       " <selenium.webdriver.remote.webelement.WebElement (session=\"29940522c11426234d1ec82d350f7de8\", element=\"3eda4dba-e55b-4d9c-a556-94de14076f74\")>]"
      ]
     },
     "execution_count": 73,
     "metadata": {},
     "output_type": "execute_result"
    }
   ],
   "source": [
    "    # Getting the Full Review from Page 5\n",
    "\n",
    "full_review=driver.find_elements(By.XPATH,\"//div[@class='t-ZTKy']\")\n",
    "full_review[0:2]"
   ]
  },
  {
   "cell_type": "code",
   "execution_count": 74,
   "id": "07d1e906",
   "metadata": {},
   "outputs": [
    {
     "data": {
      "text/plain": [
       "[\"Again back to apple iphone after a gap of 2-3 years. It's pleasure to use iOS and the quality product by Apple. Iphone 11 still works like a beast in 2021 also. It really capable of doing day to day usage as well as hard core gaming. Battery is awesome. I'm really too much satisfied with it. Apart fto the very gorgious IPS LCD (AMOLED will be better) everything is mind boggling. Iphone💕.\",\n",
       " 'It’s an amazing product from apple and the camera is simply superb. Phone is faster.Night shot is simply superb and detailing and colour differentiation from camera is an added advantage..This review I have written from iPhone 11 only and I am glad to say outside...Cons wise if we see HD+ display only, no battery percentage indicator as in older iPhone 8..No assistive touch control button in it.No oleophobic coating on back panel glass and finger prints are visible but since I bought mint gr....READ MORE',\n",
       " 'Well while switching from android to iOS the first thing you need to be careful about is that you will loose all your whatsapp chat backups as both are different operating systems. Camera clarity is awesome and though being an lcd screen clarity and resolution is good. Battery backup is also good unlike previous gen iPhone. So far the experience is good will Padre after a few months of usage...P.S the black is more of a dark grey shade and not jet black',\n",
       " 'awesome phone to have. it has got many smart features apart from mind blowing looks, camera, display, battery and sound. have fallen in love with this phone. must buy phone if you have got enough money. thanks to flipkart and apple of course..',\n",
       " 'After 1 month use I found camera quality best compared to my previous Samsung note 10+.Display not good as note 10 also charging too slow.Apple should add fast charger like 11 plus and pro.Best phone for daily use',\n",
       " \"I can say I'm damn impressed with iPhone 11. As they says iPhone 11 have the toughest glass ever in the smartphone which you'll find on the front and back and it's totally smooth. The fit and finish is full apple quality - there's no sense that any cheaping out has happened in the construction. Without saying it's camera features this review won't complete. The iPhone 11 has a dual camera system, consisting of a wide angle len's that's pretty much same as found on the iPhone XR last year, but....READ MORE\",\n",
       " 'I just directly switch from iphone 6s to iphone 11 .The best premium smartphone I recommend to everyone. Excellent quality and colors the iphone have in 11 series..Camera quality is just awesome and the major feel when we hold in our hands. The sound quality and volume is also higher then the previous models..I will recommend to buy iphone 11 instead of pro models , there is nothing much difference as this model contains everything which fulfill our needs...Only one thing that I dislike abo....READ MORE',\n",
       " \"It's very high performances devise i am like the service of flipkart delevary very fast and packing very nice perfect phone\",\n",
       " 'Best Quality Product OF iPhone Series , Sound Quality & Camera quality is very awesome, Battery Life is very Sufficient for 24 hr Backup With Full Internet Access , I love this this Product too much , It is very fast & making me Very fast in all my daily Routine.Highlights;.1.Camera: 5 STAR.2.Video Recording: 5 star.3.Night mODE sHOOTING & Camera:4 star.4. Audio Quality: Awesome.5. Battery : 5 Star.6. Touch:5 Star.7. Processor: Very Fast.The M....READ MORE',\n",
       " 'Upgraded from iphone 6 to 11 best phone for iphone users battery is much better than other iphones camera is awesome love to use it.camera is so clear in night.']"
      ]
     },
     "execution_count": 74,
     "metadata": {},
     "output_type": "execute_result"
    }
   ],
   "source": [
    "page5_full_review=[]\n",
    "for i in full_review:\n",
    "    full_reviews = i.text.replace(\"\\n\",\".\")\n",
    "    page5_full_review.append(full_reviews)\n",
    "page5_full_review"
   ]
  },
  {
   "cell_type": "code",
   "execution_count": 75,
   "id": "7c67ec74",
   "metadata": {},
   "outputs": [
    {
     "data": {
      "text/html": [
       "<div>\n",
       "<style scoped>\n",
       "    .dataframe tbody tr th:only-of-type {\n",
       "        vertical-align: middle;\n",
       "    }\n",
       "\n",
       "    .dataframe tbody tr th {\n",
       "        vertical-align: top;\n",
       "    }\n",
       "\n",
       "    .dataframe thead th {\n",
       "        text-align: right;\n",
       "    }\n",
       "</style>\n",
       "<table border=\"1\" class=\"dataframe\">\n",
       "  <thead>\n",
       "    <tr style=\"text-align: right;\">\n",
       "      <th></th>\n",
       "      <th>Rating</th>\n",
       "      <th>Review_summary</th>\n",
       "      <th>full_review</th>\n",
       "    </tr>\n",
       "  </thead>\n",
       "  <tbody>\n",
       "    <tr>\n",
       "      <th>0</th>\n",
       "      <td>5</td>\n",
       "      <td>Great product</td>\n",
       "      <td>Again back to apple iphone after a gap of 2-3 ...</td>\n",
       "    </tr>\n",
       "    <tr>\n",
       "      <th>1</th>\n",
       "      <td>5</td>\n",
       "      <td>Must buy!</td>\n",
       "      <td>It’s an amazing product from apple and the cam...</td>\n",
       "    </tr>\n",
       "    <tr>\n",
       "      <th>2</th>\n",
       "      <td>5</td>\n",
       "      <td>Classy product</td>\n",
       "      <td>Well while switching from android to iOS the f...</td>\n",
       "    </tr>\n",
       "    <tr>\n",
       "      <th>3</th>\n",
       "      <td>5</td>\n",
       "      <td>Fabulous!</td>\n",
       "      <td>awesome phone to have. it has got many smart f...</td>\n",
       "    </tr>\n",
       "    <tr>\n",
       "      <th>4</th>\n",
       "      <td>5</td>\n",
       "      <td>Perfect product!</td>\n",
       "      <td>After 1 month use I found camera quality best ...</td>\n",
       "    </tr>\n",
       "    <tr>\n",
       "      <th>5</th>\n",
       "      <td>5</td>\n",
       "      <td>Fabulous!</td>\n",
       "      <td>I can say I'm damn impressed with iPhone 11. A...</td>\n",
       "    </tr>\n",
       "    <tr>\n",
       "      <th>6</th>\n",
       "      <td>5</td>\n",
       "      <td>Wonderful</td>\n",
       "      <td>I just directly switch from iphone 6s to iphon...</td>\n",
       "    </tr>\n",
       "    <tr>\n",
       "      <th>7</th>\n",
       "      <td>5</td>\n",
       "      <td>Simply awesome</td>\n",
       "      <td>It's very high performances devise i am like t...</td>\n",
       "    </tr>\n",
       "    <tr>\n",
       "      <th>8</th>\n",
       "      <td>5</td>\n",
       "      <td>Mind-blowing purchase</td>\n",
       "      <td>Best Quality Product OF iPhone Series , Sound ...</td>\n",
       "    </tr>\n",
       "    <tr>\n",
       "      <th>9</th>\n",
       "      <td>5</td>\n",
       "      <td>Terrific purchase</td>\n",
       "      <td>Upgraded from iphone 6 to 11 best phone for ip...</td>\n",
       "    </tr>\n",
       "  </tbody>\n",
       "</table>\n",
       "</div>"
      ],
      "text/plain": [
       "  Rating         Review_summary  \\\n",
       "0      5          Great product   \n",
       "1      5              Must buy!   \n",
       "2      5         Classy product   \n",
       "3      5              Fabulous!   \n",
       "4      5       Perfect product!   \n",
       "5      5              Fabulous!   \n",
       "6      5              Wonderful   \n",
       "7      5         Simply awesome   \n",
       "8      5  Mind-blowing purchase   \n",
       "9      5      Terrific purchase   \n",
       "\n",
       "                                         full_review  \n",
       "0  Again back to apple iphone after a gap of 2-3 ...  \n",
       "1  It’s an amazing product from apple and the cam...  \n",
       "2  Well while switching from android to iOS the f...  \n",
       "3  awesome phone to have. it has got many smart f...  \n",
       "4  After 1 month use I found camera quality best ...  \n",
       "5  I can say I'm damn impressed with iPhone 11. A...  \n",
       "6  I just directly switch from iphone 6s to iphon...  \n",
       "7  It's very high performances devise i am like t...  \n",
       "8  Best Quality Product OF iPhone Series , Sound ...  \n",
       "9  Upgraded from iphone 6 to 11 best phone for ip...  "
      ]
     },
     "execution_count": 75,
     "metadata": {},
     "output_type": "execute_result"
    }
   ],
   "source": [
    "# Creating Data Frame for Page 5\n",
    "\n",
    "page5 = pd.DataFrame({})\n",
    "page5[\"Rating\"]=page5_Rating\n",
    "page5[\"Review_summary\"]=page5_Review_summary\n",
    "page5[\"full_review\"]=page5_full_review\n",
    "page5"
   ]
  },
  {
   "cell_type": "code",
   "execution_count": 76,
   "id": "87773f2d",
   "metadata": {},
   "outputs": [],
   "source": [
    "# Clicking on Page 6\n",
    "\n",
    "\n",
    "next_button=driver.find_element(By.XPATH,\"/html/body/div[1]/div/div[3]/div/div/div[2]/div[13]/div/div/nav/a[12]/span\")\n",
    "next_button.click()"
   ]
  },
  {
   "cell_type": "code",
   "execution_count": 77,
   "id": "7c0ae344",
   "metadata": {},
   "outputs": [
    {
     "data": {
      "text/plain": [
       "[<selenium.webdriver.remote.webelement.WebElement (session=\"29940522c11426234d1ec82d350f7de8\", element=\"c51f40a2-4d3e-461b-9145-0fd80b13c269\")>,\n",
       " <selenium.webdriver.remote.webelement.WebElement (session=\"29940522c11426234d1ec82d350f7de8\", element=\"386e98f1-b0a1-4033-acd4-8d3583771ab6\")>]"
      ]
     },
     "execution_count": 77,
     "metadata": {},
     "output_type": "execute_result"
    }
   ],
   "source": [
    "# Rating frrom Page 6\n",
    "\n",
    "Rating=driver.find_elements(By.XPATH,\"//div[@class='_3LWZlK _1BLPMq']\")\n",
    "Rating[0:2]"
   ]
  },
  {
   "cell_type": "code",
   "execution_count": 78,
   "id": "c74d9c44",
   "metadata": {},
   "outputs": [
    {
     "data": {
      "text/plain": [
       "['5', '5', '5', '5', '5', '4', '5', '5', '4']"
      ]
     },
     "execution_count": 78,
     "metadata": {},
     "output_type": "execute_result"
    }
   ],
   "source": [
    "page6_Rating=[]\n",
    "for i in Rating:\n",
    "    Rating=i.text\n",
    "    page6_Rating.append(Rating)\n",
    "    \n",
    "page6_Rating"
   ]
  },
  {
   "cell_type": "code",
   "execution_count": 79,
   "id": "b4cdf438",
   "metadata": {},
   "outputs": [
    {
     "data": {
      "text/plain": [
       "['5', '5', '5', '5', '5', '4', '5', '5', '4', '1']"
      ]
     },
     "execution_count": 79,
     "metadata": {},
     "output_type": "execute_result"
    }
   ],
   "source": [
    "page6_Rating.insert(9,'1')\n",
    "page6_Rating"
   ]
  },
  {
   "cell_type": "code",
   "execution_count": 80,
   "id": "833fb848",
   "metadata": {},
   "outputs": [
    {
     "data": {
      "text/plain": [
       "[<selenium.webdriver.remote.webelement.WebElement (session=\"29940522c11426234d1ec82d350f7de8\", element=\"e45d2e79-6204-41ea-86b2-1eb5699901e9\")>,\n",
       " <selenium.webdriver.remote.webelement.WebElement (session=\"29940522c11426234d1ec82d350f7de8\", element=\"233600c2-db3b-4f8f-a67f-12bba3baa086\")>]"
      ]
     },
     "execution_count": 80,
     "metadata": {},
     "output_type": "execute_result"
    }
   ],
   "source": [
    "# Getting the Review Summary from page 6\n",
    "\n",
    "Review_summary =driver.find_elements(By.XPATH,\"//p[@class='_2-N8zT']\")\n",
    "Review_summary[0:2]"
   ]
  },
  {
   "cell_type": "code",
   "execution_count": 81,
   "id": "b672ea96",
   "metadata": {},
   "outputs": [
    {
     "data": {
      "text/plain": [
       "['Excellent',\n",
       " 'Terrific purchase',\n",
       " 'Great product',\n",
       " 'Mind-blowing purchase',\n",
       " 'Terrific purchase',\n",
       " 'Very Good',\n",
       " 'Mind-blowing purchase',\n",
       " 'Simply awesome',\n",
       " 'Good quality product',\n",
       " 'Very poor']"
      ]
     },
     "execution_count": 81,
     "metadata": {},
     "output_type": "execute_result"
    }
   ],
   "source": [
    "page6_Review_summary=[]\n",
    "for i in Review_summary:\n",
    "    Review_summarys = i.text\n",
    "    page6_Review_summary.append(Review_summarys)\n",
    "page6_Review_summary"
   ]
  },
  {
   "cell_type": "code",
   "execution_count": 82,
   "id": "fc83d8a4",
   "metadata": {},
   "outputs": [
    {
     "data": {
      "text/plain": [
       "[<selenium.webdriver.remote.webelement.WebElement (session=\"29940522c11426234d1ec82d350f7de8\", element=\"b4a2bea8-ad49-4135-b1c5-a3a7df232467\")>,\n",
       " <selenium.webdriver.remote.webelement.WebElement (session=\"29940522c11426234d1ec82d350f7de8\", element=\"3fc201fa-b946-4d3e-b5ed-11dd4914c7fc\")>]"
      ]
     },
     "execution_count": 82,
     "metadata": {},
     "output_type": "execute_result"
    }
   ],
   "source": [
    "# Getting the Full Review from Page 6\n",
    "\n",
    "full_review=driver.find_elements(By.XPATH,\"//div[@class='t-ZTKy']\")\n",
    "full_review[0:2]"
   ]
  },
  {
   "cell_type": "code",
   "execution_count": 84,
   "id": "e0cbb4ea",
   "metadata": {},
   "outputs": [
    {
     "data": {
      "text/plain": [
       "['Amazing camera and feel super machine I am not describe my feeling but this is amazing Phone I am so lucky I have this',\n",
       " 'The built quality is not very premium..The battery back is great ..The LCD panel is not so sharp but the brightness level is very High ..Camera is super duper awesome..The red colour which people think is bright is actually very soothing and excellent colour to choose from ..The A13 Bionic chip is really a flagship processor and can beat any phone which even has 12 gb ram ..Camera module is very great and looks very stylish.',\n",
       " 'Well you all know the specifications . One of a kind. Best iPhone till date. Many enhancements to the camera app with many options. Love the glass body with matte finish in the lens area on the back. Lovely colours to choose from. Best battery in an iPhone till date, enough to last more than a day in normal usage. I tested my iPhone 11 battery and lasted for than 24 hours after full charge still with 30% battery charge left. Watched movies for some time. Normal usage on calls, browsing, musi....READ MORE',\n",
       " 'First thanks to Flipkart for this amazing deal and phone is outstanding. I upgraded from iPhone 7 and this is like very big upgrade. But the packaging was very basic I expected a good packaging as they only wrapped one layer of bubble wrap which I don’t think is enough to protect this expensive phone. And I recommend this phone and seller as well...And I’m posting this review after using it for 4 days.',\n",
       " 'Its Very awesome product working and good camera quality and all about best product and also flipkart is very great deal and offer nice price',\n",
       " 'impressive super phone and best in class camera ,sound and face unlock is super fast just see and phone is unlock and fast in daily apps use',\n",
       " 'This will help you more. See if you are planning to buy iPhone 11. I will say. Yes. But there are some plans I just want to disclose before you buy. 1) If you are an existing iPhone X/XS/XS Max/ XR user, better you guys do not think it to buy. You guys have more or less better gadget. 2) If you are an android user and planning to buy premium phone. I will suggest them to please buy iPhone instead of buying an Android. I bet you will never go back to android after using IOS. Now I want to shar....READ MORE',\n",
       " 'Really good actually this is my first apple product am using its really awesome performance wise excellent. Am really happy with this iphone11',\n",
       " 'it is very good at performance. Camera is best like before and very smooth response even in water. Don’t buy 12 mini buy iPhone 11 , it is far better than 12 mini believe me ! Have a nice day \\uf8ff ☺️',\n",
       " 'Reviewing again after 5 months. At the beginning the battery and performance was good but it degraded soon. Also I was facing heating issues. The mobile will heat up like a stove sometimes. You cannot even play Pubg even in low settings properly, performance is not a problem but heating is. Also if you play that game for 10 mins the brightness will be automatically down due to over heating even when the auto brightness is set to off. This will not be solved even if u manually increase the bri....READ MORE']"
      ]
     },
     "execution_count": 84,
     "metadata": {},
     "output_type": "execute_result"
    }
   ],
   "source": [
    "page6_full_review=[]\n",
    "for i in full_review:\n",
    "    full_reviews = i.text.replace(\"\\n\",\".\")\n",
    "    page6_full_review.append(full_reviews)\n",
    "page6_full_review"
   ]
  },
  {
   "cell_type": "code",
   "execution_count": 85,
   "id": "e31d7a8d",
   "metadata": {},
   "outputs": [
    {
     "name": "stdout",
     "output_type": "stream",
     "text": [
      "10 10 10\n"
     ]
    }
   ],
   "source": [
    "print(len(page6_Rating),len(page6_Review_summary),len(page6_full_review))\n"
   ]
  },
  {
   "cell_type": "code",
   "execution_count": 86,
   "id": "c8bef592",
   "metadata": {},
   "outputs": [
    {
     "data": {
      "text/html": [
       "<div>\n",
       "<style scoped>\n",
       "    .dataframe tbody tr th:only-of-type {\n",
       "        vertical-align: middle;\n",
       "    }\n",
       "\n",
       "    .dataframe tbody tr th {\n",
       "        vertical-align: top;\n",
       "    }\n",
       "\n",
       "    .dataframe thead th {\n",
       "        text-align: right;\n",
       "    }\n",
       "</style>\n",
       "<table border=\"1\" class=\"dataframe\">\n",
       "  <thead>\n",
       "    <tr style=\"text-align: right;\">\n",
       "      <th></th>\n",
       "      <th>Rating</th>\n",
       "      <th>Review_summary</th>\n",
       "      <th>full_review</th>\n",
       "    </tr>\n",
       "  </thead>\n",
       "  <tbody>\n",
       "    <tr>\n",
       "      <th>0</th>\n",
       "      <td>5</td>\n",
       "      <td>Excellent</td>\n",
       "      <td>Amazing camera and feel super machine I am not...</td>\n",
       "    </tr>\n",
       "    <tr>\n",
       "      <th>1</th>\n",
       "      <td>5</td>\n",
       "      <td>Terrific purchase</td>\n",
       "      <td>The built quality is not very premium..The bat...</td>\n",
       "    </tr>\n",
       "    <tr>\n",
       "      <th>2</th>\n",
       "      <td>5</td>\n",
       "      <td>Great product</td>\n",
       "      <td>Well you all know the specifications . One of ...</td>\n",
       "    </tr>\n",
       "    <tr>\n",
       "      <th>3</th>\n",
       "      <td>5</td>\n",
       "      <td>Mind-blowing purchase</td>\n",
       "      <td>First thanks to Flipkart for this amazing deal...</td>\n",
       "    </tr>\n",
       "    <tr>\n",
       "      <th>4</th>\n",
       "      <td>5</td>\n",
       "      <td>Terrific purchase</td>\n",
       "      <td>Its Very awesome product working and good came...</td>\n",
       "    </tr>\n",
       "    <tr>\n",
       "      <th>5</th>\n",
       "      <td>4</td>\n",
       "      <td>Very Good</td>\n",
       "      <td>impressive super phone and best in class camer...</td>\n",
       "    </tr>\n",
       "    <tr>\n",
       "      <th>6</th>\n",
       "      <td>5</td>\n",
       "      <td>Mind-blowing purchase</td>\n",
       "      <td>This will help you more. See if you are planni...</td>\n",
       "    </tr>\n",
       "    <tr>\n",
       "      <th>7</th>\n",
       "      <td>5</td>\n",
       "      <td>Simply awesome</td>\n",
       "      <td>Really good actually this is my first apple pr...</td>\n",
       "    </tr>\n",
       "    <tr>\n",
       "      <th>8</th>\n",
       "      <td>4</td>\n",
       "      <td>Good quality product</td>\n",
       "      <td>it is very good at performance. Camera is best...</td>\n",
       "    </tr>\n",
       "    <tr>\n",
       "      <th>9</th>\n",
       "      <td>1</td>\n",
       "      <td>Very poor</td>\n",
       "      <td>Reviewing again after 5 months. At the beginni...</td>\n",
       "    </tr>\n",
       "  </tbody>\n",
       "</table>\n",
       "</div>"
      ],
      "text/plain": [
       "  Rating         Review_summary  \\\n",
       "0      5              Excellent   \n",
       "1      5      Terrific purchase   \n",
       "2      5          Great product   \n",
       "3      5  Mind-blowing purchase   \n",
       "4      5      Terrific purchase   \n",
       "5      4              Very Good   \n",
       "6      5  Mind-blowing purchase   \n",
       "7      5         Simply awesome   \n",
       "8      4   Good quality product   \n",
       "9      1              Very poor   \n",
       "\n",
       "                                         full_review  \n",
       "0  Amazing camera and feel super machine I am not...  \n",
       "1  The built quality is not very premium..The bat...  \n",
       "2  Well you all know the specifications . One of ...  \n",
       "3  First thanks to Flipkart for this amazing deal...  \n",
       "4  Its Very awesome product working and good came...  \n",
       "5  impressive super phone and best in class camer...  \n",
       "6  This will help you more. See if you are planni...  \n",
       "7  Really good actually this is my first apple pr...  \n",
       "8  it is very good at performance. Camera is best...  \n",
       "9  Reviewing again after 5 months. At the beginni...  "
      ]
     },
     "execution_count": 86,
     "metadata": {},
     "output_type": "execute_result"
    }
   ],
   "source": [
    "# Creating Data Frame for Page 6\n",
    "\n",
    "page6 = pd.DataFrame({})\n",
    "page6[\"Rating\"]=page6_Rating\n",
    "page6[\"Review_summary\"]=page6_Review_summary\n",
    "page6[\"full_review\"]=page6_full_review\n",
    "page6"
   ]
  },
  {
   "cell_type": "code",
   "execution_count": 87,
   "id": "44463e83",
   "metadata": {},
   "outputs": [],
   "source": [
    "# Clicking on Page 7\n",
    "\n",
    "\n",
    "next_button=driver.find_element(By.XPATH,\"/html/body/div[1]/div/div[3]/div/div/div[2]/div[13]/div/div/nav/a[12]/span\")\n",
    "next_button.click()"
   ]
  },
  {
   "cell_type": "code",
   "execution_count": 88,
   "id": "1519f0dd",
   "metadata": {},
   "outputs": [
    {
     "data": {
      "text/plain": [
       "[<selenium.webdriver.remote.webelement.WebElement (session=\"29940522c11426234d1ec82d350f7de8\", element=\"a0a0311b-2059-42d5-bd0b-e69b53a580c9\")>,\n",
       " <selenium.webdriver.remote.webelement.WebElement (session=\"29940522c11426234d1ec82d350f7de8\", element=\"cc1108eb-ff7c-43e0-95c4-68c8878e302d\")>]"
      ]
     },
     "execution_count": 88,
     "metadata": {},
     "output_type": "execute_result"
    }
   ],
   "source": [
    "# Rating from Page 7\n",
    "\n",
    "Rating=driver.find_elements(By.XPATH,\"//div[@class='_3LWZlK _1BLPMq']\")\n",
    "Rating[0:2]"
   ]
  },
  {
   "cell_type": "code",
   "execution_count": 89,
   "id": "d76051db",
   "metadata": {},
   "outputs": [
    {
     "data": {
      "text/plain": [
       "[<selenium.webdriver.remote.webelement.WebElement (session=\"29940522c11426234d1ec82d350f7de8\", element=\"a0a0311b-2059-42d5-bd0b-e69b53a580c9\")>,\n",
       " <selenium.webdriver.remote.webelement.WebElement (session=\"29940522c11426234d1ec82d350f7de8\", element=\"cc1108eb-ff7c-43e0-95c4-68c8878e302d\")>]"
      ]
     },
     "execution_count": 89,
     "metadata": {},
     "output_type": "execute_result"
    }
   ],
   "source": [
    "# Rating from Page 7\n",
    "\n",
    "Rating=driver.find_elements(By.XPATH,\"//div[@class='_3LWZlK _1BLPMq']\")\n",
    "Rating[0:2]"
   ]
  },
  {
   "cell_type": "code",
   "execution_count": 93,
   "id": "edca9074",
   "metadata": {},
   "outputs": [
    {
     "ename": "AttributeError",
     "evalue": "'str' object has no attribute 'text'",
     "output_type": "error",
     "traceback": [
      "\u001b[1;31m---------------------------------------------------------------------------\u001b[0m",
      "\u001b[1;31mAttributeError\u001b[0m                            Traceback (most recent call last)",
      "\u001b[1;32m~\\AppData\\Local\\Temp\\ipykernel_11308\\3595496140.py\u001b[0m in \u001b[0;36m<module>\u001b[1;34m\u001b[0m\n\u001b[0;32m      1\u001b[0m \u001b[0mpage7_Rating\u001b[0m\u001b[1;33m=\u001b[0m\u001b[1;33m[\u001b[0m\u001b[1;33m]\u001b[0m\u001b[1;33m\u001b[0m\u001b[1;33m\u001b[0m\u001b[0m\n\u001b[0;32m      2\u001b[0m \u001b[1;32mfor\u001b[0m \u001b[0mi\u001b[0m \u001b[1;32min\u001b[0m \u001b[0mRating\u001b[0m\u001b[1;33m:\u001b[0m\u001b[1;33m\u001b[0m\u001b[1;33m\u001b[0m\u001b[0m\n\u001b[1;32m----> 3\u001b[1;33m     \u001b[0mRating\u001b[0m\u001b[1;33m=\u001b[0m\u001b[0mi\u001b[0m\u001b[1;33m.\u001b[0m\u001b[0mtext\u001b[0m\u001b[1;33m\u001b[0m\u001b[1;33m\u001b[0m\u001b[0m\n\u001b[0m\u001b[0;32m      4\u001b[0m     \u001b[0mpage7_Rating\u001b[0m\u001b[1;33m.\u001b[0m\u001b[0mappend\u001b[0m\u001b[1;33m(\u001b[0m\u001b[0mRating\u001b[0m\u001b[1;33m)\u001b[0m\u001b[1;33m\u001b[0m\u001b[1;33m\u001b[0m\u001b[0m\n\u001b[0;32m      5\u001b[0m \u001b[1;33m\u001b[0m\u001b[0m\n",
      "\u001b[1;31mAttributeError\u001b[0m: 'str' object has no attribute 'text'"
     ]
    }
   ],
   "source": [
    "page7_Rating=[]\n",
    "for i in Rating:\n",
    "    Rating=i.text\n",
    "    page7_Rating.append(Rating)\n",
    "    \n",
    "page7_Rating"
   ]
  },
  {
   "cell_type": "code",
   "execution_count": 91,
   "id": "22c54cb6",
   "metadata": {},
   "outputs": [
    {
     "data": {
      "text/plain": [
       "['5', '1', '5', '5', '5', '5', '5', '5', '5', '5']"
      ]
     },
     "execution_count": 91,
     "metadata": {},
     "output_type": "execute_result"
    }
   ],
   "source": [
    "page7_Rating.insert(1,'1')\n",
    "page7_Rating"
   ]
  },
  {
   "cell_type": "code",
   "execution_count": 92,
   "id": "519afbdc",
   "metadata": {},
   "outputs": [
    {
     "data": {
      "text/plain": [
       "[<selenium.webdriver.remote.webelement.WebElement (session=\"29940522c11426234d1ec82d350f7de8\", element=\"68d45939-e21d-467b-9a09-4e2fe879dff9\")>,\n",
       " <selenium.webdriver.remote.webelement.WebElement (session=\"29940522c11426234d1ec82d350f7de8\", element=\"5560f779-c912-41e9-86ab-9f02a8ddd8ba\")>]"
      ]
     },
     "execution_count": 92,
     "metadata": {},
     "output_type": "execute_result"
    }
   ],
   "source": [
    "# Getting the Review Summary from page 7\n",
    "\n",
    "Review_summary =driver.find_elements(By.XPATH,\"//p[@class='_2-N8zT']\")\n",
    "Review_summary[0:2]"
   ]
  },
  {
   "cell_type": "code",
   "execution_count": 94,
   "id": "e69b56bc",
   "metadata": {},
   "outputs": [
    {
     "data": {
      "text/plain": [
       "['Perfect product!',\n",
       " 'Worthless',\n",
       " 'Fabulous!',\n",
       " 'Wonderful',\n",
       " 'Must buy!',\n",
       " 'Great product',\n",
       " 'Just wow!',\n",
       " 'Wonderful',\n",
       " 'Wonderful',\n",
       " 'Simply awesome']"
      ]
     },
     "execution_count": 94,
     "metadata": {},
     "output_type": "execute_result"
    }
   ],
   "source": [
    "page7_Review_summary=[]\n",
    "for i in Review_summary:\n",
    "    Review_summarys = i.text\n",
    "    page7_Review_summary.append(Review_summarys)\n",
    "page7_Review_summary"
   ]
  },
  {
   "cell_type": "code",
   "execution_count": 95,
   "id": "a9b24e6a",
   "metadata": {},
   "outputs": [
    {
     "data": {
      "text/plain": [
       "[<selenium.webdriver.remote.webelement.WebElement (session=\"29940522c11426234d1ec82d350f7de8\", element=\"73afe323-da1d-4a6b-99e6-067b48ac1b21\")>,\n",
       " <selenium.webdriver.remote.webelement.WebElement (session=\"29940522c11426234d1ec82d350f7de8\", element=\"8a16400c-a8bb-4a6c-afc2-55ff36061df9\")>]"
      ]
     },
     "execution_count": 95,
     "metadata": {},
     "output_type": "execute_result"
    }
   ],
   "source": [
    "# Getting the Full Review from Page 7\n",
    "\n",
    "full_review=driver.find_elements(By.XPATH,\"//div[@class='t-ZTKy']\")\n",
    "full_review[0:2]"
   ]
  },
  {
   "cell_type": "code",
   "execution_count": 96,
   "id": "610a2af2",
   "metadata": {},
   "outputs": [
    {
     "data": {
      "text/plain": [
       "['In love with this iphone great performance,camera ,battery everything. Go for it have a uncompareble battery backup, no doubts in iPhone camera here You can see the picture which is shot on my iPhone In love with this iphone great performance,camera ,battery everything. Go for it have a uncompareble battery backup, no doubts in iPhone camera here You can see the picture which is shot on my iPhone In love with this iphone great performance,camera ,battery everything. Go for it have a uncompare....READ MORE',\n",
       " \"Phone is awesome no doubt. But Camera & Display is not great. Performance is mind blowing..But the phone is heating too much when charging or when you regularly used. It's experience after using 1 week. It's heating extrem when I play PUBG for 30 minutes..Go for iPhone 11 pro or 12. Otherwise go for Android phone you will get much better phone in less price.\",\n",
       " 'Everything is perfect pictures come out so clearly and at first I wasn’t sure when I got it then when I started to use it and get the hang of it it was amazing!! I can’t wait to see what the next future phones will be like. The screen display on this bad boy are unbelievable they are so clear and never fail me. The performance is super cool there is a lot of cool features as well I like this phone because I feel that it is easy to use and one of my favorite things about this phone is the Face....READ MORE',\n",
       " 'Superfast delivery by Flipkart. Thanks...1. iPhone 11 is a pretty solid phone for the money you are paying..2. All the bad reviews about the display is confusing. It’s not that bad..3. I switched from a Oneplus 7t. I have no complaints about the display quality of iPhone. Yes, it’s not OLED, so, we are missing on the deep blacks. But that’s it. It is a very colour accurate display. Gets adequately bright and I could not find any pixelation..4. Performance is one of the best, if not best, in ....READ MORE',\n",
       " 'I rate this product 5* as it has got amazing user experience with the best performing A13 bionic processor. The screen responds and graphics rendering is top notch. With casual gaming and internet browsing, the battery lasts for approx. 1 day. Camera is very good. You will fall in love with the portrait mode. You can call me a loyal Apple customer or whatever but I won’t stop praising the products and overall experience. That user experience matters and is worth every penny you pay...Below ar....READ MORE',\n",
       " \"I was using android phone earlier..I was thinking apple phones are much more costy than other phones with less specifications..so why to waste money in this??..But trust me guys once if you start using ios then you won't go back to android...beleive me this phone is the best than all other...There is no other phone which can beat iphones in terms of camera..iphones gives the best real image..its very faster and smoother than android phones...if you think to switch to ios iphone 11 is the best....READ MORE\",\n",
       " 'The ultimate performance.Camera is superb.The battery backup also very good i never saw iphone gives this much of battery backup.If any one wana buy iphone 11 definitely i will recommend this mobile.It has the better battery and powerfull processer peak performance glorious camera and the display also 100% high quality lcd display if u had money for for 12 if u dont wana invest much money on that then go for iphone 11 it has maximum same specs only main difference between the 12 and 11 is....READ MORE',\n",
       " 'Super and marvellous phone look very cute and nice sound. I love this phone i think white is good colur.Excellent camer 5*😍😘♥️♥️',\n",
       " 'Nice value for money good and best price I phone mind blowing camera processor very fast other android mobile I am happy India top selling phone 2020',\n",
       " 'Just awesome phone, everything works in such a smooth and refined way !!!.Camera - next level.Display - next level.Performance - monster.Battery - next level.Everything works at the best level with A13 Bionic Chip.Value for money iphone.You should go for this just killer performance 🔥🔥']"
      ]
     },
     "execution_count": 96,
     "metadata": {},
     "output_type": "execute_result"
    }
   ],
   "source": [
    "page7_full_review=[]\n",
    "for i in full_review:\n",
    "    full_reviews = i.text.replace(\"\\n\",\".\")\n",
    "    page7_full_review.append(full_reviews)\n",
    "page7_full_review"
   ]
  },
  {
   "cell_type": "code",
   "execution_count": 97,
   "id": "3da46ca3",
   "metadata": {},
   "outputs": [
    {
     "name": "stdout",
     "output_type": "stream",
     "text": [
      "0 10 10\n"
     ]
    }
   ],
   "source": [
    "print(len(page7_Rating),len(page7_Review_summary),len(page7_full_review))\n"
   ]
  },
  {
   "cell_type": "code",
   "execution_count": 98,
   "id": "fe99ed83",
   "metadata": {},
   "outputs": [
    {
     "data": {
      "text/html": [
       "<div>\n",
       "<style scoped>\n",
       "    .dataframe tbody tr th:only-of-type {\n",
       "        vertical-align: middle;\n",
       "    }\n",
       "\n",
       "    .dataframe tbody tr th {\n",
       "        vertical-align: top;\n",
       "    }\n",
       "\n",
       "    .dataframe thead th {\n",
       "        text-align: right;\n",
       "    }\n",
       "</style>\n",
       "<table border=\"1\" class=\"dataframe\">\n",
       "  <thead>\n",
       "    <tr style=\"text-align: right;\">\n",
       "      <th></th>\n",
       "      <th>Rating</th>\n",
       "      <th>Review_summary</th>\n",
       "      <th>full_review</th>\n",
       "    </tr>\n",
       "  </thead>\n",
       "  <tbody>\n",
       "    <tr>\n",
       "      <th>0</th>\n",
       "      <td>NaN</td>\n",
       "      <td>Perfect product!</td>\n",
       "      <td>In love with this iphone great performance,cam...</td>\n",
       "    </tr>\n",
       "    <tr>\n",
       "      <th>1</th>\n",
       "      <td>NaN</td>\n",
       "      <td>Worthless</td>\n",
       "      <td>Phone is awesome no doubt. But Camera &amp; Displa...</td>\n",
       "    </tr>\n",
       "    <tr>\n",
       "      <th>2</th>\n",
       "      <td>NaN</td>\n",
       "      <td>Fabulous!</td>\n",
       "      <td>Everything is perfect pictures come out so cle...</td>\n",
       "    </tr>\n",
       "    <tr>\n",
       "      <th>3</th>\n",
       "      <td>NaN</td>\n",
       "      <td>Wonderful</td>\n",
       "      <td>Superfast delivery by Flipkart. Thanks...1. iP...</td>\n",
       "    </tr>\n",
       "    <tr>\n",
       "      <th>4</th>\n",
       "      <td>NaN</td>\n",
       "      <td>Must buy!</td>\n",
       "      <td>I rate this product 5* as it has got amazing u...</td>\n",
       "    </tr>\n",
       "    <tr>\n",
       "      <th>5</th>\n",
       "      <td>NaN</td>\n",
       "      <td>Great product</td>\n",
       "      <td>I was using android phone earlier..I was think...</td>\n",
       "    </tr>\n",
       "    <tr>\n",
       "      <th>6</th>\n",
       "      <td>NaN</td>\n",
       "      <td>Just wow!</td>\n",
       "      <td>The ultimate performance.Camera is superb.The ...</td>\n",
       "    </tr>\n",
       "    <tr>\n",
       "      <th>7</th>\n",
       "      <td>NaN</td>\n",
       "      <td>Wonderful</td>\n",
       "      <td>Super and marvellous phone look very cute and ...</td>\n",
       "    </tr>\n",
       "    <tr>\n",
       "      <th>8</th>\n",
       "      <td>NaN</td>\n",
       "      <td>Wonderful</td>\n",
       "      <td>Nice value for money good and best price I pho...</td>\n",
       "    </tr>\n",
       "    <tr>\n",
       "      <th>9</th>\n",
       "      <td>NaN</td>\n",
       "      <td>Simply awesome</td>\n",
       "      <td>Just awesome phone, everything works in such a...</td>\n",
       "    </tr>\n",
       "  </tbody>\n",
       "</table>\n",
       "</div>"
      ],
      "text/plain": [
       "   Rating    Review_summary                                        full_review\n",
       "0     NaN  Perfect product!  In love with this iphone great performance,cam...\n",
       "1     NaN         Worthless  Phone is awesome no doubt. But Camera & Displa...\n",
       "2     NaN         Fabulous!  Everything is perfect pictures come out so cle...\n",
       "3     NaN         Wonderful  Superfast delivery by Flipkart. Thanks...1. iP...\n",
       "4     NaN         Must buy!  I rate this product 5* as it has got amazing u...\n",
       "5     NaN     Great product  I was using android phone earlier..I was think...\n",
       "6     NaN         Just wow!  The ultimate performance.Camera is superb.The ...\n",
       "7     NaN         Wonderful  Super and marvellous phone look very cute and ...\n",
       "8     NaN         Wonderful  Nice value for money good and best price I pho...\n",
       "9     NaN    Simply awesome  Just awesome phone, everything works in such a..."
      ]
     },
     "execution_count": 98,
     "metadata": {},
     "output_type": "execute_result"
    }
   ],
   "source": [
    "# Creating Data Frame for Page 7\n",
    "\n",
    "page7 = pd.DataFrame({})\n",
    "page7[\"Rating\"]=page7_Rating\n",
    "page7[\"Review_summary\"]=page7_Review_summary\n",
    "page7[\"full_review\"]=page7_full_review\n",
    "page7"
   ]
  },
  {
   "cell_type": "code",
   "execution_count": 99,
   "id": "7bf31277",
   "metadata": {},
   "outputs": [],
   "source": [
    "# Clicking on Page 8\n",
    "\n",
    "\n",
    "next_button=driver.find_element(By.XPATH,\"/html/body/div[1]/div/div[3]/div/div/div[2]/div[13]/div/div/nav/a[12]/span\")\n",
    "next_button.click()"
   ]
  },
  {
   "cell_type": "code",
   "execution_count": 100,
   "id": "fc173dd6",
   "metadata": {},
   "outputs": [
    {
     "data": {
      "text/plain": [
       "[<selenium.webdriver.remote.webelement.WebElement (session=\"29940522c11426234d1ec82d350f7de8\", element=\"f4ada638-4f66-41f3-9030-b76fe8c2274c\")>,\n",
       " <selenium.webdriver.remote.webelement.WebElement (session=\"29940522c11426234d1ec82d350f7de8\", element=\"5b9ed5c3-90d8-4fe9-bcda-a69fec016d28\")>]"
      ]
     },
     "execution_count": 100,
     "metadata": {},
     "output_type": "execute_result"
    }
   ],
   "source": [
    "# Rating frrom Page 8\n",
    "\n",
    "Rating=driver.find_elements(By.XPATH,\"//div[@class='_3LWZlK _1BLPMq']\")\n",
    "Rating[0:2]"
   ]
  },
  {
   "cell_type": "code",
   "execution_count": 101,
   "id": "9e0a416b",
   "metadata": {},
   "outputs": [
    {
     "data": {
      "text/plain": [
       "['5', '5', '5', '5', '5', '5', '5', '5', '5', '5']"
      ]
     },
     "execution_count": 101,
     "metadata": {},
     "output_type": "execute_result"
    }
   ],
   "source": [
    "page8_Rating=[]\n",
    "for i in Rating:\n",
    "    Rating=i.text\n",
    "    page8_Rating.append(Rating)\n",
    "    \n",
    "page8_Rating"
   ]
  },
  {
   "cell_type": "code",
   "execution_count": 102,
   "id": "f20107c0",
   "metadata": {},
   "outputs": [
    {
     "data": {
      "text/plain": [
       "[<selenium.webdriver.remote.webelement.WebElement (session=\"29940522c11426234d1ec82d350f7de8\", element=\"77eee458-31a4-4a5e-9cd7-1eaffdb9de08\")>,\n",
       " <selenium.webdriver.remote.webelement.WebElement (session=\"29940522c11426234d1ec82d350f7de8\", element=\"5b59ea00-60bb-4c13-92a2-85a29d7732c4\")>]"
      ]
     },
     "execution_count": 102,
     "metadata": {},
     "output_type": "execute_result"
    }
   ],
   "source": [
    "# Getting the Review Summary from page 8\n",
    "\n",
    "Review_summary =driver.find_elements(By.XPATH,\"//p[@class='_2-N8zT']\")\n",
    "Review_summary[0:2]"
   ]
  },
  {
   "cell_type": "code",
   "execution_count": 103,
   "id": "4577cd85",
   "metadata": {},
   "outputs": [
    {
     "data": {
      "text/plain": [
       "['Excellent',\n",
       " 'Best in the market!',\n",
       " 'Worth every penny',\n",
       " 'Worth every penny',\n",
       " 'Worth every penny',\n",
       " 'Awesome',\n",
       " 'Excellent',\n",
       " 'Mind-blowing purchase',\n",
       " 'Excellent',\n",
       " 'Brilliant']"
      ]
     },
     "execution_count": 103,
     "metadata": {},
     "output_type": "execute_result"
    }
   ],
   "source": [
    "page8_Review_summary=[]\n",
    "for i in Review_summary:\n",
    "    Review_summarys = i.text\n",
    "    page8_Review_summary.append(Review_summarys)\n",
    "page8_Review_summary"
   ]
  },
  {
   "cell_type": "code",
   "execution_count": 104,
   "id": "1c3847b6",
   "metadata": {},
   "outputs": [
    {
     "data": {
      "text/plain": [
       "[<selenium.webdriver.remote.webelement.WebElement (session=\"29940522c11426234d1ec82d350f7de8\", element=\"57ba3f81-cf70-4395-86c5-26cf56a36374\")>,\n",
       " <selenium.webdriver.remote.webelement.WebElement (session=\"29940522c11426234d1ec82d350f7de8\", element=\"e0456b11-578d-4c56-8771-aab35aac8bc7\")>]"
      ]
     },
     "execution_count": 104,
     "metadata": {},
     "output_type": "execute_result"
    }
   ],
   "source": [
    "# Getting the Full Review from Page 8\n",
    "\n",
    "full_review=driver.find_elements(By.XPATH,\"//div[@class='t-ZTKy']\")\n",
    "full_review[0:2]"
   ]
  },
  {
   "cell_type": "code",
   "execution_count": 105,
   "id": "977d0702",
   "metadata": {},
   "outputs": [
    {
     "data": {
      "text/plain": [
       "['Seller - SuperComNet ( my trust in you has grown deeper. Thanks for the genuine product ).The package came packed perfectly. The box was sealed which gave me a big relief...Apple needs no introduction since its the dominant market player. I just love the way how IPhone 11 stands out so boldly. The moment I took it out from the box, I could feel the premium intensity. The body is remarkable and crafted for giving you a elite vibe...Camera is to die for. There is no other phone that can beat....READ MORE',\n",
       " 'Don’t expect much from front camera… especially who loves beauty mode and filters.. back cameras are good…video department is always plus point in iPhones… battery capacity is really surprising lasts for one day at least… performance always good and smooth… speaker’s quality is good…built quality best and haptic feedback is enjoyable….Note : images are good after you edit',\n",
       " 'iPhone is delivered on time. Display is great u won’t feel that it’s a hd panel. Quality is excellent. Sounds is great it has stereo setup. Camera is good. iOS 14.2 comes in the box. U roughly get 113 gb free if u buy 128 gb. This is my second iPhone and i love it. Value for money.',\n",
       " 'Here is the thing..The only reason why you should buy this phone is for the camera, iOS, and if you have headaches looking at AMOLED display...I’m not an avid gamer but watch a lot of movies on smartphone. However, my migraine attacks increased considerably after using AMOLED Smartphone. That’s why I made a calculated decision to buy iPhone 11. It has the best LCD display and the blacks, though not as natural as an AMOLED, is better than some of the other smartphones...Adding to this the ste....READ MORE',\n",
       " \"It is better to buy iPhone 11 over iPhone 12 if you prioritize the camera,Its because the difference isn’t significantly huge except lowlight performance and Go for 128 GB variant rather than 64 GB because the system data alone contains 20 GB of data ..Even though it's 720p LCD display but it's better than todays Android's 1080p display. My phone was a 64GB mint green model and this one is really pretty especially in the real life. I can still get almost everything out of what i paid for at a....READ MORE\",\n",
       " 'Very excited to have this phone. This phone has the real power unlike the android phones having SD 855 . The battery life is very good and the camera quality is excellent as comapred to redmi and other phones except google pixel. I M enjoying every single bit of it. Would recommed only if you have the budget.',\n",
       " 'A perfect phone and a good battery super camera and the sound is dynamic overall the phone is perfect for upgrading from lower iPhone model to iPhone 11',\n",
       " 'Excellent camera 📸 And Display touching very Nice And Smooth and very improvement against.I phone 11 and new processor is very fast',\n",
       " '🤩🤩🤩🤩🤩🤩I loved the Phone.. Every time I pick up the phone it makes me happy... The phone is beast💪💪 and the camera is fabulous 🥰🥰🥰.. I think one of my great purchase from Flipkart.. Thank you Filpkart..',\n",
       " 'Excellent camera and display touching very nice and smooth very improvement against iPhone XR and new processor is very fast']"
      ]
     },
     "execution_count": 105,
     "metadata": {},
     "output_type": "execute_result"
    }
   ],
   "source": [
    "page8_full_review=[]\n",
    "for i in full_review:\n",
    "    full_reviews = i.text.replace(\"\\n\",\".\")\n",
    "    page8_full_review.append(full_reviews)\n",
    "page8_full_review"
   ]
  },
  {
   "cell_type": "code",
   "execution_count": 106,
   "id": "f47132d9",
   "metadata": {},
   "outputs": [
    {
     "name": "stdout",
     "output_type": "stream",
     "text": [
      "10 10 10\n"
     ]
    }
   ],
   "source": [
    "print(len(page8_Rating),len(page8_Review_summary),len(page8_full_review))\n"
   ]
  },
  {
   "cell_type": "code",
   "execution_count": 107,
   "id": "00281dab",
   "metadata": {},
   "outputs": [
    {
     "data": {
      "text/html": [
       "<div>\n",
       "<style scoped>\n",
       "    .dataframe tbody tr th:only-of-type {\n",
       "        vertical-align: middle;\n",
       "    }\n",
       "\n",
       "    .dataframe tbody tr th {\n",
       "        vertical-align: top;\n",
       "    }\n",
       "\n",
       "    .dataframe thead th {\n",
       "        text-align: right;\n",
       "    }\n",
       "</style>\n",
       "<table border=\"1\" class=\"dataframe\">\n",
       "  <thead>\n",
       "    <tr style=\"text-align: right;\">\n",
       "      <th></th>\n",
       "      <th>Rating</th>\n",
       "      <th>Review_summary</th>\n",
       "      <th>full_review</th>\n",
       "    </tr>\n",
       "  </thead>\n",
       "  <tbody>\n",
       "    <tr>\n",
       "      <th>0</th>\n",
       "      <td>5</td>\n",
       "      <td>Excellent</td>\n",
       "      <td>Seller - SuperComNet ( my trust in you has gro...</td>\n",
       "    </tr>\n",
       "    <tr>\n",
       "      <th>1</th>\n",
       "      <td>5</td>\n",
       "      <td>Best in the market!</td>\n",
       "      <td>Don’t expect much from front camera… especiall...</td>\n",
       "    </tr>\n",
       "    <tr>\n",
       "      <th>2</th>\n",
       "      <td>5</td>\n",
       "      <td>Worth every penny</td>\n",
       "      <td>iPhone is delivered on time. Display is great ...</td>\n",
       "    </tr>\n",
       "    <tr>\n",
       "      <th>3</th>\n",
       "      <td>5</td>\n",
       "      <td>Worth every penny</td>\n",
       "      <td>Here is the thing..The only reason why you sho...</td>\n",
       "    </tr>\n",
       "    <tr>\n",
       "      <th>4</th>\n",
       "      <td>5</td>\n",
       "      <td>Worth every penny</td>\n",
       "      <td>It is better to buy iPhone 11 over iPhone 12 i...</td>\n",
       "    </tr>\n",
       "    <tr>\n",
       "      <th>5</th>\n",
       "      <td>5</td>\n",
       "      <td>Awesome</td>\n",
       "      <td>Very excited to have this phone. This phone ha...</td>\n",
       "    </tr>\n",
       "    <tr>\n",
       "      <th>6</th>\n",
       "      <td>5</td>\n",
       "      <td>Excellent</td>\n",
       "      <td>A perfect phone and a good battery super camer...</td>\n",
       "    </tr>\n",
       "    <tr>\n",
       "      <th>7</th>\n",
       "      <td>5</td>\n",
       "      <td>Mind-blowing purchase</td>\n",
       "      <td>Excellent camera 📸 And Display touching very N...</td>\n",
       "    </tr>\n",
       "    <tr>\n",
       "      <th>8</th>\n",
       "      <td>5</td>\n",
       "      <td>Excellent</td>\n",
       "      <td>🤩🤩🤩🤩🤩🤩I loved the Phone.. Every time I pick up...</td>\n",
       "    </tr>\n",
       "    <tr>\n",
       "      <th>9</th>\n",
       "      <td>5</td>\n",
       "      <td>Brilliant</td>\n",
       "      <td>Excellent camera and display touching very nic...</td>\n",
       "    </tr>\n",
       "  </tbody>\n",
       "</table>\n",
       "</div>"
      ],
      "text/plain": [
       "  Rating         Review_summary  \\\n",
       "0      5              Excellent   \n",
       "1      5    Best in the market!   \n",
       "2      5      Worth every penny   \n",
       "3      5      Worth every penny   \n",
       "4      5      Worth every penny   \n",
       "5      5                Awesome   \n",
       "6      5              Excellent   \n",
       "7      5  Mind-blowing purchase   \n",
       "8      5              Excellent   \n",
       "9      5              Brilliant   \n",
       "\n",
       "                                         full_review  \n",
       "0  Seller - SuperComNet ( my trust in you has gro...  \n",
       "1  Don’t expect much from front camera… especiall...  \n",
       "2  iPhone is delivered on time. Display is great ...  \n",
       "3  Here is the thing..The only reason why you sho...  \n",
       "4  It is better to buy iPhone 11 over iPhone 12 i...  \n",
       "5  Very excited to have this phone. This phone ha...  \n",
       "6  A perfect phone and a good battery super camer...  \n",
       "7  Excellent camera 📸 And Display touching very N...  \n",
       "8  🤩🤩🤩🤩🤩🤩I loved the Phone.. Every time I pick up...  \n",
       "9  Excellent camera and display touching very nic...  "
      ]
     },
     "execution_count": 107,
     "metadata": {},
     "output_type": "execute_result"
    }
   ],
   "source": [
    "# Creating Data Frame for Page 8\n",
    "\n",
    "page8 = pd.DataFrame({})\n",
    "page8[\"Rating\"]=page8_Rating\n",
    "page8[\"Review_summary\"]=page8_Review_summary\n",
    "page8[\"full_review\"]=page8_full_review\n",
    "page8"
   ]
  },
  {
   "cell_type": "code",
   "execution_count": 108,
   "id": "762cbb11",
   "metadata": {},
   "outputs": [],
   "source": [
    "# Clicking on Page 9\n",
    "\n",
    "\n",
    "next_button=driver.find_element(By.XPATH,\"/html/body/div[1]/div/div[3]/div/div/div[2]/div[13]/div/div/nav/a[12]/span\")\n",
    "next_button.click()"
   ]
  },
  {
   "cell_type": "code",
   "execution_count": 109,
   "id": "2591af4d",
   "metadata": {},
   "outputs": [
    {
     "data": {
      "text/plain": [
       "[<selenium.webdriver.remote.webelement.WebElement (session=\"29940522c11426234d1ec82d350f7de8\", element=\"e0580fe4-8906-40ee-a4db-9c0e738301b4\")>,\n",
       " <selenium.webdriver.remote.webelement.WebElement (session=\"29940522c11426234d1ec82d350f7de8\", element=\"6163eaa4-b73e-4607-82cb-417ddbfaf5de\")>]"
      ]
     },
     "execution_count": 109,
     "metadata": {},
     "output_type": "execute_result"
    }
   ],
   "source": [
    "# Rating frrom Page 9\n",
    "\n",
    "Rating=driver.find_elements(By.XPATH,\"//div[@class='_3LWZlK _1BLPMq']\")\n",
    "Rating[0:2]"
   ]
  },
  {
   "cell_type": "code",
   "execution_count": 110,
   "id": "84548e39",
   "metadata": {},
   "outputs": [
    {
     "data": {
      "text/plain": [
       "['5', '5', '5', '5', '5', '5', '3', '5', '5', '5']"
      ]
     },
     "execution_count": 110,
     "metadata": {},
     "output_type": "execute_result"
    }
   ],
   "source": [
    "page9_Rating=[]\n",
    "for i in Rating:\n",
    "    Rating=i.text\n",
    "    page9_Rating.append(Rating)\n",
    "    \n",
    "page9_Rating"
   ]
  },
  {
   "cell_type": "code",
   "execution_count": 111,
   "id": "f293231b",
   "metadata": {},
   "outputs": [
    {
     "data": {
      "text/plain": [
       "[<selenium.webdriver.remote.webelement.WebElement (session=\"29940522c11426234d1ec82d350f7de8\", element=\"94e04f48-888b-4a08-8828-e790b943163e\")>,\n",
       " <selenium.webdriver.remote.webelement.WebElement (session=\"29940522c11426234d1ec82d350f7de8\", element=\"96d8f8ae-06a2-4c82-b221-a9f47cf470ee\")>]"
      ]
     },
     "execution_count": 111,
     "metadata": {},
     "output_type": "execute_result"
    }
   ],
   "source": [
    "# Getting the Review Summary from page 9\n",
    "\n",
    "Review_summary =driver.find_elements(By.XPATH,\"//p[@class='_2-N8zT']\")\n",
    "Review_summary[0:2]"
   ]
  },
  {
   "cell_type": "code",
   "execution_count": 112,
   "id": "16bedebf",
   "metadata": {},
   "outputs": [
    {
     "data": {
      "text/plain": [
       "['Terrific',\n",
       " 'Fabulous!',\n",
       " 'Fabulous!',\n",
       " 'Perfect product!',\n",
       " 'Classy product',\n",
       " 'Awesome',\n",
       " 'Does the job',\n",
       " 'Super!',\n",
       " 'Brilliant',\n",
       " 'Must buy!']"
      ]
     },
     "execution_count": 112,
     "metadata": {},
     "output_type": "execute_result"
    }
   ],
   "source": [
    "page9_Review_summary=[]\n",
    "for i in Review_summary:\n",
    "    Review_summarys = i.text\n",
    "    page9_Review_summary.append(Review_summarys)\n",
    "page9_Review_summary"
   ]
  },
  {
   "cell_type": "code",
   "execution_count": 113,
   "id": "e1551e88",
   "metadata": {},
   "outputs": [
    {
     "data": {
      "text/plain": [
       "[<selenium.webdriver.remote.webelement.WebElement (session=\"29940522c11426234d1ec82d350f7de8\", element=\"cff46eb3-7ffa-4490-8a7d-357bc5881233\")>,\n",
       " <selenium.webdriver.remote.webelement.WebElement (session=\"29940522c11426234d1ec82d350f7de8\", element=\"2493f5fa-0313-4750-9b0e-1c8bf62cc1d1\")>]"
      ]
     },
     "execution_count": 113,
     "metadata": {},
     "output_type": "execute_result"
    }
   ],
   "source": [
    "# Getting the Full Review from Page 9\n",
    "\n",
    "full_review=driver.find_elements(By.XPATH,\"//div[@class='t-ZTKy']\")\n",
    "full_review[0:2]"
   ]
  },
  {
   "cell_type": "code",
   "execution_count": 114,
   "id": "6480b9a3",
   "metadata": {},
   "outputs": [
    {
     "data": {
      "text/plain": [
       "[\"I got this beast today. And I must say the picture quality of its camera is awesome. Both the cameras works fine...As for as the processing is concerned, it runs without any lag. You can play and do whatever you want without a glitch...The battery runs for a day with medium and high workload...The display is good and the speakers are working fine...The earphones doesn't have any base and you can use it for calling mostly...The charging time is approximately for 90 minutes for full charging....READ MORE\",\n",
       " 'Best phone in this price segment people say that it is a IPS display but don’t judge a book with the specs sheet only I have not seen any LCD Display like this in any smartphone industry leading IPS display . Everything is awesome in this phone but sometime but apple should have been giving OLED in this price segment',\n",
       " 'Gift this to your loved ones fabulous product and amazing super fast delivery by flipkart',\n",
       " 'Awesome purchase. Amazing phone with good battery backup. It’s a top notch device. White colour looks amazing. Phone has a few extra feature than iPhone XR. Overall, this is value for money',\n",
       " 'Gifted my man on his 30th birthday 🎂 He loves it.. Him happy so i am more than happy 😍😘❤️🥰',\n",
       " 'Always love the apple products, upgraded from old iPhone 6S plus to this after having my first baby. I just love to click baby’s photos with it. Overall I just love this phone. Battery back up is okay, sound quality is good. Haven’t tested yet waterproof yet. Only one thing I hate is apple could have given charger & headphones in box.',\n",
       " \"phone is good but in display is 720p lcd in this price range we can get full hd OLED displays with higher refresh rate processor is very good camera is nice but looks kind of oldish in front of todays phone also there's no charging in box had to buy it seperately\",\n",
       " 'This is my first ever iPhone..And I truly don’t regret switching to IOS from my Android...It is easily an alternative to a DSLR camera..If you’re obsessed with photos and videos, just don’t think twice or don’t compare to other androids(Samsung S10 lite or OnePlus 8/8T), as it’s far better from them in every field..Comparing will only make you confused...I am getting an average Screen on Time of around 10 hours with 30 percent left. I haven’t let my device discharged below 30 % as it aff....READ MORE',\n",
       " 'A wort full value for money decision it’s . Simply go for it in 2021 its still a good decision . Awesome camera , Super smothered performance, Heck of build quality. And Most important it protects your privacy.',\n",
       " 'Dear friends... I want to share my experience with you about this amazing I phone 11....this is my first iPhone and special things about this mobile is it has great camera, battery backup and awesome display.... I mean everything is perfect.loved it 👍👍👍']"
      ]
     },
     "execution_count": 114,
     "metadata": {},
     "output_type": "execute_result"
    }
   ],
   "source": [
    "page9_full_review=[]\n",
    "for i in full_review:\n",
    "    full_reviews = i.text.replace(\"\\n\",\".\")\n",
    "    page9_full_review.append(full_reviews)\n",
    "page9_full_review"
   ]
  },
  {
   "cell_type": "code",
   "execution_count": 115,
   "id": "e75a7c77",
   "metadata": {},
   "outputs": [
    {
     "name": "stdout",
     "output_type": "stream",
     "text": [
      "10 10 10\n"
     ]
    }
   ],
   "source": [
    "print(len(page9_Rating),len(page9_Review_summary),len(page9_full_review))"
   ]
  },
  {
   "cell_type": "code",
   "execution_count": 116,
   "id": "dd596ff5",
   "metadata": {},
   "outputs": [
    {
     "data": {
      "text/html": [
       "<div>\n",
       "<style scoped>\n",
       "    .dataframe tbody tr th:only-of-type {\n",
       "        vertical-align: middle;\n",
       "    }\n",
       "\n",
       "    .dataframe tbody tr th {\n",
       "        vertical-align: top;\n",
       "    }\n",
       "\n",
       "    .dataframe thead th {\n",
       "        text-align: right;\n",
       "    }\n",
       "</style>\n",
       "<table border=\"1\" class=\"dataframe\">\n",
       "  <thead>\n",
       "    <tr style=\"text-align: right;\">\n",
       "      <th></th>\n",
       "      <th>Rating</th>\n",
       "      <th>Review_summary</th>\n",
       "      <th>full_review</th>\n",
       "    </tr>\n",
       "  </thead>\n",
       "  <tbody>\n",
       "    <tr>\n",
       "      <th>0</th>\n",
       "      <td>5</td>\n",
       "      <td>Terrific</td>\n",
       "      <td>I got this beast today. And I must say the pic...</td>\n",
       "    </tr>\n",
       "    <tr>\n",
       "      <th>1</th>\n",
       "      <td>5</td>\n",
       "      <td>Fabulous!</td>\n",
       "      <td>Best phone in this price segment people say th...</td>\n",
       "    </tr>\n",
       "    <tr>\n",
       "      <th>2</th>\n",
       "      <td>5</td>\n",
       "      <td>Fabulous!</td>\n",
       "      <td>Gift this to your loved ones fabulous product ...</td>\n",
       "    </tr>\n",
       "    <tr>\n",
       "      <th>3</th>\n",
       "      <td>5</td>\n",
       "      <td>Perfect product!</td>\n",
       "      <td>Awesome purchase. Amazing phone with good batt...</td>\n",
       "    </tr>\n",
       "    <tr>\n",
       "      <th>4</th>\n",
       "      <td>5</td>\n",
       "      <td>Classy product</td>\n",
       "      <td>Gifted my man on his 30th birthday 🎂 He loves ...</td>\n",
       "    </tr>\n",
       "    <tr>\n",
       "      <th>5</th>\n",
       "      <td>5</td>\n",
       "      <td>Awesome</td>\n",
       "      <td>Always love the apple products, upgraded from ...</td>\n",
       "    </tr>\n",
       "    <tr>\n",
       "      <th>6</th>\n",
       "      <td>3</td>\n",
       "      <td>Does the job</td>\n",
       "      <td>phone is good but in display is 720p lcd in th...</td>\n",
       "    </tr>\n",
       "    <tr>\n",
       "      <th>7</th>\n",
       "      <td>5</td>\n",
       "      <td>Super!</td>\n",
       "      <td>This is my first ever iPhone..And I truly don’...</td>\n",
       "    </tr>\n",
       "    <tr>\n",
       "      <th>8</th>\n",
       "      <td>5</td>\n",
       "      <td>Brilliant</td>\n",
       "      <td>A wort full value for money decision it’s . Si...</td>\n",
       "    </tr>\n",
       "    <tr>\n",
       "      <th>9</th>\n",
       "      <td>5</td>\n",
       "      <td>Must buy!</td>\n",
       "      <td>Dear friends... I want to share my experience ...</td>\n",
       "    </tr>\n",
       "  </tbody>\n",
       "</table>\n",
       "</div>"
      ],
      "text/plain": [
       "  Rating    Review_summary                                        full_review\n",
       "0      5          Terrific  I got this beast today. And I must say the pic...\n",
       "1      5         Fabulous!  Best phone in this price segment people say th...\n",
       "2      5         Fabulous!  Gift this to your loved ones fabulous product ...\n",
       "3      5  Perfect product!  Awesome purchase. Amazing phone with good batt...\n",
       "4      5    Classy product  Gifted my man on his 30th birthday 🎂 He loves ...\n",
       "5      5           Awesome  Always love the apple products, upgraded from ...\n",
       "6      3      Does the job  phone is good but in display is 720p lcd in th...\n",
       "7      5            Super!  This is my first ever iPhone..And I truly don’...\n",
       "8      5         Brilliant  A wort full value for money decision it’s . Si...\n",
       "9      5         Must buy!  Dear friends... I want to share my experience ..."
      ]
     },
     "execution_count": 116,
     "metadata": {},
     "output_type": "execute_result"
    }
   ],
   "source": [
    "# Creating Data Frame for Page 9\n",
    "\n",
    "page9 = pd.DataFrame({})\n",
    "page9[\"Rating\"]=page9_Rating\n",
    "page9[\"Review_summary\"]=page9_Review_summary\n",
    "page9[\"full_review\"]=page9_full_review\n",
    "page9"
   ]
  },
  {
   "cell_type": "code",
   "execution_count": 117,
   "id": "d54623a2",
   "metadata": {},
   "outputs": [],
   "source": [
    "# Clicking on Page 10\n",
    "\n",
    "\n",
    "next_button=driver.find_element(By.XPATH,\"/html/body/div[1]/div/div[3]/div/div/div[2]/div[13]/div/div/nav/a[12]/span\")\n",
    "next_button.click()"
   ]
  },
  {
   "cell_type": "code",
   "execution_count": 118,
   "id": "39efc5ba",
   "metadata": {},
   "outputs": [
    {
     "data": {
      "text/plain": [
       "[<selenium.webdriver.remote.webelement.WebElement (session=\"29940522c11426234d1ec82d350f7de8\", element=\"41b3c5c2-badb-404d-a8a8-2a7045248d4a\")>,\n",
       " <selenium.webdriver.remote.webelement.WebElement (session=\"29940522c11426234d1ec82d350f7de8\", element=\"201a5bc1-faa4-4427-86c8-2578fff84218\")>]"
      ]
     },
     "execution_count": 118,
     "metadata": {},
     "output_type": "execute_result"
    }
   ],
   "source": [
    "# Rating frrom Page 10\n",
    "\n",
    "Rating=driver.find_elements(By.XPATH,\"//div[@class='_3LWZlK _1BLPMq']\")\n",
    "Rating[0:2]"
   ]
  },
  {
   "cell_type": "code",
   "execution_count": 119,
   "id": "3e4930e6",
   "metadata": {},
   "outputs": [
    {
     "data": {
      "text/plain": [
       "['5', '5', '5', '5', '4', '5', '5', '5', '5']"
      ]
     },
     "execution_count": 119,
     "metadata": {},
     "output_type": "execute_result"
    }
   ],
   "source": [
    "page10_Rating=[]\n",
    "for i in Rating:\n",
    "    Rating=i.text\n",
    "    page10_Rating.append(Rating)\n",
    "    \n",
    "page10_Rating"
   ]
  },
  {
   "cell_type": "code",
   "execution_count": 120,
   "id": "6867701f",
   "metadata": {},
   "outputs": [
    {
     "data": {
      "text/plain": [
       "['5', '5', '5', '5', '4', '5', '5', '5', '5', '1']"
      ]
     },
     "execution_count": 120,
     "metadata": {},
     "output_type": "execute_result"
    }
   ],
   "source": [
    "page10_Rating.insert(9,'1')\n",
    "page10_Rating"
   ]
  },
  {
   "cell_type": "code",
   "execution_count": 121,
   "id": "97100c9f",
   "metadata": {},
   "outputs": [
    {
     "data": {
      "text/plain": [
       "[<selenium.webdriver.remote.webelement.WebElement (session=\"29940522c11426234d1ec82d350f7de8\", element=\"7671c429-c12c-4308-8b03-d25fa4901d09\")>,\n",
       " <selenium.webdriver.remote.webelement.WebElement (session=\"29940522c11426234d1ec82d350f7de8\", element=\"52113214-cbc3-4920-90da-b153f0f47ff1\")>]"
      ]
     },
     "execution_count": 121,
     "metadata": {},
     "output_type": "execute_result"
    }
   ],
   "source": [
    "# Getting the Review Summary from page 10\n",
    "\n",
    "Review_summary =driver.find_elements(By.XPATH,\"//p[@class='_2-N8zT']\")\n",
    "Review_summary[0:2]"
   ]
  },
  {
   "cell_type": "code",
   "execution_count": 122,
   "id": "313cf2e0",
   "metadata": {},
   "outputs": [
    {
     "data": {
      "text/plain": [
       "['Awesome',\n",
       " 'Best in the market!',\n",
       " 'Brilliant',\n",
       " 'Terrific purchase',\n",
       " 'Good quality product',\n",
       " 'Wonderful',\n",
       " 'Terrific',\n",
       " 'Best in the market!',\n",
       " 'Perfect product!',\n",
       " 'Absolute rubbish!']"
      ]
     },
     "execution_count": 122,
     "metadata": {},
     "output_type": "execute_result"
    }
   ],
   "source": [
    "page10_Review_summary=[]\n",
    "for i in Review_summary:\n",
    "    Review_summarys = i.text\n",
    "    page10_Review_summary.append(Review_summarys)\n",
    "page10_Review_summary"
   ]
  },
  {
   "cell_type": "code",
   "execution_count": 123,
   "id": "6c00aef6",
   "metadata": {},
   "outputs": [
    {
     "data": {
      "text/plain": [
       "[<selenium.webdriver.remote.webelement.WebElement (session=\"29940522c11426234d1ec82d350f7de8\", element=\"d91c6150-031e-482c-9f1a-443424f83545\")>,\n",
       " <selenium.webdriver.remote.webelement.WebElement (session=\"29940522c11426234d1ec82d350f7de8\", element=\"15aa7ec4-f3ef-4ffa-9963-b4ebfafb9f63\")>]"
      ]
     },
     "execution_count": 123,
     "metadata": {},
     "output_type": "execute_result"
    }
   ],
   "source": [
    "# Getting the Full Review from Page 10\n",
    "\n",
    "full_review=driver.find_elements(By.XPATH,\"//div[@class='t-ZTKy']\")\n",
    "full_review[0:2]"
   ]
  },
  {
   "cell_type": "code",
   "execution_count": 124,
   "id": "02a79d84",
   "metadata": {},
   "outputs": [
    {
     "data": {
      "text/plain": [
       "['Can’t beat the software and hardware integration of apple..Performs like a beast. Great quality camera.6-7 hours screen on time which is good. Nothing much to complaint about the screen. Good connectivity speeds..Great buy and Flipkart’s delivery top notch as usual',\n",
       " \"The best all rounder iphone. Flipkart is doing a great job. They're delivery services are blazing fast. I got delivery on the same day. Genuine Apple Product. Working great. Talking about review There's no need of review for iphones. They're simply the best.\",\n",
       " 'Amazing phone and on great deal I received with super fast delivery by Flipkart...',\n",
       " 'finally an iPhone with very nice battery backup. update from iPhone 7 and happy to have it. camera is not up to the mark in low light but overall a recommended phone if your budget allows 😀',\n",
       " \"I'm switching this phone to oppo reno 10x zoom.It's really impressive.Rarely I'm missing smooth display touch response like oppo reno but.I really loved it..Camera really impressive\",\n",
       " 'Its good.. a little heavy on my pinky but its cute ! Well m not any great photographer but putting these pictures just in case u knw…. Would help someone make any decisions',\n",
       " 'Simply Awesome..I have upgraded from iPhone 7 to iPhone 11...3110 mah Battery is good. I am not a heavy gamer. For official purpose, this is better than 12 mini...Totally impressed with battery performance.',\n",
       " 'Damn this phone is a blast . Upgraded from android to ios and is a duperb experience. Battery backup is top notch and display also pretty good',\n",
       " 'Worth the money’ starting first from its performance it beats out all phones , second the smoothness of camera is awesome, contrast ratio is much than expected. Price will not matter if u r a quality person, if not other phones are available with better discount',\n",
       " 'Worst product delivered by Flipkart.After 10days of delivery mobile will not work properly.Volume and silent buttons are not working..No worth to buy in Flipkart..Please don’t buy apple products in Flipkart']"
      ]
     },
     "execution_count": 124,
     "metadata": {},
     "output_type": "execute_result"
    }
   ],
   "source": [
    "page10_full_review=[]\n",
    "for i in full_review:\n",
    "    full_reviews = i.text.replace(\"\\n\",\".\")\n",
    "    page10_full_review.append(full_reviews)\n",
    "page10_full_review"
   ]
  },
  {
   "cell_type": "code",
   "execution_count": 125,
   "id": "115b7c2c",
   "metadata": {},
   "outputs": [
    {
     "name": "stdout",
     "output_type": "stream",
     "text": [
      "10 10 10\n"
     ]
    }
   ],
   "source": [
    "print(len(page10_Rating),len(page10_Review_summary),len(page10_full_review))\n"
   ]
  },
  {
   "cell_type": "code",
   "execution_count": 126,
   "id": "af30867d",
   "metadata": {},
   "outputs": [
    {
     "data": {
      "text/html": [
       "<div>\n",
       "<style scoped>\n",
       "    .dataframe tbody tr th:only-of-type {\n",
       "        vertical-align: middle;\n",
       "    }\n",
       "\n",
       "    .dataframe tbody tr th {\n",
       "        vertical-align: top;\n",
       "    }\n",
       "\n",
       "    .dataframe thead th {\n",
       "        text-align: right;\n",
       "    }\n",
       "</style>\n",
       "<table border=\"1\" class=\"dataframe\">\n",
       "  <thead>\n",
       "    <tr style=\"text-align: right;\">\n",
       "      <th></th>\n",
       "      <th>Rating</th>\n",
       "      <th>Review_summary</th>\n",
       "      <th>full_review</th>\n",
       "    </tr>\n",
       "  </thead>\n",
       "  <tbody>\n",
       "    <tr>\n",
       "      <th>0</th>\n",
       "      <td>5</td>\n",
       "      <td>Awesome</td>\n",
       "      <td>Can’t beat the software and hardware integrati...</td>\n",
       "    </tr>\n",
       "    <tr>\n",
       "      <th>1</th>\n",
       "      <td>5</td>\n",
       "      <td>Best in the market!</td>\n",
       "      <td>The best all rounder iphone. Flipkart is doing...</td>\n",
       "    </tr>\n",
       "    <tr>\n",
       "      <th>2</th>\n",
       "      <td>5</td>\n",
       "      <td>Brilliant</td>\n",
       "      <td>Amazing phone and on great deal I received wit...</td>\n",
       "    </tr>\n",
       "    <tr>\n",
       "      <th>3</th>\n",
       "      <td>5</td>\n",
       "      <td>Terrific purchase</td>\n",
       "      <td>finally an iPhone with very nice battery backu...</td>\n",
       "    </tr>\n",
       "    <tr>\n",
       "      <th>4</th>\n",
       "      <td>4</td>\n",
       "      <td>Good quality product</td>\n",
       "      <td>I'm switching this phone to oppo reno 10x zoom...</td>\n",
       "    </tr>\n",
       "    <tr>\n",
       "      <th>5</th>\n",
       "      <td>5</td>\n",
       "      <td>Wonderful</td>\n",
       "      <td>Its good.. a little heavy on my pinky but its ...</td>\n",
       "    </tr>\n",
       "    <tr>\n",
       "      <th>6</th>\n",
       "      <td>5</td>\n",
       "      <td>Terrific</td>\n",
       "      <td>Simply Awesome..I have upgraded from iPhone 7 ...</td>\n",
       "    </tr>\n",
       "    <tr>\n",
       "      <th>7</th>\n",
       "      <td>5</td>\n",
       "      <td>Best in the market!</td>\n",
       "      <td>Damn this phone is a blast . Upgraded from and...</td>\n",
       "    </tr>\n",
       "    <tr>\n",
       "      <th>8</th>\n",
       "      <td>5</td>\n",
       "      <td>Perfect product!</td>\n",
       "      <td>Worth the money’ starting first from its perfo...</td>\n",
       "    </tr>\n",
       "    <tr>\n",
       "      <th>9</th>\n",
       "      <td>1</td>\n",
       "      <td>Absolute rubbish!</td>\n",
       "      <td>Worst product delivered by Flipkart.After 10da...</td>\n",
       "    </tr>\n",
       "  </tbody>\n",
       "</table>\n",
       "</div>"
      ],
      "text/plain": [
       "  Rating        Review_summary  \\\n",
       "0      5               Awesome   \n",
       "1      5   Best in the market!   \n",
       "2      5             Brilliant   \n",
       "3      5     Terrific purchase   \n",
       "4      4  Good quality product   \n",
       "5      5             Wonderful   \n",
       "6      5              Terrific   \n",
       "7      5   Best in the market!   \n",
       "8      5      Perfect product!   \n",
       "9      1     Absolute rubbish!   \n",
       "\n",
       "                                         full_review  \n",
       "0  Can’t beat the software and hardware integrati...  \n",
       "1  The best all rounder iphone. Flipkart is doing...  \n",
       "2  Amazing phone and on great deal I received wit...  \n",
       "3  finally an iPhone with very nice battery backu...  \n",
       "4  I'm switching this phone to oppo reno 10x zoom...  \n",
       "5  Its good.. a little heavy on my pinky but its ...  \n",
       "6  Simply Awesome..I have upgraded from iPhone 7 ...  \n",
       "7  Damn this phone is a blast . Upgraded from and...  \n",
       "8  Worth the money’ starting first from its perfo...  \n",
       "9  Worst product delivered by Flipkart.After 10da...  "
      ]
     },
     "execution_count": 126,
     "metadata": {},
     "output_type": "execute_result"
    }
   ],
   "source": [
    "# Creating Data Frame for Page 10\n",
    "\n",
    "page10 = pd.DataFrame({})\n",
    "page10[\"Rating\"]=page10_Rating\n",
    "page10[\"Review_summary\"]=page10_Review_summary\n",
    "page10[\"full_review\"]=page10_full_review\n",
    "page10"
   ]
  }
 ],
 "metadata": {
  "kernelspec": {
   "display_name": "Python 3 (ipykernel)",
   "language": "python",
   "name": "python3"
  },
  "language_info": {
   "codemirror_mode": {
    "name": "ipython",
    "version": 3
   },
   "file_extension": ".py",
   "mimetype": "text/x-python",
   "name": "python",
   "nbconvert_exporter": "python",
   "pygments_lexer": "ipython3",
   "version": "3.9.13"
  }
 },
 "nbformat": 4,
 "nbformat_minor": 5
}
